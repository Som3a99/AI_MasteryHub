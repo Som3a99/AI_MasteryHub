{
 "cells": [
  {
   "cell_type": "markdown",
   "metadata": {},
   "source": [
    "# Python Basics: A Beginner's Guide"
   ]
  },
  {
   "cell_type": "markdown",
   "metadata": {},
   "source": [
    "**Table of contents**\n",
    "- [Python Basics: A Beginner's Guide](#python-basics-a-beginners-guide)\n",
    "- [Python History and Overview](#python-history-and-overview)\n",
    "  - [History of Python](#history-of-python)\n",
    "  - [Why Learn Python?](#why-learn-python)\n",
    "  - [Python Versions](#python-versions)\n",
    "  - [How Install Python](#how-install-python)\n",
    "- [Running Python Code](#running-python-code)\n",
    "  - [Interactive Mode](#interactive-mode)\n",
    "    - [IPython](#ipython)\n",
    "  - [Script Mode](#script-mode)\n",
    "- [How Setup your Python Environment](#how-setup-your-python-environment)\n",
    "  - [Virtual Environment](#virtual-environments)\n",
    "  - [Anaconda](#anaconda)\n",
    "  - [Jupyter Notebook](#jupyter-notebooks)\n",
    "  - [Python Packages](#python-packages)\n",
    "- [References](#references)\n",
    "- [The Zen of Python](#the-zen-of-python)\n",
    "- [print()](#print)\n",
    "- [Comments](#comments)\n",
    "- [Variables and Sample Data types](#variable-and-sample-data-types)\n",
    "  - [Variables](#variables)\n",
    "    - [Variable Names](#variable-names)\n",
    "    - [Assigning Values to Variables](#assigning-values-to-variables)\n",
    "  - [Data Types](#data-types)\n",
    "    - [Strings](#strings)\n",
    "    - [Numbers](#numbers)\n",
    "      - [Integers](#integers)\n",
    "      - [Floats](#floats)\n",
    "    - [Booleans](#boolean)\n",
    "    - [Built-in Functions](#built-in-functions)\n",
    "    - [type() built in function](#type--built-in-function)\n",
    "    - [Getting input from the user](#getting-input-from-the-user)\n",
    "    - [Casting](#casting)\n",
    "    - [dir() built in function](#dir--buit-in-function)"
   ]
  },
  {
   "cell_type": "markdown",
   "metadata": {},
   "source": [
    "Welcome to this introductory guide on Python Basics! This Jupyter notebook is designed to provide you with a solid foundation in Python programming. Whether you are new to programming or looking to refresh your Python skills, this guide will help you understand and master the basics.\n",
    "\n",
    "By the end of this guide, you will have a good grasp of the essential Python concepts and be ready to move on to more advanced topics and applications. Let's dive into the world of Python programming!"
   ]
  },
  {
   "cell_type": "markdown",
   "metadata": {},
   "source": [
    "# Python History and Overview"
   ]
  },
  {
   "cell_type": "markdown",
   "metadata": {},
   "source": [
    "## History of Python"
   ]
  },
  {
   "cell_type": "markdown",
   "metadata": {},
   "source": [
    "Python is a high-level, interpreted programming language known for its simplicity and readability. It was created by Guido van Rossum and first released in 1991. Over the years, Python has evolved significantly and become one of the most popular programming languages in the world. \n",
    "\n",
    "![Guido.jpg](Guido.jpg)\n",
    "\n",
    "**Here's a brief history of Python:**\n",
    "\n",
    "**Early Beginnings (1980s)**\n",
    "\n",
    "- **Late 1980s**: Guido van Rossum began working on Python at Centrum Wiskunde & Informatica (CWI) in the Netherlands. He wanted to create a successor to the ABC language that could handle exceptions and interface with the Amoeba operating system.\n",
    "- **1989**: During Christmas, van Rossum started implementing Python as a hobby project.\n",
    "\n",
    "**Python 1.0 (1991)**\n",
    "\n",
    "- **February 20, 1991**: The first version of Python (0.9.0) was released. It included functions, exception handling, and the core data types: str, list, dict, etc.\n",
    "- **January 26, 1994**: Python 1.0 was officially released. It introduced important features like lambda, map, filter, and reduce.\n",
    "\n",
    "**Python 2.0 (2000)**\n",
    "\n",
    "- **October 16, 2000**: Python 2.0 was released, bringing new features such as list comprehensions, garbage collection, and support for Unicode.\n",
    "- The 2.x series continued to evolve, with Python 2.7 being the last release of the series in 2010. Python 2.7 included features like enhanced library support, improved integer division, and more.\n",
    "\n",
    "**Python 3.0 (2008)**\n",
    "\n",
    "- **December 3, 2008**: Python 3.0, also known as \"Python 3000\" and \"Py3k,\" was released. This version was not backward-compatible with Python 2.x. It aimed to rectify fundamental design flaws in the language.\n",
    "- Python 3 introduced many new features and improvements, including print as a function, the `bytes` type, keyword-only arguments, and a more consistent Unicode handling.\n",
    "\n",
    "**Python 2 End of Life**\n",
    "\n",
    "- **January 1, 2020**: Python 2 reached its end of life, with no further updates or support. The Python community encouraged all users to transition to Python 3.\n",
    "\n",
    "**Python Today**\n",
    "\n",
    "Python continues to grow in popularity due to its readability, extensive standard library, and vibrant community. It is widely used in web development, data science, artificial intelligence, scientific computing, and many other fields. The language's design philosophy emphasizes code readability and simplicity, making it accessible to beginners and powerful for experienced developers.\n"
   ]
  },
  {
   "cell_type": "markdown",
   "metadata": {},
   "source": [
    "## Why Learn Python?"
   ]
  },
  {
   "cell_type": "markdown",
   "metadata": {},
   "source": [
    "![python-logo.png](python-logo.png)\n",
    "\n",
    "Python is a versatile programming language that can be used for a wide range of applications. Here are some reasons why you should consider learning Python:\n",
    "\n",
    "1. **Ease of Learning:** Python's syntax is simple and easy to understand, making it an excellent choice for beginners.\n",
    "2. **Versatility:** Python can be used for web development, data analysis, machine learning, scientific computing, and more.\n",
    "3. **Extensive Libraries:** Python has a rich ecosystem of libraries and frameworks that can help you get started quickly on various projects.\n",
    "4. **Community Support:** Python has a large and active community of developers who contribute to open-source projects, provide support, and share knowledge.\n",
    "5. **Career Opportunities:** Python is in high demand in the job market, and learning Python can open up new career opportunities in various fields.\n",
    "6. **Fun and Productive:** Python is a fun and productive language to work with, allowing you to build projects quickly and efficiently.\n",
    "7. **Future-Proof:** Python is a popular and widely used language that is likely to remain relevant for years to come.\n",
    "8. **Automation:** Python can be used to automate repetitive tasks, saving time and effort.\n",
    "9. **Data Analysis:** Python is widely used in data analysis and visualization, making it an essential tool for data scientists and analysts.\n",
    "10. **Machine Learning:** Python is the language of choice for many machine learning and deep learning projects, thanks to libraries like TensorFlow, PyTorch, and scikit-learn.\n",
    "11. **Web Development:** Python can be used to build web applications using frameworks like Django and Flask.\n",
    "12. **Scientific Computing:** Python is widely used in scientific computing and numerical simulations, thanks to libraries like NumPy, SciPy, and Matplotlib.\n",
    "13. **Game Development:** Python can be used to create games and interactive applications using libraries like Pygame and Panda3D.\n",
    "14. **Internet of Things (IoT):** Python is used in IoT projects to control devices, collect data, and analyze sensor data.\n",
    "15. **Cybersecurity:** Python is used in cybersecurity for tasks like penetration testing, malware analysis, and security automation.\n",
    "16. **Education:** Python is a popular language for teaching programming due to its simplicity and readability.\n",
    "17. **Open Source:** Python is an open-source language with a large and active community of developers contributing to its development and improvement.\n",
    "18. **Cross-Platform:** Python is a cross-platform language that runs on Windows, macOS, and Linux, making it easy to develop and deploy applications on different operating systems.\n",
    "19. **Scalability:** Python can be used to build scalable applications that can handle large amounts of data and traffic.\n",
    "20. **Cloud Computing:** Python is widely used in cloud computing for tasks like automation, monitoring, and deployment.\n",
    "21. **DevOps:** Python is used in DevOps for tasks like configuration management, automation, and monitoring.\n",
    "\n",
    "These are just a few of the many reasons to learn Python. Whether you are a beginner looking to start your programming journey or an experienced developer exploring new technologies, Python is a great language to learn and master.\n"
   ]
  },
  {
   "cell_type": "markdown",
   "metadata": {},
   "source": [
    "## Python Versions"
   ]
  },
  {
   "cell_type": "markdown",
   "metadata": {},
   "source": [
    "You can check the version of Python installed on your system by opening a terminal or command prompt and running the following command:\n",
    "\n",
    "```bash\n",
    "python --version\n",
    "```\n",
    "\n",
    "This will display the version of Python installed on your system. For example, if you have Python 3.9.5 installed, the output will be:\n",
    "\n",
    "```\n",
    "Python 3.9.5\n",
    "```\n",
    "\n",
    "**major.minor.micro**\n",
    "\n",
    "- **Major Version:** \n",
    "  The first number in the version string (e.g., 3 in Python 3.9.5) indicates the major version of Python. Major versions introduce significant changes and may not be backward-compatible with previous versions like Architecure changes, API changes, etc.\n",
    "- **Minor Version:** \n",
    "  The second number in the version string (e.g., 9 in Python 3.9.5) indicates the minor version of Python. Minor versions introduce new features and improvements while maintaining backward compatibility.\n",
    "- **Micro Version:** \n",
    "  The third number in the version string (e.g., 5 in Python 3.9.5) indicates the micro version of Python. Micro versions are bug fixes and security updates that do not introduce new features."
   ]
  },
  {
   "cell_type": "markdown",
   "metadata": {},
   "source": [
    "## How Install Python?"
   ]
  },
  {
   "cell_type": "markdown",
   "metadata": {},
   "source": [
    "if you don't have Python installed on your system, you can download and install it from the official Python website: \n",
    "- [Python Download](https://www.python.org/downloads/)\n",
    "You can choose the latest version of Python for your operating system (Windows, macOS, or Linux) and follow the installation instructions provided on the website.\n",
    "\n",
    "Alternatively, you can use package managers like `apt`, `brew`, or `choco` to install Python on Linux, macOS, or Windows, respectively. For example, on Ubuntu, you can install Python 3 using the following command:\n",
    "\n",
    "```bash\n",
    "sudo apt update\n",
    "sudo apt install python3\n",
    "```\n",
    "after installing python you can check the version of python installed on your system by running the following command:\n",
    "```bash\n",
    "python --version\n",
    "```\n",
    "and you can show installation path by running the following command:\n",
    "```bash\n",
    "which python\n",
    "```\n",
    "by running the above command you will get the path of python installed on your system.\n",
    "\n",
    "Once you have Python installed on your system, you can start writing and running Python code using an interactive shell, a text editor, or an integrated development environment (IDE). We will cover different ways to write and run Python code in the following sections."
   ]
  },
  {
   "cell_type": "markdown",
   "metadata": {},
   "source": [
    "# Running Python Code"
   ]
  },
  {
   "cell_type": "markdown",
   "metadata": {},
   "source": [
    "## Interactive Mode"
   ]
  },
  {
   "cell_type": "markdown",
   "metadata": {},
   "source": [
    "In interactive mode, you can run Python code line by line and see the results immediately. To start an interactive Python session, open a terminal or command prompt and type `python` or `python3` (depending on your Python version). This will start the Python interpreter, and you will see a prompt like `>>>` where you can enter Python code.\n",
    "\n",
    "Here's an example of running Python code in interactive mode:\n",
    "\n",
    "```python\n",
    ">>> print(\"Hello, World!\")\n",
    "Hello, World!\n",
    "```\n",
    "\n",
    "You can enter Python expressions, statements, and commands in the interactive shell and see the output immediately. This is a great way to experiment with Python code, test small snippets, and learn how Python works.\n",
    "\n",
    "To exit the interactive Python session, you can type `exit()` or press `Ctrl+D` (on macOS and Linux) or `Ctrl+Z` (on Windows).\n"
   ]
  },
  {
   "cell_type": "markdown",
   "metadata": {},
   "source": [
    "### IPython"
   ]
  },
  {
   "cell_type": "markdown",
   "metadata": {},
   "source": [
    "IPython is an enhanced interactive Python shell that provides additional features and capabilities compared to the standard Python shell. You can install IPython using `pip` (Python's package manager) by running the following command:\n",
    "\n",
    "```bash\n",
    "pip install ipython\n",
    "```\n",
    "\n",
    "Once installed, you can start an IPython session by typing `ipython` in the terminal or command prompt. IPython provides features like tab completion, syntax highlighting, magic commands, and more, making it a powerful tool for interactive Python programming.\n",
    "\n",
    "Magic commands are special commands that start with `%` or `%%` and provide additional functionality in IPython. For example, you can use `%timeit` to measure the execution time of a Python statement or expression.\n",
    "\n",
    "Here's an example of using the `%timeit` magic command in IPython:\n",
    "\n",
    "```python\n",
    "In [1]: %timeit sum(range(1000))\n",
    "10000 loops, best of 5: 20.3 µs per loop\n",
    "```\n",
    "\n",
    "IPython is a popular choice for interactive Python programming and data analysis due to its rich features and capabilities.\n"
   ]
  },
  {
   "cell_type": "markdown",
   "metadata": {},
   "source": [
    "## Script Mode\n",
    "\n",
    "In script mode, you can write Python code in a text file (with a `.py` extension) and run it using the Python interpreter. This allows you to create reusable scripts, modules, and programs that can be executed from the command line or terminal.\n",
    "\n",
    "Here's an example of a simple Python script that prints \"Hello, World!\" to the console:\n",
    "\n",
    "```python\n",
    "# hello.py\n",
    "print(\"Hello, World!\")\n",
    "```\n",
    "\n",
    "To run the script, save it to a file named `hello.py` and run the following command in the terminal or command prompt:\n",
    "\n",
    "```bash\n",
    "python hello.py\n",
    "```\n",
    "\n",
    "This will execute the Python script and display the output:\n",
    "\n",
    "```\n",
    "Hello, World!\n",
    "```\n",
    "\n",
    "You can create and run Python scripts for various purposes, such as automation, data processing, web scraping, and more. Python scripts are a powerful way to automate tasks, build applications, and solve real-world problems.\n"
   ]
  },
  {
   "cell_type": "markdown",
   "metadata": {},
   "source": [
    "# How Setup your Python Environment"
   ]
  },
  {
   "cell_type": "markdown",
   "metadata": {},
   "source": [
    "## Virtual Environments"
   ]
  },
  {
   "cell_type": "markdown",
   "metadata": {},
   "source": [
    "A virtual environment is a self-contained directory that contains a Python installation and libraries specific to a project. Virtual environments allow you to isolate project dependencies, avoid conflicts between different projects, and manage package versions effectively.\n",
    "\n",
    "You can create a virtual environment using the `venv` module, which is included in the Python standard library. To create a virtual environment, run the following command in the terminal or command prompt:\n",
    "\n",
    "```bash\n",
    "python -m venv myenv\n",
    "```\n",
    "\n",
    "This will create a new virtual environment named `myenv` in the current directory. You can activate the virtual environment by running the appropriate activation script for your operating system:\n",
    "\n",
    "- **macOS and Linux:**\n",
    "  ```bash\n",
    "  source myenv/bin/activate\n",
    "  ```\n",
    "- **Windows:**\n",
    "  ```bash\n",
    "  myenv\\Scripts\\activate\n",
    "  ```\n",
    "\n",
    "Once the virtual environment is activated, you can install packages and libraries specific to your project without affecting the global Python installation. To install a package, you can use `pip` as follows:\n",
    "\n",
    "```bash\n",
    "pip install package_name\n",
    "```\n",
    "\n",
    "You can list the installed packages in the virtual environment using the following command:\n",
    "\n",
    "```bash\n",
    "pip list\n",
    "```\n",
    "\n",
    "To deactivate the virtual environment and return to the global Python installation, you can run the `deactivate` command in the terminal or command prompt.\n",
    "\n",
    "Virtual environments are a best practice in Python development and help you manage project dependencies, ensure reproducibility, and maintain a clean and organized development environment.\n"
   ]
  },
  {
   "cell_type": "markdown",
   "metadata": {},
   "source": [
    "## Anaconda"
   ]
  },
  {
   "cell_type": "markdown",
   "metadata": {},
   "source": [
    "Anaconda is a popular distribution of Python that comes with many pre-installed libraries and tools for data science, machine learning, and scientific computing. Anaconda includes the conda package manager, which allows you to create and manage virtual environments, install packages, and maintain dependencies effectively.\n",
    "\n",
    "You can download Anaconda from the official website: [Anaconda Download](https://www.anaconda.com/download/success)\n",
    "\n",
    "Once installed, you can create a new virtual environment using conda by running the following command:\n",
    "\n",
    "```bash\n",
    "conda create --name myenv\n",
    "```\n",
    "\n",
    "This will create a new virtual environment named `myenv` using conda. You can activate the environment using the following command:\n",
    "\n",
    "```bash\n",
    "conda activate myenv\n",
    "```\n",
    "\n",
    "To install packages in the conda environment, you can use the `conda install` command:\n",
    "\n",
    "```bash\n",
    "conda install package_name\n",
    "```\n",
    "\n",
    "You can list the installed packages in the conda environment using the following command:\n",
    "\n",
    "```bash\n",
    "conda list\n",
    "```\n",
    "\n",
    "To deactivate the conda environment and return to the base environment, you can run the following command:\n",
    "\n",
    "```bash\n",
    "conda deactivate\n",
    "```\n",
    "\n",
    "Anaconda is a powerful tool for Python development, data science, and scientific computing, providing a comprehensive set of libraries, tools, and environments to support your projects.\n",
    "\n",
    "You can use Anaconda Navigator, a graphical user interface (GUI) included with Anaconda, to manage environments, install packages, and launch applications easily. Anaconda Navigator provides a user-friendly interface for working with Python environments and packages, making it a great choice for beginners and experienced developers alike.\n",
    "\n",
    "You can learn how to use anaconda by visiting the official website: [Anaconda Documentation](https://docs.anaconda.com/)"
   ]
  },
  {
   "cell_type": "markdown",
   "metadata": {},
   "source": [
    "## Jupyter Notebooks"
   ]
  },
  {
   "cell_type": "markdown",
   "metadata": {},
   "source": [
    "Jupyter Notebooks are interactive documents that contain code, text, images, and visualizations. Jupyter Notebooks allow you to write and run Python code in a web-based environment, making it easy to experiment, document, and share your work.\n",
    "\n",
    "You can install Jupyter Notebooks using `pip` by running the following command:\n",
    "\n",
    "```bash\n",
    "pip install jupyter\n",
    "```\n",
    "\n",
    "Once installed, you can start a Jupyter Notebook server by running the following command in the terminal or command prompt:\n",
    "\n",
    "```bash\n",
    "jupyter notebook\n",
    "```\n",
    "\n",
    "This will start the Jupyter Notebook server and open a new tab in your web browser with the Jupyter interface. From the Jupyter interface, you can create new notebooks, write and run Python code, add text and images, create visualizations, and more.\n",
    "\n",
    "Jupyter Notebooks are widely used in data science, machine learning, scientific computing, and education due to their interactive and visual nature. You can use Jupyter Notebooks to explore data, prototype algorithms, create reports, and share your work with others.\n",
    "\n",
    "You can learn more about Jupyter Notebooks by visiting the official website: [Jupyter Documentation](https://jupyter.org/documentation)\n",
    "\n",
    "You can also use JupyterLab, an advanced interactive development environment (IDE) that provides additional features and capabilities compared to Jupyter Notebooks. JupyterLab allows you to work with notebooks, text files, terminals, and other resources in a flexible and customizable environment.\n",
    "\n",
    "You can install JupyterLab using `pip` by running the following command:\n",
    "\n",
    "```bash\n",
    "pip install jupyterlab\n",
    "```\n",
    "\n",
    "Once installed, you can start JupyterLab by running the following command in the terminal or command prompt:\n",
    "\n",
    "```bash\n",
    "jupyter lab\n",
    "```\n",
    "\n",
    "This will start the JupyterLab server and open a new tab in your web browser with the JupyterLab interface. From JupyterLab, you can create and work with notebooks, text files, terminals, and other resources in a unified and powerful environment.\n",
    "\n",
    "JupyterLab is a versatile tool for interactive Python programming, data analysis, and scientific computing, providing a modern and feature-rich IDE for working with Jupyter Notebooks and other file formats.\n",
    "\n",
    "You can use Jupyter Notebook and JupyterLab from Anaconda Navigator, which provides an easy-to-use interface for launching and managing Jupyter environments. Anaconda Navigator allows you to work with Jupyter Notebooks, JupyterLab, and other tools in a unified and integrated environment, making it a convenient choice for Python development and data science.\n",
    "\n"
   ]
  },
  {
   "cell_type": "markdown",
   "metadata": {},
   "source": [
    "## Python Packages"
   ]
  },
  {
   "cell_type": "markdown",
   "metadata": {},
   "source": [
    "Python packages are collections of modules that provide additional functionality and features to your Python programs. You can install packages using `pip` (Python's package manager) or `conda` (Anaconda's package manager) to extend the capabilities of Python and build powerful applications.\n",
    "\n",
    "Here are some popular Python packages that you may find useful:\n",
    "\n",
    "- **NumPy:** NumPy is a powerful library for numerical computing in Python, providing support for arrays, matrices, and mathematical functions.\n",
    "- **Pandas:** Pandas is a data manipulation and analysis library for Python, offering data structures like DataFrames and Series for working with structured data.\n",
    "- **Matplotlib:** Matplotlib is a plotting library for Python that allows you to create visualizations like line plots, bar charts, histograms, and more.\n",
    "- **Scikit-learn:** Scikit-learn is a machine learning library for Python that provides tools for classification, regression, clustering, and more.\n",
    "- **TensorFlow:** TensorFlow is an open-source machine learning framework developed by Google for building and training deep learning models.\n",
    "- **PyTorch:** PyTorch is an open-source machine learning library developed by Facebook for building and training deep learning models.\n",
    "- **Django:** Django is a high-level web framework for Python that simplifies web development by providing tools for building web applications quickly and efficiently.\n",
    "and many more... \n",
    "\n",
    "You can install Python packages using `pip` by running the following command:\n",
    "\n",
    "```bash\n",
    "pip install package_name\n",
    "```\n",
    "\n",
    "For example, to install NumPy, you can run the following command:\n",
    "\n",
    "```bash\n",
    "pip install numpy\n",
    "```\n",
    "\n",
    "You can install specific versions of packages by specifying the version number after the package name. For example, to install NumPy version 1.20.3, you can run the following command:\n",
    "\n",
    "```bash\n",
    "pip install numpy==1.20.3\n",
    "```\n",
    "\n",
    "You can also install packages from a requirements file that lists the package names and versions. For example, you can create a `requirements.txt` file with the following contents:\n",
    "\n",
    "```\n",
    "numpy==1.20.3\n",
    "pandas==1.2.4\n",
    "matplotlib==3.4.2\n",
    "```\n",
    "\n",
    "and install the packages listed in the file using the following command:\n",
    "\n",
    "```bash\n",
    "pip install -r requirements.txt\n",
    "```\n",
    "\n",
    "Python packages are essential for extending the functionality of Python, building applications, and solving real-world problems. You can explore the Python Package Index (PyPI) to discover thousands of packages available for various purposes and applications.\n",
    "\n",
    "You can learn more about Python packages and libraries by visiting the official Python Package Index (PyPI) website: [PyPI](https://pypi.org/)\n"
   ]
  },
  {
   "cell_type": "markdown",
   "metadata": {},
   "source": [
    "# References\n",
    "\n",
    "- [Python Documentation](https://docs.python.org/3/)\n",
    "- [Python Package Index (PyPI)](https://pypi.org/)\n",
    "- [Anaconda Documentation](https://docs.anaconda.com/)\n",
    "- [Jupyter Documentation](https://jupyter.org/documentation)\n",
    "- [Python Virtual Environments](https://docs.python.org/3/library/venv.html)\n",
    "- [Python History](https://en.wikipedia.org/wiki/History_of_Python)\n",
    "- [Python Crash Course, 2nd Edition: A Hands-On, Project-Based Introduction to Programming 2nd Edition](https://www.amazon.com/Python-Crash-Course-2nd-Edition/dp/1593279280/ref=sr_1_1?keywords=python+crash+course&qid=1640574418&sprefix=python+crash+%2Caps%2C82&sr=8-1)\n",
    "- [GitHub Repository AraBigData/python](https://github.com/ahmedsami76/AraBigData/tree/main/python)"
   ]
  },
  {
   "cell_type": "markdown",
   "metadata": {},
   "source": [
    "# The Zen of Python"
   ]
  },
  {
   "cell_type": "code",
   "execution_count": 13,
   "metadata": {},
   "outputs": [
    {
     "name": "stdout",
     "output_type": "stream",
     "text": [
      "Gur Mra bs Clguba, ol Gvz Crgref\n",
      "\n",
      "Ornhgvshy vf orggre guna htyl.\n",
      "Rkcyvpvg vf orggre guna vzcyvpvg.\n",
      "Fvzcyr vf orggre guna pbzcyrk.\n",
      "Pbzcyrk vf orggre guna pbzcyvpngrq.\n",
      "Syng vf orggre guna arfgrq.\n",
      "Fcnefr vf orggre guna qrafr.\n",
      "Ernqnovyvgl pbhagf.\n",
      "Fcrpvny pnfrf nera'g fcrpvny rabhtu gb oernx gur ehyrf.\n",
      "Nygubhtu cenpgvpnyvgl orngf chevgl.\n",
      "Reebef fubhyq arire cnff fvyragyl.\n",
      "Hayrff rkcyvpvgyl fvyraprq.\n",
      "Va gur snpr bs nzovthvgl, ershfr gur grzcgngvba gb thrff.\n",
      "Gurer fubhyq or bar-- naq cersrenoyl bayl bar --boivbhf jnl gb qb vg.\n",
      "Nygubhtu gung jnl znl abg or boivbhf ng svefg hayrff lbh'er Qhgpu.\n",
      "Abj vf orggre guna arire.\n",
      "Nygubhtu arire vf bsgra orggre guna *evtug* abj.\n",
      "Vs gur vzcyrzragngvba vf uneq gb rkcynva, vg'f n onq vqrn.\n",
      "Vs gur vzcyrzragngvba vf rnfl gb rkcynva, vg znl or n tbbq vqrn.\n",
      "Anzrfcnprf ner bar ubaxvat terng vqrn -- yrg'f qb zber bs gubfr!\n"
     ]
    }
   ],
   "source": [
    "# Zen of Python is  a collection of 19 software principles.\n",
    "# That influence the design of the Python programming language.\n",
    "\n",
    "import this \n",
    "print(this.s)"
   ]
  },
  {
   "cell_type": "markdown",
   "metadata": {},
   "source": [
    "# Print()"
   ]
  },
  {
   "cell_type": "code",
   "execution_count": 11,
   "metadata": {},
   "outputs": [
    {
     "name": "stdout",
     "output_type": "stream",
     "text": [
      "Hello, World!\n",
      "Hello, World! 42\n",
      "Hello, World! - 42\n",
      "Hello, World! - 42.Hello, World! - 42\n",
      "I_Love_Python_Programming!!"
     ]
    }
   ],
   "source": [
    "# Print() is a function in Python 3 that prints to the console or terminal window. \n",
    "# It is used to display the output of a program.\n",
    "# The print() function prints the specified message to the screen, or other standard output device.\n",
    "# The message can be a string, or any other object, the object will be converted into a string before written to the screen.\n",
    "# Syntax: print(object(s), sep=separator, end=end, file=file, flush=flush)\n",
    "# object(s) : Any object, and as many as you like. Will be converted to string before printed\n",
    "# sep= separator : Specify how to separate the objects, if there is more than one.Default is ' '\n",
    "# end= end : Specify what to print at the end.Default is '\\n'\n",
    "\n",
    "# Print a string\n",
    "print(\"Hello, World!\")\n",
    "\n",
    "# Print a string and a number\n",
    "print(\"Hello, World!\", 42)\n",
    "\n",
    "# Print a string and a number with a separator\n",
    "print(\"Hello, World!\", 42, sep=\" - \")\n",
    "\n",
    "# Print a string and a number with a separator and an end a period (.) \n",
    "print(\"Hello, World!\", 42, sep=\" - \", end=\".\")\n",
    "\n",
    "# Print a string and a number with a separator and an end a new line\n",
    "print(\"Hello, World!\", 42, sep=\" - \", end=\"\\n\")\n",
    "\n",
    "print('I', 'Love', 'Python', 'Programming', sep='_', end='!!')"
   ]
  },
  {
   "cell_type": "markdown",
   "metadata": {},
   "source": [
    "# Comments"
   ]
  },
  {
   "cell_type": "markdown",
   "metadata": {},
   "source": [
    "Comments are an extremely useful feature in most programming languages. Everything you’ve written in your programs so far is Python code. As your programs become longer and more complicated, you should add notes within your programs that describe your overall approach to the problem you’re solving. A comment allows you to write notes in English within your programs.\n",
    "\n",
    "**How Do You Write Comments?**\n",
    "\n",
    "In Python, the hash mark (#) indicates a comment. Anything following a hash mark in your code is ignored by the Python interpreter. For example:"
   ]
  },
  {
   "cell_type": "code",
   "execution_count": 117,
   "metadata": {},
   "outputs": [
    {
     "name": "stdout",
     "output_type": "stream",
     "text": [
      "Hello Python people!\n"
     ]
    }
   ],
   "source": [
    "# Say hello to everyone.\n",
    "print(\"Hello Python people!\")"
   ]
  },
  {
   "cell_type": "markdown",
   "metadata": {},
   "source": [
    "Python ignores the first line and executes the second line. "
   ]
  },
  {
   "cell_type": "markdown",
   "metadata": {},
   "source": [
    "**What Kind of Comments Should You Write?**\n",
    "\n",
    "The main reason to write comments is to explain what your code is supposed to do and how you are making it work. When you’re in the middle of working on a project, you understand how all of the pieces fit together. But when you return to a project after some time away, you’ll likely have forgotten some of the details. You can always study your code for a while and figure out how segments were supposed to work, but writing good comments can save you time by summarizing your overall approach in clear English."
   ]
  },
  {
   "cell_type": "markdown",
   "metadata": {},
   "source": [
    "**Try It Yourself**\n",
    "\n",
    "1. Adding Comments: Choose two of the programs you’ve written, and add at least one comment to each. If you don’t have anything specific to write because your programs are too simple at this point, just add your name and the current date at the top of each program file. Then write one sentence \n",
    "describing what the program does."
   ]
  },
  {
   "cell_type": "markdown",
   "metadata": {},
   "source": [
    "# Variable and Sample Data Types\n"
   ]
  },
  {
   "cell_type": "markdown",
   "metadata": {},
   "source": [
    "In this chapter you’ll learn about the different kinds of data you can work with in your Python programs. You’ll also learn how to use variables to represent data in your programs."
   ]
  },
  {
   "cell_type": "markdown",
   "metadata": {},
   "source": [
    "## Variables "
   ]
  },
  {
   "cell_type": "markdown",
   "metadata": {},
   "source": [
    "Variables are used to store information to be referenced and manipulated in a computer program. They also provide a way of labeling data with a descriptive name, so our programs can be understood more clearly by the reader and ourselves. It is helpful to think of variables as containers that hold information. Their sole purpose is to label and store data in memory. This data can then be used throughout your program."
   ]
  },
  {
   "cell_type": "markdown",
   "metadata": {},
   "source": [
    "### Variable Names"
   ]
  },
  {
   "cell_type": "markdown",
   "metadata": {},
   "source": [
    "Variable names in Python can contain alphanumerical characters `a-z`, `A-Z`, `0-9` and some special characters such as `_`. Normal variable names must start with a letter. By convention, variable names start with a lowercase letter, and Class names start with a capital letter. In addition, there are a number of Python keywords that cannot be used as variable names. These keywords are:\n",
    "\n",
    "```\n",
    "and, as, assert, break, class, continue, def, del, elif, else, except,\n",
    "exec, finally, for, from, global, if, import, in, is, lambda, not, or,\n",
    "pass, print, raise, return, try, while, with, yield\n",
    "```\n",
    "\n",
    "Variable names are case-sensitive.\n",
    "\n",
    "**Standard Python conventions**\n",
    "\n",
    "- Variables should be in snake_case (underscores between words)\n",
    "- Constants should be in CAPITAL_SNAKE_CASE\n",
    "- Classes should be in CamelCase\n",
    "- Avoid using Python built-in keywords for variable names\n",
    "- Avoid using single lowercase `l` and uppercase `O` as variable names, as they can be confused with `1` and `0`.\n",
    "- Avoid using abbreviations\n",
    "- Be descriptive with your variable names\n",
    "- Use nouns for variable names\n",
    "- Use verbs for function names\n",
    "- Use `all_caps` for global constants\n",
    "- Use `leading_underscore` for non-public methods and instance variables\n",
    "- Use `trailing_underscore_` for avoiding naming conflicts with Python keywords\n",
    "- Use `single_trailing_underscore_` for naming classes to avoid conflicts with Python built-in names\n",
    "\n",
    "**snake_case**\n",
    "\n",
    "```python\n",
    "user_name = \"Ahmed\"\n",
    "age = 25\n",
    "is_student = True\n",
    "```\n",
    "**Constants**\n",
    "\n",
    "```python\n",
    "PI = 3.14\n",
    "GRAVITY = 9.8\n",
    "```\n",
    "\n",
    "**CamelCase**\n",
    "\n",
    "```python\n",
    "\n",
    "class MyClass:\n",
    "\tdef myMethod(self):\n",
    "\t\tpass\n",
    "```"
   ]
  },
  {
   "cell_type": "code",
   "execution_count": 9,
   "metadata": {},
   "outputs": [
    {
     "name": "stdout",
     "output_type": "stream",
     "text": [
      "['False', 'None', 'True', 'and', 'as', 'assert', 'async', 'await', 'break', 'class', 'continue', 'def', 'del', 'elif', 'else', 'except', 'finally', 'for', 'from', 'global', 'if', 'import', 'in', 'is', 'lambda', 'nonlocal', 'not', 'or', 'pass', 'raise', 'return', 'try', 'while', 'with', 'yield']\n"
     ]
    }
   ],
   "source": [
    "# Keywords are the reserved words in Python.\n",
    "import keyword\n",
    "\n",
    "print(keyword.kwlist)"
   ]
  },
  {
   "cell_type": "markdown",
   "metadata": {},
   "source": [
    "### Assigning Values to Variables"
   ]
  },
  {
   "cell_type": "markdown",
   "metadata": {},
   "source": [
    "Python variables do not need explicit declaration to reserve memory space. The declaration happens automatically when you assign a value to a variable. The `=` operator is used to assign a value to a variable.\n",
    "\n",
    "The operand to the left of the `=` operator is the name of the variable and the operand to the right of the `=` operator is the value stored in the variable.\n",
    "\n",
    "For example:\n",
    "\n",
    "```python\n",
    "\n",
    "# Assigning a value to a variable\n",
    "x = 5\n",
    "y = 10\n",
    "name = \"Alice\"\n",
    "```\n",
    "\n",
    "In the example above, we assigned the value `5` to the variable `x`, the value `10` to the variable `y`, and the string `\"Alice\"` to the variable `name`.\n",
    "\n",
    "You can also assign the same value to multiple variables in a single line:\n",
    "\n",
    "```python\n",
    "x = y = z = 0\n",
    "```\n",
    "\n",
    "In the example above, we assigned the value `0` to the variables `x`, `y`, and `z` in a single line.\n",
    "\n"
   ]
  },
  {
   "cell_type": "code",
   "execution_count": 36,
   "metadata": {},
   "outputs": [
    {
     "name": "stdout",
     "output_type": "stream",
     "text": [
      "User Full name: Mohamed Ismail, and User age: 25\n",
      "User Full name: Mohamed Ismail, and User age: 25."
     ]
    }
   ],
   "source": [
    "first_name = 'Mohamed'\n",
    "last_name = 'Ismail'\n",
    "user_age = 25\n",
    "\n",
    "print(f'User Full name: {first_name} {last_name}, and User age: {user_age}')\n",
    "print(f'User Full name: {first_name} {last_name}', f'and User age: {user_age}', sep=', ', end='.')"
   ]
  },
  {
   "cell_type": "markdown",
   "metadata": {},
   "source": [
    "**Multiple Assignment**"
   ]
  },
  {
   "cell_type": "code",
   "execution_count": 67,
   "metadata": {},
   "outputs": [],
   "source": [
    "x = y = z = 15 # Assign the same value to multiple variables in one line"
   ]
  },
  {
   "cell_type": "code",
   "execution_count": 64,
   "metadata": {},
   "outputs": [
    {
     "data": {
      "text/plain": [
       "15"
      ]
     },
     "execution_count": 64,
     "metadata": {},
     "output_type": "execute_result"
    }
   ],
   "source": [
    "x"
   ]
  },
  {
   "cell_type": "code",
   "execution_count": 65,
   "metadata": {},
   "outputs": [
    {
     "data": {
      "text/plain": [
       "15"
      ]
     },
     "execution_count": 65,
     "metadata": {},
     "output_type": "execute_result"
    }
   ],
   "source": [
    "y"
   ]
  },
  {
   "cell_type": "code",
   "execution_count": 66,
   "metadata": {},
   "outputs": [
    {
     "data": {
      "text/plain": [
       "15"
      ]
     },
     "execution_count": 66,
     "metadata": {},
     "output_type": "execute_result"
    }
   ],
   "source": [
    "z"
   ]
  },
  {
   "cell_type": "markdown",
   "metadata": {},
   "source": [
    "You can assign values to more than one variable using just a single line. This can help shorten your programs and make them easier to read; you’ll use this technique most often when initializing a set of numbers."
   ]
  },
  {
   "cell_type": "code",
   "execution_count": 110,
   "metadata": {},
   "outputs": [],
   "source": [
    "x, y, z = 1, 2, 3"
   ]
  },
  {
   "cell_type": "code",
   "execution_count": 111,
   "metadata": {},
   "outputs": [
    {
     "data": {
      "text/plain": [
       "1"
      ]
     },
     "execution_count": 111,
     "metadata": {},
     "output_type": "execute_result"
    }
   ],
   "source": [
    "x"
   ]
  },
  {
   "cell_type": "code",
   "execution_count": 112,
   "metadata": {},
   "outputs": [
    {
     "data": {
      "text/plain": [
       "2"
      ]
     },
     "execution_count": 112,
     "metadata": {},
     "output_type": "execute_result"
    }
   ],
   "source": [
    "y"
   ]
  },
  {
   "cell_type": "code",
   "execution_count": 113,
   "metadata": {},
   "outputs": [
    {
     "data": {
      "text/plain": [
       "3"
      ]
     },
     "execution_count": 113,
     "metadata": {},
     "output_type": "execute_result"
    }
   ],
   "source": [
    "z"
   ]
  },
  {
   "cell_type": "markdown",
   "metadata": {},
   "source": [
    "**Try your Self**\n",
    "\n",
    "1. Simple Message: Assign a message to a variable, and then print that \n",
    "message.\n",
    "2. Simple Messages: Assign a message to a variable, and print that message. \n",
    "Then change the value of the variable to a new message, and print the new \n",
    "message"
   ]
  },
  {
   "cell_type": "code",
   "execution_count": 18,
   "metadata": {},
   "outputs": [],
   "source": [
    "# do Your code here "
   ]
  },
  {
   "cell_type": "markdown",
   "metadata": {},
   "source": [
    "## Data Types"
   ]
  },
  {
   "cell_type": "markdown",
   "metadata": {},
   "source": [
    "### Strings "
   ]
  },
  {
   "cell_type": "markdown",
   "metadata": {},
   "source": [
    "Because most programs define and gather some sort of data, and then do \n",
    "something useful with it, it helps to classify different types of data. The first \n",
    "data type we’ll look at is the string. Strings are quite simple at first glance, \n",
    "but you can use them in many different ways.\n",
    "A string is a series of characters. Anything inside quotes is considered \n",
    "a string in Python, and you can use single or double quotes around your \n",
    "strings like this: "
   ]
  },
  {
   "cell_type": "code",
   "execution_count": 21,
   "metadata": {},
   "outputs": [
    {
     "data": {
      "text/plain": [
       "'This is a string.'"
      ]
     },
     "execution_count": 21,
     "metadata": {},
     "output_type": "execute_result"
    }
   ],
   "source": [
    "\"This is a string.\""
   ]
  },
  {
   "cell_type": "code",
   "execution_count": 20,
   "metadata": {},
   "outputs": [
    {
     "data": {
      "text/plain": [
       "'This is also a string.'"
      ]
     },
     "execution_count": 20,
     "metadata": {},
     "output_type": "execute_result"
    }
   ],
   "source": [
    "'This is also a string.'"
   ]
  },
  {
   "cell_type": "markdown",
   "metadata": {},
   "source": [
    "This flexibility allows you to use quotes and apostrophes within your \n",
    "strings:"
   ]
  },
  {
   "cell_type": "code",
   "execution_count": 22,
   "metadata": {},
   "outputs": [
    {
     "data": {
      "text/plain": [
       "'I told my friend, \"Python is my favorite language!\"'"
      ]
     },
     "execution_count": 22,
     "metadata": {},
     "output_type": "execute_result"
    }
   ],
   "source": [
    "'I told my friend, \"Python is my favorite language!\"'"
   ]
  },
  {
   "cell_type": "code",
   "execution_count": 23,
   "metadata": {},
   "outputs": [
    {
     "data": {
      "text/plain": [
       "\"The language 'Python' is named after Monty Python, not the snake.\""
      ]
     },
     "execution_count": 23,
     "metadata": {},
     "output_type": "execute_result"
    }
   ],
   "source": [
    "\"The language 'Python' is named after Monty Python, not the snake.\""
   ]
  },
  {
   "cell_type": "code",
   "execution_count": 24,
   "metadata": {},
   "outputs": [
    {
     "data": {
      "text/plain": [
       "\"One of Python's strengths is its diverse and supportive community.\""
      ]
     },
     "execution_count": 24,
     "metadata": {},
     "output_type": "execute_result"
    }
   ],
   "source": [
    "\"One of Python's strengths is its diverse and supportive community.\""
   ]
  },
  {
   "cell_type": "code",
   "execution_count": 68,
   "metadata": {},
   "outputs": [
    {
     "data": {
      "text/plain": [
       "'Display \"hi\" and \\'bye\\' in quotes'"
      ]
     },
     "execution_count": 68,
     "metadata": {},
     "output_type": "execute_result"
    }
   ],
   "source": [
    "### Triple-quoted strings\n",
    "\"\"\"Display \"hi\" and 'bye' in quotes\"\"\"\n"
   ]
  },
  {
   "cell_type": "code",
   "execution_count": 70,
   "metadata": {},
   "outputs": [
    {
     "name": "stdout",
     "output_type": "stream",
     "text": [
      "This is a triple-quoted\n",
      "string that spans two lines\n"
     ]
    }
   ],
   "source": [
    "triple_quoted_string = \"\"\"This is a triple-quoted\n",
    "string that spans two lines\"\"\"\n",
    "print(triple_quoted_string)\n"
   ]
  },
  {
   "cell_type": "code",
   "execution_count": 71,
   "metadata": {},
   "outputs": [
    {
     "data": {
      "text/plain": [
       "'This is a triple-quoted\\nstring that spans two lines'"
      ]
     },
     "execution_count": 71,
     "metadata": {},
     "output_type": "execute_result"
    }
   ],
   "source": [
    "triple_quoted_string\n"
   ]
  },
  {
   "cell_type": "code",
   "execution_count": 72,
   "metadata": {},
   "outputs": [
    {
     "name": "stdout",
     "output_type": "stream",
     "text": [
      "This is a triple-quoted\n",
      "string that spans two lines\n"
     ]
    }
   ],
   "source": [
    "print('This is a triple-quoted\\nstring that spans two lines')"
   ]
  },
  {
   "cell_type": "markdown",
   "metadata": {},
   "source": [
    "Let’s explore some of the ways you can use strings."
   ]
  },
  {
   "cell_type": "markdown",
   "metadata": {},
   "source": [
    "**Changing Case in a String with Methods**\n",
    "\n",
    "One of the simplest tasks you can do with strings is change the case of the \n",
    "words in a string. Look at the following code, and try to determine what’s \n",
    "happening:"
   ]
  },
  {
   "cell_type": "code",
   "execution_count": 25,
   "metadata": {},
   "outputs": [
    {
     "name": "stdout",
     "output_type": "stream",
     "text": [
      "Mohamed Ismail\n"
     ]
    }
   ],
   "source": [
    "user_name = 'mohamed ismail'\n",
    "print(user_name.title()) # Mohamed Ismail"
   ]
  },
  {
   "cell_type": "markdown",
   "metadata": {},
   "source": [
    "```The title()``` method changes each word to title case, where each word \n",
    "begins with a capital letter. This is useful because you’ll often want to think \n",
    "of a name as a piece of information."
   ]
  },
  {
   "cell_type": "markdown",
   "metadata": {},
   "source": [
    "Several other useful methods are available for dealing with case as \n",
    "well. For example, you can change a string to all uppercase or all lowercase \n",
    "letters like this:"
   ]
  },
  {
   "cell_type": "code",
   "execution_count": 26,
   "metadata": {},
   "outputs": [
    {
     "name": "stdout",
     "output_type": "stream",
     "text": [
      "MOHAMED ISMAIL\n"
     ]
    }
   ],
   "source": [
    "print(user_name.upper()) # MOHAMED ISMAIL"
   ]
  },
  {
   "cell_type": "code",
   "execution_count": 27,
   "metadata": {},
   "outputs": [
    {
     "name": "stdout",
     "output_type": "stream",
     "text": [
      "giza\n"
     ]
    }
   ],
   "source": [
    "city = 'GIZA'\n",
    "print(city.lower()) # giza"
   ]
  },
  {
   "cell_type": "markdown",
   "metadata": {},
   "source": [
    "```The lower()``` method is particularly useful for storing data. Many times \n",
    "you won’t want to trust the capitalization that your users provide, so you’ll \n",
    "convert strings to lowercase before storing them. Then when you want to \n",
    "display the information, you’ll use the case that makes the most sense for \n",
    "each string."
   ]
  },
  {
   "cell_type": "markdown",
   "metadata": {},
   "source": [
    "**Using Variables in Strings**\n",
    "\n",
    "In some situations, you’ll want to use a variable’s value inside a string. For \n",
    "example, you might want two variables to represent a first name and a last \n",
    "name respectively, and then want to combine those values to display someone’s full name:"
   ]
  },
  {
   "cell_type": "markdown",
   "metadata": {},
   "source": [
    "f-strings were introduced in Python 3.6. They provide a way to embed expressions inside string literals, using curly braces `{}`."
   ]
  },
  {
   "cell_type": "code",
   "execution_count": 37,
   "metadata": {},
   "outputs": [
    {
     "name": "stdout",
     "output_type": "stream",
     "text": [
      "User Full name: Mohamed Ismail, and User age: 25\n"
     ]
    }
   ],
   "source": [
    "first_name = 'Mohamed'\n",
    "last_name = 'Ismail'\n",
    "user_age = 25\n",
    "\n",
    "print(f'User Full name: {first_name} {last_name}, and User age: {user_age}')"
   ]
  },
  {
   "cell_type": "code",
   "execution_count": 43,
   "metadata": {},
   "outputs": [
    {
     "name": "stdout",
     "output_type": "stream",
     "text": [
      "Hello, Ada Lovelace!\n"
     ]
    }
   ],
   "source": [
    "first_name = \"ada\"\n",
    "last_name = \"lovelace\"\n",
    "full_name = f\"{first_name} {last_name}\"\n",
    "print(f\"Hello, {full_name.title()}!\")"
   ]
  },
  {
   "cell_type": "markdown",
   "metadata": {},
   "source": [
    "**.format()**\n",
    "\n",
    "If you’re using Python 3.5 or earlier, \n",
    "you’ll need to use the format() method rather than this f syntax. To use format(), list \n",
    "the variables you want to use in the string inside the parentheses following format. \n",
    "Each variable is referred to by a set of braces; the braces will be filled by the values \n",
    "listed in parentheses in the order provided:"
   ]
  },
  {
   "cell_type": "code",
   "execution_count": 39,
   "metadata": {},
   "outputs": [
    {
     "name": "stdout",
     "output_type": "stream",
     "text": [
      "User Full name: Mohamed Ismail, and User age: 25\n"
     ]
    }
   ],
   "source": [
    "print('User Full name: {} {}, and User age: {}'.format(first_name, last_name, user_age)) "
   ]
  },
  {
   "cell_type": "markdown",
   "metadata": {},
   "source": [
    "**Escape Characters**"
   ]
  },
  {
   "cell_type": "markdown",
   "metadata": {},
   "source": [
    "\\ is the escape character. It tells Python to ignore the special meaning of the character that follows it. For example, the single quote in the string 'I\\'m' is not interpreted as the end of the string. Instead, it’s considered part of the string. The same is true for the double quote in the string \"She said \\\"Hello\\\".\" The newline character \\n adds a new line, and the tab character \\t adds a tab.\n",
    "\n",
    "**some Escape characters**\n",
    "\n",
    "![Escape Characters](3.png)"
   ]
  },
  {
   "cell_type": "markdown",
   "metadata": {},
   "source": [
    "**Adding Whitespace to Strings with Tabs or Newlines**"
   ]
  },
  {
   "cell_type": "markdown",
   "metadata": {},
   "source": [
    "In programming, whitespace refers to any nonprinting character, such as spaces, tabs, and end-of-line symbols. You can use whitespace to organize your output so it’s easier for users to read. For example, you can use spaces or tabs to align your output in columns. You can also use blank lines to separate sections of your output to make it easier to read.\n"
   ]
  },
  {
   "cell_type": "code",
   "execution_count": 44,
   "metadata": {},
   "outputs": [
    {
     "name": "stdout",
     "output_type": "stream",
     "text": [
      "python\n"
     ]
    }
   ],
   "source": [
    "print('python')"
   ]
  },
  {
   "cell_type": "code",
   "execution_count": 54,
   "metadata": {},
   "outputs": [
    {
     "name": "stdout",
     "output_type": "stream",
     "text": [
      "\tPython\n"
     ]
    }
   ],
   "source": [
    " print('\\tPython')"
   ]
  },
  {
   "cell_type": "markdown",
   "metadata": {},
   "source": [
    "To add a newline in a string, use the character combination \\n:"
   ]
  },
  {
   "cell_type": "code",
   "execution_count": 55,
   "metadata": {},
   "outputs": [
    {
     "name": "stdout",
     "output_type": "stream",
     "text": [
      "Languages:\n",
      "Python\n",
      "C\n",
      "JavaScript\n"
     ]
    }
   ],
   "source": [
    "print(\"Languages:\\nPython\\nC\\nJavaScript\")"
   ]
  },
  {
   "cell_type": "code",
   "execution_count": 56,
   "metadata": {},
   "outputs": [
    {
     "name": "stdout",
     "output_type": "stream",
     "text": [
      "Languages:\n",
      "\tPython\n",
      "\tC\n",
      "\tJavaScript\n"
     ]
    }
   ],
   "source": [
    "print(\"Languages:\\n\\tPython\\n\\tC\\n\\tJavaScript\")"
   ]
  },
  {
   "cell_type": "markdown",
   "metadata": {},
   "source": [
    "**Stripping Whitespace**\n",
    "\n",
    "Extra whitespace can be confusing in your programs. To programmers 'python' and 'python ' look pretty much the same. But to a program, they are two different strings. Python detects the extra space in 'python ' and considers it significant unless you tell it otherwise.\n",
    "\n",
    "It’s important to think about whitespace, because often you’ll want to compare two strings to determine whether they are the same. For example, one important instance might involve checking people’s usernames when they log in to a website. Extra whitespace can be confusing in much simpler \n",
    "situations as well. Fortunately, Python makes it easy to eliminate extraneous whitespace from data that people enter.Python can look for extra whitespace on the right and left sides of a \n",
    "string. To ensure that no whitespace exists at the right end of a string, use the rstrip() method."
   ]
  },
  {
   "cell_type": "markdown",
   "metadata": {},
   "source": [
    "Python can look for extra whitespace on the right and left sides of a string. To ensure that no whitespace exists at the right end of a string, use the ```rstrip()```, ```lstrip()``` methods"
   ]
  },
  {
   "cell_type": "code",
   "execution_count": 57,
   "metadata": {},
   "outputs": [
    {
     "name": "stdout",
     "output_type": "stream",
     "text": [
      "python \n"
     ]
    }
   ],
   "source": [
    "favorite_language = 'python\t' \n",
    "print(favorite_language)"
   ]
  },
  {
   "cell_type": "code",
   "execution_count": 58,
   "metadata": {},
   "outputs": [
    {
     "name": "stdout",
     "output_type": "stream",
     "text": [
      "python\n"
     ]
    }
   ],
   "source": [
    "print(favorite_language.rstrip())"
   ]
  },
  {
   "cell_type": "code",
   "execution_count": 59,
   "metadata": {},
   "outputs": [
    {
     "name": "stdout",
     "output_type": "stream",
     "text": [
      " python\n",
      "python \n"
     ]
    }
   ],
   "source": [
    "favorite_language = ' python '\n",
    "print(favorite_language.rstrip())\n",
    "print(favorite_language.lstrip())"
   ]
  },
  {
   "cell_type": "markdown",
   "metadata": {},
   "source": [
    "You can also strip whitespace from both sides at once using strip():"
   ]
  },
  {
   "cell_type": "code",
   "execution_count": 61,
   "metadata": {},
   "outputs": [
    {
     "name": "stdout",
     "output_type": "stream",
     "text": [
      " python \n",
      "python\n"
     ]
    }
   ],
   "source": [
    "favorite_language = ' python '\n",
    "print(favorite_language)\n",
    "print(favorite_language.strip())"
   ]
  },
  {
   "cell_type": "markdown",
   "metadata": {},
   "source": [
    "**concatenating strings**\n",
    "\n",
    " is to store them in variables, and then combine the variables in your print() statement. This is particularly useful when you’re working with a set of variables that you can change, and you want your changes reflected in your output."
   ]
  },
  {
   "cell_type": "code",
   "execution_count": 16,
   "metadata": {},
   "outputs": [
    {
     "name": "stdout",
     "output_type": "stream",
     "text": [
      "ada lovelace\n",
      "Hello, Ada Lovelace!\n"
     ]
    }
   ],
   "source": [
    "# Concatenation is the process of combining two strings.\n",
    "first_name = \"ada\"\n",
    "last_name = \"lovelace\"\n",
    "full_name = first_name + \" \" + last_name\n",
    "print(full_name)\n",
    "\n",
    "message = \"Hello, \" + full_name.title() + \"!\"\n",
    "print(message)\n",
    "\n"
   ]
  },
  {
   "cell_type": "markdown",
   "metadata": {},
   "source": [
    "**Try It Yourself**\n",
    "\n",
    "1. Personal Message: Use a variable to represent a person’s name, and print \n",
    "a message to that person. Your message should be simple, such as, “Hello Eric, \n",
    "would you like to learn some Python today?”\n",
    "1. Name Cases: Use a variable to represent a person’s name, and then print \n",
    "that person’s name in lowercase, uppercase, and title case.\n",
    "3. Famous Quote: Find a quote from a famous person you admire. Print the \n",
    "quote and the name of its author. Your output should look something like the \n",
    "following, including the quotation marks:\n",
    "Albert Einstein once said, “A person who never made a \n",
    "mistake never tried anything new.”\n",
    "3. Famous Quote 2: Repeat Exercise 3, but this time, represent the \n",
    "famous person’s name using a variable called famous_person. Then compose \n",
    "your message and represent it with a new variable called message. Print your \n",
    "message.\n",
    "4. Stripping Names: Use a variable to represent a person’s name, and include \n",
    "some whitespace characters at the beginning and end of the name. Make sure \n",
    "you use each character combination, \"\\t\" and \"\\n\", at least once.\n",
    "Print the name once, so the whitespace around the name is displayed. \n",
    "Then print the name using each of the three stripping functions, lstrip(), \n",
    "rstrip(), and strip()"
   ]
  },
  {
   "cell_type": "code",
   "execution_count": 62,
   "metadata": {},
   "outputs": [],
   "source": [
    "# do your code here"
   ]
  },
  {
   "cell_type": "markdown",
   "metadata": {},
   "source": [
    "### Numbers"
   ]
  },
  {
   "cell_type": "markdown",
   "metadata": {},
   "source": [
    "Numbers are used quite often in programming to keep score in games, represent data in visualizations, store information in web applications, and so on. Python treats numbers in several different ways, depending on how they’re being used. Let’s first look at how Python manages integers, because they’re the simplest to work with"
   ]
  },
  {
   "cell_type": "markdown",
   "metadata": {},
   "source": [
    "#### Integers"
   ]
  },
  {
   "cell_type": "markdown",
   "metadata": {},
   "source": [
    "You can add \n",
    "\n",
    "- (+), \n",
    "- subtract (-), \n",
    "- multiply (*), \n",
    "- divide (/), \n",
    "- exponents (**)  \n",
    "\n",
    "integers in Python."
   ]
  },
  {
   "cell_type": "code",
   "execution_count": 74,
   "metadata": {},
   "outputs": [],
   "source": [
    "x = 5\n",
    "y = 3"
   ]
  },
  {
   "cell_type": "code",
   "execution_count": 75,
   "metadata": {},
   "outputs": [
    {
     "name": "stdout",
     "output_type": "stream",
     "text": [
      "8\n",
      "2\n",
      "15\n",
      "1.6666666666666667\n",
      "125\n"
     ]
    }
   ],
   "source": [
    "print(x + y)\n",
    "print(x - y)\n",
    "print(x * y)\n",
    "print(x / y)\n",
    "print(x ** y)"
   ]
  },
  {
   "cell_type": "markdown",
   "metadata": {},
   "source": [
    "Python supports the order of operations too, so you can use multiple operations in one expression. You can also use parentheses to modify the order of operations so Python can evaluate your expression in the order you specify. For example:\n"
   ]
  },
  {
   "cell_type": "code",
   "execution_count": 76,
   "metadata": {},
   "outputs": [
    {
     "data": {
      "text/plain": [
       "14"
      ]
     },
     "execution_count": 76,
     "metadata": {},
     "output_type": "execute_result"
    }
   ],
   "source": [
    "2 + 3*4"
   ]
  },
  {
   "cell_type": "code",
   "execution_count": 77,
   "metadata": {},
   "outputs": [
    {
     "data": {
      "text/plain": [
       "20"
      ]
     },
     "execution_count": 77,
     "metadata": {},
     "output_type": "execute_result"
    }
   ],
   "source": [
    "(2 + 3) * 4"
   ]
  },
  {
   "cell_type": "markdown",
   "metadata": {},
   "source": [
    "The spacing in these examples has no effect on how Python evaluates the expressions; it simply helps you more quickly spot the operations that have priority when you’re reading through the code"
   ]
  },
  {
   "cell_type": "markdown",
   "metadata": {},
   "source": [
    "#### Floats"
   ]
  },
  {
   "cell_type": "markdown",
   "metadata": {},
   "source": [
    "Python calls any number with a decimal point a float. This term is used in most programming languages, and it refers to the fact that a decimal point can appear at any position in a number. Every programming language must be carefully designed to properly manage decimal numbers so numbers behave appropriately no matter where the decimal point appears"
   ]
  },
  {
   "cell_type": "code",
   "execution_count": 78,
   "metadata": {},
   "outputs": [],
   "source": [
    "x = 1.5\n",
    "y = 3.2"
   ]
  },
  {
   "cell_type": "code",
   "execution_count": 79,
   "metadata": {},
   "outputs": [
    {
     "name": "stdout",
     "output_type": "stream",
     "text": [
      "4.7\n",
      "-1.7000000000000002\n",
      "4.800000000000001\n",
      "0.46875\n",
      "3.660092227792233\n"
     ]
    }
   ],
   "source": [
    "print(x + y)\n",
    "print(x - y)\n",
    "print(x * y)\n",
    "print(x / y)\n",
    "print(x ** y)"
   ]
  },
  {
   "cell_type": "markdown",
   "metadata": {},
   "source": [
    "**Assignment Operators**\n",
    "\n",
    "![Assignment operators](5.png)"
   ]
  },
  {
   "cell_type": "code",
   "execution_count": 103,
   "metadata": {},
   "outputs": [
    {
     "name": "stdout",
     "output_type": "stream",
     "text": [
      "10\n",
      "10\n"
     ]
    }
   ],
   "source": [
    "x = 5\n",
    "x = x + x\n",
    "print(x)\n",
    "x = 5\n",
    "x += x\n",
    "print(x)"
   ]
  },
  {
   "cell_type": "code",
   "execution_count": 104,
   "metadata": {},
   "outputs": [
    {
     "name": "stdout",
     "output_type": "stream",
     "text": [
      "0\n",
      "0\n"
     ]
    }
   ],
   "source": [
    "x = 5\n",
    "x = x - x\n",
    "print(x)\n",
    "x = 5\n",
    "x -= x\n",
    "print(x)"
   ]
  },
  {
   "cell_type": "code",
   "execution_count": 108,
   "metadata": {},
   "outputs": [
    {
     "name": "stdout",
     "output_type": "stream",
     "text": [
      "0\n",
      "2\n"
     ]
    }
   ],
   "source": [
    "# Reminder %\n",
    "x = 20\n",
    "y = 10\n",
    "print(x % y) # x = 2y x/y = 2, reminder = 0\n",
    "\n",
    "a = 17\n",
    "b = 5\n",
    "print(a % b) # a = 3b + 2, reminder = 2"
   ]
  },
  {
   "cell_type": "code",
   "execution_count": 105,
   "metadata": {},
   "outputs": [
    {
     "name": "stdout",
     "output_type": "stream",
     "text": [
      "1.0\n",
      "1.0\n"
     ]
    }
   ],
   "source": [
    "x = 5\n",
    "x = x / x\n",
    "print(x)\n",
    "x = 5\n",
    "x /= x\n",
    "print(x)"
   ]
  },
  {
   "cell_type": "markdown",
   "metadata": {},
   "source": [
    "**Arithmetic Operators**\n",
    "\n",
    "![Arithmetic Operators](1.png)"
   ]
  },
  {
   "cell_type": "markdown",
   "metadata": {},
   "source": [
    "**True Division (/) vs. Floor Division (//)**\n",
    "\n",
    "When you use the division operator (/) to divide two numbers, even if they are integers that result in a whole number, you’ll always get a float:\n",
    "\n",
    "If you want to drop the fractional part of the result, you can use the floor division operator (//). The result of this division will be an integer that’s as close to the actual result as possible without going over."
   ]
  },
  {
   "cell_type": "code",
   "execution_count": 87,
   "metadata": {},
   "outputs": [],
   "source": [
    "# It's not neglect The fraction number its rounded to nearest lower Integer number."
   ]
  },
  {
   "cell_type": "code",
   "execution_count": 90,
   "metadata": {},
   "outputs": [],
   "source": [
    "x = 7\n",
    "y = 4"
   ]
  },
  {
   "cell_type": "code",
   "execution_count": 91,
   "metadata": {},
   "outputs": [
    {
     "data": {
      "text/plain": [
       "1.75"
      ]
     },
     "execution_count": 91,
     "metadata": {},
     "output_type": "execute_result"
    }
   ],
   "source": [
    "x / y"
   ]
  },
  {
   "cell_type": "code",
   "execution_count": 92,
   "metadata": {},
   "outputs": [
    {
     "data": {
      "text/plain": [
       "1"
      ]
     },
     "execution_count": 92,
     "metadata": {},
     "output_type": "execute_result"
    }
   ],
   "source": [
    "x // y # 1 -> 1.75 -> 2"
   ]
  },
  {
   "cell_type": "code",
   "execution_count": 94,
   "metadata": {},
   "outputs": [
    {
     "data": {
      "text/plain": [
       "-1.75"
      ]
     },
     "execution_count": 94,
     "metadata": {},
     "output_type": "execute_result"
    }
   ],
   "source": [
    "-x / y"
   ]
  },
  {
   "cell_type": "code",
   "execution_count": 95,
   "metadata": {},
   "outputs": [
    {
     "data": {
      "text/plain": [
       "-2"
      ]
     },
     "execution_count": 95,
     "metadata": {},
     "output_type": "execute_result"
    }
   ],
   "source": [
    "-x // y # -2 -> -1.75 -> -1"
   ]
  },
  {
   "cell_type": "code",
   "execution_count": 96,
   "metadata": {},
   "outputs": [
    {
     "name": "stdout",
     "output_type": "stream",
     "text": [
      "7\n"
     ]
    }
   ],
   "source": [
    "x = -7\n",
    "print(abs(x)) # |-7| = 7"
   ]
  },
  {
   "cell_type": "code",
   "execution_count": 97,
   "metadata": {},
   "outputs": [
    {
     "name": "stdout",
     "output_type": "stream",
     "text": [
      "5\n"
     ]
    }
   ],
   "source": [
    "x = 5.5\n",
    "print(int(x)) # x -> 5"
   ]
  },
  {
   "cell_type": "code",
   "execution_count": 98,
   "metadata": {},
   "outputs": [
    {
     "name": "stdout",
     "output_type": "stream",
     "text": [
      "5.0\n"
     ]
    }
   ],
   "source": [
    "x = 5\n",
    "print(float(x)) # x -> 5.0"
   ]
  },
  {
   "cell_type": "markdown",
   "metadata": {},
   "source": [
    "**Underscores in Numbers**\n",
    "\n",
    "When you’re writing long numbers, you can group digits using underscores \n",
    "to make large numbers more readable:"
   ]
  },
  {
   "cell_type": "code",
   "execution_count": 109,
   "metadata": {},
   "outputs": [
    {
     "name": "stdout",
     "output_type": "stream",
     "text": [
      "14000000000\n"
     ]
    }
   ],
   "source": [
    "universe_age = 14_000_000_000\n",
    "print(universe_age)"
   ]
  },
  {
   "cell_type": "markdown",
   "metadata": {},
   "source": [
    "**Constants**\n",
    "\n",
    "A constant is like a variable whose value stays the same throughout the life of a program. Python doesn’t have built-in constant types, but Python programmers use all capital letters to indicate a variable should be treated as a constant and never be changed:"
   ]
  },
  {
   "cell_type": "code",
   "execution_count": 115,
   "metadata": {},
   "outputs": [
    {
     "name": "stdout",
     "output_type": "stream",
     "text": [
      "5000\n"
     ]
    }
   ],
   "source": [
    "MAX_CONNECTIONS = 5000\n",
    "print(MAX_CONNECTIONS)"
   ]
  },
  {
   "cell_type": "markdown",
   "metadata": {},
   "source": [
    "**Try It Yourself**\n",
    "\n",
    "1. Number Eight: Write addition, subtraction, multiplication, and division operations that each result in the number 8. Be sure to enclose your operations in ```print()``` calls to see the results. You should create four lines that look like this:\n",
    "```print(5+3)```\n",
    "Your output should simply be four lines with the number 8 appearing once on each line.\n",
    "2. Favorite Number: Use a variable to represent your favorite number. Then, using that variable, create a message that reveals your favorite number. Print that message"
   ]
  },
  {
   "cell_type": "code",
   "execution_count": 116,
   "metadata": {},
   "outputs": [],
   "source": [
    "# do your code here"
   ]
  },
  {
   "cell_type": "markdown",
   "metadata": {},
   "source": [
    "### Boolean"
   ]
  },
  {
   "cell_type": "markdown",
   "metadata": {},
   "source": [
    "Boolean values are another data type in Python. A Boolean value is either True or False, with the first letter of each value capitalized. Boolean values are important because they can be used to keep track of certain conditions within your program.\n",
    "\n",
    "![Comparison Operators](4.png)"
   ]
  },
  {
   "cell_type": "code",
   "execution_count": 18,
   "metadata": {},
   "outputs": [
    {
     "name": "stdout",
     "output_type": "stream",
     "text": [
      "True\n",
      "False\n",
      "True\n",
      "False\n",
      "False\n",
      "True\n",
      "False\n",
      "True\n"
     ]
    },
    {
     "name": "stderr",
     "output_type": "stream",
     "text": [
      "<>:9: SyntaxWarning: \"is\" with a literal. Did you mean \"==\"?\n",
      "<>:10: SyntaxWarning: \"is not\" with a literal. Did you mean \"!=\"?\n",
      "<>:9: SyntaxWarning: \"is\" with a literal. Did you mean \"==\"?\n",
      "<>:10: SyntaxWarning: \"is not\" with a literal. Did you mean \"!=\"?\n",
      "/tmp/ipykernel_390131/1135962794.py:9: SyntaxWarning: \"is\" with a literal. Did you mean \"==\"?\n",
      "  print(5 is 3)\n",
      "/tmp/ipykernel_390131/1135962794.py:10: SyntaxWarning: \"is not\" with a literal. Did you mean \"!=\"?\n",
      "  print(5 is not 3)\n"
     ]
    }
   ],
   "source": [
    "# Boolean values\n",
    "\n",
    "print(5 > 3) # True\n",
    "print(5 < 3) # False\n",
    "print(5 >= 3) # True\n",
    "print(5 <= 3) # False\n",
    "print(5 == 3) # False\n",
    "print(5 != 3) # True\n",
    "print(5 is 3) # False\n",
    "print(5 is not 3) # True"
   ]
  },
  {
   "cell_type": "code",
   "execution_count": 19,
   "metadata": {},
   "outputs": [
    {
     "name": "stdout",
     "output_type": "stream",
     "text": [
      "False\n",
      "True\n",
      "False\n"
     ]
    }
   ],
   "source": [
    "# Logical operators\n",
    "\n",
    "print(5 > 3 and 5 < 3) # False\n",
    "print(5 > 3 or 5 < 3) # True\n",
    "print(not 5 > 3) # False\n"
   ]
  },
  {
   "cell_type": "code",
   "execution_count": 22,
   "metadata": {},
   "outputs": [
    {
     "name": "stdout",
     "output_type": "stream",
     "text": [
      "True\n",
      "False\n",
      "True\n"
     ]
    }
   ],
   "source": [
    "# can also work with string\n",
    "\n",
    "print('Mohamed' == 'Mohamed')\n",
    "print('Mohamed' != 'Mohamed')\n",
    "print('M' in 'Mohamed') # in is a membership operator"
   ]
  },
  {
   "cell_type": "markdown",
   "metadata": {},
   "source": [
    "### Built-in Functions\n"
   ]
  },
  {
   "cell_type": "markdown",
   "metadata": {},
   "source": [
    "Built-in functions are functions that are always available for you to use in Python. You’ve already used a few of these functions, such as `print()`, `input()`, and `str()`. The Python interpreter has several functions that are always available for use. These functions are called built-in functions. You can use these functions without having to define them. You can also use built-in functions in your programs without having to provide the function’s definition. The Python interpreter provides many built-in functions that are always available. Here are a few examples of built-in functions in Python:\n",
    "\n",
    "![Built-in Functions](2.png)\n",
    "\n",
    "For more Built-in Functions you can visit the official Python documentation: **[Built-in Function](https://docs.python.org/3/library/functions.html)**"
   ]
  },
  {
   "cell_type": "markdown",
   "metadata": {},
   "source": [
    "### Type( ) Built-in Function"
   ]
  },
  {
   "cell_type": "markdown",
   "metadata": {},
   "source": [
    "type() is a built-in function in Python. You can use the type() function to know which class a variable or a value belongs to. You can also use it to know the type of the value stored in a variable.\n",
    "\n",
    "Everything in python is object\n",
    "\n",
    "Object is an instance of a class and it is a type with two characteristics: \n",
    "\n",
    "- Attributes (data)\n",
    "- name"
   ]
  },
  {
   "cell_type": "code",
   "execution_count": 1,
   "metadata": {},
   "outputs": [
    {
     "name": "stdout",
     "output_type": "stream",
     "text": [
      "<class 'int'>\n"
     ]
    }
   ],
   "source": [
    "x = 10\n",
    "print(type(x))"
   ]
  },
  {
   "cell_type": "code",
   "execution_count": 2,
   "metadata": {},
   "outputs": [
    {
     "name": "stdout",
     "output_type": "stream",
     "text": [
      "<class 'str'>\n"
     ]
    }
   ],
   "source": [
    "name = 'Mohamed'\n",
    "print(type(name))"
   ]
  },
  {
   "cell_type": "code",
   "execution_count": 3,
   "metadata": {},
   "outputs": [
    {
     "name": "stdout",
     "output_type": "stream",
     "text": [
      "<class 'float'>\n"
     ]
    }
   ],
   "source": [
    "print(type(5.5))"
   ]
  },
  {
   "cell_type": "code",
   "execution_count": 4,
   "metadata": {},
   "outputs": [
    {
     "name": "stdout",
     "output_type": "stream",
     "text": [
      "<class 'bool'>\n"
     ]
    }
   ],
   "source": [
    "print(type(5 > 3)) # True"
   ]
  },
  {
   "cell_type": "markdown",
   "metadata": {},
   "source": [
    "**Try It Yourself**\n",
    "\n",
    "1. Try with yourself to use the type() function to know which class a variable or a value belongs to. You can also use it to know the type of the value stored in a variable."
   ]
  },
  {
   "cell_type": "markdown",
   "metadata": {},
   "source": [
    "### Getting Input from the User\n",
    "\n",
    "**Using input() built-in function**"
   ]
  },
  {
   "cell_type": "markdown",
   "metadata": {},
   "source": [
    "`input(prompt)`\n",
    "If the prompt argument is present, it is written to standard output without a trailing newline. The function then reads a line from input, converts it to a string (stripping a trailing newline), and returns that. "
   ]
  },
  {
   "cell_type": "code",
   "execution_count": 118,
   "metadata": {},
   "outputs": [
    {
     "name": "stdout",
     "output_type": "stream",
     "text": [
      "Hello, Mohamed Ismail\n"
     ]
    }
   ],
   "source": [
    "user_name = input('Input your name: ')\n",
    "print(f'Hello, {user_name}')"
   ]
  },
  {
   "cell_type": "code",
   "execution_count": 13,
   "metadata": {},
   "outputs": [
    {
     "name": "stdout",
     "output_type": "stream",
     "text": [
      "25\n",
      "<class 'str'>\n"
     ]
    }
   ],
   "source": [
    "# input() always return string \n",
    "user_age = input('Input your age: ')\n",
    "print(user_age)\n",
    "print(type(user_age)) # type return data type of variable, will return str --> string \n"
   ]
  },
  {
   "cell_type": "markdown",
   "metadata": {},
   "source": [
    "**We still can Convert This string returned from input() Function to int() or any Data type using Casting.**"
   ]
  },
  {
   "cell_type": "markdown",
   "metadata": {},
   "source": [
    "### Casting"
   ]
  },
  {
   "cell_type": "markdown",
   "metadata": {},
   "source": [
    "Casting is when you convert a variable value from one type to another. This is done to make the variable compatible with the other variables in the operation.\n"
   ]
  },
  {
   "cell_type": "code",
   "execution_count": 5,
   "metadata": {},
   "outputs": [
    {
     "name": "stdout",
     "output_type": "stream",
     "text": [
      "20\n"
     ]
    }
   ],
   "source": [
    "# Example of convert string to integer\n",
    "num_1 = input('Enter first number: ') # 10\n",
    "num_2 = input('Enter second number: ') #10\n",
    "result = int(num_1) + int(num_2)\n",
    "print(result)"
   ]
  },
  {
   "cell_type": "code",
   "execution_count": 6,
   "metadata": {},
   "outputs": [
    {
     "name": "stdout",
     "output_type": "stream",
     "text": [
      "20\n"
     ]
    }
   ],
   "source": [
    "# Different way to convert string to integer\n",
    "num_1 = int(input('Enter first number: ')) # 10\n",
    "num_2 = int(input('Enter second number: ')) #10\n",
    "result = num_1 + num_2\n",
    "print(result)\n"
   ]
  },
  {
   "cell_type": "code",
   "execution_count": 12,
   "metadata": {},
   "outputs": [
    {
     "name": "stdout",
     "output_type": "stream",
     "text": [
      "25\n",
      "<class 'int'>\n"
     ]
    }
   ],
   "source": [
    "# we can repeat previous example and check type()\n",
    "user_age = int(input('Input your age: ')) # First we convert input to integer\n",
    "print(user_age)\n",
    "print(type(user_age)) # type will return int --> integer"
   ]
  },
  {
   "cell_type": "markdown",
   "metadata": {},
   "source": [
    "### dir( ) Buit-in Function"
   ]
  },
  {
   "cell_type": "markdown",
   "metadata": {},
   "source": [
    "dir() is a powerful inbuilt function in Python3, which returns list of the attributes and methods of any object (say functions , modules, strings, lists, dictionaries etc.)\n",
    "\n",
    "**what's methods?**\n",
    "\n",
    "Methods are functions that belong to an object. You can call a method on an object by using the dot operator (.). For example, you can call the upper() method on a string to convert it to uppercase.\n",
    "\n",
    "**What's attributes?**\n",
    "\n",
    "Attributes are variables that belong to an object. You can access an attribute on an object by using the dot operator (.). For example, you can access the length attribute of a list to get the number of items in the list.\n",
    "\n"
   ]
  },
  {
   "cell_type": "code",
   "execution_count": 23,
   "metadata": {},
   "outputs": [
    {
     "name": "stdout",
     "output_type": "stream",
     "text": [
      "['__add__', '__class__', '__contains__', '__delattr__', '__dir__', '__doc__', '__eq__', '__format__', '__ge__', '__getattribute__', '__getitem__', '__getnewargs__', '__gt__', '__hash__', '__init__', '__init_subclass__', '__iter__', '__le__', '__len__', '__lt__', '__mod__', '__mul__', '__ne__', '__new__', '__reduce__', '__reduce_ex__', '__repr__', '__rmod__', '__rmul__', '__setattr__', '__sizeof__', '__str__', '__subclasshook__', 'capitalize', 'casefold', 'center', 'count', 'encode', 'endswith', 'expandtabs', 'find', 'format', 'format_map', 'index', 'isalnum', 'isalpha', 'isascii', 'isdecimal', 'isdigit', 'isidentifier', 'islower', 'isnumeric', 'isprintable', 'isspace', 'istitle', 'isupper', 'join', 'ljust', 'lower', 'lstrip', 'maketrans', 'partition', 'removeprefix', 'removesuffix', 'replace', 'rfind', 'rindex', 'rjust', 'rpartition', 'rsplit', 'rstrip', 'split', 'splitlines', 'startswith', 'strip', 'swapcase', 'title', 'translate', 'upper', 'zfill']\n"
     ]
    }
   ],
   "source": [
    "# Examples\n",
    "\n",
    "print(dir(str)) # return all methods and attributes of string data type"
   ]
  },
  {
   "cell_type": "code",
   "execution_count": 24,
   "metadata": {},
   "outputs": [
    {
     "name": "stdout",
     "output_type": "stream",
     "text": [
      "['__abs__', '__add__', '__and__', '__bool__', '__ceil__', '__class__', '__delattr__', '__dir__', '__divmod__', '__doc__', '__eq__', '__float__', '__floor__', '__floordiv__', '__format__', '__ge__', '__getattribute__', '__getnewargs__', '__gt__', '__hash__', '__index__', '__init__', '__init_subclass__', '__int__', '__invert__', '__le__', '__lshift__', '__lt__', '__mod__', '__mul__', '__ne__', '__neg__', '__new__', '__or__', '__pos__', '__pow__', '__radd__', '__rand__', '__rdivmod__', '__reduce__', '__reduce_ex__', '__repr__', '__rfloordiv__', '__rlshift__', '__rmod__', '__rmul__', '__ror__', '__round__', '__rpow__', '__rrshift__', '__rshift__', '__rsub__', '__rtruediv__', '__rxor__', '__setattr__', '__sizeof__', '__str__', '__sub__', '__subclasshook__', '__truediv__', '__trunc__', '__xor__', 'as_integer_ratio', 'bit_count', 'bit_length', 'conjugate', 'denominator', 'from_bytes', 'imag', 'numerator', 'real', 'to_bytes']\n"
     ]
    }
   ],
   "source": [
    "# Examples\n",
    "\n",
    "print(dir(int)) # return all methods and attributes of integer data type"
   ]
  },
  {
   "cell_type": "code",
   "execution_count": 25,
   "metadata": {},
   "outputs": [
    {
     "name": "stdout",
     "output_type": "stream",
     "text": [
      "['__abs__', '__add__', '__and__', '__bool__', '__ceil__', '__class__', '__delattr__', '__dir__', '__divmod__', '__doc__', '__eq__', '__float__', '__floor__', '__floordiv__', '__format__', '__ge__', '__getattribute__', '__getnewargs__', '__gt__', '__hash__', '__index__', '__init__', '__init_subclass__', '__int__', '__invert__', '__le__', '__lshift__', '__lt__', '__mod__', '__mul__', '__ne__', '__neg__', '__new__', '__or__', '__pos__', '__pow__', '__radd__', '__rand__', '__rdivmod__', '__reduce__', '__reduce_ex__', '__repr__', '__rfloordiv__', '__rlshift__', '__rmod__', '__rmul__', '__ror__', '__round__', '__rpow__', '__rrshift__', '__rshift__', '__rsub__', '__rtruediv__', '__rxor__', '__setattr__', '__sizeof__', '__str__', '__sub__', '__subclasshook__', '__truediv__', '__trunc__', '__xor__', 'as_integer_ratio', 'bit_count', 'bit_length', 'conjugate', 'denominator', 'from_bytes', 'imag', 'numerator', 'real', 'to_bytes']\n"
     ]
    }
   ],
   "source": [
    "# Examples\n",
    "\n",
    "print(dir(bool)) # return all methods and attributes of boolean data type"
   ]
  }
 ],
 "metadata": {
  "kernelspec": {
   "display_name": "Python 3",
   "language": "python",
   "name": "python3"
  },
  "language_info": {
   "codemirror_mode": {
    "name": "ipython",
    "version": 3
   },
   "file_extension": ".py",
   "mimetype": "text/x-python",
   "name": "python",
   "nbconvert_exporter": "python",
   "pygments_lexer": "ipython3",
   "version": "3.10.12"
  }
 },
 "nbformat": 4,
 "nbformat_minor": 2
}
