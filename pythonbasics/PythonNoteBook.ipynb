{
 "cells": [
  {
   "cell_type": "markdown",
   "metadata": {},
   "source": [
    "# Python Basics: A Beginner's Guide"
   ]
  },
  {
   "cell_type": "markdown",
   "metadata": {},
   "source": [
    "**Table of contents**\n",
    "- [Python Basics: A Beginner's Guide](#python-basics-a-beginners-guide)\n",
    "- [Python History and Overview](#python-history-and-overview)\n",
    "  - [History of Python](#history-of-python)\n",
    "  - [Why Learn Python?](#why-learn-python)\n",
    "  - [Python Versions](#python-versions)\n",
    "  - [How Install Python](#how-install-python)\n",
    "- [Running Python Code](#running-python-code)\n",
    "  - [Interactive Mode](#interactive-mode)\n",
    "    - [IPython](#ipython)\n",
    "  - [Script Mode](#script-mode)\n",
    "- [How Setup your Python Environment](#how-setup-your-python-environment)\n",
    "  - [Virtual Environment](#virtual-environments)\n",
    "  - [Anaconda](#anaconda)\n",
    "  - [Jupyter Notebook](#jupyter-notebooks)\n",
    "  - [Python Packages](#python-packages)\n",
    "- [References](#references)\n",
    "- [The Zen of Python](#the-zen-of-python)\n",
    "- [print()](#print)\n",
    "- [Comments](#comments)\n",
    "- [Variables and Sample Data types](#variable-and-sample-data-types)\n",
    "  - [Variables](#variables)\n",
    "    - [Variable Names](#variable-names)\n",
    "    - [Assigning Values to Variables](#assigning-values-to-variables)\n",
    "  - [Data Types](#data-types)\n",
    "    - [Strings](#strings)\n",
    "    - [Numbers](#numbers)\n",
    "      - [Integers](#integers)\n",
    "      - [Floats](#floats)\n",
    "    - [Booleans](#boolean)\n",
    "    - [Built-in Functions](#built-in-functions)\n",
    "    - [type() built in function](#type--built-in-function)\n",
    "    - [Getting input from the user](#getting-input-from-the-user)\n",
    "    - [Casting](#casting)\n",
    "    - [dir() built in function](#dir--buit-in-function)\n",
    "  - [Python Sequence Data Types (Iterable)](#python-sequence-data-types-iterable)\n",
    "    - [Python Ordered Sequences](#python-ordered-sequences)\n",
    "      - [Lists (Mutable)](#lists-mutable)\n",
    "      - [Tuples (Immutable)](#tuble-immutable)\n",
    "      - [Strings (Immutable)](#strings-immutable)\n",
    "    - [Unordered Sequences](#unordered-sequences)\n",
    "      - [Sets (Immutable)](#sets-immutable)\n",
    "      - [Dictionaries (Mutable)](#dictionaries)\n",
    "- [Functions](#functions)\n",
    "  - [Anonymous Functions](#anonymous-functions)\n",
    "  - [Global Vs. Local Variables](#global-vs-local-variables)\n",
    "  - [Generators](#generators)\n",
    "- [Classes](#classes)\n",
    "  - [Creating and Using a Class](#creating-and-using-a-class)\n",
    "  - [The __init__() Method](#the-init-method)\n",
    "  - [Inheritance](#inheritance)\n",
    "    - [The init() Method for a Child Class](#the-init-method-for-a-child-class)\n",
    "  - [Importing Classes](#importing-classes)\n",
    "  - [Decorators](#decorator)\n",
    "    - [Namespaces and Scope in Python](#namespaces-and-scope-in-python)\n",
    "    - [Decorating Classes](#decorating-classes)\n",
    "  - [public, protected and private attributes](#public-protected-and-private-attributes-in-python)"
   ]
  },
  {
   "cell_type": "markdown",
   "metadata": {},
   "source": [
    "Welcome to this introductory guide on Python Basics! This Jupyter notebook is designed to provide you with a solid foundation in Python programming. Whether you are new to programming or looking to refresh your Python skills, this guide will help you understand and master the basics.\n",
    "\n",
    "By the end of this guide, you will have a good grasp of the essential Python concepts and be ready to move on to more advanced topics and applications. Let's dive into the world of Python programming!"
   ]
  },
  {
   "cell_type": "markdown",
   "metadata": {},
   "source": [
    "# Python History and Overview"
   ]
  },
  {
   "cell_type": "markdown",
   "metadata": {},
   "source": [
    "## History of Python"
   ]
  },
  {
   "cell_type": "markdown",
   "metadata": {},
   "source": [
    "Python is a high-level, interpreted programming language known for its simplicity and readability. It was created by Guido van Rossum and first released in 1991. Over the years, Python has evolved significantly and become one of the most popular programming languages in the world. \n",
    "\n",
    "![Guido](images/1.jpg)\n",
    "\n",
    "\n",
    "**Here's a brief history of Python:**\n",
    "\n",
    "**Early Beginnings (1980s)**\n",
    "\n",
    "- **Late 1980s**: Guido van Rossum began working on Python at Centrum Wiskunde & Informatica (CWI) in the Netherlands. He wanted to create a successor to the ABC language that could handle exceptions and interface with the Amoeba operating system.\n",
    "- **1989**: During Christmas, van Rossum started implementing Python as a hobby project.\n",
    "\n",
    "**Python 1.0 (1991)**\n",
    "\n",
    "- **February 20, 1991**: The first version of Python (0.9.0) was released. It included functions, exception handling, and the core data types: str, list, dict, etc.\n",
    "- **January 26, 1994**: Python 1.0 was officially released. It introduced important features like lambda, map, filter, and reduce.\n",
    "\n",
    "**Python 2.0 (2000)**\n",
    "\n",
    "- **October 16, 2000**: Python 2.0 was released, bringing new features such as list comprehensions, garbage collection, and support for Unicode.\n",
    "- The 2.x series continued to evolve, with Python 2.7 being the last release of the series in 2010. Python 2.7 included features like enhanced library support, improved integer division, and more.\n",
    "\n",
    "**Python 3.0 (2008)**\n",
    "\n",
    "- **December 3, 2008**: Python 3.0, also known as \"Python 3000\" and \"Py3k,\" was released. This version was not backward-compatible with Python 2.x. It aimed to rectify fundamental design flaws in the language.\n",
    "- Python 3 introduced many new features and improvements, including print as a function, the `bytes` type, keyword-only arguments, and a more consistent Unicode handling.\n",
    "\n",
    "**Python 2 End of Life**\n",
    "\n",
    "- **January 1, 2020**: Python 2 reached its end of life, with no further updates or support. The Python community encouraged all users to transition to Python 3.\n",
    "\n",
    "**Python Today**\n",
    "\n",
    "Python continues to grow in popularity due to its readability, extensive standard library, and vibrant community. It is widely used in web development, data science, artificial intelligence, scientific computing, and many other fields. The language's design philosophy emphasizes code readability and simplicity, making it accessible to beginners and powerful for experienced developers.\n"
   ]
  },
  {
   "cell_type": "markdown",
   "metadata": {},
   "source": [
    "## Why Learn Python?"
   ]
  },
  {
   "cell_type": "markdown",
   "metadata": {},
   "source": [
    "![python-logo.png](images/2.png)\n",
    "\n",
    "Python is a versatile programming language that can be used for a wide range of applications. Here are some reasons why you should consider learning Python:\n",
    "\n",
    "1. **Ease of Learning:** Python's syntax is simple and easy to understand, making it an excellent choice for beginners.\n",
    "2. **Versatility:** Python can be used for web development, data analysis, machine learning, scientific computing, and more.\n",
    "3. **Extensive Libraries:** Python has a rich ecosystem of libraries and frameworks that can help you get started quickly on various projects.\n",
    "4. **Community Support:** Python has a large and active community of developers who contribute to open-source projects, provide support, and share knowledge.\n",
    "5. **Career Opportunities:** Python is in high demand in the job market, and learning Python can open up new career opportunities in various fields.\n",
    "6. **Fun and Productive:** Python is a fun and productive language to work with, allowing you to build projects quickly and efficiently.\n",
    "7. **Future-Proof:** Python is a popular and widely used language that is likely to remain relevant for years to come.\n",
    "8. **Automation:** Python can be used to automate repetitive tasks, saving time and effort.\n",
    "9. **Data Analysis:** Python is widely used in data analysis and visualization, making it an essential tool for data scientists and analysts.\n",
    "10. **Machine Learning:** Python is the language of choice for many machine learning and deep learning projects, thanks to libraries like TensorFlow, PyTorch, and scikit-learn.\n",
    "11. **Web Development:** Python can be used to build web applications using frameworks like Django and Flask.\n",
    "12. **Scientific Computing:** Python is widely used in scientific computing and numerical simulations, thanks to libraries like NumPy, SciPy, and Matplotlib.\n",
    "13. **Game Development:** Python can be used to create games and interactive applications using libraries like Pygame and Panda3D.\n",
    "14. **Internet of Things (IoT):** Python is used in IoT projects to control devices, collect data, and analyze sensor data.\n",
    "15. **Cybersecurity:** Python is used in cybersecurity for tasks like penetration testing, malware analysis, and security automation.\n",
    "16. **Education:** Python is a popular language for teaching programming due to its simplicity and readability.\n",
    "17. **Open Source:** Python is an open-source language with a large and active community of developers contributing to its development and improvement.\n",
    "18. **Cross-Platform:** Python is a cross-platform language that runs on Windows, macOS, and Linux, making it easy to develop and deploy applications on different operating systems.\n",
    "19. **Scalability:** Python can be used to build scalable applications that can handle large amounts of data and traffic.\n",
    "20. **Cloud Computing:** Python is widely used in cloud computing for tasks like automation, monitoring, and deployment.\n",
    "21. **DevOps:** Python is used in DevOps for tasks like configuration management, automation, and monitoring.\n",
    "\n",
    "These are just a few of the many reasons to learn Python. Whether you are a beginner looking to start your programming journey or an experienced developer exploring new technologies, Python is a great language to learn and master.\n"
   ]
  },
  {
   "cell_type": "markdown",
   "metadata": {},
   "source": [
    "## Python Versions"
   ]
  },
  {
   "cell_type": "markdown",
   "metadata": {},
   "source": [
    "You can check the version of Python installed on your system by opening a terminal or command prompt and running the following command:\n",
    "\n",
    "```bash\n",
    "python --version\n",
    "```\n",
    "\n",
    "This will display the version of Python installed on your system. For example, if you have Python 3.9.5 installed, the output will be:\n",
    "\n",
    "```\n",
    "Python 3.9.5\n",
    "```\n",
    "\n",
    "**major.minor.micro**\n",
    "\n",
    "- **Major Version:** \n",
    "  The first number in the version string (e.g., 3 in Python 3.9.5) indicates the major version of Python. Major versions introduce significant changes and may not be backward-compatible with previous versions like Architecure changes, API changes, etc.\n",
    "- **Minor Version:** \n",
    "  The second number in the version string (e.g., 9 in Python 3.9.5) indicates the minor version of Python. Minor versions introduce new features and improvements while maintaining backward compatibility.\n",
    "- **Micro Version:** \n",
    "  The third number in the version string (e.g., 5 in Python 3.9.5) indicates the micro version of Python. Micro versions are bug fixes and security updates that do not introduce new features."
   ]
  },
  {
   "cell_type": "markdown",
   "metadata": {},
   "source": [
    "## How Install Python?"
   ]
  },
  {
   "cell_type": "markdown",
   "metadata": {},
   "source": [
    "if you don't have Python installed on your system, you can download and install it from the official Python website: \n",
    "- [Python Download](https://www.python.org/downloads/)\n",
    "You can choose the latest version of Python for your operating system (Windows, macOS, or Linux) and follow the installation instructions provided on the website.\n",
    "\n",
    "Alternatively, you can use package managers like `apt`, `brew`, or `choco` to install Python on Linux, macOS, or Windows, respectively. For example, on Ubuntu, you can install Python 3 using the following command:\n",
    "\n",
    "```bash\n",
    "sudo apt update\n",
    "sudo apt install python3\n",
    "```\n",
    "after installing python you can check the version of python installed on your system by running the following command:\n",
    "```bash\n",
    "python --version\n",
    "```\n",
    "and you can show installation path by running the following command:\n",
    "```bash\n",
    "which python\n",
    "```\n",
    "by running the above command you will get the path of python installed on your system.\n",
    "\n",
    "Once you have Python installed on your system, you can start writing and running Python code using an interactive shell, a text editor, or an integrated development environment (IDE). We will cover different ways to write and run Python code in the following sections."
   ]
  },
  {
   "cell_type": "markdown",
   "metadata": {},
   "source": [
    "# Running Python Code"
   ]
  },
  {
   "cell_type": "markdown",
   "metadata": {},
   "source": [
    "## Interactive Mode"
   ]
  },
  {
   "cell_type": "markdown",
   "metadata": {},
   "source": [
    "In interactive mode, you can run Python code line by line and see the results immediately. To start an interactive Python session, open a terminal or command prompt and type `python` or `python3` (depending on your Python version). This will start the Python interpreter, and you will see a prompt like `>>>` where you can enter Python code.\n",
    "\n",
    "Here's an example of running Python code in interactive mode:\n",
    "\n",
    "```python\n",
    ">>> print(\"Hello, World!\")\n",
    "Hello, World!\n",
    "```\n",
    "\n",
    "You can enter Python expressions, statements, and commands in the interactive shell and see the output immediately. This is a great way to experiment with Python code, test small snippets, and learn how Python works.\n",
    "\n",
    "To exit the interactive Python session, you can type `exit()` or press `Ctrl+D` (on macOS and Linux) or `Ctrl+Z` (on Windows).\n"
   ]
  },
  {
   "cell_type": "markdown",
   "metadata": {},
   "source": [
    "### IPython"
   ]
  },
  {
   "cell_type": "markdown",
   "metadata": {},
   "source": [
    "IPython is an enhanced interactive Python shell that provides additional features and capabilities compared to the standard Python shell. You can install IPython using `pip` (Python's package manager) by running the following command:\n",
    "\n",
    "```bash\n",
    "pip install ipython\n",
    "```\n",
    "\n",
    "Once installed, you can start an IPython session by typing `ipython` in the terminal or command prompt. IPython provides features like tab completion, syntax highlighting, magic commands, and more, making it a powerful tool for interactive Python programming.\n",
    "\n",
    "Magic commands are special commands that start with `%` or `%%` and provide additional functionality in IPython. For example, you can use `%timeit` to measure the execution time of a Python statement or expression.\n",
    "\n",
    "Here's an example of using the `%timeit` magic command in IPython:\n",
    "\n",
    "```python\n",
    "In [1]: %timeit sum(range(1000))\n",
    "10000 loops, best of 5: 20.3 µs per loop\n",
    "```\n",
    "\n",
    "IPython is a popular choice for interactive Python programming and data analysis due to its rich features and capabilities.\n"
   ]
  },
  {
   "cell_type": "markdown",
   "metadata": {},
   "source": [
    "## Script Mode\n",
    "\n",
    "In script mode, you can write Python code in a text file (with a `.py` extension) and run it using the Python interpreter. This allows you to create reusable scripts, modules, and programs that can be executed from the command line or terminal.\n",
    "\n",
    "Here's an example of a simple Python script that prints \"Hello, World!\" to the console:\n",
    "\n",
    "```python\n",
    "# hello.py\n",
    "print(\"Hello, World!\")\n",
    "```\n",
    "\n",
    "To run the script, save it to a file named `hello.py` and run the following command in the terminal or command prompt:\n",
    "\n",
    "```bash\n",
    "python hello.py\n",
    "```\n",
    "\n",
    "This will execute the Python script and display the output:\n",
    "\n",
    "```\n",
    "Hello, World!\n",
    "```\n",
    "\n",
    "You can create and run Python scripts for various purposes, such as automation, data processing, web scraping, and more. Python scripts are a powerful way to automate tasks, build applications, and solve real-world problems.\n"
   ]
  },
  {
   "cell_type": "markdown",
   "metadata": {},
   "source": [
    "# How Setup your Python Environment"
   ]
  },
  {
   "cell_type": "markdown",
   "metadata": {},
   "source": [
    "## Virtual Environments"
   ]
  },
  {
   "cell_type": "markdown",
   "metadata": {},
   "source": [
    "A virtual environment is a self-contained directory that contains a Python installation and libraries specific to a project. Virtual environments allow you to isolate project dependencies, avoid conflicts between different projects, and manage package versions effectively.\n",
    "\n",
    "You can create a virtual environment using the `venv` module, which is included in the Python standard library. To create a virtual environment, run the following command in the terminal or command prompt:\n",
    "\n",
    "```bash\n",
    "python -m venv myenv\n",
    "```\n",
    "\n",
    "This will create a new virtual environment named `myenv` in the current directory. You can activate the virtual environment by running the appropriate activation script for your operating system:\n",
    "\n",
    "- **macOS and Linux:**\n",
    "  ```bash\n",
    "  source myenv/bin/activate\n",
    "  ```\n",
    "- **Windows:**\n",
    "  ```bash\n",
    "  myenv\\Scripts\\activate\n",
    "  ```\n",
    "\n",
    "Once the virtual environment is activated, you can install packages and libraries specific to your project without affecting the global Python installation. To install a package, you can use `pip` as follows:\n",
    "\n",
    "```bash\n",
    "pip install package_name\n",
    "```\n",
    "\n",
    "You can list the installed packages in the virtual environment using the following command:\n",
    "\n",
    "```bash\n",
    "pip list\n",
    "```\n",
    "\n",
    "To deactivate the virtual environment and return to the global Python installation, you can run the `deactivate` command in the terminal or command prompt.\n",
    "\n",
    "Virtual environments are a best practice in Python development and help you manage project dependencies, ensure reproducibility, and maintain a clean and organized development environment.\n"
   ]
  },
  {
   "cell_type": "markdown",
   "metadata": {},
   "source": [
    "## Anaconda"
   ]
  },
  {
   "cell_type": "markdown",
   "metadata": {},
   "source": [
    "Anaconda is a popular distribution of Python that comes with many pre-installed libraries and tools for data science, machine learning, and scientific computing. Anaconda includes the conda package manager, which allows you to create and manage virtual environments, install packages, and maintain dependencies effectively.\n",
    "\n",
    "You can download Anaconda from the official website: [Anaconda Download](https://www.anaconda.com/download/success)\n",
    "\n",
    "Once installed, you can create a new virtual environment using conda by running the following command:\n",
    "\n",
    "```bash\n",
    "conda create --name myenv\n",
    "```\n",
    "\n",
    "This will create a new virtual environment named `myenv` using conda. You can activate the environment using the following command:\n",
    "\n",
    "```bash\n",
    "conda activate myenv\n",
    "```\n",
    "\n",
    "To install packages in the conda environment, you can use the `conda install` command:\n",
    "\n",
    "```bash\n",
    "conda install package_name\n",
    "```\n",
    "\n",
    "You can list the installed packages in the conda environment using the following command:\n",
    "\n",
    "```bash\n",
    "conda list\n",
    "```\n",
    "\n",
    "To deactivate the conda environment and return to the base environment, you can run the following command:\n",
    "\n",
    "```bash\n",
    "conda deactivate\n",
    "```\n",
    "\n",
    "Anaconda is a powerful tool for Python development, data science, and scientific computing, providing a comprehensive set of libraries, tools, and environments to support your projects.\n",
    "\n",
    "You can use Anaconda Navigator, a graphical user interface (GUI) included with Anaconda, to manage environments, install packages, and launch applications easily. Anaconda Navigator provides a user-friendly interface for working with Python environments and packages, making it a great choice for beginners and experienced developers alike.\n",
    "\n",
    "You can learn how to use anaconda by visiting the official website: [Anaconda Documentation](https://docs.anaconda.com/)"
   ]
  },
  {
   "cell_type": "markdown",
   "metadata": {},
   "source": [
    "## Jupyter Notebooks"
   ]
  },
  {
   "cell_type": "markdown",
   "metadata": {},
   "source": [
    "Jupyter Notebooks are interactive documents that contain code, text, images, and visualizations. Jupyter Notebooks allow you to write and run Python code in a web-based environment, making it easy to experiment, document, and share your work.\n",
    "\n",
    "You can install Jupyter Notebooks using `pip` by running the following command:\n",
    "\n",
    "```bash\n",
    "pip install jupyter\n",
    "```\n",
    "\n",
    "Once installed, you can start a Jupyter Notebook server by running the following command in the terminal or command prompt:\n",
    "\n",
    "```bash\n",
    "jupyter notebook\n",
    "```\n",
    "\n",
    "This will start the Jupyter Notebook server and open a new tab in your web browser with the Jupyter interface. From the Jupyter interface, you can create new notebooks, write and run Python code, add text and images, create visualizations, and more.\n",
    "\n",
    "Jupyter Notebooks are widely used in data science, machine learning, scientific computing, and education due to their interactive and visual nature. You can use Jupyter Notebooks to explore data, prototype algorithms, create reports, and share your work with others.\n",
    "\n",
    "You can learn more about Jupyter Notebooks by visiting the official website: [Jupyter Documentation](https://jupyter.org/documentation)\n",
    "\n",
    "You can also use JupyterLab, an advanced interactive development environment (IDE) that provides additional features and capabilities compared to Jupyter Notebooks. JupyterLab allows you to work with notebooks, text files, terminals, and other resources in a flexible and customizable environment.\n",
    "\n",
    "You can install JupyterLab using `pip` by running the following command:\n",
    "\n",
    "```bash\n",
    "pip install jupyterlab\n",
    "```\n",
    "\n",
    "Once installed, you can start JupyterLab by running the following command in the terminal or command prompt:\n",
    "\n",
    "```bash\n",
    "jupyter lab\n",
    "```\n",
    "\n",
    "This will start the JupyterLab server and open a new tab in your web browser with the JupyterLab interface. From JupyterLab, you can create and work with notebooks, text files, terminals, and other resources in a unified and powerful environment.\n",
    "\n",
    "JupyterLab is a versatile tool for interactive Python programming, data analysis, and scientific computing, providing a modern and feature-rich IDE for working with Jupyter Notebooks and other file formats.\n",
    "\n",
    "You can use Jupyter Notebook and JupyterLab from Anaconda Navigator, which provides an easy-to-use interface for launching and managing Jupyter environments. Anaconda Navigator allows you to work with Jupyter Notebooks, JupyterLab, and other tools in a unified and integrated environment, making it a convenient choice for Python development and data science.\n",
    "\n"
   ]
  },
  {
   "cell_type": "markdown",
   "metadata": {},
   "source": [
    "## Python Packages"
   ]
  },
  {
   "cell_type": "markdown",
   "metadata": {},
   "source": [
    "Python packages are collections of modules that provide additional functionality and features to your Python programs. You can install packages using `pip` (Python's package manager) or `conda` (Anaconda's package manager) to extend the capabilities of Python and build powerful applications.\n",
    "\n",
    "Here are some popular Python packages that you may find useful:\n",
    "\n",
    "- **NumPy:** NumPy is a powerful library for numerical computing in Python, providing support for arrays, matrices, and mathematical functions.\n",
    "- **Pandas:** Pandas is a data manipulation and analysis library for Python, offering data structures like DataFrames and Series for working with structured data.\n",
    "- **Matplotlib:** Matplotlib is a plotting library for Python that allows you to create visualizations like line plots, bar charts, histograms, and more.\n",
    "- **Scikit-learn:** Scikit-learn is a machine learning library for Python that provides tools for classification, regression, clustering, and more.\n",
    "- **TensorFlow:** TensorFlow is an open-source machine learning framework developed by Google for building and training deep learning models.\n",
    "- **PyTorch:** PyTorch is an open-source machine learning library developed by Facebook for building and training deep learning models.\n",
    "- **Django:** Django is a high-level web framework for Python that simplifies web development by providing tools for building web applications quickly and efficiently.\n",
    "and many more... \n",
    "\n",
    "You can install Python packages using `pip` by running the following command:\n",
    "\n",
    "```bash\n",
    "pip install package_name\n",
    "```\n",
    "\n",
    "For example, to install NumPy, you can run the following command:\n",
    "\n",
    "```bash\n",
    "pip install numpy\n",
    "```\n",
    "\n",
    "You can install specific versions of packages by specifying the version number after the package name. For example, to install NumPy version 1.20.3, you can run the following command:\n",
    "\n",
    "```bash\n",
    "pip install numpy==1.20.3\n",
    "```\n",
    "\n",
    "You can also install packages from a requirements file that lists the package names and versions. For example, you can create a `requirements.txt` file with the following contents:\n",
    "\n",
    "```\n",
    "numpy==1.20.3\n",
    "pandas==1.2.4\n",
    "matplotlib==3.4.2\n",
    "```\n",
    "\n",
    "and install the packages listed in the file using the following command:\n",
    "\n",
    "```bash\n",
    "pip install -r requirements.txt\n",
    "```\n",
    "\n",
    "Python packages are essential for extending the functionality of Python, building applications, and solving real-world problems. You can explore the Python Package Index (PyPI) to discover thousands of packages available for various purposes and applications.\n",
    "\n",
    "You can learn more about Python packages and libraries by visiting the official Python Package Index (PyPI) website: [PyPI](https://pypi.org/)\n"
   ]
  },
  {
   "cell_type": "markdown",
   "metadata": {},
   "source": [
    "# References\n",
    "\n",
    "- [Python Documentation](https://docs.python.org/3/)\n",
    "- [Python Package Index (PyPI)](https://pypi.org/)\n",
    "- [Anaconda Documentation](https://docs.anaconda.com/)\n",
    "- [Jupyter Documentation](https://jupyter.org/documentation)\n",
    "- [Python Virtual Environments](https://docs.python.org/3/library/venv.html)\n",
    "- [Python History](https://en.wikipedia.org/wiki/History_of_Python)\n",
    "- [Python Crash Course, 2nd Edition: A Hands-On, Project-Based Introduction to Programming 2nd Edition](https://www.amazon.com/Python-Crash-Course-2nd-Edition/dp/1593279280/ref=sr_1_1?keywords=python+crash+course&qid=1640574418&sprefix=python+crash+%2Caps%2C82&sr=8-1)\n",
    "- [GitHub Repository AraBigData/python](https://github.com/ahmedsami76/AraBigData/tree/main/python)"
   ]
  },
  {
   "cell_type": "markdown",
   "metadata": {},
   "source": [
    "# The Zen of Python"
   ]
  },
  {
   "cell_type": "code",
   "execution_count": 13,
   "metadata": {},
   "outputs": [
    {
     "name": "stdout",
     "output_type": "stream",
     "text": [
      "Gur Mra bs Clguba, ol Gvz Crgref\n",
      "\n",
      "Ornhgvshy vf orggre guna htyl.\n",
      "Rkcyvpvg vf orggre guna vzcyvpvg.\n",
      "Fvzcyr vf orggre guna pbzcyrk.\n",
      "Pbzcyrk vf orggre guna pbzcyvpngrq.\n",
      "Syng vf orggre guna arfgrq.\n",
      "Fcnefr vf orggre guna qrafr.\n",
      "Ernqnovyvgl pbhagf.\n",
      "Fcrpvny pnfrf nera'g fcrpvny rabhtu gb oernx gur ehyrf.\n",
      "Nygubhtu cenpgvpnyvgl orngf chevgl.\n",
      "Reebef fubhyq arire cnff fvyragyl.\n",
      "Hayrff rkcyvpvgyl fvyraprq.\n",
      "Va gur snpr bs nzovthvgl, ershfr gur grzcgngvba gb thrff.\n",
      "Gurer fubhyq or bar-- naq cersrenoyl bayl bar --boivbhf jnl gb qb vg.\n",
      "Nygubhtu gung jnl znl abg or boivbhf ng svefg hayrff lbh'er Qhgpu.\n",
      "Abj vf orggre guna arire.\n",
      "Nygubhtu arire vf bsgra orggre guna *evtug* abj.\n",
      "Vs gur vzcyrzragngvba vf uneq gb rkcynva, vg'f n onq vqrn.\n",
      "Vs gur vzcyrzragngvba vf rnfl gb rkcynva, vg znl or n tbbq vqrn.\n",
      "Anzrfcnprf ner bar ubaxvat terng vqrn -- yrg'f qb zber bs gubfr!\n"
     ]
    }
   ],
   "source": [
    "# Zen of Python is  a collection of 19 software principles.\n",
    "# That influence the design of the Python programming language.\n",
    "\n",
    "import this \n",
    "print(this.s)"
   ]
  },
  {
   "cell_type": "markdown",
   "metadata": {},
   "source": [
    "# Print()"
   ]
  },
  {
   "cell_type": "code",
   "execution_count": 11,
   "metadata": {},
   "outputs": [
    {
     "name": "stdout",
     "output_type": "stream",
     "text": [
      "Hello, World!\n",
      "Hello, World! 42\n",
      "Hello, World! - 42\n",
      "Hello, World! - 42.Hello, World! - 42\n",
      "I_Love_Python_Programming!!"
     ]
    }
   ],
   "source": [
    "# Print() is a function in Python 3 that prints to the console or terminal window. \n",
    "# It is used to display the output of a program.\n",
    "# The print() function prints the specified message to the screen, or other standard output device.\n",
    "# The message can be a string, or any other object, the object will be converted into a string before written to the screen.\n",
    "# Syntax: print(object(s), sep=separator, end=end, file=file, flush=flush)\n",
    "# object(s) : Any object, and as many as you like. Will be converted to string before printed\n",
    "# sep= separator : Specify how to separate the objects, if there is more than one.Default is ' '\n",
    "# end= end : Specify what to print at the end.Default is '\\n'\n",
    "\n",
    "# Print a string\n",
    "print(\"Hello, World!\")\n",
    "\n",
    "# Print a string and a number\n",
    "print(\"Hello, World!\", 42)\n",
    "\n",
    "# Print a string and a number with a separator\n",
    "print(\"Hello, World!\", 42, sep=\" - \")\n",
    "\n",
    "# Print a string and a number with a separator and an end a period (.) \n",
    "print(\"Hello, World!\", 42, sep=\" - \", end=\".\")\n",
    "\n",
    "# Print a string and a number with a separator and an end a new line\n",
    "print(\"Hello, World!\", 42, sep=\" - \", end=\"\\n\")\n",
    "\n",
    "print('I', 'Love', 'Python', 'Programming', sep='_', end='!!')"
   ]
  },
  {
   "cell_type": "markdown",
   "metadata": {},
   "source": [
    "# Comments"
   ]
  },
  {
   "cell_type": "markdown",
   "metadata": {},
   "source": [
    "Comments are an extremely useful feature in most programming languages. Everything you’ve written in your programs so far is Python code. As your programs become longer and more complicated, you should add notes within your programs that describe your overall approach to the problem you’re solving. A comment allows you to write notes in English within your programs.\n",
    "\n",
    "**How Do You Write Comments?**\n",
    "\n",
    "In Python, the hash mark (#) indicates a comment. Anything following a hash mark in your code is ignored by the Python interpreter. For example:"
   ]
  },
  {
   "cell_type": "code",
   "execution_count": 117,
   "metadata": {},
   "outputs": [
    {
     "name": "stdout",
     "output_type": "stream",
     "text": [
      "Hello Python people!\n"
     ]
    }
   ],
   "source": [
    "# Say hello to everyone.\n",
    "print(\"Hello Python people!\")"
   ]
  },
  {
   "cell_type": "markdown",
   "metadata": {},
   "source": [
    "Python ignores the first line and executes the second line. "
   ]
  },
  {
   "cell_type": "markdown",
   "metadata": {},
   "source": [
    "**What Kind of Comments Should You Write?**\n",
    "\n",
    "The main reason to write comments is to explain what your code is supposed to do and how you are making it work. When you’re in the middle of working on a project, you understand how all of the pieces fit together. But when you return to a project after some time away, you’ll likely have forgotten some of the details. You can always study your code for a while and figure out how segments were supposed to work, but writing good comments can save you time by summarizing your overall approach in clear English."
   ]
  },
  {
   "cell_type": "markdown",
   "metadata": {},
   "source": [
    "**Try It Yourself**\n",
    "\n",
    "1. Adding Comments: Choose two of the programs you’ve written, and add at least one comment to each. If you don’t have anything specific to write because your programs are too simple at this point, just add your name and the current date at the top of each program file. Then write one sentence \n",
    "describing what the program does."
   ]
  },
  {
   "cell_type": "markdown",
   "metadata": {},
   "source": [
    "# Variable and Sample Data Types\n"
   ]
  },
  {
   "cell_type": "markdown",
   "metadata": {},
   "source": [
    "In this chapter you’ll learn about the different kinds of data you can work with in your Python programs. You’ll also learn how to use variables to represent data in your programs."
   ]
  },
  {
   "cell_type": "markdown",
   "metadata": {},
   "source": [
    "## Variables "
   ]
  },
  {
   "cell_type": "markdown",
   "metadata": {},
   "source": [
    "Variables are used to store information to be referenced and manipulated in a computer program. They also provide a way of labeling data with a descriptive name, so our programs can be understood more clearly by the reader and ourselves. It is helpful to think of variables as containers that hold information. Their sole purpose is to label and store data in memory. This data can then be used throughout your program."
   ]
  },
  {
   "cell_type": "markdown",
   "metadata": {},
   "source": [
    "### Variable Names"
   ]
  },
  {
   "cell_type": "markdown",
   "metadata": {},
   "source": [
    "Variable names in Python can contain alphanumerical characters `a-z`, `A-Z`, `0-9` and some special characters such as `_`. Normal variable names must start with a letter. By convention, variable names start with a lowercase letter, and Class names start with a capital letter. In addition, there are a number of Python keywords that cannot be used as variable names. These keywords are:\n",
    "\n",
    "```\n",
    "and, as, assert, break, class, continue, def, del, elif, else, except,\n",
    "exec, finally, for, from, global, if, import, in, is, lambda, not, or,\n",
    "pass, print, raise, return, try, while, with, yield\n",
    "```\n",
    "\n",
    "Variable names are case-sensitive.\n",
    "\n",
    "**Standard Python conventions**\n",
    "\n",
    "- Variables should be in snake_case (underscores between words)\n",
    "- Constants should be in CAPITAL_SNAKE_CASE\n",
    "- Classes should be in CamelCase\n",
    "- Avoid using Python built-in keywords for variable names\n",
    "- Avoid using single lowercase `l` and uppercase `O` as variable names, as they can be confused with `1` and `0`.\n",
    "- Avoid using abbreviations\n",
    "- Be descriptive with your variable names\n",
    "- Use nouns for variable names\n",
    "- Use verbs for function names\n",
    "- Use `all_caps` for global constants\n",
    "- Use `leading_underscore` for non-public methods and instance variables\n",
    "- Use `trailing_underscore_` for avoiding naming conflicts with Python keywords\n",
    "- Use `single_trailing_underscore_` for naming classes to avoid conflicts with Python built-in names\n",
    "\n",
    "**snake_case**\n",
    "\n",
    "```python\n",
    "user_name = \"Ahmed\"\n",
    "age = 25\n",
    "is_student = True\n",
    "```\n",
    "**Constants**\n",
    "\n",
    "```python\n",
    "PI = 3.14\n",
    "GRAVITY = 9.8\n",
    "```\n",
    "\n",
    "**CamelCase**\n",
    "\n",
    "```python\n",
    "\n",
    "class MyClass:\n",
    "\tdef myMethod(self):\n",
    "\t\tpass\n",
    "```"
   ]
  },
  {
   "cell_type": "code",
   "execution_count": 9,
   "metadata": {},
   "outputs": [
    {
     "name": "stdout",
     "output_type": "stream",
     "text": [
      "['False', 'None', 'True', 'and', 'as', 'assert', 'async', 'await', 'break', 'class', 'continue', 'def', 'del', 'elif', 'else', 'except', 'finally', 'for', 'from', 'global', 'if', 'import', 'in', 'is', 'lambda', 'nonlocal', 'not', 'or', 'pass', 'raise', 'return', 'try', 'while', 'with', 'yield']\n"
     ]
    }
   ],
   "source": [
    "# Keywords are the reserved words in Python.\n",
    "import keyword\n",
    "\n",
    "print(keyword.kwlist)"
   ]
  },
  {
   "cell_type": "markdown",
   "metadata": {},
   "source": [
    "### Assigning Values to Variables"
   ]
  },
  {
   "cell_type": "markdown",
   "metadata": {},
   "source": [
    "Python variables do not need explicit declaration to reserve memory space. The declaration happens automatically when you assign a value to a variable. The `=` operator is used to assign a value to a variable.\n",
    "\n",
    "The operand to the left of the `=` operator is the name of the variable and the operand to the right of the `=` operator is the value stored in the variable.\n",
    "\n",
    "For example:\n",
    "\n",
    "```python\n",
    "\n",
    "# Assigning a value to a variable\n",
    "x = 5\n",
    "y = 10\n",
    "name = \"Alice\"\n",
    "```\n",
    "\n",
    "In the example above, we assigned the value `5` to the variable `x`, the value `10` to the variable `y`, and the string `\"Alice\"` to the variable `name`.\n",
    "\n",
    "You can also assign the same value to multiple variables in a single line:\n",
    "\n",
    "```python\n",
    "x = y = z = 0\n",
    "```\n",
    "\n",
    "In the example above, we assigned the value `0` to the variables `x`, `y`, and `z` in a single line.\n",
    "\n"
   ]
  },
  {
   "cell_type": "code",
   "execution_count": 36,
   "metadata": {},
   "outputs": [
    {
     "name": "stdout",
     "output_type": "stream",
     "text": [
      "User Full name: Mohamed Ismail, and User age: 25\n",
      "User Full name: Mohamed Ismail, and User age: 25."
     ]
    }
   ],
   "source": [
    "first_name = 'Mohamed'\n",
    "last_name = 'Ismail'\n",
    "user_age = 25\n",
    "\n",
    "print(f'User Full name: {first_name} {last_name}, and User age: {user_age}')\n",
    "print(f'User Full name: {first_name} {last_name}', f'and User age: {user_age}', sep=', ', end='.')"
   ]
  },
  {
   "cell_type": "markdown",
   "metadata": {},
   "source": [
    "**Multiple Assignment**"
   ]
  },
  {
   "cell_type": "code",
   "execution_count": 67,
   "metadata": {},
   "outputs": [],
   "source": [
    "x = y = z = 15 # Assign the same value to multiple variables in one line"
   ]
  },
  {
   "cell_type": "code",
   "execution_count": 64,
   "metadata": {},
   "outputs": [
    {
     "data": {
      "text/plain": [
       "15"
      ]
     },
     "execution_count": 64,
     "metadata": {},
     "output_type": "execute_result"
    }
   ],
   "source": [
    "x"
   ]
  },
  {
   "cell_type": "code",
   "execution_count": 65,
   "metadata": {},
   "outputs": [
    {
     "data": {
      "text/plain": [
       "15"
      ]
     },
     "execution_count": 65,
     "metadata": {},
     "output_type": "execute_result"
    }
   ],
   "source": [
    "y"
   ]
  },
  {
   "cell_type": "code",
   "execution_count": 66,
   "metadata": {},
   "outputs": [
    {
     "data": {
      "text/plain": [
       "15"
      ]
     },
     "execution_count": 66,
     "metadata": {},
     "output_type": "execute_result"
    }
   ],
   "source": [
    "z"
   ]
  },
  {
   "cell_type": "markdown",
   "metadata": {},
   "source": [
    "You can assign values to more than one variable using just a single line. This can help shorten your programs and make them easier to read; you’ll use this technique most often when initializing a set of numbers."
   ]
  },
  {
   "cell_type": "code",
   "execution_count": 110,
   "metadata": {},
   "outputs": [],
   "source": [
    "x, y, z = 1, 2, 3"
   ]
  },
  {
   "cell_type": "code",
   "execution_count": 111,
   "metadata": {},
   "outputs": [
    {
     "data": {
      "text/plain": [
       "1"
      ]
     },
     "execution_count": 111,
     "metadata": {},
     "output_type": "execute_result"
    }
   ],
   "source": [
    "x"
   ]
  },
  {
   "cell_type": "code",
   "execution_count": 112,
   "metadata": {},
   "outputs": [
    {
     "data": {
      "text/plain": [
       "2"
      ]
     },
     "execution_count": 112,
     "metadata": {},
     "output_type": "execute_result"
    }
   ],
   "source": [
    "y"
   ]
  },
  {
   "cell_type": "code",
   "execution_count": 113,
   "metadata": {},
   "outputs": [
    {
     "data": {
      "text/plain": [
       "3"
      ]
     },
     "execution_count": 113,
     "metadata": {},
     "output_type": "execute_result"
    }
   ],
   "source": [
    "z"
   ]
  },
  {
   "cell_type": "markdown",
   "metadata": {},
   "source": [
    "**Try your Self**\n",
    "\n",
    "1. Simple Message: Assign a message to a variable, and then print that \n",
    "message.\n",
    "2. Simple Messages: Assign a message to a variable, and print that message. \n",
    "Then change the value of the variable to a new message, and print the new \n",
    "message"
   ]
  },
  {
   "cell_type": "code",
   "execution_count": 18,
   "metadata": {},
   "outputs": [],
   "source": [
    "# do Your code here "
   ]
  },
  {
   "cell_type": "markdown",
   "metadata": {},
   "source": [
    "## Data Types"
   ]
  },
  {
   "cell_type": "markdown",
   "metadata": {},
   "source": [
    "### Strings "
   ]
  },
  {
   "cell_type": "markdown",
   "metadata": {},
   "source": [
    "Because most programs define and gather some sort of data, and then do \n",
    "something useful with it, it helps to classify different types of data. The first \n",
    "data type we’ll look at is the string. Strings are quite simple at first glance, \n",
    "but you can use them in many different ways.\n",
    "A string is a series of characters. Anything inside quotes is considered \n",
    "a string in Python, and you can use single or double quotes around your \n",
    "strings like this: "
   ]
  },
  {
   "cell_type": "code",
   "execution_count": 21,
   "metadata": {},
   "outputs": [
    {
     "data": {
      "text/plain": [
       "'This is a string.'"
      ]
     },
     "execution_count": 21,
     "metadata": {},
     "output_type": "execute_result"
    }
   ],
   "source": [
    "\"This is a string.\""
   ]
  },
  {
   "cell_type": "code",
   "execution_count": 20,
   "metadata": {},
   "outputs": [
    {
     "data": {
      "text/plain": [
       "'This is also a string.'"
      ]
     },
     "execution_count": 20,
     "metadata": {},
     "output_type": "execute_result"
    }
   ],
   "source": [
    "'This is also a string.'"
   ]
  },
  {
   "cell_type": "markdown",
   "metadata": {},
   "source": [
    "This flexibility allows you to use quotes and apostrophes within your \n",
    "strings:"
   ]
  },
  {
   "cell_type": "code",
   "execution_count": 22,
   "metadata": {},
   "outputs": [
    {
     "data": {
      "text/plain": [
       "'I told my friend, \"Python is my favorite language!\"'"
      ]
     },
     "execution_count": 22,
     "metadata": {},
     "output_type": "execute_result"
    }
   ],
   "source": [
    "'I told my friend, \"Python is my favorite language!\"'"
   ]
  },
  {
   "cell_type": "code",
   "execution_count": 23,
   "metadata": {},
   "outputs": [
    {
     "data": {
      "text/plain": [
       "\"The language 'Python' is named after Monty Python, not the snake.\""
      ]
     },
     "execution_count": 23,
     "metadata": {},
     "output_type": "execute_result"
    }
   ],
   "source": [
    "\"The language 'Python' is named after Monty Python, not the snake.\""
   ]
  },
  {
   "cell_type": "code",
   "execution_count": 24,
   "metadata": {},
   "outputs": [
    {
     "data": {
      "text/plain": [
       "\"One of Python's strengths is its diverse and supportive community.\""
      ]
     },
     "execution_count": 24,
     "metadata": {},
     "output_type": "execute_result"
    }
   ],
   "source": [
    "\"One of Python's strengths is its diverse and supportive community.\""
   ]
  },
  {
   "cell_type": "code",
   "execution_count": 68,
   "metadata": {},
   "outputs": [
    {
     "data": {
      "text/plain": [
       "'Display \"hi\" and \\'bye\\' in quotes'"
      ]
     },
     "execution_count": 68,
     "metadata": {},
     "output_type": "execute_result"
    }
   ],
   "source": [
    "### Triple-quoted strings\n",
    "\"\"\"Display \"hi\" and 'bye' in quotes\"\"\"\n"
   ]
  },
  {
   "cell_type": "code",
   "execution_count": 70,
   "metadata": {},
   "outputs": [
    {
     "name": "stdout",
     "output_type": "stream",
     "text": [
      "This is a triple-quoted\n",
      "string that spans two lines\n"
     ]
    }
   ],
   "source": [
    "triple_quoted_string = \"\"\"This is a triple-quoted\n",
    "string that spans two lines\"\"\"\n",
    "print(triple_quoted_string)\n"
   ]
  },
  {
   "cell_type": "code",
   "execution_count": 71,
   "metadata": {},
   "outputs": [
    {
     "data": {
      "text/plain": [
       "'This is a triple-quoted\\nstring that spans two lines'"
      ]
     },
     "execution_count": 71,
     "metadata": {},
     "output_type": "execute_result"
    }
   ],
   "source": [
    "triple_quoted_string\n"
   ]
  },
  {
   "cell_type": "code",
   "execution_count": 72,
   "metadata": {},
   "outputs": [
    {
     "name": "stdout",
     "output_type": "stream",
     "text": [
      "This is a triple-quoted\n",
      "string that spans two lines\n"
     ]
    }
   ],
   "source": [
    "print('This is a triple-quoted\\nstring that spans two lines')"
   ]
  },
  {
   "cell_type": "markdown",
   "metadata": {},
   "source": [
    "Let’s explore some of the ways you can use strings."
   ]
  },
  {
   "cell_type": "markdown",
   "metadata": {},
   "source": [
    "**Changing Case in a String with Methods**\n",
    "\n",
    "One of the simplest tasks you can do with strings is change the case of the \n",
    "words in a string. Look at the following code, and try to determine what’s \n",
    "happening:"
   ]
  },
  {
   "cell_type": "code",
   "execution_count": 25,
   "metadata": {},
   "outputs": [
    {
     "name": "stdout",
     "output_type": "stream",
     "text": [
      "Mohamed Ismail\n"
     ]
    }
   ],
   "source": [
    "user_name = 'mohamed ismail'\n",
    "print(user_name.title()) # Mohamed Ismail"
   ]
  },
  {
   "cell_type": "markdown",
   "metadata": {},
   "source": [
    "```The title()``` method changes each word to title case, where each word \n",
    "begins with a capital letter. This is useful because you’ll often want to think \n",
    "of a name as a piece of information."
   ]
  },
  {
   "cell_type": "markdown",
   "metadata": {},
   "source": [
    "Several other useful methods are available for dealing with case as \n",
    "well. For example, you can change a string to all uppercase or all lowercase \n",
    "letters like this:"
   ]
  },
  {
   "cell_type": "code",
   "execution_count": 26,
   "metadata": {},
   "outputs": [
    {
     "name": "stdout",
     "output_type": "stream",
     "text": [
      "MOHAMED ISMAIL\n"
     ]
    }
   ],
   "source": [
    "print(user_name.upper()) # MOHAMED ISMAIL"
   ]
  },
  {
   "cell_type": "code",
   "execution_count": 27,
   "metadata": {},
   "outputs": [
    {
     "name": "stdout",
     "output_type": "stream",
     "text": [
      "giza\n"
     ]
    }
   ],
   "source": [
    "city = 'GIZA'\n",
    "print(city.lower()) # giza"
   ]
  },
  {
   "cell_type": "markdown",
   "metadata": {},
   "source": [
    "```The lower()``` method is particularly useful for storing data. Many times \n",
    "you won’t want to trust the capitalization that your users provide, so you’ll \n",
    "convert strings to lowercase before storing them. Then when you want to \n",
    "display the information, you’ll use the case that makes the most sense for \n",
    "each string."
   ]
  },
  {
   "cell_type": "markdown",
   "metadata": {},
   "source": [
    "**Using Variables in Strings**\n",
    "\n",
    "In some situations, you’ll want to use a variable’s value inside a string. For \n",
    "example, you might want two variables to represent a first name and a last \n",
    "name respectively, and then want to combine those values to display someone’s full name:"
   ]
  },
  {
   "cell_type": "markdown",
   "metadata": {},
   "source": [
    "f-strings were introduced in Python 3.6. They provide a way to embed expressions inside string literals, using curly braces `{}`."
   ]
  },
  {
   "cell_type": "code",
   "execution_count": 37,
   "metadata": {},
   "outputs": [
    {
     "name": "stdout",
     "output_type": "stream",
     "text": [
      "User Full name: Mohamed Ismail, and User age: 25\n"
     ]
    }
   ],
   "source": [
    "first_name = 'Mohamed'\n",
    "last_name = 'Ismail'\n",
    "user_age = 25\n",
    "\n",
    "print(f'User Full name: {first_name} {last_name}, and User age: {user_age}')"
   ]
  },
  {
   "cell_type": "code",
   "execution_count": 43,
   "metadata": {},
   "outputs": [
    {
     "name": "stdout",
     "output_type": "stream",
     "text": [
      "Hello, Ada Lovelace!\n"
     ]
    }
   ],
   "source": [
    "first_name = \"ada\"\n",
    "last_name = \"lovelace\"\n",
    "full_name = f\"{first_name} {last_name}\"\n",
    "print(f\"Hello, {full_name.title()}!\")"
   ]
  },
  {
   "cell_type": "markdown",
   "metadata": {},
   "source": [
    "**.format()**\n",
    "\n",
    "If you’re using Python 3.5 or earlier, \n",
    "you’ll need to use the format() method rather than this f syntax. To use format(), list \n",
    "the variables you want to use in the string inside the parentheses following format. \n",
    "Each variable is referred to by a set of braces; the braces will be filled by the values \n",
    "listed in parentheses in the order provided:"
   ]
  },
  {
   "cell_type": "code",
   "execution_count": 39,
   "metadata": {},
   "outputs": [
    {
     "name": "stdout",
     "output_type": "stream",
     "text": [
      "User Full name: Mohamed Ismail, and User age: 25\n"
     ]
    }
   ],
   "source": [
    "print('User Full name: {} {}, and User age: {}'.format(first_name, last_name, user_age)) "
   ]
  },
  {
   "cell_type": "markdown",
   "metadata": {},
   "source": [
    "**Escape Characters**"
   ]
  },
  {
   "cell_type": "markdown",
   "metadata": {},
   "source": [
    "\\ is the escape character. It tells Python to ignore the special meaning of the character that follows it. For example, the single quote in the string 'I\\'m' is not interpreted as the end of the string. Instead, it’s considered part of the string. The same is true for the double quote in the string \"She said \\\"Hello\\\".\" The newline character \\n adds a new line, and the tab character \\t adds a tab.\n",
    "\n",
    "**some Escape characters**\n",
    "\n",
    "![Escape Characters](images/3.png)"
   ]
  },
  {
   "cell_type": "markdown",
   "metadata": {},
   "source": [
    "**Adding Whitespace to Strings with Tabs or Newlines**"
   ]
  },
  {
   "cell_type": "markdown",
   "metadata": {},
   "source": [
    "In programming, whitespace refers to any nonprinting character, such as spaces, tabs, and end-of-line symbols. You can use whitespace to organize your output so it’s easier for users to read. For example, you can use spaces or tabs to align your output in columns. You can also use blank lines to separate sections of your output to make it easier to read.\n"
   ]
  },
  {
   "cell_type": "code",
   "execution_count": 44,
   "metadata": {},
   "outputs": [
    {
     "name": "stdout",
     "output_type": "stream",
     "text": [
      "python\n"
     ]
    }
   ],
   "source": [
    "print('python')"
   ]
  },
  {
   "cell_type": "code",
   "execution_count": 54,
   "metadata": {},
   "outputs": [
    {
     "name": "stdout",
     "output_type": "stream",
     "text": [
      "\tPython\n"
     ]
    }
   ],
   "source": [
    " print('\\tPython')"
   ]
  },
  {
   "cell_type": "markdown",
   "metadata": {},
   "source": [
    "To add a newline in a string, use the character combination \\n:"
   ]
  },
  {
   "cell_type": "code",
   "execution_count": 55,
   "metadata": {},
   "outputs": [
    {
     "name": "stdout",
     "output_type": "stream",
     "text": [
      "Languages:\n",
      "Python\n",
      "C\n",
      "JavaScript\n"
     ]
    }
   ],
   "source": [
    "print(\"Languages:\\nPython\\nC\\nJavaScript\")"
   ]
  },
  {
   "cell_type": "code",
   "execution_count": 56,
   "metadata": {},
   "outputs": [
    {
     "name": "stdout",
     "output_type": "stream",
     "text": [
      "Languages:\n",
      "\tPython\n",
      "\tC\n",
      "\tJavaScript\n"
     ]
    }
   ],
   "source": [
    "print(\"Languages:\\n\\tPython\\n\\tC\\n\\tJavaScript\")"
   ]
  },
  {
   "cell_type": "markdown",
   "metadata": {},
   "source": [
    "**Stripping Whitespace**\n",
    "\n",
    "Extra whitespace can be confusing in your programs. To programmers 'python' and 'python ' look pretty much the same. But to a program, they are two different strings. Python detects the extra space in 'python ' and considers it significant unless you tell it otherwise.\n",
    "\n",
    "It’s important to think about whitespace, because often you’ll want to compare two strings to determine whether they are the same. For example, one important instance might involve checking people’s usernames when they log in to a website. Extra whitespace can be confusing in much simpler \n",
    "situations as well. Fortunately, Python makes it easy to eliminate extraneous whitespace from data that people enter.Python can look for extra whitespace on the right and left sides of a \n",
    "string. To ensure that no whitespace exists at the right end of a string, use the rstrip() method."
   ]
  },
  {
   "cell_type": "markdown",
   "metadata": {},
   "source": [
    "Python can look for extra whitespace on the right and left sides of a string. To ensure that no whitespace exists at the right end of a string, use the ```rstrip()```, ```lstrip()``` methods"
   ]
  },
  {
   "cell_type": "code",
   "execution_count": 57,
   "metadata": {},
   "outputs": [
    {
     "name": "stdout",
     "output_type": "stream",
     "text": [
      "python \n"
     ]
    }
   ],
   "source": [
    "favorite_language = 'python\t' \n",
    "print(favorite_language)"
   ]
  },
  {
   "cell_type": "code",
   "execution_count": 58,
   "metadata": {},
   "outputs": [
    {
     "name": "stdout",
     "output_type": "stream",
     "text": [
      "python\n"
     ]
    }
   ],
   "source": [
    "print(favorite_language.rstrip())"
   ]
  },
  {
   "cell_type": "code",
   "execution_count": 59,
   "metadata": {},
   "outputs": [
    {
     "name": "stdout",
     "output_type": "stream",
     "text": [
      " python\n",
      "python \n"
     ]
    }
   ],
   "source": [
    "favorite_language = ' python '\n",
    "print(favorite_language.rstrip())\n",
    "print(favorite_language.lstrip())"
   ]
  },
  {
   "cell_type": "markdown",
   "metadata": {},
   "source": [
    "You can also strip whitespace from both sides at once using strip():"
   ]
  },
  {
   "cell_type": "code",
   "execution_count": 61,
   "metadata": {},
   "outputs": [
    {
     "name": "stdout",
     "output_type": "stream",
     "text": [
      " python \n",
      "python\n"
     ]
    }
   ],
   "source": [
    "favorite_language = ' python '\n",
    "print(favorite_language)\n",
    "print(favorite_language.strip())"
   ]
  },
  {
   "cell_type": "markdown",
   "metadata": {},
   "source": [
    "**concatenating strings**\n",
    "\n",
    " is to store them in variables, and then combine the variables in your print() statement. This is particularly useful when you’re working with a set of variables that you can change, and you want your changes reflected in your output."
   ]
  },
  {
   "cell_type": "code",
   "execution_count": 16,
   "metadata": {},
   "outputs": [
    {
     "name": "stdout",
     "output_type": "stream",
     "text": [
      "ada lovelace\n",
      "Hello, Ada Lovelace!\n"
     ]
    }
   ],
   "source": [
    "# Concatenation is the process of combining two strings.\n",
    "first_name = \"ada\"\n",
    "last_name = \"lovelace\"\n",
    "full_name = first_name + \" \" + last_name\n",
    "print(full_name)\n",
    "\n",
    "message = \"Hello, \" + full_name.title() + \"!\"\n",
    "print(message)\n",
    "\n"
   ]
  },
  {
   "cell_type": "markdown",
   "metadata": {},
   "source": [
    "**Try It Yourself**\n",
    "\n",
    "1. Personal Message: Use a variable to represent a person’s name, and print \n",
    "a message to that person. Your message should be simple, such as, “Hello Eric, \n",
    "would you like to learn some Python today?”\n",
    "1. Name Cases: Use a variable to represent a person’s name, and then print \n",
    "that person’s name in lowercase, uppercase, and title case.\n",
    "3. Famous Quote: Find a quote from a famous person you admire. Print the \n",
    "quote and the name of its author. Your output should look something like the \n",
    "following, including the quotation marks:\n",
    "Albert Einstein once said, “A person who never made a \n",
    "mistake never tried anything new.”\n",
    "3. Famous Quote 2: Repeat Exercise 3, but this time, represent the \n",
    "famous person’s name using a variable called famous_person. Then compose \n",
    "your message and represent it with a new variable called message. Print your \n",
    "message.\n",
    "4. Stripping Names: Use a variable to represent a person’s name, and include \n",
    "some whitespace characters at the beginning and end of the name. Make sure \n",
    "you use each character combination, \"\\t\" and \"\\n\", at least once.\n",
    "Print the name once, so the whitespace around the name is displayed. \n",
    "Then print the name using each of the three stripping functions, lstrip(), \n",
    "rstrip(), and strip()"
   ]
  },
  {
   "cell_type": "code",
   "execution_count": 62,
   "metadata": {},
   "outputs": [],
   "source": [
    "# do your code here"
   ]
  },
  {
   "cell_type": "markdown",
   "metadata": {},
   "source": [
    "### Numbers"
   ]
  },
  {
   "cell_type": "markdown",
   "metadata": {},
   "source": [
    "Numbers are used quite often in programming to keep score in games, represent data in visualizations, store information in web applications, and so on. Python treats numbers in several different ways, depending on how they’re being used. Let’s first look at how Python manages integers, because they’re the simplest to work with"
   ]
  },
  {
   "cell_type": "markdown",
   "metadata": {},
   "source": [
    "#### Integers"
   ]
  },
  {
   "cell_type": "markdown",
   "metadata": {},
   "source": [
    "You can add \n",
    "\n",
    "- (+), \n",
    "- subtract (-), \n",
    "- multiply (*), \n",
    "- divide (/), \n",
    "- exponents (**)  \n",
    "\n",
    "integers in Python."
   ]
  },
  {
   "cell_type": "code",
   "execution_count": 74,
   "metadata": {},
   "outputs": [],
   "source": [
    "x = 5\n",
    "y = 3"
   ]
  },
  {
   "cell_type": "code",
   "execution_count": 75,
   "metadata": {},
   "outputs": [
    {
     "name": "stdout",
     "output_type": "stream",
     "text": [
      "8\n",
      "2\n",
      "15\n",
      "1.6666666666666667\n",
      "125\n"
     ]
    }
   ],
   "source": [
    "print(x + y)\n",
    "print(x - y)\n",
    "print(x * y)\n",
    "print(x / y)\n",
    "print(x ** y)"
   ]
  },
  {
   "cell_type": "markdown",
   "metadata": {},
   "source": [
    "Python supports the order of operations too, so you can use multiple operations in one expression. You can also use parentheses to modify the order of operations so Python can evaluate your expression in the order you specify. For example:\n"
   ]
  },
  {
   "cell_type": "code",
   "execution_count": 76,
   "metadata": {},
   "outputs": [
    {
     "data": {
      "text/plain": [
       "14"
      ]
     },
     "execution_count": 76,
     "metadata": {},
     "output_type": "execute_result"
    }
   ],
   "source": [
    "2 + 3*4"
   ]
  },
  {
   "cell_type": "code",
   "execution_count": 77,
   "metadata": {},
   "outputs": [
    {
     "data": {
      "text/plain": [
       "20"
      ]
     },
     "execution_count": 77,
     "metadata": {},
     "output_type": "execute_result"
    }
   ],
   "source": [
    "(2 + 3) * 4"
   ]
  },
  {
   "cell_type": "markdown",
   "metadata": {},
   "source": [
    "The spacing in these examples has no effect on how Python evaluates the expressions; it simply helps you more quickly spot the operations that have priority when you’re reading through the code"
   ]
  },
  {
   "cell_type": "markdown",
   "metadata": {},
   "source": [
    "#### Floats"
   ]
  },
  {
   "cell_type": "markdown",
   "metadata": {},
   "source": [
    "Python calls any number with a decimal point a float. This term is used in most programming languages, and it refers to the fact that a decimal point can appear at any position in a number. Every programming language must be carefully designed to properly manage decimal numbers so numbers behave appropriately no matter where the decimal point appears"
   ]
  },
  {
   "cell_type": "code",
   "execution_count": 78,
   "metadata": {},
   "outputs": [],
   "source": [
    "x = 1.5\n",
    "y = 3.2"
   ]
  },
  {
   "cell_type": "code",
   "execution_count": 79,
   "metadata": {},
   "outputs": [
    {
     "name": "stdout",
     "output_type": "stream",
     "text": [
      "4.7\n",
      "-1.7000000000000002\n",
      "4.800000000000001\n",
      "0.46875\n",
      "3.660092227792233\n"
     ]
    }
   ],
   "source": [
    "print(x + y)\n",
    "print(x - y)\n",
    "print(x * y)\n",
    "print(x / y)\n",
    "print(x ** y)"
   ]
  },
  {
   "cell_type": "markdown",
   "metadata": {},
   "source": [
    "**Assignment Operators**\n",
    "\n",
    "![Assignment operators](images/4.png)"
   ]
  },
  {
   "cell_type": "code",
   "execution_count": 103,
   "metadata": {},
   "outputs": [
    {
     "name": "stdout",
     "output_type": "stream",
     "text": [
      "10\n",
      "10\n"
     ]
    }
   ],
   "source": [
    "x = 5\n",
    "x = x + x\n",
    "print(x)\n",
    "x = 5\n",
    "x += x\n",
    "print(x)"
   ]
  },
  {
   "cell_type": "code",
   "execution_count": 104,
   "metadata": {},
   "outputs": [
    {
     "name": "stdout",
     "output_type": "stream",
     "text": [
      "0\n",
      "0\n"
     ]
    }
   ],
   "source": [
    "x = 5\n",
    "x = x - x\n",
    "print(x)\n",
    "x = 5\n",
    "x -= x\n",
    "print(x)"
   ]
  },
  {
   "cell_type": "code",
   "execution_count": 108,
   "metadata": {},
   "outputs": [
    {
     "name": "stdout",
     "output_type": "stream",
     "text": [
      "0\n",
      "2\n"
     ]
    }
   ],
   "source": [
    "# Reminder %\n",
    "x = 20\n",
    "y = 10\n",
    "print(x % y) # x = 2y x/y = 2, reminder = 0\n",
    "\n",
    "a = 17\n",
    "b = 5\n",
    "print(a % b) # a = 3b + 2, reminder = 2"
   ]
  },
  {
   "cell_type": "code",
   "execution_count": 105,
   "metadata": {},
   "outputs": [
    {
     "name": "stdout",
     "output_type": "stream",
     "text": [
      "1.0\n",
      "1.0\n"
     ]
    }
   ],
   "source": [
    "x = 5\n",
    "x = x / x\n",
    "print(x)\n",
    "x = 5\n",
    "x /= x\n",
    "print(x)"
   ]
  },
  {
   "cell_type": "markdown",
   "metadata": {},
   "source": [
    "**Arithmetic Operators**\n",
    "\n",
    "![Arithmetic Operators](images/6.png)"
   ]
  },
  {
   "cell_type": "markdown",
   "metadata": {},
   "source": [
    "**True Division (/) vs. Floor Division (//)**\n",
    "\n",
    "When you use the division operator (/) to divide two numbers, even if they are integers that result in a whole number, you’ll always get a float:\n",
    "\n",
    "If you want to drop the fractional part of the result, you can use the floor division operator (//). The result of this division will be an integer that’s as close to the actual result as possible without going over."
   ]
  },
  {
   "cell_type": "code",
   "execution_count": 87,
   "metadata": {},
   "outputs": [],
   "source": [
    "# It's not neglect The fraction number its rounded to nearest lower Integer number."
   ]
  },
  {
   "cell_type": "code",
   "execution_count": 90,
   "metadata": {},
   "outputs": [],
   "source": [
    "x = 7\n",
    "y = 4"
   ]
  },
  {
   "cell_type": "code",
   "execution_count": 91,
   "metadata": {},
   "outputs": [
    {
     "data": {
      "text/plain": [
       "1.75"
      ]
     },
     "execution_count": 91,
     "metadata": {},
     "output_type": "execute_result"
    }
   ],
   "source": [
    "x / y"
   ]
  },
  {
   "cell_type": "code",
   "execution_count": 92,
   "metadata": {},
   "outputs": [
    {
     "data": {
      "text/plain": [
       "1"
      ]
     },
     "execution_count": 92,
     "metadata": {},
     "output_type": "execute_result"
    }
   ],
   "source": [
    "x // y # 1 -> 1.75 -> 2"
   ]
  },
  {
   "cell_type": "code",
   "execution_count": 94,
   "metadata": {},
   "outputs": [
    {
     "data": {
      "text/plain": [
       "-1.75"
      ]
     },
     "execution_count": 94,
     "metadata": {},
     "output_type": "execute_result"
    }
   ],
   "source": [
    "-x / y"
   ]
  },
  {
   "cell_type": "code",
   "execution_count": 95,
   "metadata": {},
   "outputs": [
    {
     "data": {
      "text/plain": [
       "-2"
      ]
     },
     "execution_count": 95,
     "metadata": {},
     "output_type": "execute_result"
    }
   ],
   "source": [
    "-x // y # -2 -> -1.75 -> -1"
   ]
  },
  {
   "cell_type": "code",
   "execution_count": 96,
   "metadata": {},
   "outputs": [
    {
     "name": "stdout",
     "output_type": "stream",
     "text": [
      "7\n"
     ]
    }
   ],
   "source": [
    "x = -7\n",
    "print(abs(x)) # |-7| = 7"
   ]
  },
  {
   "cell_type": "code",
   "execution_count": 97,
   "metadata": {},
   "outputs": [
    {
     "name": "stdout",
     "output_type": "stream",
     "text": [
      "5\n"
     ]
    }
   ],
   "source": [
    "x = 5.5\n",
    "print(int(x)) # x -> 5"
   ]
  },
  {
   "cell_type": "code",
   "execution_count": 98,
   "metadata": {},
   "outputs": [
    {
     "name": "stdout",
     "output_type": "stream",
     "text": [
      "5.0\n"
     ]
    }
   ],
   "source": [
    "x = 5\n",
    "print(float(x)) # x -> 5.0"
   ]
  },
  {
   "cell_type": "markdown",
   "metadata": {},
   "source": [
    "**Underscores in Numbers**\n",
    "\n",
    "When you’re writing long numbers, you can group digits using underscores \n",
    "to make large numbers more readable:"
   ]
  },
  {
   "cell_type": "code",
   "execution_count": 109,
   "metadata": {},
   "outputs": [
    {
     "name": "stdout",
     "output_type": "stream",
     "text": [
      "14000000000\n"
     ]
    }
   ],
   "source": [
    "universe_age = 14_000_000_000\n",
    "print(universe_age)"
   ]
  },
  {
   "cell_type": "markdown",
   "metadata": {},
   "source": [
    "**Constants**\n",
    "\n",
    "A constant is like a variable whose value stays the same throughout the life of a program. Python doesn’t have built-in constant types, but Python programmers use all capital letters to indicate a variable should be treated as a constant and never be changed:"
   ]
  },
  {
   "cell_type": "code",
   "execution_count": 115,
   "metadata": {},
   "outputs": [
    {
     "name": "stdout",
     "output_type": "stream",
     "text": [
      "5000\n"
     ]
    }
   ],
   "source": [
    "MAX_CONNECTIONS = 5000\n",
    "print(MAX_CONNECTIONS)"
   ]
  },
  {
   "cell_type": "markdown",
   "metadata": {},
   "source": [
    "**Try It Yourself**\n",
    "\n",
    "1. Number Eight: Write addition, subtraction, multiplication, and division operations that each result in the number 8. Be sure to enclose your operations in ```print()``` calls to see the results. You should create four lines that look like this:\n",
    "```print(5+3)```\n",
    "Your output should simply be four lines with the number 8 appearing once on each line.\n",
    "2. Favorite Number: Use a variable to represent your favorite number. Then, using that variable, create a message that reveals your favorite number. Print that message"
   ]
  },
  {
   "cell_type": "code",
   "execution_count": 116,
   "metadata": {},
   "outputs": [],
   "source": [
    "# do your code here"
   ]
  },
  {
   "cell_type": "markdown",
   "metadata": {},
   "source": [
    "### Boolean"
   ]
  },
  {
   "cell_type": "markdown",
   "metadata": {},
   "source": [
    "Boolean values are another data type in Python. A Boolean value is either True or False, with the first letter of each value capitalized. Boolean values are important because they can be used to keep track of certain conditions within your program.\n",
    "\n",
    "![Comparison Operators](images/5.png)"
   ]
  },
  {
   "cell_type": "code",
   "execution_count": 1,
   "metadata": {},
   "outputs": [
    {
     "name": "stdout",
     "output_type": "stream",
     "text": [
      "True\n",
      "False\n",
      "True\n",
      "False\n",
      "False\n",
      "True\n",
      "False\n",
      "True\n"
     ]
    },
    {
     "name": "stderr",
     "output_type": "stream",
     "text": [
      "<>:9: SyntaxWarning: \"is\" with 'int' literal. Did you mean \"==\"?\n",
      "<>:10: SyntaxWarning: \"is not\" with 'int' literal. Did you mean \"!=\"?\n",
      "<>:9: SyntaxWarning: \"is\" with 'int' literal. Did you mean \"==\"?\n",
      "<>:10: SyntaxWarning: \"is not\" with 'int' literal. Did you mean \"!=\"?\n",
      "C:\\Users\\hp\\AppData\\Local\\Temp\\ipykernel_5388\\1118468614.py:9: SyntaxWarning: \"is\" with 'int' literal. Did you mean \"==\"?\n",
      "  print(5 is 3) # False\n",
      "C:\\Users\\hp\\AppData\\Local\\Temp\\ipykernel_5388\\1118468614.py:10: SyntaxWarning: \"is not\" with 'int' literal. Did you mean \"!=\"?\n",
      "  print(5 is not 3) # True\n"
     ]
    }
   ],
   "source": [
    "# Boolean values\n",
    "\n",
    "print(5 > 3) # True\n",
    "print(5 < 3) # False\n",
    "print(5 >= 3) # True\n",
    "print(5 <= 3) # False\n",
    "print(5 == 3) # False\n",
    "print(5 != 3) # True\n",
    "print(5 is 3) # False\n",
    "print(5 is not 3) # True"
   ]
  },
  {
   "cell_type": "code",
   "execution_count": 19,
   "metadata": {},
   "outputs": [
    {
     "name": "stdout",
     "output_type": "stream",
     "text": [
      "False\n",
      "True\n",
      "False\n"
     ]
    }
   ],
   "source": [
    "# Logical operators\n",
    "\n",
    "print(5 > 3 and 5 < 3) # False\n",
    "print(5 > 3 or 5 < 3) # True\n",
    "print(not 5 > 3) # False\n"
   ]
  },
  {
   "cell_type": "code",
   "execution_count": 22,
   "metadata": {},
   "outputs": [
    {
     "name": "stdout",
     "output_type": "stream",
     "text": [
      "True\n",
      "False\n",
      "True\n"
     ]
    }
   ],
   "source": [
    "# can also work with string\n",
    "\n",
    "print('Mohamed' == 'Mohamed')\n",
    "print('Mohamed' != 'Mohamed')\n",
    "print('M' in 'Mohamed') # in is a membership operator"
   ]
  },
  {
   "cell_type": "markdown",
   "metadata": {},
   "source": [
    "### Built-in Functions\n"
   ]
  },
  {
   "cell_type": "markdown",
   "metadata": {},
   "source": [
    "Built-in functions are functions that are always available for you to use in Python. You’ve already used a few of these functions, such as `print()`, `input()`, and `str()`. The Python interpreter has several functions that are always available for use. These functions are called built-in functions. You can use these functions without having to define them. You can also use built-in functions in your programs without having to provide the function’s definition. The Python interpreter provides many built-in functions that are always available. Here are a few examples of built-in functions in Python:\n",
    "\n",
    "![Built-in Functions](images/7.png)\n",
    "\n",
    "For more Built-in Functions you can visit the official Python documentation: **[Built-in Function](https://docs.python.org/3/library/functions.html)**"
   ]
  },
  {
   "cell_type": "markdown",
   "metadata": {},
   "source": [
    "### Type( ) Built-in Function"
   ]
  },
  {
   "cell_type": "markdown",
   "metadata": {},
   "source": [
    "type() is a built-in function in Python. You can use the type() function to know which class a variable or a value belongs to. You can also use it to know the type of the value stored in a variable.\n",
    "\n",
    "Everything in python is object\n",
    "\n",
    "Object is an instance of a class and it is a type with two characteristics: \n",
    "\n",
    "- Attributes (data)\n",
    "- name"
   ]
  },
  {
   "cell_type": "code",
   "execution_count": 1,
   "metadata": {},
   "outputs": [
    {
     "name": "stdout",
     "output_type": "stream",
     "text": [
      "<class 'int'>\n"
     ]
    }
   ],
   "source": [
    "x = 10\n",
    "print(type(x))"
   ]
  },
  {
   "cell_type": "code",
   "execution_count": 2,
   "metadata": {},
   "outputs": [
    {
     "name": "stdout",
     "output_type": "stream",
     "text": [
      "<class 'str'>\n"
     ]
    }
   ],
   "source": [
    "name = 'Mohamed'\n",
    "print(type(name))"
   ]
  },
  {
   "cell_type": "code",
   "execution_count": 3,
   "metadata": {},
   "outputs": [
    {
     "name": "stdout",
     "output_type": "stream",
     "text": [
      "<class 'float'>\n"
     ]
    }
   ],
   "source": [
    "print(type(5.5))"
   ]
  },
  {
   "cell_type": "code",
   "execution_count": 4,
   "metadata": {},
   "outputs": [
    {
     "name": "stdout",
     "output_type": "stream",
     "text": [
      "<class 'bool'>\n"
     ]
    }
   ],
   "source": [
    "print(type(5 > 3)) # True"
   ]
  },
  {
   "cell_type": "markdown",
   "metadata": {},
   "source": [
    "**Try It Yourself**\n",
    "\n",
    "1. Try with yourself to use the type() function to know which class a variable or a value belongs to. You can also use it to know the type of the value stored in a variable."
   ]
  },
  {
   "cell_type": "markdown",
   "metadata": {},
   "source": [
    "### Getting Input from the User\n",
    "\n",
    "**Using input() built-in function**"
   ]
  },
  {
   "cell_type": "markdown",
   "metadata": {},
   "source": [
    "`input(prompt)`\n",
    "If the prompt argument is present, it is written to standard output without a trailing newline. The function then reads a line from input, converts it to a string (stripping a trailing newline), and returns that. "
   ]
  },
  {
   "cell_type": "code",
   "execution_count": 118,
   "metadata": {},
   "outputs": [
    {
     "name": "stdout",
     "output_type": "stream",
     "text": [
      "Hello, Mohamed Ismail\n"
     ]
    }
   ],
   "source": [
    "user_name = input('Input your name: ')\n",
    "print(f'Hello, {user_name}')"
   ]
  },
  {
   "cell_type": "code",
   "execution_count": 13,
   "metadata": {},
   "outputs": [
    {
     "name": "stdout",
     "output_type": "stream",
     "text": [
      "25\n",
      "<class 'str'>\n"
     ]
    }
   ],
   "source": [
    "# input() always return string \n",
    "user_age = input('Input your age: ')\n",
    "print(user_age)\n",
    "print(type(user_age)) # type return data type of variable, will return str --> string \n"
   ]
  },
  {
   "cell_type": "markdown",
   "metadata": {},
   "source": [
    "**We still can Convert This string returned from input() Function to int() or any Data type using Casting.**"
   ]
  },
  {
   "cell_type": "markdown",
   "metadata": {},
   "source": [
    "### Casting"
   ]
  },
  {
   "cell_type": "markdown",
   "metadata": {},
   "source": [
    "Casting is when you convert a variable value from one type to another. This is done to make the variable compatible with the other variables in the operation.\n"
   ]
  },
  {
   "cell_type": "code",
   "execution_count": 5,
   "metadata": {},
   "outputs": [
    {
     "name": "stdout",
     "output_type": "stream",
     "text": [
      "20\n"
     ]
    }
   ],
   "source": [
    "# Example of convert string to integer\n",
    "num_1 = input('Enter first number: ') # 10\n",
    "num_2 = input('Enter second number: ') #10\n",
    "result = int(num_1) + int(num_2)\n",
    "print(result)"
   ]
  },
  {
   "cell_type": "code",
   "execution_count": 6,
   "metadata": {},
   "outputs": [
    {
     "name": "stdout",
     "output_type": "stream",
     "text": [
      "20\n"
     ]
    }
   ],
   "source": [
    "# Different way to convert string to integer\n",
    "num_1 = int(input('Enter first number: ')) # 10\n",
    "num_2 = int(input('Enter second number: ')) #10\n",
    "result = num_1 + num_2\n",
    "print(result)\n"
   ]
  },
  {
   "cell_type": "code",
   "execution_count": 12,
   "metadata": {},
   "outputs": [
    {
     "name": "stdout",
     "output_type": "stream",
     "text": [
      "25\n",
      "<class 'int'>\n"
     ]
    }
   ],
   "source": [
    "# we can repeat previous example and check type()\n",
    "user_age = int(input('Input your age: ')) # First we convert input to integer\n",
    "print(user_age)\n",
    "print(type(user_age)) # type will return int --> integer"
   ]
  },
  {
   "cell_type": "markdown",
   "metadata": {},
   "source": [
    "### dir( ) Buit-in Function"
   ]
  },
  {
   "cell_type": "markdown",
   "metadata": {},
   "source": [
    "dir() is a powerful inbuilt function in Python3, which returns list of the attributes and methods of any object (say functions , modules, strings, lists, dictionaries etc.)\n",
    "\n",
    "**what's methods?**\n",
    "\n",
    "Methods are functions that belong to an object. You can call a method on an object by using the dot operator (.). For example, you can call the upper() method on a string to convert it to uppercase.\n",
    "\n",
    "**What's attributes?**\n",
    "\n",
    "Attributes are variables that belong to an object. You can access an attribute on an object by using the dot operator (.). For example, you can access the length attribute of a list to get the number of items in the list.\n",
    "\n"
   ]
  },
  {
   "cell_type": "code",
   "execution_count": 23,
   "metadata": {},
   "outputs": [
    {
     "name": "stdout",
     "output_type": "stream",
     "text": [
      "['__add__', '__class__', '__contains__', '__delattr__', '__dir__', '__doc__', '__eq__', '__format__', '__ge__', '__getattribute__', '__getitem__', '__getnewargs__', '__gt__', '__hash__', '__init__', '__init_subclass__', '__iter__', '__le__', '__len__', '__lt__', '__mod__', '__mul__', '__ne__', '__new__', '__reduce__', '__reduce_ex__', '__repr__', '__rmod__', '__rmul__', '__setattr__', '__sizeof__', '__str__', '__subclasshook__', 'capitalize', 'casefold', 'center', 'count', 'encode', 'endswith', 'expandtabs', 'find', 'format', 'format_map', 'index', 'isalnum', 'isalpha', 'isascii', 'isdecimal', 'isdigit', 'isidentifier', 'islower', 'isnumeric', 'isprintable', 'isspace', 'istitle', 'isupper', 'join', 'ljust', 'lower', 'lstrip', 'maketrans', 'partition', 'removeprefix', 'removesuffix', 'replace', 'rfind', 'rindex', 'rjust', 'rpartition', 'rsplit', 'rstrip', 'split', 'splitlines', 'startswith', 'strip', 'swapcase', 'title', 'translate', 'upper', 'zfill']\n"
     ]
    }
   ],
   "source": [
    "# Examples\n",
    "\n",
    "print(dir(str)) # return all methods and attributes of string data type"
   ]
  },
  {
   "cell_type": "code",
   "execution_count": 24,
   "metadata": {},
   "outputs": [
    {
     "name": "stdout",
     "output_type": "stream",
     "text": [
      "['__abs__', '__add__', '__and__', '__bool__', '__ceil__', '__class__', '__delattr__', '__dir__', '__divmod__', '__doc__', '__eq__', '__float__', '__floor__', '__floordiv__', '__format__', '__ge__', '__getattribute__', '__getnewargs__', '__gt__', '__hash__', '__index__', '__init__', '__init_subclass__', '__int__', '__invert__', '__le__', '__lshift__', '__lt__', '__mod__', '__mul__', '__ne__', '__neg__', '__new__', '__or__', '__pos__', '__pow__', '__radd__', '__rand__', '__rdivmod__', '__reduce__', '__reduce_ex__', '__repr__', '__rfloordiv__', '__rlshift__', '__rmod__', '__rmul__', '__ror__', '__round__', '__rpow__', '__rrshift__', '__rshift__', '__rsub__', '__rtruediv__', '__rxor__', '__setattr__', '__sizeof__', '__str__', '__sub__', '__subclasshook__', '__truediv__', '__trunc__', '__xor__', 'as_integer_ratio', 'bit_count', 'bit_length', 'conjugate', 'denominator', 'from_bytes', 'imag', 'numerator', 'real', 'to_bytes']\n"
     ]
    }
   ],
   "source": [
    "# Examples\n",
    "\n",
    "print(dir(int)) # return all methods and attributes of integer data type"
   ]
  },
  {
   "cell_type": "code",
   "execution_count": 25,
   "metadata": {},
   "outputs": [
    {
     "name": "stdout",
     "output_type": "stream",
     "text": [
      "['__abs__', '__add__', '__and__', '__bool__', '__ceil__', '__class__', '__delattr__', '__dir__', '__divmod__', '__doc__', '__eq__', '__float__', '__floor__', '__floordiv__', '__format__', '__ge__', '__getattribute__', '__getnewargs__', '__gt__', '__hash__', '__index__', '__init__', '__init_subclass__', '__int__', '__invert__', '__le__', '__lshift__', '__lt__', '__mod__', '__mul__', '__ne__', '__neg__', '__new__', '__or__', '__pos__', '__pow__', '__radd__', '__rand__', '__rdivmod__', '__reduce__', '__reduce_ex__', '__repr__', '__rfloordiv__', '__rlshift__', '__rmod__', '__rmul__', '__ror__', '__round__', '__rpow__', '__rrshift__', '__rshift__', '__rsub__', '__rtruediv__', '__rxor__', '__setattr__', '__sizeof__', '__str__', '__sub__', '__subclasshook__', '__truediv__', '__trunc__', '__xor__', 'as_integer_ratio', 'bit_count', 'bit_length', 'conjugate', 'denominator', 'from_bytes', 'imag', 'numerator', 'real', 'to_bytes']\n"
     ]
    }
   ],
   "source": [
    "# Examples\n",
    "\n",
    "print(dir(bool)) # return all methods and attributes of boolean data type"
   ]
  },
  {
   "cell_type": "markdown",
   "metadata": {},
   "source": [
    "## Python Sequence Data Types (Iterable)"
   ]
  },
  {
   "cell_type": "markdown",
   "metadata": {},
   "source": [
    "![Python Sequence Data Types](images/10.png)"
   ]
  },
  {
   "cell_type": "markdown",
   "metadata": {},
   "source": [
    "### Python Ordered Sequences"
   ]
  },
  {
   "cell_type": "markdown",
   "metadata": {},
   "source": [
    "#### Lists (Mutable)"
   ]
  },
  {
   "cell_type": "markdown",
   "metadata": {},
   "source": [
    "A list is a collection of items in a particular order. You can make a list that includes the letters of the alphabet, the digits from 0–9, or the names of all the people in your family. You can put anything you want into a list, and the items in your list don’t have to be related in any particular way. Because a list usually contains more than one element, it’s a good idea to make the name of your list plural, such as letters, digits, or names. In Python, square brackets ([]) indicate a list, and individual elements in the list are separated by commas."
   ]
  },
  {
   "cell_type": "code",
   "execution_count": 1,
   "metadata": {},
   "outputs": [
    {
     "data": {
      "text/plain": [
       "[10, 20, 30, 40, 50]"
      ]
     },
     "execution_count": 1,
     "metadata": {},
     "output_type": "execute_result"
    }
   ],
   "source": [
    "numbers = [10, 20, 30, 40, 50] # List of numbers\n",
    "numbers"
   ]
  },
  {
   "cell_type": "code",
   "execution_count": 2,
   "metadata": {},
   "outputs": [
    {
     "name": "stdout",
     "output_type": "stream",
     "text": [
      "<class 'list'>\n"
     ]
    }
   ],
   "source": [
    "print(type(numbers))"
   ]
  },
  {
   "cell_type": "code",
   "execution_count": 6,
   "metadata": {},
   "outputs": [
    {
     "data": {
      "text/plain": [
       "[10, 'cannondale', 'redline', 'specialized']"
      ]
     },
     "execution_count": 6,
     "metadata": {},
     "output_type": "execute_result"
    }
   ],
   "source": [
    "bicycles = [10, 'cannondale', 'redline', 'specialized'] # List of numbers and strings\n",
    "bicycles"
   ]
  },
  {
   "cell_type": "code",
   "execution_count": 5,
   "metadata": {},
   "outputs": [
    {
     "name": "stdout",
     "output_type": "stream",
     "text": [
      "<class 'list'>\n"
     ]
    }
   ],
   "source": [
    "print(type(bicycles))"
   ]
  },
  {
   "cell_type": "markdown",
   "metadata": {},
   "source": [
    "**Accessing Elements in a List**\n",
    "\n",
    "Lists are ordered collections, so you can access any element in a list by telling Python the position, or index, of the item desired. To access an element in a list, write the name of the list followed by the index of the item enclosed in square brackets.\n",
    "For example, let’s pull out the first bicycle in the list bicycles: "
   ]
  },
  {
   "cell_type": "code",
   "execution_count": 7,
   "metadata": {},
   "outputs": [
    {
     "name": "stdout",
     "output_type": "stream",
     "text": [
      "10\n"
     ]
    }
   ],
   "source": [
    "bicycles = [10, 'cannondale', 'redline', 'specialized']\n",
    "print(bicycles[0]) # 10"
   ]
  },
  {
   "cell_type": "markdown",
   "metadata": {},
   "source": [
    "You can also use the string methods from Chapter 2 on any element in a list. For example, you can format the element 'cannondale' more neatly by using \n",
    "the title() method:"
   ]
  },
  {
   "cell_type": "code",
   "execution_count": 8,
   "metadata": {},
   "outputs": [
    {
     "name": "stdout",
     "output_type": "stream",
     "text": [
      "Cannondale\n"
     ]
    }
   ],
   "source": [
    "print(bicycles[1].title()) # Cannondale"
   ]
  },
  {
   "cell_type": "markdown",
   "metadata": {},
   "source": [
    "**Index Positions Start at 0, Not 1**\n",
    "\n",
    "Python considers the first item in a list to be at position 0, not position 1. \n",
    "This is true of most programming languages, and the reason has to do with how the list operations are implemented at a lower level. If you’re receiving \n",
    "unexpected results, determine whether you are making a simple off-by-one error.\n",
    "The second item in a list has an index of 1. Using this simple counting system, you can get any element you want from a list by subtracting one \n",
    "from its position in the list. For instance, to access the fourth item in a list, you request the item at index 3.\n",
    "The following asks for the bicycles at index 1 and index 3:"
   ]
  },
  {
   "cell_type": "code",
   "execution_count": 9,
   "metadata": {},
   "outputs": [
    {
     "name": "stdout",
     "output_type": "stream",
     "text": [
      "cannondale\n",
      "specialized\n"
     ]
    }
   ],
   "source": [
    "print(bicycles[1])\n",
    "print(bicycles[3])"
   ]
  },
  {
   "cell_type": "markdown",
   "metadata": {},
   "source": [
    "Python has a special syntax for accessing the last element in a list. By asking for the item at index -1, Python always returns the last item in the list:"
   ]
  },
  {
   "cell_type": "code",
   "execution_count": 10,
   "metadata": {},
   "outputs": [
    {
     "name": "stdout",
     "output_type": "stream",
     "text": [
      "specialized\n"
     ]
    }
   ],
   "source": [
    "print(bicycles[-1]) # specialized -> last element in list"
   ]
  },
  {
   "cell_type": "markdown",
   "metadata": {},
   "source": [
    "This code returns the value 'specialized'. This syntax is quite useful, because you’ll often want to access the last items in a list without knowing \n",
    "exactly how long the list is. This convention extends to other negative index values as well. The index -2 returns the second item from the end of the list, the index -3 returns the third item from the end, and so forth"
   ]
  },
  {
   "cell_type": "markdown",
   "metadata": {},
   "source": [
    "**Using Individual Values from a List**\n",
    "\n",
    "You can use individual values from a list just as you would any other variable. For example, you can use concatenation to create a message based on \n",
    "a value from a list.\n",
    "Let’s try pulling the first bicycle from the list and composing a message using that value. "
   ]
  },
  {
   "cell_type": "code",
   "execution_count": 12,
   "metadata": {},
   "outputs": [
    {
     "name": "stdout",
     "output_type": "stream",
     "text": [
      "My first bicycle was a Cannondale.\n"
     ]
    }
   ],
   "source": [
    "message = \"My first bicycle was a \" + bicycles[1].title() + \".\"\n",
    "print(message)\n"
   ]
  },
  {
   "cell_type": "markdown",
   "metadata": {},
   "source": [
    "**Try It Yourself**\n",
    "\n",
    "Try these short programs to get some firsthand experience with Python’s lists.\n",
    "You might want to create a new folder for each chapter’s exercises to keep \n",
    "them organized.\n",
    "1. Names: Store the names of a few of your friends in a list called names. Print \n",
    "each person’s name by accessing each element in the list, one at a time.\n",
    "2. Greetings: Start with the list you used in Exercise 3-1, but instead of just \n",
    "printing each person’s name, print a message to them. The text of each message should be the same, but each message should be personalized with the \n",
    "person’s name.\n",
    "3. Your Own List: Think of your favorite mode of transportation, such as a \n",
    "motorcycle or a car, and make a list that stores several examples. Use your list \n",
    "to print a series of statements about these items, such as “I would like to own a \n",
    "Honda motorcycle.”"
   ]
  },
  {
   "cell_type": "code",
   "execution_count": 13,
   "metadata": {},
   "outputs": [],
   "source": [
    "# do your code here"
   ]
  },
  {
   "cell_type": "markdown",
   "metadata": {},
   "source": [
    "**Changing, Adding, and Removing Elements**\n",
    "\n",
    "Most lists you create will be dynamic, meaning you’ll build a list and then add and remove elements from it as your program runs its course. For \n",
    "example, you might create a game in which a player has to shoot aliens out of the sky. You could store the initial set of aliens in a list and then remove an alien from the list each time one is shot down. Each time a new alien appears on the screen, you add it to the list. Your list of aliens will decrease and increase in length throughout the course of the game. \n"
   ]
  },
  {
   "cell_type": "markdown",
   "metadata": {},
   "source": [
    "**Modifying Elements in a List**\n",
    "\n",
    "The syntax for modifying an element is similar to the syntax for accessing \n",
    "an element in a list. To change an element, use the name of the list followed \n",
    "by the index of the element you want to change, and then provide the new \n",
    "value you want that item to have."
   ]
  },
  {
   "cell_type": "markdown",
   "metadata": {},
   "source": [
    "For example, let’s say we have a list of motorcycles, and the first item in the list is 'honda'. How would we change the value of this first item?"
   ]
  },
  {
   "cell_type": "code",
   "execution_count": 15,
   "metadata": {},
   "outputs": [
    {
     "name": "stdout",
     "output_type": "stream",
     "text": [
      "['honda', 'yamaha', 'suzuki']\n",
      "['ducati', 'yamaha', 'suzuki']\n"
     ]
    }
   ],
   "source": [
    "motorcycles = ['honda', 'yamaha', 'suzuki'] # List of motorcycles\n",
    "print(motorcycles)\n",
    "motorcycles[0] = 'ducati' # Change first element in list to ducati \n",
    "print(motorcycles)"
   ]
  },
  {
   "cell_type": "markdown",
   "metadata": {},
   "source": [
    "**Adding Elements to a List**\n",
    "\n",
    "You might want to add a new element to a list for many reasons. For example, you might want to make new aliens appear in a game, add new data to a visualization, or add new registered users to a website you’ve built. Python provides several ways to add new data to existing lists.\n",
    "\n",
    "**Appending Elements to the End of a List**\n",
    "\n",
    "The simplest way to add a new element to a list is to append the item to the list. When you append an item to a list, the new element is added to the end of the list. Using the same list we had in the previous example, we’ll add the new element 'ducati' to the end of the list:"
   ]
  },
  {
   "cell_type": "code",
   "execution_count": 16,
   "metadata": {},
   "outputs": [
    {
     "name": "stdout",
     "output_type": "stream",
     "text": [
      "['honda', 'yamaha', 'suzuki']\n",
      "['honda', 'yamaha', 'suzuki', 'ducati']\n"
     ]
    }
   ],
   "source": [
    "motorcycles = ['honda', 'yamaha', 'suzuki']\n",
    "print(motorcycles)\n",
    "motorcycles.append('ducati')\n",
    "print(motorcycles)"
   ]
  },
  {
   "cell_type": "markdown",
   "metadata": {},
   "source": [
    "* append() - The append() method adds a new element to the end of a list. Using the same list of motorcycles, let’s add the new motorcycle 'ducati' to the end of the list:\n",
    "* The append() method makes it easy to build lists dynamically. For example, you can start with an empty list and then add items to the list using a series of append() statements. Using an empty list, let’s add the elements 'honda', 'yamaha', and 'suzuki' to the list"
   ]
  },
  {
   "cell_type": "code",
   "execution_count": 17,
   "metadata": {},
   "outputs": [
    {
     "name": "stdout",
     "output_type": "stream",
     "text": [
      "['audi', 'bmw', 'mercedes']\n"
     ]
    }
   ],
   "source": [
    "cars = [] # Empty list\n",
    "cars.append('audi')\n",
    "cars.append('bmw')\n",
    "cars.append('mercedes')\n",
    "print(cars)"
   ]
  },
  {
   "cell_type": "markdown",
   "metadata": {},
   "source": [
    "**Inserting Elements into a List**\n",
    "\n",
    "You can add a new element at any position in your list by using the insert()\n",
    "method. You do this by specifying the index of the new element and the \n",
    "value of the new item"
   ]
  },
  {
   "cell_type": "code",
   "execution_count": 19,
   "metadata": {},
   "outputs": [
    {
     "data": {
      "text/plain": [
       "['toyota', 'toyota', 'audi', 'bmw', 'mercedes']"
      ]
     },
     "execution_count": 19,
     "metadata": {},
     "output_type": "execute_result"
    }
   ],
   "source": [
    "cars.insert(0, 'toyota') # Insert toyota in first index\n",
    "cars"
   ]
  },
  {
   "cell_type": "markdown",
   "metadata": {},
   "source": [
    "**Removing Elements from a List**\n",
    "\n",
    "Often, you’ll want to remove an item or a set of items from a list. For example, when a player shoots down an alien from the sky, you’ll most \n",
    "likely want to remove it from the list of active aliens. Or when a user \n",
    "\n",
    "decides to cancel their account on a web application you created, you’ll want to remove that user from the list of active users. You can remove an \n",
    "item according to its position in the list or according to its value.\n",
    "\n",
    "**Removing an Item Using the del Statement**\n",
    "\n",
    "If you know the position of the item you want to remove from a list, you can use the del statement."
   ]
  },
  {
   "cell_type": "markdown",
   "metadata": {},
   "source": [
    "del - The del statement can be used to remove an item or items from any position in a list using the index of the item. This statement can also be used to delete an entire list."
   ]
  },
  {
   "cell_type": "code",
   "execution_count": 21,
   "metadata": {},
   "outputs": [
    {
     "data": {
      "text/plain": [
       "['audi', 'bmw', 'mercedes']"
      ]
     },
     "execution_count": 21,
     "metadata": {},
     "output_type": "execute_result"
    }
   ],
   "source": [
    "del cars[0] # Remove first element in list\n",
    "cars"
   ]
  },
  {
   "cell_type": "markdown",
   "metadata": {},
   "source": [
    "**Removing an Item Using the pop() Method**\n",
    "\n",
    "Sometimes you’ll want to use the value of an item after you remove it from a list. For example, you might want to get the x and y position of an alien that was just shot down, so you can draw an explosion at that position. In a web application, you might want to remove a user from a list of active members and then add that user to a list of inactive members.\n",
    "The pop() method removes the last item in a list, but it lets you work with that item after removing it. The term pop comes from thinking of a \n",
    "list as a stack of items and popping one item off the top of the stack. In this analogy, the top of a stack corresponds to the end of a list.\n"
   ]
  },
  {
   "cell_type": "code",
   "execution_count": 22,
   "metadata": {},
   "outputs": [
    {
     "data": {
      "text/plain": [
       "['audi', 'bmw', 'mercedes']"
      ]
     },
     "execution_count": 22,
     "metadata": {},
     "output_type": "execute_result"
    }
   ],
   "source": [
    "cars "
   ]
  },
  {
   "cell_type": "code",
   "execution_count": 23,
   "metadata": {},
   "outputs": [
    {
     "name": "stdout",
     "output_type": "stream",
     "text": [
      "['audi', 'bmw']\n",
      "mercedes\n"
     ]
    }
   ],
   "source": [
    "popped_car = cars.pop() # Remove last element in list\n",
    "print(cars)\n",
    "print(popped_car)"
   ]
  },
  {
   "cell_type": "code",
   "execution_count": 24,
   "metadata": {},
   "outputs": [
    {
     "name": "stdout",
     "output_type": "stream",
     "text": [
      "The last car I owned was a Bmw.\n"
     ]
    }
   ],
   "source": [
    "last_owned = cars.pop()\n",
    "print(f\"The last car I owned was a {last_owned.title()}.\")"
   ]
  },
  {
   "cell_type": "markdown",
   "metadata": {},
   "source": [
    "**Popping Items from any Position in a List**\n",
    "\n",
    "You can actually use pop() to remove an item in a list at any position by including the index of the item you want to remove in parentheses."
   ]
  },
  {
   "cell_type": "code",
   "execution_count": 25,
   "metadata": {},
   "outputs": [
    {
     "name": "stdout",
     "output_type": "stream",
     "text": [
      "The first car I owned was a Audi.\n"
     ]
    }
   ],
   "source": [
    "first_owned = cars.pop(0)\n",
    "print(f\"The first car I owned was a {first_owned.title()}.\")"
   ]
  },
  {
   "cell_type": "markdown",
   "metadata": {},
   "source": [
    "Remember that each time you use pop(), the item you work with is no longer stored in the list.\n",
    "If you’re unsure whether to use the del statement or the pop() method, here’s a simple way to decide: when you want to delete an item from a list \n",
    "and not use that item in any way, use the del statement; if you want to use an item as you remove it, use the pop() method.\n",
    "\n",
    "**Removing an Item by Value**\n",
    "\n",
    "Sometimes you won’t know the position of the value you want to remove from a list. If you only know the value of the item you want to remove, you \n",
    "can use the remove() method. For example, let’s say we want to remove the value 'ducati' from the list of \n",
    "motorcycles."
   ]
  },
  {
   "cell_type": "code",
   "execution_count": 26,
   "metadata": {},
   "outputs": [
    {
     "name": "stdout",
     "output_type": "stream",
     "text": [
      "['iphone', 'galaxy', 'Mi', 'Oppo', 'Huawei']\n",
      "['iphone', 'galaxy', 'Oppo', 'Huawei']\n"
     ]
    }
   ],
   "source": [
    "phones = ['iphone', 'galaxy', 'Mi', 'Oppo', 'Huawei'] \n",
    "print(phones)\n",
    "phones.remove('Mi') # Remove Mi from list \n",
    "print(phones)"
   ]
  },
  {
   "cell_type": "code",
   "execution_count": 27,
   "metadata": {},
   "outputs": [
    {
     "name": "stdout",
     "output_type": "stream",
     "text": [
      "['galaxy', 'Oppo', 'Huawei']\n",
      "\n",
      "A Iphone is too expensive for me.\n"
     ]
    }
   ],
   "source": [
    "too_expensive = 'iphone'\n",
    "phones.remove(too_expensive)\n",
    "print(phones)\n",
    "print(f\"\\nA {too_expensive.title()} is too expensive for me.\")"
   ]
  },
  {
   "cell_type": "markdown",
   "metadata": {},
   "source": [
    "**Notes**\n",
    "\n",
    "The remove() method deletes only the first occurrence of the value you specify. If there’s a possibility the value appears more than once in the list, you’ll need to use a loop to determine if all occurrences of the value have been removed."
   ]
  },
  {
   "cell_type": "markdown",
   "metadata": {},
   "source": [
    "**Try It Yourself**\n",
    "1. Guest List: If you could invite anyone, living or deceased, to dinner, who would you invite? Make a list that includes at least three people you’d like to invite to dinner. Then use your list to print a message to each person, inviting them to dinner.\n",
    "2. Changing Guest List: You just heard that one of your guests can’t make the dinner, so you need to send out a new set of invitations. You’ll have to think of someone else to invite.\n",
    "* Start with your program from Exercise 1. Add a print statement at the end of your program stating the name of the guest who can’t make it.\n",
    "* Modify your list, replacing the name of the guest who can’t make it with the name of the new person you are inviting.\n",
    "* Print a second set of invitation messages, one for each person who is still in your list.\n",
    "3. More Guests: You just found a bigger dinner table, so now more space is available. Think of three more guests to invite to dinner.\n",
    "* Start with your program from Exercise 1 or Exercise 2. Add a print statement to the end of your program informing people that you found a bigger dinner table.\n",
    "* Use insert() to add one new guest to the beginning of your list.\n",
    "* Use insert() to add one new guest to the middle of your list.\n",
    "* Use append() to add one new guest to the end of your list.\n",
    "* Print a new set of invitation messages, one for each person in your list.\n",
    "4. Shrinking Guest List: You just found out that your new dinner table won’t arrive in time for the dinner, and you have space for only two guests.\n",
    "* Start with your program from Exercise 3. Add a new line that prints a message saying that you can invite only two people for dinner.\n",
    "* Use pop() to remove guests from your list one at a time until only two names remain in your list. Each time you pop a name from your list, print a message to that person letting them know you’re sorry you can’t invite them to dinner.\n",
    "* Print a message to each of the two people still on your list, letting them know they’re still invited.\n",
    "* Use del to remove the last two names from your list, so you have an empty list. Print your list to make sure you actually have an empty list at the end of your program."
   ]
  },
  {
   "cell_type": "code",
   "execution_count": 28,
   "metadata": {},
   "outputs": [],
   "source": [
    "# do your code here"
   ]
  },
  {
   "cell_type": "markdown",
   "metadata": {},
   "source": [
    "**Organizing a List**\n",
    "Often, your lists will be created in an unpredictable order, because you can’t always control the order in which your users provide their data. Although \n",
    "this is unavoidable in most circumstances, you’ll frequently want to present your information in a particular order. Sometimes you’ll want to preserve the original order of your list, and other times you’ll want to change the original order. Python provides a number of different ways to organize your lists, depending on the situation.\n",
    "\n",
    "**Sorting a List Permanently with the sort() Method**\n",
    "\n",
    "Python’s sort() method makes it relatively easy to sort a list. Imagine we have a list of cars and want to change the order of the list to store them \n",
    "alphabetically. To keep the task simple, let’s assume that all the values in the list are lowercase."
   ]
  },
  {
   "cell_type": "code",
   "execution_count": 29,
   "metadata": {},
   "outputs": [
    {
     "name": "stdout",
     "output_type": "stream",
     "text": [
      "['audi', 'bmw', 'subaru', 'toyota']\n"
     ]
    }
   ],
   "source": [
    "cars = ['bmw', 'audi', 'toyota', 'subaru']\n",
    "cars.sort()\n",
    "print(cars)"
   ]
  },
  {
   "cell_type": "code",
   "execution_count": 30,
   "metadata": {},
   "outputs": [
    {
     "name": "stdout",
     "output_type": "stream",
     "text": [
      "['toyota', 'subaru', 'bmw', 'audi']\n"
     ]
    }
   ],
   "source": [
    "cars.sort(reverse=True)\n",
    "print(cars)"
   ]
  },
  {
   "cell_type": "markdown",
   "metadata": {},
   "source": [
    "**Sorting a List Temporarily with the sorted() Function**\n",
    "\n",
    "To maintain the original order of a list but present it in a sorted order, you can use the sorted() function. The sorted() function lets you display your list in a particular order but doesn’t affect the actual order of the list.\n",
    "Let’s try this function on the list of cars."
   ]
  },
  {
   "cell_type": "code",
   "execution_count": 31,
   "metadata": {},
   "outputs": [
    {
     "name": "stdout",
     "output_type": "stream",
     "text": [
      "Here is the original list:\n",
      "['toyota', 'subaru', 'bmw', 'audi']\n",
      "\n",
      "Here is the sorted list:\n",
      "['audi', 'bmw', 'subaru', 'toyota']\n",
      "\n",
      "Here is the original list again:\n",
      "['toyota', 'subaru', 'bmw', 'audi']\n"
     ]
    }
   ],
   "source": [
    "print(\"Here is the original list:\")\n",
    "print(cars)\n",
    "print(\"\\nHere is the sorted list:\")\n",
    "print(sorted(cars))\n",
    "print(\"\\nHere is the original list again:\")\n",
    "print(cars)"
   ]
  },
  {
   "cell_type": "markdown",
   "metadata": {},
   "source": [
    "**Notes**\n",
    "\n",
    "Sorting a list alphabetically is a bit more complicated when all the values are not in lowercase. There are several ways to interpret capital letters when you’re deciding on a sort order, and specifying the exact order can be more complex than we want to deal with at this time. However, most approaches to sorting will build directly on what you learned in this section."
   ]
  },
  {
   "cell_type": "code",
   "execution_count": 38,
   "metadata": {},
   "outputs": [
    {
     "name": "stdout",
     "output_type": "stream",
     "text": [
      "[91, 39, 116, 111, 121, 111, 116, 97, 39, 44, 32, 39, 115, 117, 98, 97, 114, 117, 39, 44, 32, 39, 98, 109, 119, 39, 44, 32, 39, 97, 117, 100, 105, 39, 93]\n"
     ]
    }
   ],
   "source": [
    "asscii_cars = list(bytes(str(cars), 'ascii'))\n",
    "print(asscii_cars)"
   ]
  },
  {
   "cell_type": "markdown",
   "metadata": {},
   "source": [
    "In list sorting alphabetical order Occurs as follows:\n",
    "\n",
    "1. Uppercase letters are sorted before lowercase letters.\n",
    "2. Numbers come before letters, and the order is based on the first digit.\n",
    "3. Special characters, such as spaces, exclamation points, and periods, are sorted before numbers and letters.\n",
    "4.  The sort() method changes the order of the list permanently, while the sorted() function maintains the original order of the list while presenting the list in a sorted order.\n",
    "5.  To sort a list alphabetically, you can use the sort() method or the sorted() function. You can also sort a list in reverse alphabetical order by passing the argument reverse=True to the sort() method or the sorted() function.\n",
    "6.  Sorting ocuur by asscii value of the characters in the list elements ex: 'A' < 'a' < 'b' < 'c' < 'd' < 'e' < 'f' < 'g' < 'h' < 'i' < 'j' < 'k' < 'l' < 'm' < 'n' < 'o' < 'p' < 'q' < 'r' < 's' < 't' < 'u' < 'v' < 'w' < 'x' < 'y' < 'z'"
   ]
  },
  {
   "cell_type": "markdown",
   "metadata": {},
   "source": [
    "**Printing a List in Reverse Order**\n",
    "\n",
    "To reverse the original order of a list, you can use the reverse() method. \n",
    "If we originally stored the list of cars in chronological order according to \n",
    "when we owned them, we could easily rearrange the list into reverse chronological order:"
   ]
  },
  {
   "cell_type": "markdown",
   "metadata": {},
   "source": [
    "Choronological order is the order of events as they occurred in time. For example, if you were to list the cars you’ve owned in the order you bought them, you would be listing them in chronological order."
   ]
  },
  {
   "cell_type": "code",
   "execution_count": 39,
   "metadata": {},
   "outputs": [
    {
     "name": "stdout",
     "output_type": "stream",
     "text": [
      "['toyota', 'subaru', 'bmw', 'audi']\n",
      "['audi', 'bmw', 'subaru', 'toyota']\n"
     ]
    }
   ],
   "source": [
    "print(cars)\n",
    "cars.reverse()\n",
    "print(cars)"
   ]
  },
  {
   "cell_type": "markdown",
   "metadata": {},
   "source": [
    "Notice that reverse() doesn’t sort backward alphabetically; it simply reverses the order of the list.\n",
    "The reverse() method changes the order of a list permanently, but you can revert to the original order anytime by applying reverse() to the same \n",
    "list a second time.\n"
   ]
  },
  {
   "cell_type": "markdown",
   "metadata": {},
   "source": [
    "**Finding the Length of a List**\n",
    "\n",
    "You can quickly find the length of a list by using the len() function. The list in this example has four items, so its length is 4:"
   ]
  },
  {
   "cell_type": "code",
   "execution_count": 40,
   "metadata": {},
   "outputs": [
    {
     "name": "stdout",
     "output_type": "stream",
     "text": [
      "['audi', 'bmw', 'subaru', 'toyota']\n"
     ]
    },
    {
     "data": {
      "text/plain": [
       "4"
      ]
     },
     "execution_count": 40,
     "metadata": {},
     "output_type": "execute_result"
    }
   ],
   "source": [
    "print(cars)\n",
    "len(cars)"
   ]
  },
  {
   "cell_type": "markdown",
   "metadata": {},
   "source": [
    "You’ll find len() useful when you need to identify the number of aliens that still need to be shot down in a game, determine the amount of data \n",
    "you have to manage in a visualization, or figure out the number of registered users on a website, among other tasks."
   ]
  },
  {
   "cell_type": "markdown",
   "metadata": {},
   "source": [
    "**Try It Yourself**\n",
    "\n",
    "1. Seeing the World: Think of at least five places in the world you’d like to visit.\n",
    "* Store the locations in a list. Make sure the list is not in alphabetical order.\n",
    "* Print your list in its original order. Don’t worry about printing the list neatly, just print it as a raw Python list.\n",
    "* Use sorted() to print your list in alphabetical order without modifying the actual list.\n",
    "* Show that your list is still in its original order by printing it.\n",
    "* Use sorted() to print your list in reverse alphabetical order without changing the order of the original list.\n",
    "* Show that your list is still in its original order by printing it again.\n",
    "* Use reverse() to change the order of your list. Print the list to show that its order has changed.\n",
    "* Use reverse() to change the order of your list again. Print the list to show it’s back to its original order.\n",
    "* Use sort() to change your list so it’s stored in alphabetical order. Print the list to show that its order has been changed.\n",
    "* Use sort() to change your list so it’s stored in reverse alphabetical order. Print the list to show that its order has changed.\n",
    "2. Dinner Guests: Working with one of the programs, use len() to print a message indicating the number of people you are inviting to dinner.\n",
    "3. Every Function: Think of something you could store in a list. For example, you could make a list of mountains, rivers, countries, cities, languages, or anything else you’d like. Write a program that creates a list containing these items and then uses each function introduced in this chapter at least once"
   ]
  },
  {
   "cell_type": "code",
   "execution_count": 41,
   "metadata": {},
   "outputs": [],
   "source": [
    "# do your code here"
   ]
  },
  {
   "cell_type": "markdown",
   "metadata": {},
   "source": [
    "**Avoiding Index Errors When Working with Lists**\n",
    "\n",
    "One type of error is common to see when you’re working with lists for the first time. Let’s say you have a list with three items, and you ask for the \n",
    "fourth item:"
   ]
  },
  {
   "cell_type": "code",
   "execution_count": 47,
   "metadata": {},
   "outputs": [],
   "source": [
    "motorcycles = ['honda', 'yamaha', 'suzuki'] \n",
    "# print(motorcycles[3])  IndexError: list index out of range"
   ]
  },
  {
   "cell_type": "markdown",
   "metadata": {},
   "source": [
    "Python attempts to give you the item at index 3. But when it searches the list, no item in motorcycles has an index of 3. Because of the off-by-one \n",
    "nature of indexing in lists, this error is typical. People think the third item is item number 3, because they start counting at 1. But in Python the third item is number 2, because it starts indexing at 0. \n",
    "An index error means Python can’t figure out the index you requested. If an index error occurs in your program, try adjusting the index you’re asking \n",
    "for by one. Then run the program again to see if the results are correct.\n",
    "Keep in mind that whenever you want to access the last item in a list you use the index -1. This will always work, even if your list has changed \n",
    "size since the last time you accessed it:"
   ]
  },
  {
   "cell_type": "code",
   "execution_count": 44,
   "metadata": {},
   "outputs": [
    {
     "name": "stdout",
     "output_type": "stream",
     "text": [
      "suzuki\n"
     ]
    }
   ],
   "source": [
    "print(motorcycles[-1]) # suzuki -> last element in list"
   ]
  },
  {
   "cell_type": "code",
   "execution_count": 46,
   "metadata": {},
   "outputs": [],
   "source": [
    "motorcycles = [] \n",
    "#print(motorcycles[-1]) IndexError: list index out of range"
   ]
  },
  {
   "cell_type": "markdown",
   "metadata": {},
   "source": [
    "**Notes**\n",
    "\n",
    "If an index error occurs and you can’t figure out how to resolve it, try printing your list or just printing the length of your list. Your list might look much different than you thought it did, especially if it has been managed dynamically by your program. \n",
    "Seeing the actual list, or the exact number of items in your list, can help you sort out such logical errors.\n"
   ]
  },
  {
   "cell_type": "markdown",
   "metadata": {},
   "source": [
    "**Looping Through an Entire List**\n",
    "\n",
    "You’ll often want to run through all entries in a list, performing the same task with each item. For example, in a game you might want to move every \n",
    "element on the screen by the same amount, or in a list of numbers you might want to perform the same statistical operation on every element. Or \n",
    "perhaps you’ll want to display each headline from a list of articles on a website. When you want to do the same action with every item in a list, you can use Python’s for loop.\n",
    "Let’s say we have a list of magicians’ names, and we want to print out each name in the list. We could do this by retrieving each name from the \n",
    "list individually, but this approach could cause several problems. For one, it would be repetitive to do this with a long list of names. Also, we’d have to change our code each time the list’s length changed. A for loop avoids both of these issues by letting Python manage these issues internally.\n",
    "Let’s use a for loop to print out each name in a list of magicians:"
   ]
  },
  {
   "cell_type": "code",
   "execution_count": 49,
   "metadata": {},
   "outputs": [
    {
     "name": "stdout",
     "output_type": "stream",
     "text": [
      "alice\n",
      "david\n",
      "carolina\n"
     ]
    }
   ],
   "source": [
    "magicians = ['alice', 'david', 'carolina'] \n",
    "for magician in magicians: \n",
    "\tprint(magician)"
   ]
  },
  {
   "cell_type": "code",
   "execution_count": 53,
   "metadata": {},
   "outputs": [
    {
     "name": "stdout",
     "output_type": "stream",
     "text": [
      "Alice, that was a great trick!\n",
      "I can't wait to see your next trick, Alice.\n",
      "\n",
      "David, that was a great trick!\n",
      "I can't wait to see your next trick, David.\n",
      "\n",
      "Carolina, that was a great trick!\n",
      "I can't wait to see your next trick, Carolina.\n",
      "\n",
      "Thank you, everyone. That was a great magic show!\n"
     ]
    }
   ],
   "source": [
    "for magician in magicians: \n",
    "\tprint(f\"{magician.title()}, that was a great trick!\") \n",
    "\tprint(f\"I can't wait to see your next trick, {magician.title()}.\\n\")\n",
    "\n",
    "print(\"Thank you, everyone. That was a great magic show!\")"
   ]
  },
  {
   "cell_type": "markdown",
   "metadata": {},
   "source": [
    "**Avoiding Indentation Errors**\n",
    "\n",
    "Python uses indentation to determine when one line of code is connected to the line above it. In the previous examples, the lines that printed messages to individual magicians were part of the for loop because they were indented. \n",
    "Python’s use of indentation makes code very easy to read. Basically, it uses whitespace to force you to write neatly formatted code with a clear visual \n",
    "structure. In longer Python programs, you’ll notice blocks of code indented at a few different levels. These indentation levels help you gain a general \n",
    "sense of the overall program’s organization. \n",
    "As you begin to write code that relies on proper indentation, you’ll need to watch for a few common indentation errors. For example, people \n",
    "sometimes indent blocks of code that don’t need to be indented or forget to indent blocks that need to be indented. Seeing examples of these errors \n",
    "now will help you avoid them in the future and correct them when they do appear in your own programs.\n",
    "Let’s examine some of the more common indentation errors.\n",
    "\n",
    "**Forgetting to Indent**\n",
    "\n",
    "Always indent the line after the for statement in a loop. If you forget, Python \n",
    "will remind you:"
   ]
  },
  {
   "cell_type": "code",
   "execution_count": 56,
   "metadata": {},
   "outputs": [],
   "source": [
    "#for magician in magicians: \n",
    "#print(magician) IndentationError: expected an indented block\n"
   ]
  },
  {
   "cell_type": "code",
   "execution_count": 57,
   "metadata": {},
   "outputs": [
    {
     "name": "stdout",
     "output_type": "stream",
     "text": [
      "Alice, that was a great trick!\n",
      "David, that was a great trick!\n",
      "Carolina, that was a great trick!\n",
      "I can't wait to see your next trick, Carolina.\n",
      "\n",
      "Thank you, everyone. That was a great magic show!\n"
     ]
    }
   ],
   "source": [
    "for magician in magicians: \n",
    "\tprint(f\"{magician.title()}, that was a great trick!\") \n",
    "print(f\"I can't wait to see your next trick, {magician.title()}.\\n\")\n",
    "\n",
    "print(\"Thank you, everyone. That was a great magic show!\")"
   ]
  },
  {
   "cell_type": "markdown",
   "metadata": {},
   "source": [
    "This is a logical error. The syntax is valid Python code, but the code does not produce the desired result because a problem occurs in its logic. If you \n",
    "expect to see a certain action repeated once for each item in a list and it’s executed only once, determine whether you need to simply indent a line or \n",
    "a group of lines"
   ]
  },
  {
   "cell_type": "markdown",
   "metadata": {},
   "source": [
    "**Indenting Unnecessarily**\n",
    "\n",
    "If you accidentally indent a line that doesn’t need to be indented, Python informs you about the unexpected indent:"
   ]
  },
  {
   "cell_type": "code",
   "execution_count": 59,
   "metadata": {},
   "outputs": [],
   "source": [
    "# message = \"Hello Python world!\"\n",
    "\t#print(message)  IndentationError: unexpected indent"
   ]
  },
  {
   "cell_type": "markdown",
   "metadata": {},
   "source": [
    "**Indenting Unnecessarily After the Loop**\n",
    "\n",
    "If you accidentally indent code that should run after a loop has finished, that code will be repeated once for each item in the list. Sometimes this prompts Python to report an error, but often you’ll receive a simple logical error.\n",
    "For example, let’s see what happens when we accidentally indent the line that thanked the magicians as a group for putting on a good show:"
   ]
  },
  {
   "cell_type": "code",
   "execution_count": 60,
   "metadata": {},
   "outputs": [
    {
     "name": "stdout",
     "output_type": "stream",
     "text": [
      "Alice, that was a great trick!\n",
      "I can't wait to see your next trick, Alice.\n",
      "\n",
      "Thank you, everyone. That was a great magic show!\n",
      "David, that was a great trick!\n",
      "I can't wait to see your next trick, David.\n",
      "\n",
      "Thank you, everyone. That was a great magic show!\n",
      "Carolina, that was a great trick!\n",
      "I can't wait to see your next trick, Carolina.\n",
      "\n",
      "Thank you, everyone. That was a great magic show!\n"
     ]
    }
   ],
   "source": [
    "for magician in magicians: \n",
    "\tprint(f\"{magician.title()}, that was a great trick!\") \n",
    "\tprint(f\"I can't wait to see your next trick, {magician.title()}.\\n\")\n",
    "\n",
    "\tprint(\"Thank you, everyone. That was a great magic show!\")"
   ]
  },
  {
   "cell_type": "markdown",
   "metadata": {},
   "source": [
    "This is another logical error, similar to the one in “Forgetting to Indent Additional Lines” on page 58. Because Python doesn’t know what you’re \n",
    "trying to accomplish with your code, it will run all code that is written in valid syntax. If an action is repeated many times when it should be executed only once, determine whether you just need to unindent the code for that \n",
    "action."
   ]
  },
  {
   "cell_type": "markdown",
   "metadata": {},
   "source": [
    "**Forgetting the Colon**\n",
    "\n",
    "The colon at the end of a for statement tells Python to interpret the next line as the start of a loop. "
   ]
  },
  {
   "cell_type": "code",
   "execution_count": 62,
   "metadata": {},
   "outputs": [],
   "source": [
    "# magicians = ['alice', 'david', 'carolina'] \n",
    "# for magician in magicians # SyntaxError: invalid syntax expected ':'\n",
    "#  print(magician)"
   ]
  },
  {
   "cell_type": "markdown",
   "metadata": {},
   "source": [
    "If you accidentally forget the colon, you’ll get a syntax error because Python doesn’t know what you’re trying to do. Although \n",
    "this is an easy error to fix, it’s not always an easy error to find. You’d be surprised by the amount of time programmers spend hunting down singlecharacter errors like this. Such errors are difficult to find because we often just see what we expect to see."
   ]
  },
  {
   "cell_type": "markdown",
   "metadata": {},
   "source": [
    "**Try It Yourself**\n",
    "1. Pizzas: Think of at least three kinds of your favorite pizza. Store these pizza names in a list, and then use a for loop to print the name of each pizza.\n",
    "* Modify your for loop to print a sentence using the name of the pizza instead of printing just the name of the pizza. For each pizza you should have one line of output containing a simple statement like I like pepperoni pizza.\n",
    "* Add a line at the end of your program, outside the for loop, that states how much you like pizza. The output should consist of three or more lines \n",
    "about the kinds of pizza you like and then an additional sentence, such as I really love pizza!\n",
    "2. Animals: Think of at least three different animals that have a common characteristic. Store the names of these animals in a list, and then use a for loop to print out the name of each animal.\n",
    "* Modify your program to print a statement about each animal, such as A dog would make a great pet.\n",
    "* Add a line at the end of your program stating what these animals have in common. You could print a sentence such as Any of these animals would make a great pet!\n"
   ]
  },
  {
   "cell_type": "code",
   "execution_count": 63,
   "metadata": {},
   "outputs": [],
   "source": [
    "# do your code here"
   ]
  },
  {
   "cell_type": "markdown",
   "metadata": {},
   "source": [
    "**Making Numerical Lists**\n",
    "\n",
    "Many reasons exist to store a set of numbers. For example, you’ll need to keep track of the positions of each character in a game, and you might want \n",
    "to keep track of a player’s high scores as well. In data visualizations, you’ll almost always work with sets of numbers, such as temperatures, distances, population sizes, or latitude and longitude values, among other types of \n",
    "numerical sets.\n",
    "Lists are ideal for storing sets of numbers, and Python provides a number of tools to help you work efficiently with lists of numbers. Once you \n",
    "understand how to use these tools effectively, your code will work well even when your lists contain millions of items.\n",
    "\n",
    "**Using the range() Function**\n",
    "\n",
    "Python’s range() function makes it easy to generate a series of numbers. \n",
    "For example, you can use the range() function to print a series of numbers \n",
    "like this:"
   ]
  },
  {
   "cell_type": "code",
   "execution_count": 64,
   "metadata": {},
   "outputs": [
    {
     "name": "stdout",
     "output_type": "stream",
     "text": [
      "1\n",
      "2\n",
      "3\n",
      "4\n"
     ]
    }
   ],
   "source": [
    "for value in range(1, 5): \n",
    "\tprint(value)"
   ]
  },
  {
   "cell_type": "markdown",
   "metadata": {},
   "source": [
    "In this example, range() prints only the numbers 1 through 4. This is another result of the off-by-one behavior you’ll see often in programming \n",
    "languages. The range() function causes Python to start counting at the first value you give it, and it stops when it reaches the second value you provide. \n",
    "Because it stops at that second value, the output never contains the end value, which would have been 5 in this case.\n",
    "To print the numbers from 1 to 5, you would use range(1,6):"
   ]
  },
  {
   "cell_type": "code",
   "execution_count": 65,
   "metadata": {},
   "outputs": [
    {
     "name": "stdout",
     "output_type": "stream",
     "text": [
      "1\n",
      "2\n",
      "3\n",
      "4\n",
      "5\n"
     ]
    }
   ],
   "source": [
    "for value in range(1, 6): \n",
    "\tprint(value)"
   ]
  },
  {
   "cell_type": "markdown",
   "metadata": {},
   "source": [
    "**Using range() to Make a List of Numbers**\n",
    "\n",
    "If you want to make a list of numbers, you can convert the results of range() directly into a list using the list() function. When you wrap list() around a call to the range() function, the output will be a list of numbers.\n",
    "In the example in the previous section, we simply printed out a series of numbers. We can use list() to convert that same set of numbers into a list:"
   ]
  },
  {
   "cell_type": "code",
   "execution_count": 67,
   "metadata": {},
   "outputs": [
    {
     "data": {
      "text/plain": [
       "[1, 2, 3, 4, 5]"
      ]
     },
     "execution_count": 67,
     "metadata": {},
     "output_type": "execute_result"
    }
   ],
   "source": [
    "numbers = list(range(1, 6))\n",
    "numbers"
   ]
  },
  {
   "cell_type": "markdown",
   "metadata": {},
   "source": [
    "We can also use the range() function to tell Python to skip numbers in a given range. For example, here’s how we would list the even numbers \n",
    "between 1 and 10:"
   ]
  },
  {
   "cell_type": "code",
   "execution_count": 68,
   "metadata": {},
   "outputs": [
    {
     "data": {
      "text/plain": [
       "[2, 4, 6, 8, 10]"
      ]
     },
     "execution_count": 68,
     "metadata": {},
     "output_type": "execute_result"
    }
   ],
   "source": [
    "even_numbers = list(range(2, 11, 2))\n",
    "even_numbers"
   ]
  },
  {
   "cell_type": "markdown",
   "metadata": {},
   "source": [
    "You can create almost any set of numbers you want to using the range() function. For example, consider how you might make a list of the first 10 \n",
    "square numbers (that is, the square of each integer from 1 through 10). In Python, two asterisks (**) represent exponents. Here’s how you might put \n",
    "the first 10 square numbers into a list:"
   ]
  },
  {
   "cell_type": "code",
   "execution_count": 69,
   "metadata": {},
   "outputs": [
    {
     "name": "stdout",
     "output_type": "stream",
     "text": [
      "[1, 4, 9, 16, 25, 36, 49, 64, 81, 100]\n"
     ]
    }
   ],
   "source": [
    "squares = []\n",
    "for value in range(1,11):\n",
    "\tsquare = value**2\n",
    "\tsquares.append(square)\n",
    "print(squares)"
   ]
  },
  {
   "cell_type": "markdown",
   "metadata": {},
   "source": [
    "**Simple Statistics with a List of Numbers**\n",
    "\n",
    "A few Python functions are specific to lists of numbers. For example, you can easily find the minimum, maximum, and sum of a list of numbers:"
   ]
  },
  {
   "cell_type": "code",
   "execution_count": 1,
   "metadata": {},
   "outputs": [
    {
     "name": "stdout",
     "output_type": "stream",
     "text": [
      "0\n",
      "9\n",
      "45\n",
      "4.5\n"
     ]
    }
   ],
   "source": [
    "digits = [1, 2, 3, 4, 5, 6, 7, 8, 9, 0]\n",
    "print(min(digits)) # minimum value in list\n",
    "print(max(digits)) # maximum value in list\n",
    "print(sum(digits)) # sum of all values in list\n",
    "avg = sum(digits) / len(digits) # average of all values in list\n",
    "print(avg) "
   ]
  },
  {
   "cell_type": "markdown",
   "metadata": {},
   "source": [
    "**List Comprehensions**\n",
    "\n",
    "The approach described earlier for generating the list squares consisted of using three or four lines of code. A list comprehension allows you to generate this same list in just one line of code. A list comprehension combines the for loop and the creation of new elements into one line, and automatically appends each new element. List comprehensions are not always presented to beginners, but I have included them here because you’ll most likely see them as soon as you start looking at other people’s code.\n",
    "The following example builds the same list of square numbers you saw earlier but uses a list comprehension:"
   ]
  },
  {
   "cell_type": "code",
   "execution_count": 2,
   "metadata": {},
   "outputs": [
    {
     "name": "stdout",
     "output_type": "stream",
     "text": [
      "[1, 4, 9, 16, 25, 36, 49, 64, 81, 100]\n"
     ]
    }
   ],
   "source": [
    "squares = [value**2 for value in range(1,11)]\n",
    "print(squares)"
   ]
  },
  {
   "cell_type": "markdown",
   "metadata": {},
   "source": [
    "To use this syntax, begin with a descriptive name for the list, such as squares. Next, open a set of square brackets and define the expression for \n",
    "the values you want to store in the new list. In this example the expression is value** 2, which raises the value to the second power. Then, write \n",
    "a for loop to generate the numbers you want to feed into the expression, and close the square brackets. The for loop in this example is for value \n",
    "in range(1,11), which feeds the values 1 through 10 into the expression value** 2. Notice that no colon is used at the end of the for statement.\n",
    "The result is the same list of square numbers you saw earlier:"
   ]
  },
  {
   "cell_type": "markdown",
   "metadata": {},
   "source": [
    "**Try It Yourself**\n",
    "\n",
    "1. Counting to Twenty: Use a for loop to print the numbers from 1 to 20, inclusive.\n",
    "2. One Million: Make a list of the numbers from one to one million, and then use a for loop to print the numbers. (If the output is taking too long, stop it by pressing ctrl-C or by closing the output window.)\n",
    "3. Summing a Million: Make a list of the numbers from one to one million, and then use min() and max() to make sure your list actually starts at one and \n",
    "ends at one million. Also, use the sum() function to see how quickly Python can add a million numbers.\n",
    "4. Odd Numbers: Use the third argument of the range() function to make a list of the odd numbers from 1 to 20. Use a for loop to print each number.\n",
    "5. Threes: Make a list of the multiples of 3 from 3 to 30. Use a for loop to print the numbers in your list.\n",
    "6. Cubes: A number raised to the third power is called a cube. For example, the cube of 2 is written as 2**3 in Python. Make a list of the first 10 cubes (that is, the cube of each integer from 1 through 10), and use a for loop to print out the value of each cube.\n",
    "7. Cube Comprehension: Use a list comprehension to generate a list of the first 10 cubes.\n"
   ]
  },
  {
   "cell_type": "code",
   "execution_count": 3,
   "metadata": {},
   "outputs": [],
   "source": [
    "# do your code here"
   ]
  },
  {
   "cell_type": "markdown",
   "metadata": {},
   "source": [
    "**Slicing a List**\n",
    "\n",
    "To make a slice, you specify the index of the first and last elements you want to work with. As with the range() function, Python stops one item \n",
    "before the second index you specify. To output the first three elements in a list, you would request indices 0 through 3, which would return elements 0, 1, and 2."
   ]
  },
  {
   "cell_type": "code",
   "execution_count": 4,
   "metadata": {},
   "outputs": [
    {
     "name": "stdout",
     "output_type": "stream",
     "text": [
      "['charles', 'martina', 'michael']\n"
     ]
    }
   ],
   "source": [
    "players = ['charles', 'martina', 'michael', 'florence', 'eli'] \n",
    "print(players[0:3])"
   ]
  },
  {
   "cell_type": "markdown",
   "metadata": {},
   "source": [
    "You can generate any subset of a list. For example, if you want the second, third, and fourth items in a list, you would start the slice at index 1 and \n",
    "end at index 4:"
   ]
  },
  {
   "cell_type": "code",
   "execution_count": 5,
   "metadata": {},
   "outputs": [
    {
     "name": "stdout",
     "output_type": "stream",
     "text": [
      "['martina', 'michael', 'florence']\n"
     ]
    }
   ],
   "source": [
    "players = ['charles', 'martina', 'michael', 'florence', 'eli']\n",
    "print(players[1:4])"
   ]
  },
  {
   "cell_type": "code",
   "execution_count": 6,
   "metadata": {},
   "outputs": [
    {
     "name": "stdout",
     "output_type": "stream",
     "text": [
      "['charles', 'martina', 'michael', 'florence']\n"
     ]
    }
   ],
   "source": [
    "# If you omit the first index in a slice, Python automatically starts your slice at the beginning of the list:\n",
    "players = ['charles', 'martina', 'michael', 'florence', 'eli']\n",
    "print(players[:4])"
   ]
  },
  {
   "cell_type": "markdown",
   "metadata": {},
   "source": [
    "A similar syntax works if you want a slice that includes the end of a list. For example, if you want all items from the third item through the last item, you can start with index 2 and omit the second index:"
   ]
  },
  {
   "cell_type": "code",
   "execution_count": 7,
   "metadata": {},
   "outputs": [
    {
     "name": "stdout",
     "output_type": "stream",
     "text": [
      "['michael', 'florence', 'eli']\n"
     ]
    }
   ],
   "source": [
    "players = ['charles', 'martina', 'michael', 'florence', 'eli']\n",
    "print(players[2:])"
   ]
  },
  {
   "cell_type": "markdown",
   "metadata": {},
   "source": [
    "This syntax allows you to output all of the elements from any point in your list to the end regardless of the length of the list. Recall that a negative index returns an element a certain distance from the end of a list; therefore, you can output any slice from the end of a list. For example, if \n",
    "we want to output the last three players on the roster, we can use the slice players[-3:]:"
   ]
  },
  {
   "cell_type": "code",
   "execution_count": 8,
   "metadata": {},
   "outputs": [
    {
     "name": "stdout",
     "output_type": "stream",
     "text": [
      "['michael', 'florence', 'eli']\n"
     ]
    }
   ],
   "source": [
    "players = ['charles', 'martina', 'michael', 'florence', 'eli']\n",
    "print(players[-3:])"
   ]
  },
  {
   "cell_type": "markdown",
   "metadata": {},
   "source": [
    "**Looping Through a Slice**\n",
    "\n",
    "oop if you want to loop through a subset of the elements in a list. In the next example we loop through the first three players and print their names as part of a simple roster:"
   ]
  },
  {
   "cell_type": "code",
   "execution_count": 10,
   "metadata": {},
   "outputs": [
    {
     "name": "stdout",
     "output_type": "stream",
     "text": [
      "Here are the first three players on my team:\n",
      "Charles\n",
      "Martina\n",
      "Michael\n"
     ]
    }
   ],
   "source": [
    "players = ['charles', 'martina', 'michael', 'florence', 'eli'] \n",
    "print(\"Here are the first three players on my team:\")\n",
    "for player in players[:3]:\n",
    "\tprint(player.title())\n"
   ]
  },
  {
   "cell_type": "markdown",
   "metadata": {},
   "source": [
    "Slices are very useful in a number of situations. For instance, when you’re creating a game, you could add a player’s final score to a list every time that player finishes playing. You could then get a player’s top three scores by sorting the list in decreasing order and taking a slice that includes just the first three scores. When you’re working with data, you can use slices to process your data in chunks of a specific size. Or, when you’re building a web application, you could use slices to display information in a series of pages with an appropriate amount of information on each page"
   ]
  },
  {
   "cell_type": "markdown",
   "metadata": {},
   "source": [
    "**Copying a List**\n",
    "\n",
    "Often, you’ll want to start with an existing list and make an entirely new list based on the first one. Let’s explore how copying a list works and examine one situation in which copying a list is useful.\n",
    "To copy a list, you can make a slice that includes the entire original list by omitting the first index and the second index ([:]). This tells Python to \n",
    "make a slice that starts at the first item and ends with the last item, producing a copy of the entire list.\n",
    "For example, imagine we have a list of our favorite foods and want to make a separate list of foods that a friend likes. This friend likes everything \n",
    "in our list so far, so we can create their list by copying ours:\n"
   ]
  },
  {
   "cell_type": "code",
   "execution_count": 16,
   "metadata": {},
   "outputs": [
    {
     "name": "stdout",
     "output_type": "stream",
     "text": [
      "My favorite foods are:\n",
      "['pizza', 'falafel', 'carrot cake']\n",
      "\n",
      "My friend's favorite foods are:\n",
      "['pizza', 'falafel', 'carrot cake']\n"
     ]
    }
   ],
   "source": [
    "my_foods01 = ['pizza', 'falafel', 'carrot cake']\n",
    "friend_foods01 = my_foods01[:] # Copy list to another list\n",
    "print(\"My favorite foods are:\")\n",
    "print(my_foods01)\n",
    "print(\"\\nMy friend's favorite foods are:\")\n",
    "print(friend_foods01)"
   ]
  },
  {
   "cell_type": "markdown",
   "metadata": {},
   "source": [
    "To prove that we actually have two separate lists, we’ll add a new food to each list and show that each list keeps track of the appropriate person’s \n",
    "favorite foods:"
   ]
  },
  {
   "cell_type": "code",
   "execution_count": 17,
   "metadata": {},
   "outputs": [
    {
     "name": "stdout",
     "output_type": "stream",
     "text": [
      "My favorite foods are:\n",
      "['pizza', 'falafel', 'carrot cake', 'cannoli']\n",
      "\n",
      "My friend's favorite foods are:\n",
      "['pizza', 'falafel', 'carrot cake', 'ice cream']\n"
     ]
    }
   ],
   "source": [
    "my_foods01.append('cannoli')\n",
    "friend_foods01.append('ice cream')\n",
    "print(\"My favorite foods are:\")\n",
    "print(my_foods01)\n",
    "print(\"\\nMy friend's favorite foods are:\")\n",
    "print(friend_foods01)"
   ]
  },
  {
   "cell_type": "code",
   "execution_count": 18,
   "metadata": {},
   "outputs": [
    {
     "name": "stdout",
     "output_type": "stream",
     "text": [
      "My favorite foods are:\n",
      "['pizza', 'falafel', 'carrot cake', 'cannoli', 'ice cream']\n",
      "\n",
      "My friend's favorite foods are:\n",
      "['pizza', 'falafel', 'carrot cake', 'cannoli', 'ice cream']\n"
     ]
    }
   ],
   "source": [
    "#  For example, here’s what happens when you try to copy a list without using a slice:\n",
    "my_foods02 = ['pizza', 'falafel', 'carrot cake']\n",
    "friend_foods02 = my_foods02\n",
    "my_foods02.append('cannoli')\n",
    "friend_foods02.append('ice cream')\n",
    "print(\"My favorite foods are:\")\n",
    "print(my_foods02)\n",
    "print(\"\\nMy friend's favorite foods are:\")\n",
    "print(friend_foods02)"
   ]
  },
  {
   "cell_type": "markdown",
   "metadata": {},
   "source": [
    "Instead of storing a copy of my_foods in friend_foods at u, we set friend_foods equal to my_foods. This syntax actually tells Python to connect the new variable friend_foods to the list that is already contained in my_foods, so now both variables point to the same list. As a result, when we \n",
    "add 'cannoli' to my_foods, it will also appear in friend_foods. Likewise 'ice cream' will appear in both lists, even though it appears to be added only to friend_foods.\n",
    "The output shows that both lists are the same now, which is not what we wanted."
   ]
  },
  {
   "cell_type": "code",
   "execution_count": 19,
   "metadata": {},
   "outputs": [
    {
     "name": "stdout",
     "output_type": "stream",
     "text": [
      "My Food Version 01 Location in memory:0x23c7f7241c0\n",
      "My friend Food Version 01 Location in memory: 0x23c7f7279c0\n",
      "My Food Version 02:0x23c7f737380\n",
      "My friend Food Version 02 Location in memory: 0x23c7f737380\n"
     ]
    }
   ],
   "source": [
    "# Let's Looking closly to memory address of each list\n",
    "print(f'My Food Version 01 Location in memory:{hex(id(my_foods01))}') # Location in memory 0x23c7f7241c0\n",
    "print(f'My friend Food Version 01 Location in memory: {hex(id(friend_foods01))}') # Location in memory 0x23c7f7279c0\n",
    "\n",
    "print(f'My Food Version 02:{hex(id(my_foods02))}') # Location in memory: 0x23c7f737380\n",
    "print(f'My friend Food Version 02 Location in memory: {hex(id(friend_foods02))}') # Location in memory: 0x23c7f737380"
   ]
  },
  {
   "cell_type": "markdown",
   "metadata": {},
   "source": [
    "* When Using Slice to Copy a List my_foods01 and friend_foods01 are two separate lists have two different memory locations and when we add a new item to my_foods01 it will not appear in friend_foods01.\n",
    "\n",
    "* But when using the assignment operator to copy a list my_foods02 and friend_foods02 are two lists but have the same memory location and when we add a new item to my_foods02 it will appear in friend_foods02.\n"
   ]
  },
  {
   "cell_type": "markdown",
   "metadata": {},
   "source": [
    "**Try It Yourself**\n",
    "\n",
    "1. Slices: Using one of the programs you wrote in this chapter, add several lines to the end of the program that do the following:\n",
    "* Print the message, The first three items in the list are:. Then use a slice to print the first three items from that program’s list.\n",
    "* Print the message, Three items from the middle of the list are:. Use a slice to print three items from the middle of the list.\n",
    "* Print the message, The last three items in the list are:. Use a slice to print the last three items in the list.\n",
    "2. My Pizzas, Your Pizzas: Start with your program. Make a copy of the list of pizzas, and call it friend_pizzas.\n",
    "Then, do the following:\n",
    "   * Add a new pizza to the original list.\n",
    "   * Add a different pizza to the list friend_pizzas.\n",
    "   * Prove that you have two separate lists. Print the message, My favorite pizzas are:, and then use a for loop to print the first list. Print the message, My friend’s favorite pizzas are:, and then use a for loop to print the second list. Make sure each new pizza is stored in the appropriate list.\n",
    "1. More Loops: All versions of foods.py in this section have avoided using for loops when printing to save space. Choose a version of foods.py, and \n",
    "write two for loops to print each list of foods."
   ]
  },
  {
   "cell_type": "code",
   "execution_count": 20,
   "metadata": {},
   "outputs": [],
   "source": [
    "# do your code here"
   ]
  },
  {
   "cell_type": "markdown",
   "metadata": {},
   "source": [
    "#### Tuble (Immutable)"
   ]
  },
  {
   "cell_type": "markdown",
   "metadata": {},
   "source": [
    "**Defining a Tuple**\n",
    "\n",
    "A tuple looks just like a list except you use parentheses instead of square brackets. Once you define a tuple, you can access individual elements by \n",
    "using each item’s index, just as you would for a list.\n",
    "For example, if we have a rectangle that should always be a certain size, we can ensure that its size doesn’t change by putting the dimensions into a \n",
    "tuple:"
   ]
  },
  {
   "cell_type": "code",
   "execution_count": 21,
   "metadata": {},
   "outputs": [
    {
     "name": "stdout",
     "output_type": "stream",
     "text": [
      "200\n",
      "50\n"
     ]
    }
   ],
   "source": [
    "dimensions = (200, 50)\n",
    "print(dimensions[0])\n",
    "print(dimensions[1])"
   ]
  },
  {
   "cell_type": "markdown",
   "metadata": {},
   "source": [
    "Let’s see what happens if we try to change one of the items in the tuple dimensions:"
   ]
  },
  {
   "cell_type": "code",
   "execution_count": 23,
   "metadata": {},
   "outputs": [],
   "source": [
    "# dimensions[0] = 250 # TypeError: 'tuple' object does not support item assignment"
   ]
  },
  {
   "cell_type": "markdown",
   "metadata": {},
   "source": [
    "Python returns a type error. Basically, because we’re trying to alter a tuple, which can’t be done to that type of object, Python tells us we can’t assign a new value to an item in a tuple"
   ]
  },
  {
   "cell_type": "markdown",
   "metadata": {},
   "source": [
    "This is beneficial because we want Python to raise an error when a line of code tries to change the dimensions of the rectangle."
   ]
  },
  {
   "cell_type": "markdown",
   "metadata": {},
   "source": [
    "**Looping Through All Values in a Tuple**\n",
    "\n",
    "You can loop over all the values in a tuple using a for loop, just as you did with a list:"
   ]
  },
  {
   "cell_type": "code",
   "execution_count": 24,
   "metadata": {},
   "outputs": [
    {
     "name": "stdout",
     "output_type": "stream",
     "text": [
      "200\n",
      "50\n"
     ]
    }
   ],
   "source": [
    "dimensions = (200, 50)\n",
    "for dimension in dimensions:\n",
    "\tprint(dimension)"
   ]
  },
  {
   "cell_type": "markdown",
   "metadata": {},
   "source": [
    "**Writing over a Tuple**\n",
    "\n",
    "Although you can’t modify a tuple, you can assign a new value to a variable that holds a tuple. So if we wanted to change our dimensions, we could \n",
    "redefine the entire tuple:"
   ]
  },
  {
   "cell_type": "code",
   "execution_count": 25,
   "metadata": {},
   "outputs": [
    {
     "name": "stdout",
     "output_type": "stream",
     "text": [
      "original dimensions:\n",
      "200\n",
      "50\n",
      "\n",
      "Modified dimensions:\n",
      "400\n",
      "100\n"
     ]
    }
   ],
   "source": [
    "dimensions = (200, 50)\n",
    "print('original dimensions:')\n",
    "for dimension in dimensions:\n",
    "\tprint(dimension)\n",
    "\n",
    "dimensions = (400, 100)\n",
    "print('\\nModified dimensions:')\n",
    "for dimension in dimensions:\n",
    "\tprint(dimension)\n"
   ]
  },
  {
   "cell_type": "markdown",
   "metadata": {},
   "source": [
    "When compared with lists, tuples are simple data structures. Use them when you want to store a set of values that should not be changed throughout the life of a program.\n"
   ]
  },
  {
   "cell_type": "markdown",
   "metadata": {},
   "source": [
    "Count Method: The count() method returns the number of times a specified value appears in the tuple."
   ]
  },
  {
   "cell_type": "code",
   "execution_count": 29,
   "metadata": {},
   "outputs": [
    {
     "data": {
      "text/plain": [
       "1"
      ]
     },
     "execution_count": 29,
     "metadata": {},
     "output_type": "execute_result"
    }
   ],
   "source": [
    "# Count number of 200 in tuple\n",
    "dimensions.count(200)"
   ]
  },
  {
   "cell_type": "markdown",
   "metadata": {},
   "source": [
    "Index Method: The index() method finds the first occurrence of the specified value."
   ]
  },
  {
   "cell_type": "code",
   "execution_count": 32,
   "metadata": {},
   "outputs": [
    {
     "data": {
      "text/plain": [
       "0"
      ]
     },
     "execution_count": 32,
     "metadata": {},
     "output_type": "execute_result"
    }
   ],
   "source": [
    "# Get index of 200 in tuple\n",
    "dimensions.index(200)"
   ]
  },
  {
   "cell_type": "markdown",
   "metadata": {},
   "source": [
    "enumerate() Function: The enumerate() function returns both the index and the value of each item in a tuple. You can use this function to modify each item in a tuple in a loop."
   ]
  },
  {
   "cell_type": "code",
   "execution_count": 33,
   "metadata": {},
   "outputs": [
    {
     "name": "stdout",
     "output_type": "stream",
     "text": [
      "0 first\n",
      "1 second\n",
      "2 third\n",
      "3 fourth\n"
     ]
    }
   ],
   "source": [
    "values = ('first', 'second', 'third', 'fourth')\n",
    "for index, value in enumerate(values):\n",
    "    print(index, value)"
   ]
  },
  {
   "cell_type": "markdown",
   "metadata": {},
   "source": [
    "**Try It Yourself**\n",
    "\n",
    "1. Buffet: A buffet-style restaurant offers only five basic foods. Think of five simple foods, and store them in a tuple.\n",
    "* Use a for loop to print each food the restaurant offers.\n",
    "* Try to modify one of the items, and make sure that Python rejects the \n",
    "change.\n",
    "* The restaurant changes its menu, replacing two of the items with different foods. Add a block of code that rewrites the tuple, and then use a for\n",
    "loop to print each of the items on the revised menu"
   ]
  },
  {
   "cell_type": "code",
   "execution_count": 26,
   "metadata": {},
   "outputs": [],
   "source": [
    "# do your code here"
   ]
  },
  {
   "cell_type": "markdown",
   "metadata": {},
   "source": [
    "#### Strings (Immutable)"
   ]
  },
  {
   "cell_type": "markdown",
   "metadata": {},
   "source": [
    "String is a sequence of characters. In Python, strings are enclosed inside single quotes, double quotes, or triple quotes. Python treats single quotes the same as double quotes. Creating strings is as simple as assigning a value to a variable."
   ]
  },
  {
   "cell_type": "code",
   "execution_count": 35,
   "metadata": {},
   "outputs": [
    {
     "data": {
      "text/plain": [
       "'H'"
      ]
     },
     "execution_count": 35,
     "metadata": {},
     "output_type": "execute_result"
    }
   ],
   "source": [
    "string = 'Hello Everyone'\n",
    "string[0] # H -> first character in string"
   ]
  },
  {
   "cell_type": "code",
   "execution_count": 37,
   "metadata": {},
   "outputs": [],
   "source": [
    "#string[0] = 'M' # Error -> TypeError: 'str' object does not support item assignment"
   ]
  },
  {
   "cell_type": "code",
   "execution_count": 39,
   "metadata": {},
   "outputs": [
    {
     "data": {
      "text/plain": [
       "3"
      ]
     },
     "execution_count": 39,
     "metadata": {},
     "output_type": "execute_result"
    }
   ],
   "source": [
    "string.count('e') # 3 -> count number of e in string"
   ]
  },
  {
   "cell_type": "code",
   "execution_count": 41,
   "metadata": {},
   "outputs": [
    {
     "data": {
      "text/plain": [
       "10"
      ]
     },
     "execution_count": 41,
     "metadata": {},
     "output_type": "execute_result"
    }
   ],
   "source": [
    "string.index('y') # 10 -> index of y in string"
   ]
  },
  {
   "cell_type": "markdown",
   "metadata": {},
   "source": [
    "find() Method: The find() method finds the first occurrence of the specified value. The find() method returns -1 if the value is not found."
   ]
  },
  {
   "cell_type": "code",
   "execution_count": 43,
   "metadata": {},
   "outputs": [
    {
     "data": {
      "text/plain": [
       "10"
      ]
     },
     "execution_count": 43,
     "metadata": {},
     "output_type": "execute_result"
    }
   ],
   "source": [
    "string.find('y') # 10 -> find index of y in string"
   ]
  },
  {
   "cell_type": "code",
   "execution_count": 45,
   "metadata": {},
   "outputs": [
    {
     "data": {
      "text/plain": [
       "['H', 'e', 'l', 'l', 'o', ' ', 'E', 'v', 'e', 'r', 'y', 'o', 'n', 'e']"
      ]
     },
     "execution_count": 45,
     "metadata": {},
     "output_type": "execute_result"
    }
   ],
   "source": [
    "list(string) # Convert string to list of characters ['H', 'e', 'l', 'l', 'o', ' ', 'E', 'v', 'e', 'r', 'y', 'o', 'n', 'e']"
   ]
  },
  {
   "cell_type": "code",
   "execution_count": 47,
   "metadata": {},
   "outputs": [
    {
     "name": "stdout",
     "output_type": "stream",
     "text": [
      "['__add__', '__class__', '__contains__', '__delattr__', '__dir__', '__doc__', '__eq__', '__format__', '__ge__', '__getattribute__', '__getitem__', '__getnewargs__', '__getstate__', '__gt__', '__hash__', '__init__', '__init_subclass__', '__iter__', '__le__', '__len__', '__lt__', '__mod__', '__mul__', '__ne__', '__new__', '__reduce__', '__reduce_ex__', '__repr__', '__rmod__', '__rmul__', '__setattr__', '__sizeof__', '__str__', '__subclasshook__', 'capitalize', 'casefold', 'center', 'count', 'encode', 'endswith', 'expandtabs', 'find', 'format', 'format_map', 'index', 'isalnum', 'isalpha', 'isascii', 'isdecimal', 'isdigit', 'isidentifier', 'islower', 'isnumeric', 'isprintable', 'isspace', 'istitle', 'isupper', 'join', 'ljust', 'lower', 'lstrip', 'maketrans', 'partition', 'removeprefix', 'removesuffix', 'replace', 'rfind', 'rindex', 'rjust', 'rpartition', 'rsplit', 'rstrip', 'split', 'splitlines', 'startswith', 'strip', 'swapcase', 'title', 'translate', 'upper', 'zfill']\n"
     ]
    }
   ],
   "source": [
    "print(dir(string)) # return all methods and attributes of string data type"
   ]
  },
  {
   "cell_type": "markdown",
   "metadata": {},
   "source": [
    "**Common string operations**"
   ]
  },
  {
   "cell_type": "code",
   "execution_count": 49,
   "metadata": {},
   "outputs": [
    {
     "name": "stdout",
     "output_type": "stream",
     "text": [
      "My full name is Mohamed Ismail\n"
     ]
    }
   ],
   "source": [
    "# format() method\n",
    "first_name = 'Mohamed'\n",
    "last_name = 'Ismail'\n",
    "full_name = \"My full name is {} {}\".format(first_name, last_name)\n",
    "print(full_name)"
   ]
  },
  {
   "cell_type": "markdown",
   "metadata": {},
   "source": [
    "Replacement fields have the following format:\n",
    "\n",
    "```{<argument>!<conversion>:<format-specification>}```"
   ]
  },
  {
   "cell_type": "code",
   "execution_count": 50,
   "metadata": {},
   "outputs": [
    {
     "name": "stdout",
     "output_type": "stream",
     "text": [
      "My full name is Ismail Mohamed\n"
     ]
    }
   ],
   "source": [
    "# positional arguments\n",
    "full_name = \"My full name is {1} {0}\".format(first_name, last_name) # can change order of arguments by index\n",
    "print(full_name)"
   ]
  },
  {
   "cell_type": "code",
   "execution_count": 52,
   "metadata": {},
   "outputs": [
    {
     "name": "stdout",
     "output_type": "stream",
     "text": [
      "My full name is Mohamed Ismail\n"
     ]
    }
   ],
   "source": [
    "# replacement fields with keyword arguments\n",
    "full_name = \"My full name is {first} {last}\".format(first=first_name, last=last_name) # can use keyword arguments to replace fields \n",
    "print(full_name)"
   ]
  },
  {
   "cell_type": "code",
   "execution_count": 54,
   "metadata": {},
   "outputs": [
    {
     "name": "stdout",
     "output_type": "stream",
     "text": [
      "My full name is Ismail Mohamed\n"
     ]
    }
   ],
   "source": [
    "# In different order of arguments\n",
    "full_name = \"My full name is {last} {first}\".format(first=first_name, last=last_name) # can use keyword arguments to replace fields\n",
    "print(full_name)"
   ]
  },
  {
   "cell_type": "code",
   "execution_count": 61,
   "metadata": {},
   "outputs": [
    {
     "name": "stdout",
     "output_type": "stream",
     "text": [
      "My full name is Mohamed Ismail\n"
     ]
    }
   ],
   "source": [
    "# replacement fields can reference attributes and elements of positional arguments\n",
    "person = {'first': 'Mohamed', 'last': 'Ismail'} # dictionary\n",
    "full_name = \"My full name is {person[first]} {person[last]}\".format(person=person) # can use keyword arguments to replace fields\n",
    "print(full_name)"
   ]
  },
  {
   "cell_type": "code",
   "execution_count": 63,
   "metadata": {},
   "outputs": [
    {
     "name": "stdout",
     "output_type": "stream",
     "text": [
      "My full name is Mohamed Ismail\n"
     ]
    }
   ],
   "source": [
    "person = ['Mohamed', 'Ismail'] # list\n",
    "full_name = \"My full name is {FullName[0]} {FullName[1]}\".format(FullName = person) # can use keyword arguments to replace fields\n",
    "print(full_name)"
   ]
  },
  {
   "cell_type": "code",
   "execution_count": 72,
   "metadata": {},
   "outputs": [
    {
     "name": "stdout",
     "output_type": "stream",
     "text": [
      "'Pythön'\n",
      "Pythön\n",
      "'Pyth\\xf6n'\n"
     ]
    }
   ],
   "source": [
    "# replacement fields with conversion: 'r' [repr()], 's' [str()] or 'a' [ascii()]\n",
    "# repr() method returns a printable representation of the given object. \n",
    "# It returns a string that would yield an object with the same value when passed to eval().\n",
    "# str() method returns the \"informal\" or nicely printable representation of a given object.\n",
    "# ascii() method returns a string containing a printable representation of an object, but escape the non-ASCII characters in the string with \\x, \\u or \\U escapes.\n",
    "\n",
    "# O' \n",
    "\n",
    "name = \"Pythön\"\n",
    "\n",
    "print(\"{Language!r}\".format(Language = \"Pythön\")) # 'Pythön'\n",
    "print(\"{Language!s}\".format(Language = \"Pythön\")) # 'Pythön'\n",
    "print(\"{Language!a}\".format(Language = \"Pythön\")) # 'Pythön'"
   ]
  },
  {
   "cell_type": "code",
   "execution_count": 69,
   "metadata": {},
   "outputs": [
    {
     "name": "stdout",
     "output_type": "stream",
     "text": [
      "The value of pi is approximately 3.14.\n",
      "The value of number is 123,456,789.00\n",
      "The value of number is 002\n"
     ]
    }
   ],
   "source": [
    "# replacement fields with format specification\n",
    "# float precision\n",
    "\n",
    "pi = 3.141592653589793\n",
    "print(\"The value of pi is approximately {0:.2f}.\".format(pi)) # The value of pi is approximately 3.14.\n",
    "\n",
    "# integer precision\n",
    "# The number is right-aligned in the field, and the field width is set to 10 characters.\n",
    "number = 123456789\n",
    "print(\"The value of number is {0:,.2f}\".format(number)) # The value of number is 123,456,789.00\n",
    "\n",
    "# Zero padding\n",
    "# The number is left-padded with zeros instead of spaces. \n",
    "number = 2\n",
    "print(\"The value of number is {0:03}\".format(number)) # The value of number is 002\n"
   ]
  },
  {
   "cell_type": "markdown",
   "metadata": {},
   "source": [
    "Formatting f-strings"
   ]
  },
  {
   "cell_type": "code",
   "execution_count": 73,
   "metadata": {},
   "outputs": [
    {
     "name": "stdout",
     "output_type": "stream",
     "text": [
      "My name is Mohamed and I'm 25 years old.\n"
     ]
    }
   ],
   "source": [
    "Name = \"Mohamed\"\n",
    "Age = 25\n",
    "print(f\"My name is {Name} and I'm {Age} years old.\")"
   ]
  },
  {
   "cell_type": "code",
   "execution_count": 74,
   "metadata": {},
   "outputs": [
    {
     "name": "stdout",
     "output_type": "stream",
     "text": [
      "The sum of 10 and 20 is 30.\n"
     ]
    }
   ],
   "source": [
    "# f-string with expression\n",
    "\n",
    "x = 10\n",
    "y = 20\n",
    "print(f'The sum of {x} and {y} is {x + y}.')"
   ]
  },
  {
   "cell_type": "code",
   "execution_count": 75,
   "metadata": {},
   "outputs": [
    {
     "name": "stdout",
     "output_type": "stream",
     "text": [
      "17.49\n",
      "010\n",
      "A a\n"
     ]
    }
   ],
   "source": [
    "print(f'{17.489:.2f}') # float  -> 17.49 -> 2 digits after decimal point\n",
    "print(f'{10:03d}') # int -> 010  -> 3 digits with zero padding \n",
    "print(f'{65:c} {97:c}') # chr -> A a -> ASCII value of 65 is A and 97 is a"
   ]
  },
  {
   "cell_type": "code",
   "execution_count": 77,
   "metadata": {},
   "outputs": [
    {
     "name": "stdout",
     "output_type": "stream",
     "text": [
      "10000000000000000000000000.000\n",
      "1.00E+25\n"
     ]
    }
   ],
   "source": [
    "from decimal import Decimal \n",
    "# Decimal is a class in Python's decimal module.\n",
    "print(f'{Decimal(\"10000000000000000000000000.0\"):.3f}') # float -> 10000000000000000000000000.000\n",
    "print(f'{Decimal(\"10000000000000000000000000.0\"):.2E}') # float -> 1.00E+25"
   ]
  },
  {
   "cell_type": "code",
   "execution_count": 79,
   "metadata": {},
   "outputs": [
    {
     "name": "stdout",
     "output_type": "stream",
     "text": [
      "12,345,678\n",
      "123,456.78\n"
     ]
    }
   ],
   "source": [
    "# grouping digits with comma separator \n",
    "print(f'{12345678:,d}')\n",
    "# grouping digits with comma separator and 2 digits after decimal point\n",
    "print(f'{123456.78:,.2f}')"
   ]
  },
  {
   "cell_type": "code",
   "execution_count": 81,
   "metadata": {},
   "outputs": [
    {
     "name": "stdout",
     "output_type": "stream",
     "text": [
      "Hello, MOHAMED!\n",
      "I'm learning Python and Java and JavaScript\n"
     ]
    }
   ],
   "source": [
    "# you can also use functions and methods inside replacement fields\n",
    "Name = \"Mohamed\"\n",
    "print(f\"Hello, {Name.upper()}!\")\n",
    "\n",
    "Courses = ['Python', 'Java', 'JavaScript']\n",
    "print(f\"I'm learning {Courses[0]} and {Courses[1]} and {Courses[2]}\")\n"
   ]
  },
  {
   "cell_type": "markdown",
   "metadata": {},
   "source": [
    "Splitting and Joining String"
   ]
  },
  {
   "cell_type": "code",
   "execution_count": 83,
   "metadata": {},
   "outputs": [
    {
     "name": "stdout",
     "output_type": "stream",
     "text": [
      "['My', 'favourites', 'hobbies', 'are', 'chess,', 'estimation,', 'reading', 'and', 'vlogging']\n"
     ]
    }
   ],
   "source": [
    "# str split() method\n",
    "some_text = \"My favourites hobbies are chess, estimation, reading and vlogging\"\n",
    "splitted_text = some_text.split(' ') # split text by space \n",
    "print(splitted_text)"
   ]
  },
  {
   "cell_type": "code",
   "execution_count": 84,
   "metadata": {},
   "outputs": [
    {
     "name": "stdout",
     "output_type": "stream",
     "text": [
      "['chess', ' estimation', ' computers', ' reading', ' handball', ' smoking']\n"
     ]
    }
   ],
   "source": [
    "some_text = \"chess, estimation, computers, reading, handball, smoking\"\n",
    "splitted_text = some_text.split(',') # split text by comma\n",
    "print(splitted_text)"
   ]
  },
  {
   "cell_type": "code",
   "execution_count": 85,
   "metadata": {},
   "outputs": [
    {
     "name": "stdout",
     "output_type": "stream",
     "text": [
      "This is line 1\n",
      "This is line2\n",
      "This is line3\n",
      "['This is line 1', 'This is line2', 'This is line3']\n"
     ]
    }
   ],
   "source": [
    "lines = \"\"\"This is line 1\n",
    "This is line2\n",
    "This is line3\"\"\"\n",
    "print(lines)\n",
    "print(lines.splitlines())"
   ]
  },
  {
   "cell_type": "code",
   "execution_count": 86,
   "metadata": {},
   "outputs": [
    {
     "data": {
      "text/plain": [
       "['This is line 1\\n', 'This is line2\\n', 'This is line3']"
      ]
     },
     "execution_count": 86,
     "metadata": {},
     "output_type": "execute_result"
    }
   ],
   "source": [
    "lines.splitlines(True)  # to keep the line breaks"
   ]
  },
  {
   "cell_type": "code",
   "execution_count": 87,
   "metadata": {},
   "outputs": [
    {
     "data": {
      "text/plain": [
       "'chess,estimation,computers,reading,handball,smoking'"
      ]
     },
     "execution_count": 87,
     "metadata": {},
     "output_type": "execute_result"
    }
   ],
   "source": [
    "# str join text \n",
    "text_list = ['chess', 'estimation', 'computers', 'reading', 'handball', 'smoking']\n",
    "','.join(text_list)"
   ]
  },
  {
   "cell_type": "code",
   "execution_count": 89,
   "metadata": {},
   "outputs": [
    {
     "name": "stdout",
     "output_type": "stream",
     "text": [
      "('Amanda', ': ', '89, 97, 92 and also mike: 30, 11')\n"
     ]
    }
   ],
   "source": [
    "# partition() divides string at first occurence of a char\n",
    "# thus returns a tuple\n",
    "print('Amanda: 89, 97, 92 and also mike: 30, 11'.partition(': '))"
   ]
  },
  {
   "cell_type": "markdown",
   "metadata": {},
   "source": [
    "Character Checks"
   ]
  },
  {
   "cell_type": "code",
   "execution_count": null,
   "metadata": {},
   "outputs": [],
   "source": [
    "print('-27'.isdigit()) # check if string is digit return False because it's contains - sign\n",
    "print('27'.isdigit()) # check if string is digit return True because it's positive number\n",
    "print('A9876'.isalnum()) # check if string is alphanumeric return True\n",
    "print('123 Main Street'.isalnum()) # check if string is alphanumeric return False because it contains space"
   ]
  },
  {
   "cell_type": "markdown",
   "metadata": {},
   "source": [
    "Raw String"
   ]
  },
  {
   "cell_type": "code",
   "execution_count": 90,
   "metadata": {},
   "outputs": [
    {
     "data": {
      "text/plain": [
       "'C:\\\\MyFolder\\\\MySubFolder\\\\MyFile.txt'"
      ]
     },
     "execution_count": 90,
     "metadata": {},
     "output_type": "execute_result"
    }
   ],
   "source": [
    "file_path = 'C:\\\\MyFolder\\\\MySubFolder\\\\MyFile.txt' # \\ is escape character in string \n",
    "file_path"
   ]
  },
  {
   "cell_type": "code",
   "execution_count": 91,
   "metadata": {},
   "outputs": [
    {
     "name": "stdout",
     "output_type": "stream",
     "text": [
      "C:\\MyFolder\\MySubFolder\\MyFile.txt\n"
     ]
    }
   ],
   "source": [
    "print(file_path)"
   ]
  },
  {
   "cell_type": "code",
   "execution_count": 92,
   "metadata": {},
   "outputs": [
    {
     "data": {
      "text/plain": [
       "'C:\\\\MyFolder\\\\MySubFolder\\\\MyFile.txt'"
      ]
     },
     "execution_count": 92,
     "metadata": {},
     "output_type": "execute_result"
    }
   ],
   "source": [
    "file_path = r'C:\\MyFolder\\MySubFolder\\MyFile.txt' # r is raw string, it will ignore escape character\n",
    "file_path"
   ]
  },
  {
   "cell_type": "code",
   "execution_count": 93,
   "metadata": {},
   "outputs": [
    {
     "name": "stdout",
     "output_type": "stream",
     "text": [
      "C:\\MyFolder\\MySubFolder\\MyFile.txt\n"
     ]
    }
   ],
   "source": [
    "print(file_path)"
   ]
  },
  {
   "cell_type": "markdown",
   "metadata": {},
   "source": [
    "**Try It Yourself**\n",
    "\n",
    "Deep Dive into string by exploring the python Documentation [Common string operations](https://docs.python.org/3/library/string.html)\n",
    "\n"
   ]
  },
  {
   "cell_type": "code",
   "execution_count": 94,
   "metadata": {},
   "outputs": [],
   "source": [
    "# do your code here"
   ]
  },
  {
   "cell_type": "markdown",
   "metadata": {},
   "source": [
    "### Unordered Sequences"
   ]
  },
  {
   "cell_type": "markdown",
   "metadata": {},
   "source": [
    "#### Sets (Immutable)"
   ]
  },
  {
   "cell_type": "markdown",
   "metadata": {},
   "source": [
    "A set is an unordered collection of unique values. Sets may contain only immutable objects, like strings, ints, floats and tuples that contain only immutable elements. Though sets are iterable, they are not sequences and do not support indexing and slicing with square brackets, []."
   ]
  },
  {
   "cell_type": "code",
   "execution_count": 97,
   "metadata": {},
   "outputs": [
    {
     "name": "stdout",
     "output_type": "stream",
     "text": [
      "{'yellow', 'orange', 'green', 'blue', 'red'}\n"
     ]
    }
   ],
   "source": [
    "# Creating a Set with Curly Braces\n",
    "colors = {'red', 'orange', 'yellow','green', 'red', 'blue'}\n",
    "print(colors)"
   ]
  },
  {
   "cell_type": "markdown",
   "metadata": {},
   "source": [
    "Notice that the duplicate string 'red' was ignored (without causing an error). An important use of sets is duplicate elimination, which is automatic when creating a set. Also, the resulting set’s values are not displayed in the same order as they were listed in snippet. Though the color names aredisplayed in sorted order, sets are unordered. You should not write code that depends on the order of their elements."
   ]
  },
  {
   "cell_type": "code",
   "execution_count": 98,
   "metadata": {},
   "outputs": [
    {
     "data": {
      "text/plain": [
       "5"
      ]
     },
     "execution_count": 98,
     "metadata": {},
     "output_type": "execute_result"
    }
   ],
   "source": [
    "# Determining a Set’s Length\n",
    "len(colors)\n"
   ]
  },
  {
   "cell_type": "code",
   "execution_count": 99,
   "metadata": {},
   "outputs": [
    {
     "data": {
      "text/plain": [
       "True"
      ]
     },
     "execution_count": 99,
     "metadata": {},
     "output_type": "execute_result"
    }
   ],
   "source": [
    "# You can check whether a set contains a particular value using the in and not in operators:\n",
    "'red' in colors"
   ]
  },
  {
   "cell_type": "code",
   "execution_count": 100,
   "metadata": {},
   "outputs": [
    {
     "data": {
      "text/plain": [
       "False"
      ]
     },
     "execution_count": 100,
     "metadata": {},
     "output_type": "execute_result"
    }
   ],
   "source": [
    "'purple' in colors"
   ]
  },
  {
   "cell_type": "code",
   "execution_count": 101,
   "metadata": {},
   "outputs": [
    {
     "data": {
      "text/plain": [
       "True"
      ]
     },
     "execution_count": 101,
     "metadata": {},
     "output_type": "execute_result"
    }
   ],
   "source": [
    "'Purple ' not in colors"
   ]
  },
  {
   "cell_type": "code",
   "execution_count": 104,
   "metadata": {},
   "outputs": [
    {
     "name": "stdout",
     "output_type": "stream",
     "text": [
      "yellow\n",
      "orange\n",
      "green\n",
      "blue\n",
      "red\n"
     ]
    }
   ],
   "source": [
    "#Sets are iterable, so you can process each set element with a for loop:\n",
    "\n",
    "for color in colors:\n",
    "\tprint(color) # Sets are unordered, so there’s no significance to the iteration order."
   ]
  },
  {
   "cell_type": "code",
   "execution_count": 105,
   "metadata": {},
   "outputs": [
    {
     "name": "stdout",
     "output_type": "stream",
     "text": [
      "[0, 1, 2, 3, 4, 5, 6, 7, 8, 9, 0, 1, 2, 3, 4]\n"
     ]
    }
   ],
   "source": [
    "# Creating a Set with the Built-In set Function\n",
    "\n",
    "numbers = list(range(10)) + list(range(5))\n",
    "print(numbers) # [0, 1, 2, 3, 4, 5, 6, 7, 8, 9, 0, 1, 2, 3, 4] Several numbers are repeated."
   ]
  },
  {
   "cell_type": "code",
   "execution_count": 106,
   "metadata": {},
   "outputs": [
    {
     "data": {
      "text/plain": [
       "{0, 1, 2, 3, 4, 5, 6, 7, 8, 9}"
      ]
     },
     "execution_count": 106,
     "metadata": {},
     "output_type": "execute_result"
    }
   ],
   "source": [
    "set(numbers) # {0, 1, 2, 3, 4, 5, 6, 7, 8, 9} The set function removes duplicates."
   ]
  },
  {
   "cell_type": "markdown",
   "metadata": {},
   "source": [
    "Sets are mutable—you can add and remove elements, but set elements must be immutable. Therefore, a set cannot have other sets as elements. A frozenset is an immutable set—it cannot be modified after you create it, so a set can contain frozensets as elements. The built-in function frozenset creates a frozenset from any iterable."
   ]
  },
  {
   "cell_type": "markdown",
   "metadata": {},
   "source": [
    "**Comparing Sets**"
   ]
  },
  {
   "cell_type": "code",
   "execution_count": 107,
   "metadata": {},
   "outputs": [
    {
     "data": {
      "text/plain": [
       "True"
      ]
     },
     "execution_count": 107,
     "metadata": {},
     "output_type": "execute_result"
    }
   ],
   "source": [
    "{1, 2, 3, 4, 5} == {5, 4, 3, 2, 1} # True The order of elements doesn’t matter in sets."
   ]
  },
  {
   "cell_type": "code",
   "execution_count": 108,
   "metadata": {},
   "outputs": [
    {
     "data": {
      "text/plain": [
       "False"
      ]
     },
     "execution_count": 108,
     "metadata": {},
     "output_type": "execute_result"
    }
   ],
   "source": [
    "{1, 2, 3, 4, 5} != {5, 4, 3, 2, 1}"
   ]
  },
  {
   "cell_type": "code",
   "execution_count": 109,
   "metadata": {},
   "outputs": [
    {
     "data": {
      "text/plain": [
       "False"
      ]
     },
     "execution_count": 109,
     "metadata": {},
     "output_type": "execute_result"
    }
   ],
   "source": [
    "{1, 2, 3, 4, 5} > {5, 4, 3, 2, 1}"
   ]
  },
  {
   "cell_type": "code",
   "execution_count": 110,
   "metadata": {},
   "outputs": [
    {
     "data": {
      "text/plain": [
       "False"
      ]
     },
     "execution_count": 110,
     "metadata": {},
     "output_type": "execute_result"
    }
   ],
   "source": [
    "{1, 2, 3, 4, 5} < {5, 4, 3, 2, 1}"
   ]
  },
  {
   "cell_type": "markdown",
   "metadata": {},
   "source": [
    "**Mathematical Set Operations**\n",
    "\n",
    "This section presents the set type’s mathematical operators |, &, - and ^ and the corresponding methods."
   ]
  },
  {
   "cell_type": "code",
   "execution_count": 111,
   "metadata": {},
   "outputs": [
    {
     "name": "stdout",
     "output_type": "stream",
     "text": [
      "{1, 2, 3, 4, 5}\n",
      "{1, 2, 3, 4, 5}\n"
     ]
    }
   ],
   "source": [
    "# Union\n",
    "print({1, 2, 3} | {3, 4, 5}) \n",
    "\n",
    "print({1, 2, 3}.union({3, 4, 5}))"
   ]
  },
  {
   "cell_type": "code",
   "execution_count": 112,
   "metadata": {},
   "outputs": [
    {
     "name": "stdout",
     "output_type": "stream",
     "text": [
      "{3}\n",
      "{3}\n"
     ]
    }
   ],
   "source": [
    "# Intersection\n",
    "print({1, 2, 3} & {3, 4, 5})\n",
    "\n",
    "print({1, 2, 3}.intersection({3, 4, 5}))"
   ]
  },
  {
   "cell_type": "code",
   "execution_count": 113,
   "metadata": {},
   "outputs": [
    {
     "name": "stdout",
     "output_type": "stream",
     "text": [
      "{1, 2}\n",
      "{1, 2}\n"
     ]
    }
   ],
   "source": [
    "# Difference\n",
    "print({1, 2, 3} - {3, 4, 5})\n",
    "\n",
    "print({1, 2, 3}.difference({3, 4, 5}))"
   ]
  },
  {
   "cell_type": "code",
   "execution_count": 114,
   "metadata": {},
   "outputs": [
    {
     "name": "stdout",
     "output_type": "stream",
     "text": [
      "{1, 2, 4, 5}\n",
      "{1, 2, 4, 5}\n"
     ]
    }
   ],
   "source": [
    "# Symmetric Difference\n",
    "\n",
    "print({1, 2, 3} ^ {3, 4, 5})\n",
    "\n",
    "print({1, 2, 3}.symmetric_difference({3, 4, 5}))"
   ]
  },
  {
   "cell_type": "markdown",
   "metadata": {},
   "source": [
    "**Disjoint**\n",
    "\n",
    "Two sets are disjoint if they do not have any common elements. You can determine this with the set type’s isdisjoint method"
   ]
  },
  {
   "cell_type": "code",
   "execution_count": 115,
   "metadata": {},
   "outputs": [
    {
     "data": {
      "text/plain": [
       "True"
      ]
     },
     "execution_count": 115,
     "metadata": {},
     "output_type": "execute_result"
    }
   ],
   "source": [
    "{1, 3, 5}.isdisjoint({2, 4, 6})\n"
   ]
  },
  {
   "cell_type": "code",
   "execution_count": 116,
   "metadata": {},
   "outputs": [
    {
     "data": {
      "text/plain": [
       "False"
      ]
     },
     "execution_count": 116,
     "metadata": {},
     "output_type": "execute_result"
    }
   ],
   "source": [
    "{1, 3, 5}.isdisjoint({4, 6, 1})\n"
   ]
  },
  {
   "cell_type": "markdown",
   "metadata": {},
   "source": [
    "**Mutable Mathematical Set Operations**\n"
   ]
  },
  {
   "cell_type": "code",
   "execution_count": 119,
   "metadata": {},
   "outputs": [
    {
     "name": "stdout",
     "output_type": "stream",
     "text": [
      "{1, 2, 3, 4, 5, 6, 7, 8}\n"
     ]
    }
   ],
   "source": [
    "numbers = {1, 2, 3, 4, 5}\n",
    "numbers |= {6, 7, 8} # Add elements to a set with the |= operator.\n",
    "print(numbers)"
   ]
  },
  {
   "cell_type": "code",
   "execution_count": 120,
   "metadata": {},
   "outputs": [
    {
     "name": "stdout",
     "output_type": "stream",
     "text": [
      "{1, 2, 3, 4, 5, 6, 7, 8, 9, 10}\n"
     ]
    }
   ],
   "source": [
    "# Update a set with the update method.\n",
    "numbers.update({8, 9, 10})\n",
    "print(numbers)"
   ]
  },
  {
   "cell_type": "markdown",
   "metadata": {},
   "source": [
    "**The other mutable set methods are:**\n",
    "\n",
    "* intersection augmented assignment &=\n",
    "* difference augmented assignment -=\n",
    "* symmetric difference augmented assignment ^=*\n",
    "* \n",
    "**corresponding methods with iterable arguments are:**\n",
    "\n",
    "* intersection_update\n",
    "* difference_update\n",
    "* symmetric_difference_update"
   ]
  },
  {
   "cell_type": "markdown",
   "metadata": {},
   "source": [
    "**Methods for Adding and Removing Elements**\n"
   ]
  },
  {
   "cell_type": "code",
   "execution_count": 121,
   "metadata": {},
   "outputs": [
    {
     "name": "stdout",
     "output_type": "stream",
     "text": [
      "{1, 2, 3, 4, 5, 6, 7, 8, 9, 10, 11}\n"
     ]
    }
   ],
   "source": [
    "numbers.add(11) # Add a single element to a set with the add method.\n",
    "print(numbers)"
   ]
  },
  {
   "cell_type": "code",
   "execution_count": 122,
   "metadata": {},
   "outputs": [
    {
     "name": "stdout",
     "output_type": "stream",
     "text": [
      "{1, 2, 3, 4, 5, 6, 7, 8, 9, 10}\n"
     ]
    }
   ],
   "source": [
    "numbers.remove(11) # Remove an element from a set with the remove method.\n",
    "print(numbers)"
   ]
  },
  {
   "cell_type": "code",
   "execution_count": 132,
   "metadata": {},
   "outputs": [
    {
     "name": "stdout",
     "output_type": "stream",
     "text": [
      "{1, 2, 3, 4, 5, 6, 7, 8, 9, 10}\n",
      "{1, 2, 3, 4, 5, 6, 7, 8, 9, 10}\n"
     ]
    }
   ],
   "source": [
    "numbers = {1, 2, 3, 4, 5, 6, 7, 8, 9, 10}\n",
    "print(numbers)\n",
    "numbers.discard(11) # Remove an element from a set with the discard method without raising an error if the element isn’t in the set.\n",
    "print(numbers)"
   ]
  },
  {
   "cell_type": "markdown",
   "metadata": {},
   "source": [
    "You also can remove an arbitrary set element and return it with pop, but sets are unordered, so you do not know which element will be returned"
   ]
  },
  {
   "cell_type": "code",
   "execution_count": 134,
   "metadata": {},
   "outputs": [
    {
     "name": "stdout",
     "output_type": "stream",
     "text": [
      "1\n",
      "{2, 3, 4, 5, 6, 7, 8, 9, 10}\n"
     ]
    }
   ],
   "source": [
    "numbers = {1, 2, 3, 4, 5, 6, 7, 8, 9, 10}\n",
    "number_popped = numbers.pop() # Remove and return an arbitrary element from a set with the pop method (useful for removing an element from a set when you don’t care which element is removed).\n",
    "print(number_popped)\n",
    "print(numbers)"
   ]
  },
  {
   "cell_type": "code",
   "execution_count": 135,
   "metadata": {},
   "outputs": [
    {
     "name": "stdout",
     "output_type": "stream",
     "text": [
      "set()\n"
     ]
    }
   ],
   "source": [
    "numbers.clear() # Remove all elements from a set with the clear method.\n",
    "print(numbers) # set() -> empty set"
   ]
  },
  {
   "cell_type": "code",
   "execution_count": 136,
   "metadata": {},
   "outputs": [
    {
     "name": "stdout",
     "output_type": "stream",
     "text": [
      "{1, 2, 3, 4, 5}\n"
     ]
    }
   ],
   "source": [
    "# Set Comprehensions\n",
    "numbers = {number for number in range(1, 6)}\n",
    "print(numbers)"
   ]
  },
  {
   "cell_type": "code",
   "execution_count": 138,
   "metadata": {},
   "outputs": [
    {
     "name": "stdout",
     "output_type": "stream",
     "text": [
      "{2, 4, 6, 8, 10}\n"
     ]
    }
   ],
   "source": [
    "even = {number for number in range(1, 11) if number % 2 == 0}\n",
    "print(even)"
   ]
  },
  {
   "cell_type": "markdown",
   "metadata": {},
   "source": [
    "#### Dictionaries"
   ]
  },
  {
   "cell_type": "markdown",
   "metadata": {},
   "source": [
    "A dictionary associates keys with values. Each key maps to a specific value.\n",
    "\n",
    "**Unique Keys**\n",
    "\n",
    "A dictionary’s keys must be immutable (such as strings, numbers or tuples) and unique (that is, no duplicates). Multiple keys can have the same value, such as two different inventory codes that have the same quantity in stock"
   ]
  },
  {
   "cell_type": "code",
   "execution_count": 139,
   "metadata": {},
   "outputs": [
    {
     "name": "stdout",
     "output_type": "stream",
     "text": [
      "{'Finland': 'fi', 'South Africa': 'za', 'Nepal': 'np'}\n"
     ]
    }
   ],
   "source": [
    "# Creating a Dictionary\n",
    "country_codes = {'Finland': 'fi', \n",
    "\t\t\t\t 'South Africa': 'za', \n",
    "\t\t\t\t 'Nepal': 'np'}\n",
    "\n",
    "print(country_codes)\n"
   ]
  },
  {
   "cell_type": "code",
   "execution_count": 140,
   "metadata": {},
   "outputs": [
    {
     "data": {
      "text/plain": [
       "3"
      ]
     },
     "execution_count": 140,
     "metadata": {},
     "output_type": "execute_result"
    }
   ],
   "source": [
    "# Determining if a Dictionary Is Empty\n",
    "\n",
    "len(country_codes) # 3 -> number of key-value pairs in dictionary"
   ]
  },
  {
   "cell_type": "code",
   "execution_count": 141,
   "metadata": {},
   "outputs": [
    {
     "name": "stdout",
     "output_type": "stream",
     "text": [
      "country_codes is not empty\n"
     ]
    }
   ],
   "source": [
    "# You can use a dictionary as a condition to determine if it’s empty—a non-empty dictionary evaluates to True\n",
    "\n",
    "if country_codes:\n",
    "\tprint('country_codes is not empty')\n",
    "else:\n",
    "\tprint('country_codes is empty')"
   ]
  },
  {
   "cell_type": "code",
   "execution_count": 142,
   "metadata": {},
   "outputs": [],
   "source": [
    "country_codes.clear() # Remove all key-value pairs from a dictionary with the clear method."
   ]
  },
  {
   "cell_type": "code",
   "execution_count": 143,
   "metadata": {},
   "outputs": [
    {
     "name": "stdout",
     "output_type": "stream",
     "text": [
      "country_codes is empty\n"
     ]
    }
   ],
   "source": [
    "if country_codes:\n",
    "\tprint('country_codes is not empty')\n",
    "else:\n",
    "\tprint('country_codes is empty')"
   ]
  },
  {
   "cell_type": "markdown",
   "metadata": {},
   "source": [
    "**Iterating through a Dictionary**"
   ]
  },
  {
   "cell_type": "code",
   "execution_count": 144,
   "metadata": {},
   "outputs": [
    {
     "data": {
      "text/plain": [
       "{'January': 31, 'February': 28, 'March': 31}"
      ]
     },
     "execution_count": 144,
     "metadata": {},
     "output_type": "execute_result"
    }
   ],
   "source": [
    "days_per_month = {'January': 31,'February': 28, 'March': 31}\n",
    "days_per_month"
   ]
  },
  {
   "cell_type": "code",
   "execution_count": 145,
   "metadata": {},
   "outputs": [
    {
     "name": "stdout",
     "output_type": "stream",
     "text": [
      "January has 31 days\n",
      "February has 28 days\n",
      "March has 31 days\n"
     ]
    }
   ],
   "source": [
    "for month, days in days_per_month.items(): # Loop through a dictionary with a for loop to process each key-value pair.\n",
    "\tprint(f'{month} has {days} days')"
   ]
  },
  {
   "cell_type": "markdown",
   "metadata": {},
   "source": [
    "**Basic Dictionary Operations**"
   ]
  },
  {
   "cell_type": "code",
   "execution_count": 147,
   "metadata": {},
   "outputs": [
    {
     "data": {
      "text/plain": [
       "{'I': 1, 'II': 2, 'III': 3, 'V': 5, 'X': 100}"
      ]
     },
     "execution_count": 147,
     "metadata": {},
     "output_type": "execute_result"
    }
   ],
   "source": [
    "roman_numerals = {'I': 1, 'II': 2, 'III':3, 'V': 5, 'X': 100}\n",
    "roman_numerals"
   ]
  },
  {
   "cell_type": "code",
   "execution_count": 148,
   "metadata": {},
   "outputs": [
    {
     "data": {
      "text/plain": [
       "5"
      ]
     },
     "execution_count": 148,
     "metadata": {},
     "output_type": "execute_result"
    }
   ],
   "source": [
    "roman_numerals['V'] # 5 -> Access a value in a dictionary by key."
   ]
  },
  {
   "cell_type": "code",
   "execution_count": 152,
   "metadata": {},
   "outputs": [
    {
     "data": {
      "text/plain": [
       "{'I': 1, 'II': 2, 'III': 3, 'V': 5, 'X': 10}"
      ]
     },
     "execution_count": 152,
     "metadata": {},
     "output_type": "execute_result"
    }
   ],
   "source": [
    "roman_numerals['X'] = 10\n",
    "roman_numerals  # Modify a value in a dictionary by key."
   ]
  },
  {
   "cell_type": "code",
   "execution_count": 154,
   "metadata": {},
   "outputs": [
    {
     "data": {
      "text/plain": [
       "{'I': 1, 'II': 2, 'III': 3, 'V': 5, 'X': 10, 'L': 50}"
      ]
     },
     "execution_count": 154,
     "metadata": {},
     "output_type": "execute_result"
    }
   ],
   "source": [
    "roman_numerals['L'] = 50 # Add a key-value pair to a dictionary.\n",
    "roman_numerals"
   ]
  },
  {
   "cell_type": "code",
   "execution_count": 157,
   "metadata": {},
   "outputs": [
    {
     "data": {
      "text/plain": [
       "{'I': 1, 'II': 2, 'V': 5, 'X': 10, 'L': 50}"
      ]
     },
     "execution_count": 157,
     "metadata": {},
     "output_type": "execute_result"
    }
   ],
   "source": [
    "del roman_numerals['III']\n",
    "roman_numerals # Remove a key-value pair from a dictionary with the del statement."
   ]
  },
  {
   "cell_type": "code",
   "execution_count": 158,
   "metadata": {},
   "outputs": [
    {
     "data": {
      "text/plain": [
       "10"
      ]
     },
     "execution_count": 158,
     "metadata": {},
     "output_type": "execute_result"
    }
   ],
   "source": [
    " roman_numerals.pop('X') # Remove a key-value pair from a dictionary with the pop method and return the value."
   ]
  },
  {
   "cell_type": "code",
   "execution_count": 159,
   "metadata": {},
   "outputs": [
    {
     "data": {
      "text/plain": [
       "{'I': 1, 'II': 2, 'V': 5, 'L': 50}"
      ]
     },
     "execution_count": 159,
     "metadata": {},
     "output_type": "execute_result"
    }
   ],
   "source": [
    " roman_numerals"
   ]
  },
  {
   "cell_type": "code",
   "execution_count": 160,
   "metadata": {},
   "outputs": [
    {
     "name": "stdout",
     "output_type": "stream",
     "text": [
      "None\n"
     ]
    }
   ],
   "source": [
    "# Attempting to Access a Nonexistent Key\n",
    "\n",
    "# print(roman_numerals['III']) # KeyError: 'III'\n",
    "\n",
    "print(roman_numerals.get('III')) # None -> get method returns None if the key doesn’t exist in the dictionary."
   ]
  },
  {
   "cell_type": "code",
   "execution_count": 161,
   "metadata": {},
   "outputs": [
    {
     "name": "stdout",
     "output_type": "stream",
     "text": [
      "True\n",
      "False\n"
     ]
    }
   ],
   "source": [
    "# Testing Whether a Dictionary Contains a Specified Key\n",
    "print('V' in roman_numerals) # True -> in operator returns True if the key exists in the dictionary.\n",
    "\n",
    "print('III' in roman_numerals) # False -> in operator returns False if the key doesn’t exist in the dictionary.\n"
   ]
  },
  {
   "cell_type": "code",
   "execution_count": 165,
   "metadata": {},
   "outputs": [
    {
     "name": "stdout",
     "output_type": "stream",
     "text": [
      "January February March \n",
      "\n",
      "1 2 3 "
     ]
    }
   ],
   "source": [
    "# Dictionary Methods keys and values\n",
    "\n",
    "months = {'January': 1, 'February': 2, 'March': 3}\n",
    "\n",
    "for MonthName in months.keys():\n",
    "\tprint(MonthName, end=' ') # Loop through a dictionary’s keys with the keys method.\n",
    "\n",
    "print('\\n')\n",
    "\n",
    "for MonthNumber in months.values():\n",
    "\tprint(MonthNumber, end=' ') # Loop through a dictionary’s values with the values method.\n"
   ]
  },
  {
   "cell_type": "code",
   "execution_count": 168,
   "metadata": {},
   "outputs": [
    {
     "name": "stdout",
     "output_type": "stream",
     "text": [
      "('January', 1) ('February', 2) ('March', 3) "
     ]
    }
   ],
   "source": [
    "# Dictionary Views\n",
    "\n",
    "for month in months.items(): # Loop through a dictionary’s keys with a for loop.\n",
    "\tprint(month, end=' ')"
   ]
  },
  {
   "cell_type": "code",
   "execution_count": 171,
   "metadata": {},
   "outputs": [
    {
     "name": "stdout",
     "output_type": "stream",
     "text": [
      "[('January', 1), ('February', 2), ('March', 3)]\n",
      "['January', 'February', 'March']\n",
      "[1, 2, 3]\n"
     ]
    }
   ],
   "source": [
    "print(list(months.items()))\n",
    "print(list(months.keys()))\n",
    "print(list(months.values()))"
   ]
  },
  {
   "cell_type": "code",
   "execution_count": 172,
   "metadata": {},
   "outputs": [
    {
     "name": "stdout",
     "output_type": "stream",
     "text": [
      "February January March "
     ]
    }
   ],
   "source": [
    "# Dictionary Sort\n",
    "for month_name in sorted(months.keys()): # Loop through a dictionary’s keys in sorted order.\n",
    "\tprint(month_name, end=' ')\n",
    "\t"
   ]
  },
  {
   "cell_type": "code",
   "execution_count": 173,
   "metadata": {},
   "outputs": [
    {
     "name": "stdout",
     "output_type": "stream",
     "text": [
      "True\n"
     ]
    }
   ],
   "source": [
    "# Dictionary Comparisons\n",
    "\n",
    "roman_numerals1 = {'I': 1, 'II': 2, 'III': 3, 'V': 5}\n",
    "roman_numerals2 = {'III': 3, 'V': 5, 'I': 1, 'II': 2}\n",
    "print(roman_numerals1 == roman_numerals2) # True -> Compare two dictionaries for equality with the == operator (the order of key-value pairs doesn’t matter).\n"
   ]
  },
  {
   "cell_type": "code",
   "execution_count": 175,
   "metadata": {},
   "outputs": [
    {
     "name": "stdout",
     "output_type": "stream",
     "text": [
      "Average for Susan is 92.33\n",
      "Average for Eduardo is 85.67\n",
      "Average for Azizi is 87.33\n",
      "Average for Pantipa is 93.33\n",
      "Class's average is: 89.67\n"
     ]
    }
   ],
   "source": [
    "#  Instructor’s gradebook dictionary\n",
    "\n",
    "\"\"\"Using a dictionary to represent an\n",
    "instructor's grade book.\"\"\"\n",
    "grade_book = {\n",
    "\t\t'Susan': [92, 85, 100],\n",
    "\t\t'Eduardo': [83, 95, 79],\n",
    "\t\t'Azizi': [91, 89, 82],\n",
    "\t\t'Pantipa': [97, 91, 92]}\n",
    "all_grades_total = 0\n",
    "all_grades_count = 0\n",
    "for name, grades in grade_book.items():\n",
    "\ttotal = sum(grades)\n",
    "\tprint(f'Average for {name} is {total/len(grades):.2f}')\n",
    "\tall_grades_total += total\n",
    "\tall_grades_count += len(grades)\n",
    "print(f\"Class's average is: {all_grades_total / all_grades_count:.2f}\")"
   ]
  },
  {
   "cell_type": "code",
   "execution_count": 179,
   "metadata": {},
   "outputs": [
    {
     "name": "stdout",
     "output_type": "stream",
     "text": [
      "WORD        COUNT\n",
      "different   1\n",
      "is          2\n",
      "more        1\n",
      "sample      2\n",
      "several     1\n",
      "some        1\n",
      "text        2\n",
      "this        2\n",
      "with        2\n",
      "words       2\n",
      "\n",
      "Number of unique words: 10\n"
     ]
    }
   ],
   "source": [
    "# Tokenizing a string and producing word counts.\n",
    "\n",
    "\"\"\"Tokenizing a string and counting unique words.\"\"\"\n",
    "text = ('this is sample text with several words '\n",
    "\t\t'this is more sample text with some different words')\n",
    "word_counts = {}\n",
    "for word in text.split():\n",
    "\tif word in word_counts:\n",
    "\t\tword_counts[word] += 1\n",
    "\telse:\n",
    "\t\tword_counts[word] = 1\n",
    "print(f'{\"WORD\":<12}COUNT')\n",
    "for word, count in sorted(word_counts.items()):\n",
    "\tprint(f'{word:<12}{count}')\n",
    "\n",
    "print('\\nNumber of unique words:', len(word_counts))"
   ]
  },
  {
   "cell_type": "markdown",
   "metadata": {},
   "source": [
    "The Python Standard Library already contains the counting functionality that we implemented using the dictionary and the loop in lines 10–14. The module collections contains the type Counter, which receives an iterable and summarizes its elements."
   ]
  },
  {
   "cell_type": "code",
   "execution_count": 180,
   "metadata": {},
   "outputs": [
    {
     "name": "stdout",
     "output_type": "stream",
     "text": [
      "WORD        COUNT\n",
      "different   1\n",
      "is          2\n",
      "more        1\n",
      "sample      2\n",
      "several     1\n",
      "some        1\n",
      "text        2\n",
      "this        2\n",
      "with        2\n",
      "words       2\n",
      "\n",
      "Number of unique words: 10\n"
     ]
    }
   ],
   "source": [
    "from collections import Counter\n",
    "word_counts = Counter(text.split())\n",
    "print(f'{\"WORD\":<12}COUNT')\n",
    "for word, count in sorted(word_counts.items()):\n",
    "\tprint(f'{word:<12}{count}')\n",
    "\n",
    "print('\\nNumber of unique words:', len(word_counts))\n",
    "\n",
    "\n"
   ]
  },
  {
   "cell_type": "code",
   "execution_count": 181,
   "metadata": {},
   "outputs": [
    {
     "data": {
      "text/plain": [
       "{'South Africa': 'za', 'United States': 'us'}"
      ]
     },
     "execution_count": 181,
     "metadata": {},
     "output_type": "execute_result"
    }
   ],
   "source": [
    "# Dictionary Method update\n",
    "\n",
    "country_codes = {}\n",
    "country_codes.update({'South Africa': 'za', 'United States': 'us'})\n",
    "country_codes"
   ]
  },
  {
   "cell_type": "code",
   "execution_count": 182,
   "metadata": {},
   "outputs": [
    {
     "data": {
      "text/plain": [
       "{'South Africa': 'za', 'United States': 'us', 'Australia': 'ar'}"
      ]
     },
     "execution_count": 182,
     "metadata": {},
     "output_type": "execute_result"
    }
   ],
   "source": [
    "country_codes.update(Australia='ar')\n",
    "country_codes"
   ]
  },
  {
   "cell_type": "code",
   "execution_count": 183,
   "metadata": {},
   "outputs": [
    {
     "data": {
      "text/plain": [
       "{1: 'January', 2: 'February', 3: 'March', 4: 'April'}"
      ]
     },
     "execution_count": 183,
     "metadata": {},
     "output_type": "execute_result"
    }
   ],
   "source": [
    "# Dictionary Comprehensions\n",
    "\n",
    "months = {'January': 1, 'February': 2, 'March': 3, 'April': 4}\n",
    "months2 = {number: name for name, number in months.items()}\n",
    "months2"
   ]
  },
  {
   "cell_type": "code",
   "execution_count": 185,
   "metadata": {},
   "outputs": [
    {
     "data": {
      "text/plain": [
       "{'Sue': 93.0, 'Bob': 90.0}"
      ]
     },
     "execution_count": 185,
     "metadata": {},
     "output_type": "execute_result"
    }
   ],
   "source": [
    "grades = {'Sue': [98, 87, 94], 'Bob':[84, 95, 91]}\n",
    "grades2 = {k: sum(v) / len(v) for k, v in grades.items()} # Calculate the average of each student’s grades.\n",
    "grades2"
   ]
  },
  {
   "cell_type": "code",
   "execution_count": 187,
   "metadata": {},
   "outputs": [
    {
     "data": {
      "text/plain": [
       "{1: 1, 2: 8, 3: 27, 4: 64, 5: 125, 6: 216, 7: 343, 8: 512, 9: 729, 10: 1000}"
      ]
     },
     "execution_count": 187,
     "metadata": {},
     "output_type": "execute_result"
    }
   ],
   "source": [
    "cubed = {number: number**3 for number in range(1, 11)}\n",
    "cubed"
   ]
  },
  {
   "cell_type": "markdown",
   "metadata": {},
   "source": [
    "# Selection Statements"
   ]
  },
  {
   "cell_type": "markdown",
   "metadata": {},
   "source": [
    "Usually, statements in a program execute in the order in which they’re written. This is called sequential execution. Various Python statements enable you to specify that the next statement to execute may be other than the next one in sequence. This is called transfer of control and is achieved with Python control statements."
   ]
  },
  {
   "cell_type": "markdown",
   "metadata": {},
   "source": [
    "Python provides three types of selection statements that execute code based on a condition—an expression that\n",
    "evaluates to either True or False:\n",
    "* The if statement performs an action if a condition is True or skips the\n",
    "\taction if the condition is False.\n",
    "* The if…else statement performs an action if a condition is True or\n",
    "\tperforms a differentaction if the condition is False.\n",
    "* The if…elif…else statement performs one of many different actions,\n",
    "\tdepending on the truth or falsity of several conditions.\n",
    "\n",
    "Anywhere a single action can be placed, a group of actions can be placed.\n",
    "* The if statement is called a single-selection statement because it selects or ignores a single action (or group of actions). \n",
    "* The if…else statement is called a double-selection statement because it selects between two different actions (or groups of actions). \n",
    "* The if…elif…else statement is called a multiple-selection statement because it selects one of many different actions (or groups of actions)."
   ]
  },
  {
   "cell_type": "markdown",
   "metadata": {},
   "source": [
    "## if statement"
   ]
  },
  {
   "cell_type": "markdown",
   "metadata": {},
   "source": [
    "Suppose that a passing grade on an examination is 60. The pseudocode\n",
    "\n",
    "```pseudo\n",
    "If student’s grade is greater than or equal to 60\n",
    "\tDisplay 'Passed'\n",
    "```\n",
    "\n",
    "determines whether the condition “student’s grade is greater than or equal to 60” is true or false. If the condition is true, 'Passed' is displayed. Then, the next pseudocode statement in order is “performed.” (Remember that pseudocode is not a real programming language.) If the condition is false, nothing is\n",
    "displayed, and the next pseudocode statement is “performed.” The pseudocode’s second line is indented. Python code requires indentation. Here it emphasizes that 'Passed' is displayed only if the condition is true."
   ]
  },
  {
   "cell_type": "markdown",
   "metadata": {},
   "source": [
    "```pseudo\n",
    "if <conditional test>:\n",
    "    <do something>\n",
    "```"
   ]
  },
  {
   "cell_type": "code",
   "execution_count": 1,
   "metadata": {},
   "outputs": [
    {
     "name": "stdout",
     "output_type": "stream",
     "text": [
      "Passed\n"
     ]
    }
   ],
   "source": [
    "# By Code \n",
    "\n",
    "grade = 90\n",
    "\n",
    "if grade >= 60:\n",
    "\tprint('Passed')"
   ]
  },
  {
   "cell_type": "markdown",
   "metadata": {},
   "source": [
    "**Suite Indentation**\n",
    "\n",
    "Indenting a suite is required; otherwise, an\n",
    "IndentationError syntax error occurs: expected an indented block"
   ]
  },
  {
   "cell_type": "code",
   "execution_count": 3,
   "metadata": {},
   "outputs": [],
   "source": [
    "# grade = 90\n",
    "# if grade >= 60:\n",
    "# print ('Passed') # IndentationError: expected an indented block"
   ]
  },
  {
   "cell_type": "markdown",
   "metadata": {},
   "source": [
    "**Every Expression Can Be Interpreted as Either True or False**\n",
    "\n",
    "You can base decisions on any expression. A nonzero value is True. Zero is False:"
   ]
  },
  {
   "cell_type": "code",
   "execution_count": 4,
   "metadata": {},
   "outputs": [
    {
     "name": "stdout",
     "output_type": "stream",
     "text": [
      "Nonzero values are true, so this will print\n"
     ]
    }
   ],
   "source": [
    "if 1:\n",
    "\tprint('Nonzero values are true, so this will print')"
   ]
  },
  {
   "cell_type": "code",
   "execution_count": 5,
   "metadata": {},
   "outputs": [],
   "source": [
    "if 0:\n",
    "\tprint('Zero is false, so this will not print')"
   ]
  },
  {
   "cell_type": "markdown",
   "metadata": {},
   "source": [
    "```pesudo\n",
    "if (bool(<something>) == True):\n",
    "     do something...\n",
    "```"
   ]
  },
  {
   "cell_type": "code",
   "execution_count": 11,
   "metadata": {},
   "outputs": [
    {
     "name": "stdout",
     "output_type": "stream",
     "text": [
      "True\n",
      "False\n"
     ]
    }
   ],
   "source": [
    "grade = 60\n",
    "\n",
    "print(bool(grade == 60))\n",
    "print(bool(grade == 70))"
   ]
  },
  {
   "cell_type": "markdown",
   "metadata": {},
   "source": [
    "Strings containing characters are True and empty strings ('',\"\" or \"\"\"\"\"\") are False."
   ]
  },
  {
   "cell_type": "markdown",
   "metadata": {},
   "source": [
    "## if…else and if…elif…else Statements"
   ]
  },
  {
   "cell_type": "markdown",
   "metadata": {},
   "source": [
    "### if…else Statement"
   ]
  },
  {
   "cell_type": "markdown",
   "metadata": {},
   "source": [
    "The if…else statement performs different suites, based on whether a condition is True or False. The pseudocode\n",
    "below displays 'Passed' if the student’s grade is greater than or equal to 60; otherwise, it displays 'Failed':\n",
    "\n",
    "```pesudo\n",
    "If student’s grade is greater than or equal to 60\n",
    "\tDisplay 'Passed'\n",
    "\tElse\n",
    "\tDisplay 'Failed'\n",
    "```"
   ]
  },
  {
   "cell_type": "code",
   "execution_count": 14,
   "metadata": {},
   "outputs": [
    {
     "name": "stdout",
     "output_type": "stream",
     "text": [
      "Passed\n"
     ]
    }
   ],
   "source": [
    "grade = 90\n",
    "\n",
    "if grade >= 60:\n",
    "\tresult = 'Passed'\n",
    "else:\n",
    "\tresult = 'Failed'\n",
    "\n",
    "print(result)"
   ]
  },
  {
   "cell_type": "code",
   "execution_count": 15,
   "metadata": {},
   "outputs": [
    {
     "name": "stdout",
     "output_type": "stream",
     "text": [
      "Failed\n"
     ]
    }
   ],
   "source": [
    "# Alternative to if…else\n",
    "\n",
    "grade = 57\n",
    "result = 'Passed' if grade >= 60 else 'Failed'\n",
    "print(result)"
   ]
  },
  {
   "cell_type": "code",
   "execution_count": 18,
   "metadata": {},
   "outputs": [
    {
     "name": "stdout",
     "output_type": "stream",
     "text": [
      "passed\n",
      "Congratulations!\n"
     ]
    }
   ],
   "source": [
    "grade = int(input('Enter your grade: ')) # 70\n",
    "\n",
    "if grade >= 60:\n",
    "\tprint('passed')\n",
    "\tprint('Congratulations!')\n",
    "else:\n",
    "\tprint('failed')\n",
    "\tprint('You should take course again.')"
   ]
  },
  {
   "cell_type": "markdown",
   "metadata": {},
   "source": [
    "### if…elif…else Statement"
   ]
  },
  {
   "cell_type": "markdown",
   "metadata": {},
   "source": [
    "You can test for many cases using the if…elif…else statement. The following pseudocode displays “A” for grades\n",
    "greater than or equal to 90, “B” for grades in the range 80–89, “C” for grades 70–79, “D” for grades 60–69 and “F” for all other grades:\n",
    "\n",
    "```pesudo\n",
    "If student’s grade is greater than or equal to 90\n",
    "Display “A”\n",
    "Else If student’s grade is greater than or equal to 80\n",
    "Display “B”\n",
    "Else If student’s grade is greater than or equal to 70\n",
    "Display “C”\n",
    "Else If student’s grade is greater than or equal to 60\n",
    "Display “D”\n",
    "Else\n",
    "Display “F”\n",
    "```"
   ]
  },
  {
   "cell_type": "code",
   "execution_count": 20,
   "metadata": {},
   "outputs": [
    {
     "name": "stdout",
     "output_type": "stream",
     "text": [
      "A\n"
     ]
    }
   ],
   "source": [
    "grade = int(input('Enter your grade: '))\n",
    "\n",
    "if grade >= 90:\n",
    "\tprint('A')\n",
    "elif 89 >= grade >= 80:\n",
    "\tprint('B')\n",
    "elif 79 >= grade >= 70:\n",
    "\tprint('C')\n",
    "elif 60 >= grade >= 60:\n",
    "\tprint('D')\n",
    "else:\n",
    "\tprint('F')"
   ]
  },
  {
   "cell_type": "code",
   "execution_count": 21,
   "metadata": {},
   "outputs": [
    {
     "name": "stdout",
     "output_type": "stream",
     "text": [
      "Strong password\n"
     ]
    }
   ],
   "source": [
    "# Try Flags\n",
    "\n",
    "password = input('Enter your password: ')\n",
    "\n",
    "check = 0\n",
    "\n",
    "if len(password) >= 8:\n",
    "\tcheck += 1\n",
    "if any(char.isdigit() for char in password):\n",
    "\tcheck += 1\n",
    "if any(char.islower() for char in password):\n",
    "\tcheck += 1\n",
    "if any(char.isupper() for char in password):\n",
    "\tcheck += 1\n",
    "# Special characters\n",
    "special_chars = {'!', '@', '#', '$', '%', '^', '&', '*'}\n",
    "if any(char in special_chars for char in password):\n",
    "\tcheck += 1\n",
    "\n",
    "if check == 5:\n",
    "\tprint('Strong password')\n",
    "else:\n",
    "\tprint('Weak password')"
   ]
  },
  {
   "cell_type": "code",
   "execution_count": 23,
   "metadata": {},
   "outputs": [
    {
     "name": "stdout",
     "output_type": "stream",
     "text": [
      "Perfect score!, A+\n"
     ]
    }
   ],
   "source": [
    "# Nested if…else\n",
    "\n",
    "grade = int(input('Enter your grade: '))\n",
    "\n",
    "if grade >= 90:\n",
    "\tif grade == 100:\n",
    "\t\tprint('Perfect score!, A+')\n",
    "\telse:\n",
    "\t\tprint('A')\n",
    "elif 89 >= grade >= 80:\n",
    "\tprint('B')\n",
    "elif 79 >= grade >= 70:\n",
    "\tprint('C')\n",
    "elif 60 >= grade >= 60:\n",
    "\tprint('D')\n",
    "else:\n",
    "\tprint('F')"
   ]
  },
  {
   "cell_type": "markdown",
   "metadata": {},
   "source": [
    "**pass statement**\n",
    "\n",
    "The pass statement is a null statement that does nothing. It is used as a placeholder in situations where a statement is required syntactically, but no code needs to be executed, such as in the body of a loop or an if statement."
   ]
  },
  {
   "cell_type": "code",
   "execution_count": 24,
   "metadata": {},
   "outputs": [],
   "source": [
    "# Pass Statement\n",
    "\n",
    "grade = 90\n",
    "\n",
    "if grade >= 60:\n",
    "\tpass\n",
    "else:\n",
    "\tprint('Failed')"
   ]
  },
  {
   "cell_type": "markdown",
   "metadata": {},
   "source": [
    "# Repetition Statements"
   ]
  },
  {
   "cell_type": "markdown",
   "metadata": {},
   "source": [
    "Python provides two repetition statements—while and for:\n",
    "* The while statement repeats an action (or a group of actions) as long as a\n",
    "condition remains True.\n",
    "* The for statement repeats an action (or a group of actions) for every item\n",
    "in a sequence of items."
   ]
  },
  {
   "cell_type": "markdown",
   "metadata": {},
   "source": [
    "## While Loop"
   ]
  },
  {
   "cell_type": "markdown",
   "metadata": {},
   "source": [
    "The while statement allows you to repeat one or more actions while a condition remains True. Such a statement\n",
    "often is called a loop.\n",
    "The following pseudocode specifies what happens when you go shopping:\n",
    "\n",
    "```pesudo\n",
    "While there are more items on my shopping list\n",
    "\tBuy next item and cross it off my list\n",
    "```\n",
    "\n",
    "If the condition “there are more items on my shopping list” is true, you perform the action “Buy next item and cross it off my list.” You repeat this action while the condition remains true. You stop repeating this action when the condition becomes false—that is, when you’ve crossed all items off your\n",
    "shopping list."
   ]
  },
  {
   "cell_type": "code",
   "execution_count": 25,
   "metadata": {},
   "outputs": [
    {
     "name": "stdout",
     "output_type": "stream",
     "text": [
      "81\n"
     ]
    }
   ],
   "source": [
    "product = 3\n",
    "\n",
    "while product <= 50:\n",
    "\tproduct = product * 3\n",
    "\n",
    "print(product)"
   ]
  },
  {
   "cell_type": "markdown",
   "metadata": {},
   "source": [
    "First, we create product and initialize it to 3. Then the while statement executes as follows:\n",
    "\n",
    "1. Python tests the condition product <= 50, which is True because product is 3. The statement in the suite multiplies product by 3 and assigns the result (9) to product. One iteration of the loop is now\n",
    "complete.\n",
    "2. Python again tests the condition, which is True because product is now 9. The suite’s statement sets product to 27, completing the second iteration of the loop.\n",
    "3. Python again tests the condition, which is True because product is now 27. The suite’s statement sets product to 81, completing the third iteration of the loop.\n",
    "4. Python again tests the condition, which is finally False because product is now 81. The repetition now terminates."
   ]
  },
  {
   "cell_type": "markdown",
   "metadata": {},
   "source": [
    "```pesudo\n",
    "while <conditional test>:\n",
    "\t<do something>\n",
    "```"
   ]
  },
  {
   "cell_type": "code",
   "execution_count": 26,
   "metadata": {},
   "outputs": [
    {
     "name": "stdout",
     "output_type": "stream",
     "text": [
      "[1 3] [3 9] [9 27] [27 81] [81 243] "
     ]
    },
    {
     "data": {
      "text/plain": [
       "243"
      ]
     },
     "execution_count": 26,
     "metadata": {},
     "output_type": "execute_result"
    }
   ],
   "source": [
    "counter = 1\n",
    "\n",
    "while counter < 90:\n",
    "    print(f'[{counter}', end=' ')\n",
    "    counter *= 3\n",
    "    print (f'{counter}]', end=' ')\n",
    "\n",
    "counter"
   ]
  },
  {
   "cell_type": "markdown",
   "metadata": {},
   "source": [
    "**Break Statement**\n",
    "\n",
    "The break statement immediately terminates a loop. Program control resumes at the next statement following the loop. The break statement is often used to exit a loop when a condition becomes true."
   ]
  },
  {
   "cell_type": "code",
   "execution_count": 27,
   "metadata": {},
   "outputs": [
    {
     "name": "stdout",
     "output_type": "stream",
     "text": [
      "Invalid password. Try again!\n",
      "Invalid password. Try again!\n",
      "Invalid password. Try again!\n",
      "You have made three unsuccessful login attempts\n"
     ]
    }
   ],
   "source": [
    "# Break Statement\n",
    "\n",
    "tries = 0\n",
    "\n",
    "while tries < 3:\n",
    "\tpassword = input('Enter your password: ')\n",
    "\tif password == 'secret':\n",
    "\t\tprint('You have successfully logged in')\n",
    "\t\tbreak\n",
    "\telse:\n",
    "\t\tprint('Invalid password. Try again!')\n",
    "\t\ttries += 1\n",
    "else:\n",
    "\tprint('You have made three unsuccessful login attempts')\n"
   ]
  },
  {
   "cell_type": "markdown",
   "metadata": {},
   "source": [
    "## For Loop"
   ]
  },
  {
   "cell_type": "markdown",
   "metadata": {},
   "source": [
    "Like the while statement, the for statement allows you to repeat an action or several actions. The for statement performs its action(s) for each item in a sequence of items."
   ]
  },
  {
   "cell_type": "code",
   "execution_count": 29,
   "metadata": {},
   "outputs": [
    {
     "name": "stdout",
     "output_type": "stream",
     "text": [
      "P r o g r a m m i n g "
     ]
    }
   ],
   "source": [
    "for character in 'Programming':\n",
    "\tprint(character, end=' ')"
   ]
  },
  {
   "cell_type": "markdown",
   "metadata": {},
   "source": [
    "The for statement executes as follows:\n",
    "* Upon entering the statement, it assigns the 'P' in 'Programming' to the target variable between keywords for and in—in this case, character.\n",
    "* Next, the statement in the suite executes, displaying character’s value followed by two spaces—we’ll say more about this momentarily.\n",
    "* After executing the suite, Python assigns to character the next item in the sequence (that is, the 'r' in 'Programming'), then executes the suite again.\n",
    "* This continues while there are more items in the sequence to process. In this case, the statement terminates after displaying the letter 'g', followed by two spaces.\n",
    "* Using the target in the suite, as we did here to display its value, is common but not required.\n"
   ]
  },
  {
   "cell_type": "markdown",
   "metadata": {},
   "source": [
    "**Iterables**"
   ]
  },
  {
   "cell_type": "code",
   "execution_count": 30,
   "metadata": {},
   "outputs": [
    {
     "name": "stdout",
     "output_type": "stream",
     "text": [
      "2 3 5 7 11 "
     ]
    }
   ],
   "source": [
    "# List\n",
    "\n",
    "for number in [2, 3, 5, 7, 11]:\n",
    "\tprint(number, end=' ')\n",
    "\t"
   ]
  },
  {
   "cell_type": "code",
   "execution_count": 31,
   "metadata": {},
   "outputs": [
    {
     "name": "stdout",
     "output_type": "stream",
     "text": [
      "2 3 5 7 11 "
     ]
    }
   ],
   "source": [
    "# Tuple\n",
    "\n",
    "for number in (2, 3, 5, 7, 11):\n",
    "\tprint(number, end=' ')"
   ]
  },
  {
   "cell_type": "code",
   "execution_count": 32,
   "metadata": {},
   "outputs": [
    {
     "name": "stdout",
     "output_type": "stream",
     "text": [
      "2 3 5 7 11 "
     ]
    }
   ],
   "source": [
    "# Set\n",
    "\n",
    "for number in {2, 3, 5, 7, 11}:\n",
    "\tprint(number, end=' ')"
   ]
  },
  {
   "cell_type": "markdown",
   "metadata": {},
   "source": [
    "enmuerate() function returns an enumerate object. It contains the index and value of all the items in the iterable as pairs. This can be useful for iteration."
   ]
  },
  {
   "cell_type": "code",
   "execution_count": 52,
   "metadata": {},
   "outputs": [
    {
     "data": {
      "text/plain": [
       "[(0, ('January', 31)), (1, ('February', 28)), (2, ('March', 31))]"
      ]
     },
     "execution_count": 52,
     "metadata": {},
     "output_type": "execute_result"
    }
   ],
   "source": [
    "list(enumerate(months_to_days.items()))"
   ]
  },
  {
   "cell_type": "code",
   "execution_count": 41,
   "metadata": {},
   "outputs": [
    {
     "name": "stdout",
     "output_type": "stream",
     "text": [
      "(month: January, Days: 31) (month: February, Days: 28) (month: March, Days: 31) "
     ]
    }
   ],
   "source": [
    "# Dictionary\n",
    "months_to_days = {'January': 31, 'February': 28, 'March': 31}\n",
    "\n",
    "for counter,(month, Days) in enumerate(months_to_days.items()):\n",
    "\tprint(f'(month: {month}, Days: {Days})', end=' ')"
   ]
  },
  {
   "cell_type": "code",
   "execution_count": 53,
   "metadata": {},
   "outputs": [
    {
     "data": {
      "text/plain": [
       "[(0, 'January'), (1, 'February'), (2, 'March')]"
      ]
     },
     "execution_count": 53,
     "metadata": {},
     "output_type": "execute_result"
    }
   ],
   "source": [
    "list(enumerate(months_to_days.keys()))"
   ]
  },
  {
   "cell_type": "code",
   "execution_count": 45,
   "metadata": {},
   "outputs": [
    {
     "name": "stdout",
     "output_type": "stream",
     "text": [
      "January February March "
     ]
    }
   ],
   "source": [
    "# print Dictionary keys\n",
    "for month in enumerate(months_to_days.keys()):\n",
    "\tprint(month[1], end=' ')"
   ]
  },
  {
   "cell_type": "code",
   "execution_count": 54,
   "metadata": {},
   "outputs": [
    {
     "data": {
      "text/plain": [
       "[(0, 31), (1, 28), (2, 31)]"
      ]
     },
     "execution_count": 54,
     "metadata": {},
     "output_type": "execute_result"
    }
   ],
   "source": [
    "list(enumerate(months_to_days.values()))"
   ]
  },
  {
   "cell_type": "code",
   "execution_count": 50,
   "metadata": {},
   "outputs": [
    {
     "name": "stdout",
     "output_type": "stream",
     "text": [
      "31 28 31 "
     ]
    }
   ],
   "source": [
    "# print Dictionary values\n",
    "for Days in enumerate(months_to_days.values()):\n",
    "\tprint(Days[1], end=' ')"
   ]
  },
  {
   "cell_type": "code",
   "execution_count": 55,
   "metadata": {},
   "outputs": [
    {
     "name": "stdout",
     "output_type": "stream",
     "text": [
      "1 is odd\n",
      "2 is even\n",
      "3 is odd\n",
      "4 is even\n",
      "5 is odd\n",
      "6 is even\n",
      "7 is odd\n",
      "8 is even\n",
      "9 is odd\n",
      "10 is even\n",
      "11 is odd\n",
      "12 is even\n",
      "13 is odd\n",
      "14 is even\n",
      "15 is odd\n",
      "16 is even\n",
      "17 is odd\n",
      "18 is even\n",
      "19 is odd\n",
      "20 is even\n",
      "21 is odd\n"
     ]
    }
   ],
   "source": [
    "# range()\n",
    "for counter in range(1,22):\n",
    "    if counter % 2 != 0:\n",
    "        print(f'{counter} is odd')\n",
    "    else:\n",
    "        print(f'{counter} is even')"
   ]
  },
  {
   "cell_type": "code",
   "execution_count": 56,
   "metadata": {},
   "outputs": [
    {
     "name": "stdout",
     "output_type": "stream",
     "text": [
      "2 is a prime number\n",
      "3 is a prime number\n",
      "4 equals 2 * 2\n",
      "5 is a prime number\n",
      "6 equals 2 * 3\n",
      "7 is a prime number\n",
      "8 equals 2 * 4\n",
      "9 equals 3 * 3\n"
     ]
    }
   ],
   "source": [
    "# Prime Number\n",
    "\n",
    "for n in range(2, 10):\n",
    "    for x in range(2, n):\n",
    "        if n % x == 0:\n",
    "            print(n, 'equals', x, '*', n // x)\n",
    "            break\n",
    "    else:\n",
    "        # loop fell through without finding a factor\n",
    "        print(n, 'is a prime number')"
   ]
  },
  {
   "cell_type": "markdown",
   "metadata": {},
   "source": [
    "**continue Statement**\n",
    "\n",
    "The continue statement skips the remaining statements in the current iteration of the loop and goes to the next iteration of the loop."
   ]
  },
  {
   "cell_type": "code",
   "execution_count": 57,
   "metadata": {},
   "outputs": [
    {
     "name": "stdout",
     "output_type": "stream",
     "text": [
      "1 is odd\n",
      "2 is even\n",
      "3 is odd\n",
      "4 is even\n",
      "5 is odd\n",
      "6 is even\n",
      "7 is odd\n",
      "8 is even\n",
      "9 is odd\n",
      "10 is even\n",
      "11 is odd\n",
      "12 is even\n",
      "13 is odd\n",
      "14 is even\n",
      "15 is odd\n",
      "16 is even\n",
      "17 is odd\n",
      "18 is even\n",
      "19 is odd\n",
      "20 is even\n",
      "21 is odd\n"
     ]
    }
   ],
   "source": [
    "for counter in range(1,22):\n",
    "    if counter % 2 == 0:\n",
    "        print(f'{counter} is even')\n",
    "        continue\n",
    "    print(f'{counter} is odd')"
   ]
  },
  {
   "cell_type": "code",
   "execution_count": 59,
   "metadata": {},
   "outputs": [
    {
     "name": "stdout",
     "output_type": "stream",
     "text": [
      "T h s   s   a   s m p l e   s t r n g "
     ]
    }
   ],
   "source": [
    "for letter in \"This is a simple string\":\n",
    "    if letter == 'i':\n",
    "        continue\n",
    "    print(letter, end= ' ')"
   ]
  },
  {
   "cell_type": "markdown",
   "metadata": {},
   "source": [
    "**else block in for loop**\n",
    "\n",
    "The else block will run only if the loop is not terminated by a break statement.\n"
   ]
  },
  {
   "cell_type": "code",
   "execution_count": 61,
   "metadata": {},
   "outputs": [
    {
     "name": "stdout",
     "output_type": "stream",
     "text": [
      "0 is even\n",
      "2 is even\n",
      "4 is even\n",
      "6 is even\n",
      "8 is even\n",
      "10 is even\n",
      "12 is even\n",
      "14 is even\n",
      "16 is even\n",
      "18 is even\n",
      "19\n"
     ]
    }
   ],
   "source": [
    "for num in range (20):\n",
    "    if num % 2 == 0:\n",
    "        print(f'{num} is even')\n",
    "else:\n",
    "    print(num) # print last value of num in loop  -> 19"
   ]
  },
  {
   "cell_type": "markdown",
   "metadata": {},
   "source": [
    "**Revision Word Counting Example**"
   ]
  },
  {
   "cell_type": "code",
   "execution_count": 69,
   "metadata": {},
   "outputs": [
    {
     "name": "stdout",
     "output_type": "stream",
     "text": [
      "this        2\n",
      "is          2\n",
      "sample      2\n",
      "text        2\n",
      "with        2\n",
      "several     1\n",
      "words       2\n",
      "more        1\n",
      "some        1\n",
      "different   1\n",
      "\n",
      "Number of unique words: 10\n"
     ]
    }
   ],
   "source": [
    "# Word Count\n",
    "\n",
    "text = ('this is sample text with several words '\n",
    "\t\t'this is more sample text with some different words')\n",
    "\n",
    "count_words = {}\n",
    "\n",
    "for word in text.split():\n",
    "\tif word in count_words:\n",
    "\t\tcount_words[word] += 1\n",
    "\telse:\n",
    "\t\tcount_words[word] = 1\n",
    "\n",
    "for word in count_words:\n",
    "\tprint(f'{word:<12}{count_words[word]}')\n",
    "\n",
    "print('\\nNumber of unique words:', len(count_words))\n"
   ]
  },
  {
   "cell_type": "code",
   "execution_count": 71,
   "metadata": {},
   "outputs": [
    {
     "name": "stdout",
     "output_type": "stream",
     "text": [
      "this        2\n",
      "is          2\n",
      "sample      2\n",
      "text        2\n",
      "with        2\n",
      "several     1\n",
      "words       2\n",
      "more        1\n",
      "some        1\n",
      "different   1\n",
      "\n",
      "Number of unique words: 10\n"
     ]
    }
   ],
   "source": [
    "# using Counter \n",
    "from collections import Counter\n",
    "\n",
    "text = ('this is sample text with several words '\n",
    "\t\t'this is more sample text with some different words')\n",
    "\n",
    "word_counts = Counter(text.split())\n",
    "\n",
    "for word, count in word_counts.items():\n",
    "\tprint(f'{word:<12}{count}')\n",
    "\n",
    "print('\\nNumber of unique words:', len(word_counts))"
   ]
  },
  {
   "cell_type": "markdown",
   "metadata": {},
   "source": [
    "# Functions "
   ]
  },
  {
   "cell_type": "markdown",
   "metadata": {},
   "source": [
    "perform that task multiple times throughout your program, you don’t need to type all the code for the same task again and again; you just call the function dedicated to handling that task, and the call tells Python to \n",
    "run the code inside the function. You’ll find that using functions makes your programs easier to write, read, test, and fix.\n",
    "In this chapter you’ll also learn ways to pass information to functions. \n",
    "You’ll learn how to write certain functions whose primary job is to display information and other functions designed to process data and return a value or set of values. Finally, you’ll learn to store functions in separate files called modules to help organize your main program files"
   ]
  },
  {
   "cell_type": "markdown",
   "metadata": {},
   "source": [
    "**Defining Function**"
   ]
  },
  {
   "cell_type": "markdown",
   "metadata": {},
   "source": [
    "**Docstring** \n",
    "\n",
    "Is a comment that describes what the function does. It is written in triple quotes."
   ]
  },
  {
   "cell_type": "code",
   "execution_count": 11,
   "metadata": {},
   "outputs": [],
   "source": [
    "def greet_user():\n",
    "\t\"\"\" Display a simple greeting.\"\"\"\n",
    "\tprint(\"Hello\")"
   ]
  },
  {
   "cell_type": "code",
   "execution_count": 12,
   "metadata": {},
   "outputs": [
    {
     "name": "stdout",
     "output_type": "stream",
     "text": [
      "Hello\n"
     ]
    }
   ],
   "source": [
    "greet_user() # Call the function"
   ]
  },
  {
   "cell_type": "code",
   "execution_count": 16,
   "metadata": {},
   "outputs": [
    {
     "name": "stdout",
     "output_type": "stream",
     "text": [
      "\u001b[1;31mSignature:\u001b[0m \u001b[0mgreet_user\u001b[0m\u001b[1;33m(\u001b[0m\u001b[1;33m)\u001b[0m\u001b[1;33m\u001b[0m\u001b[1;33m\u001b[0m\u001b[0m\n",
      "\u001b[1;31mDocstring:\u001b[0m Display a simple greeting.\n",
      "\u001b[1;31mFile:\u001b[0m      c:\\users\\hp\\appdata\\local\\temp\\ipykernel_9720\\328628188.py\n",
      "\u001b[1;31mType:\u001b[0m      function"
     ]
    }
   ],
   "source": [
    "# Display the function’s docstring\n",
    "greet_user?"
   ]
  },
  {
   "cell_type": "code",
   "execution_count": 17,
   "metadata": {},
   "outputs": [
    {
     "name": "stdout",
     "output_type": "stream",
     "text": [
      "\u001b[1;31mSignature:\u001b[0m \u001b[0mprint\u001b[0m\u001b[1;33m(\u001b[0m\u001b[1;33m*\u001b[0m\u001b[0margs\u001b[0m\u001b[1;33m,\u001b[0m \u001b[0msep\u001b[0m\u001b[1;33m=\u001b[0m\u001b[1;34m' '\u001b[0m\u001b[1;33m,\u001b[0m \u001b[0mend\u001b[0m\u001b[1;33m=\u001b[0m\u001b[1;34m'\\n'\u001b[0m\u001b[1;33m,\u001b[0m \u001b[0mfile\u001b[0m\u001b[1;33m=\u001b[0m\u001b[1;32mNone\u001b[0m\u001b[1;33m,\u001b[0m \u001b[0mflush\u001b[0m\u001b[1;33m=\u001b[0m\u001b[1;32mFalse\u001b[0m\u001b[1;33m)\u001b[0m\u001b[1;33m\u001b[0m\u001b[1;33m\u001b[0m\u001b[0m\n",
      "\u001b[1;31mDocstring:\u001b[0m\n",
      "Prints the values to a stream, or to sys.stdout by default.\n",
      "\n",
      "sep\n",
      "  string inserted between values, default a space.\n",
      "end\n",
      "  string appended after the last value, default a newline.\n",
      "file\n",
      "  a file-like object (stream); defaults to the current sys.stdout.\n",
      "flush\n",
      "  whether to forcibly flush the stream.\n",
      "\u001b[1;31mType:\u001b[0m      builtin_function_or_method"
     ]
    }
   ],
   "source": [
    "# Display the print function’s docstring\n",
    "print?"
   ]
  },
  {
   "cell_type": "code",
   "execution_count": 19,
   "metadata": {},
   "outputs": [
    {
     "name": "stdout",
     "output_type": "stream",
     "text": [
      "\u001b[1;31mSignature:\u001b[0m \u001b[0mgreet_user\u001b[0m\u001b[1;33m(\u001b[0m\u001b[1;33m)\u001b[0m\u001b[1;33m\u001b[0m\u001b[1;33m\u001b[0m\u001b[0m\n",
      "\u001b[1;31mSource:\u001b[0m   \n",
      "\u001b[1;32mdef\u001b[0m \u001b[0mgreet_user\u001b[0m\u001b[1;33m(\u001b[0m\u001b[1;33m)\u001b[0m\u001b[1;33m:\u001b[0m\u001b[1;33m\n",
      "\u001b[0m        \u001b[1;34m\"\"\" Display a simple greeting.\"\"\"\u001b[0m\u001b[1;33m\n",
      "\u001b[0m        \u001b[0mprint\u001b[0m\u001b[1;33m(\u001b[0m\u001b[1;34m\"Hello\"\u001b[0m\u001b[1;33m)\u001b[0m\u001b[1;33m\u001b[0m\u001b[1;33m\u001b[0m\u001b[0m\n",
      "\u001b[1;31mFile:\u001b[0m      c:\\users\\hp\\appdata\\local\\temp\\ipykernel_9720\\328628188.py\n",
      "\u001b[1;31mType:\u001b[0m      function"
     ]
    }
   ],
   "source": [
    "# Display the greet_user function’s docstring\n",
    "greet_user??"
   ]
  },
  {
   "cell_type": "markdown",
   "metadata": {},
   "source": [
    "**Types of Functions**"
   ]
  },
  {
   "cell_type": "markdown",
   "metadata": {},
   "source": [
    "* Function without arguments and without return value\n",
    "* Function with arguments and without return value\n",
    "* Function without arguments and with return value\n",
    "* Function with arguments and with return value\n",
    "* Function with default arguments\n",
    "* Function with variable-length arguments\n",
    "* Function with keyword arguments\n",
    "* Function with keyword-only arguments\n"
   ]
  },
  {
   "cell_type": "markdown",
   "metadata": {},
   "source": [
    "Previous greet_user() function is an example of a function without arguments and without return value. The greet_user() function displays a simple greeting. The function does not require any information to do its job, and it doesn’t provide any information back to the code that called it."
   ]
  },
  {
   "cell_type": "markdown",
   "metadata": {},
   "source": [
    "**Passing Information to a Function**\n",
    "\n",
    "Modified slightly, the function greet_user() can not only tell the user Hello!\n",
    "but also greet them by name. For the function to do this, you enter username in the parentheses of the function’s definition at def greet_user(). By adding username here you allow the function to accept any value of username you specify. The function now expects you to provide a value for username each \n",
    "time you call it. When you call greet_user(), you can pass it a name, such as 'jesse', inside the parentheses"
   ]
  },
  {
   "cell_type": "code",
   "execution_count": 20,
   "metadata": {},
   "outputs": [],
   "source": [
    "def greet_user(username):\n",
    "\t\"\"\"Display a personalized greeting.\"\"\"\n",
    "\tprint(f\"Hello, {username.title()}!\")"
   ]
  },
  {
   "cell_type": "code",
   "execution_count": 21,
   "metadata": {},
   "outputs": [
    {
     "name": "stdout",
     "output_type": "stream",
     "text": [
      "Hello, Jesse!\n"
     ]
    }
   ],
   "source": [
    "greet_user('jesse')"
   ]
  },
  {
   "cell_type": "markdown",
   "metadata": {},
   "source": [
    "**Arguments and Parameters**\n",
    "\n",
    "In the preceding greet_user() function, we defined greet_user() to require a value for the variable username. Once we called the function and gave it the information (a person’s name), it printed the right greeting. \n",
    "The variable username in the definition of greet_user() is an example of a parameter, a piece of information the function needs to do its job. The value 'jesse' in greet_user('jesse') is an example of an argument. An argument is a piece of information that is passed from a function call to a function. \n",
    "When we call the function, we place the value we want the function to work with in parentheses. In this case the argument 'jesse' was passed to the function greet_user(), and the value was stored in the parameter username."
   ]
  },
  {
   "cell_type": "markdown",
   "metadata": {},
   "source": [
    "**Try It Yourself**\n",
    "1. Message: Write a function called display_message() that prints one sentence telling everyone what you are learning about in this chapter. Call the function, and make sure the message displays correctly.\n",
    "2. Favorite Book: Write a function called favorite_book() that accepts one parameter, title. The function should print a message, such as One of my favorite books is Alice in Wonderland. Call the function, making sure to include a book title as an argument in the function call"
   ]
  },
  {
   "cell_type": "code",
   "execution_count": 22,
   "metadata": {},
   "outputs": [],
   "source": [
    "# do code here "
   ]
  },
  {
   "cell_type": "markdown",
   "metadata": {},
   "source": [
    "**Passing Arguments**\n",
    "\n",
    "Because a function definition can have multiple parameters, a function call may need multiple arguments. You can pass arguments to your functions in a number of ways. You can use positional arguments, which need to be in the same order the parameters were written; keyword arguments, where each argument consists of a variable name and a value; and lists and dictionaries of values. Let’s look at each of these in turn.\n",
    "\n",
    "**Positional Arguments**\n",
    "\n",
    "When you call a function, Python must match each argument in the function call with a parameter in the function definition. The simplest way to do this is based on the order of the arguments provided. Values matched up this way are called positional arguments.\n",
    "To see how this works, consider a function that displays information about pets. The function tells us what kind of animal each pet is and the pet’s name, as shown here:"
   ]
  },
  {
   "cell_type": "code",
   "execution_count": 23,
   "metadata": {},
   "outputs": [],
   "source": [
    "def describe_pet(animal_type, pet_name):\n",
    "\t\"\"\"Display information about a pet.\"\"\"\n",
    "\tprint(f\"\\nI have a {animal_type}.\")\n",
    "\tprint(f\"My {animal_type}'s name is {pet_name.title()}.\")"
   ]
  },
  {
   "cell_type": "code",
   "execution_count": 25,
   "metadata": {},
   "outputs": [
    {
     "name": "stdout",
     "output_type": "stream",
     "text": [
      "\n",
      "I have a Dog.\n",
      "My Dog's name is Simba.\n",
      "\n",
      "I have a Cat.\n",
      "My Cat's name is Mshmsha.\n"
     ]
    }
   ],
   "source": [
    "describe_pet('Dog', 'simba')\n",
    "describe_pet('Cat', 'mshmsha')"
   ]
  },
  {
   "cell_type": "markdown",
   "metadata": {},
   "source": [
    "**Order Matters in Positional Arguments**\n",
    "\n",
    "You can get unexpected results if you mix up the order of the arguments in a function call when using positional arguments:"
   ]
  },
  {
   "cell_type": "code",
   "execution_count": 26,
   "metadata": {},
   "outputs": [
    {
     "name": "stdout",
     "output_type": "stream",
     "text": [
      "\n",
      "I have a simba.\n",
      "My simba's name is Dog.\n"
     ]
    }
   ],
   "source": [
    "describe_pet('simba', 'Dog') # Wrong order of arguments"
   ]
  },
  {
   "cell_type": "markdown",
   "metadata": {},
   "source": [
    "**Keyword Arguments**\n",
    "\n",
    "A keyword argument is a name-value pair that you pass to a function. You directly associate the name and the value within the argument, so when you pass the argument to the function, there’s no confusion (you won’t end up with a simba named dog). Keyword arguments free you from having to worry about correctly ordering your arguments in the function call, and they clarify the role of each value in the function call."
   ]
  },
  {
   "cell_type": "code",
   "execution_count": 27,
   "metadata": {},
   "outputs": [
    {
     "name": "stdout",
     "output_type": "stream",
     "text": [
      "\n",
      "I have a Dog.\n",
      "My Dog's name is Simba.\n"
     ]
    }
   ],
   "source": [
    "describe_pet(pet_name='simba', animal_type='Dog') # Correct order of arguments"
   ]
  },
  {
   "cell_type": "markdown",
   "metadata": {},
   "source": [
    "passing arguments using keyword arguments is useful when you want to make it clear what each argument represents in the function call.\n",
    "if not passed the default value will be used.\n",
    "if you not have a default value for an argument, you must include the argument in the function call."
   ]
  },
  {
   "cell_type": "code",
   "execution_count": 36,
   "metadata": {},
   "outputs": [],
   "source": [
    "# describe_pet() # TypeError: describe_pet() missing 2 required positional arguments: 'animal_type' and 'pet_name'"
   ]
  },
  {
   "cell_type": "markdown",
   "metadata": {},
   "source": [
    "**Default Values**\n",
    "\n",
    "When writing a function, you can define a default value for each parameter. If an argument for a parameter is provided in the function call, Python uses the argument value. If not, it uses the parameter’s default value. So when you define a default value for a parameter, you can exclude the corresponding argument you’d usually write in the function call. Using default values can simplify your function calls and clarify the ways in which your functions are typically used.\n",
    "For example, if you notice that most of the calls to describe_pet() are being used to describe dogs, you can set the default value of animal_type to 'dog'. Now anyone calling describe_pet() for a dog can omit that information:"
   ]
  },
  {
   "cell_type": "code",
   "execution_count": 29,
   "metadata": {},
   "outputs": [],
   "source": [
    "def describe_pet(pet_name, animal_type='dog'):\n",
    "\t\"\"\"Display information about a pet.\"\"\"\n",
    "\tprint(f\"\\nI have a {animal_type}.\")\n",
    "\tprint(f\"My {animal_type}'s name is {pet_name.title()}.\")"
   ]
  },
  {
   "cell_type": "code",
   "execution_count": 31,
   "metadata": {},
   "outputs": [
    {
     "name": "stdout",
     "output_type": "stream",
     "text": [
      "\n",
      "I have a dog.\n",
      "My dog's name is Simba.\n"
     ]
    }
   ],
   "source": [
    "describe_pet('simba')"
   ]
  },
  {
   "cell_type": "markdown",
   "metadata": {},
   "source": [
    "**Avoiding Argument Errors**\n",
    "\n",
    "When you start to use functions, don’t be surprised if you encounter errors about unmatched arguments. Unmatched arguments occur when you provide fewer or more arguments than a function needs to do its work. \n",
    "For example, here’s what happens if we try to call describe_pet() with no arguments:"
   ]
  },
  {
   "cell_type": "code",
   "execution_count": 34,
   "metadata": {},
   "outputs": [],
   "source": [
    "# describe_pet() # TypeError: describe_pet() missing 1 required positional argument: 'pet_name'"
   ]
  },
  {
   "cell_type": "markdown",
   "metadata": {},
   "source": [
    "**Try It Yourself**\n",
    "\n",
    "3. T-Shirt: Write a function called make_shirt() that accepts a size and the text of a message that should be printed on the shirt. The function should print a sentence summarizing the size of the shirt and the message printed on it.Call the function once using positional arguments to make a shirt. Call the function a second time using keyword arguments.\n",
    "4. Large Shirts: Modify the make_shirt() function so that shirts are large by default with a message that reads I love Python. Make a large shirt and a medium shirt with the default message, and a shirt of any size with a different message.\n",
    "5. Cities: Write a function called describe_city() that accepts the name of a city and its country. The function should print a simple sentence, such as Reykjavik is in Iceland. Give the parameter for the country a default value. Call your function for three different cities, at least one of which is not in the \n",
    "default country."
   ]
  },
  {
   "cell_type": "code",
   "execution_count": 37,
   "metadata": {},
   "outputs": [],
   "source": [
    "# do code here"
   ]
  },
  {
   "cell_type": "markdown",
   "metadata": {},
   "source": [
    "**Return Values**\n",
    "\n",
    "A function doesn’t always have to display its output directly. Instead, it can process some data and then return a value or set of values. The value the function returns is called a return value. The return statement takes a value from inside a function and sends it back to the line that called the function. \n",
    "Return values allow you to move much of your program’s grunt work into functions, which can simplify the body of your program"
   ]
  },
  {
   "cell_type": "code",
   "execution_count": 38,
   "metadata": {},
   "outputs": [],
   "source": [
    "def get_FullName(first_name, last_name):\n",
    "\t\"\"\"Return a full name.\"\"\"\n",
    "\tfull_name = f\"{first_name} {last_name}\"\n",
    "\treturn full_name.title()"
   ]
  },
  {
   "cell_type": "code",
   "execution_count": 39,
   "metadata": {},
   "outputs": [
    {
     "data": {
      "text/plain": [
       "'Mohamed Ismail'"
      ]
     },
     "execution_count": 39,
     "metadata": {},
     "output_type": "execute_result"
    }
   ],
   "source": [
    "get_FullName('mohamed', 'ismail')"
   ]
  },
  {
   "cell_type": "code",
   "execution_count": 45,
   "metadata": {},
   "outputs": [
    {
     "data": {
      "text/plain": [
       "function"
      ]
     },
     "execution_count": 45,
     "metadata": {},
     "output_type": "execute_result"
    }
   ],
   "source": [
    "type(describe_pet) # describe_pet is a function non return value"
   ]
  },
  {
   "cell_type": "code",
   "execution_count": 40,
   "metadata": {},
   "outputs": [
    {
     "data": {
      "text/plain": [
       "str"
      ]
     },
     "execution_count": 40,
     "metadata": {},
     "output_type": "execute_result"
    }
   ],
   "source": [
    "type(get_FullName('mohamed', 'ismail')) # get_FullName is a function return value -> str"
   ]
  },
  {
   "cell_type": "markdown",
   "metadata": {},
   "source": [
    "**Making an Argument Optional**\n",
    "\n",
    "Sometimes it makes sense to make an argument optional so that people using the function can choose to provide extra information only if they want to. You can use default values to make an argument optional.\n",
    "For example, say we want to expand get_formatted_name() to handle middle names as well. A first attempt to include middle names might look \n",
    "like this:"
   ]
  },
  {
   "cell_type": "code",
   "execution_count": 46,
   "metadata": {},
   "outputs": [],
   "source": [
    "def get_formatted_name(first_name, middle_name, last_name):\n",
    "\t\"\"\"Return a full name, neatly formatted.\"\"\"\n",
    "\tfull_name = f\"{first_name} {middle_name} {last_name}\"\n",
    "\treturn full_name.title()"
   ]
  },
  {
   "cell_type": "code",
   "execution_count": 47,
   "metadata": {},
   "outputs": [
    {
     "data": {
      "text/plain": [
       "'Mohamed Ismail Elsayed'"
      ]
     },
     "execution_count": 47,
     "metadata": {},
     "output_type": "execute_result"
    }
   ],
   "source": [
    "get_formatted_name('mohamed', 'Ismail', 'Elsayed') "
   ]
  },
  {
   "cell_type": "code",
   "execution_count": 49,
   "metadata": {},
   "outputs": [],
   "source": [
    "# get_formatted_name('mohamed', 'Elsayed') # TypeError: get_formatted_name() missing 1 required positional argument: 'last_name'"
   ]
  },
  {
   "cell_type": "code",
   "execution_count": 50,
   "metadata": {},
   "outputs": [],
   "source": [
    "def get_formatted_name(first_name, last_name, middle_name= None):\n",
    "\t\"\"\"Return a full name, neatly formatted.\"\"\"\n",
    "\tif middle_name:\n",
    "\t\tfull_name = f\"{first_name} {middle_name} {last_name}\"\n",
    "\telse:\n",
    "\t\tfull_name = f\"{first_name} {last_name}\"\n",
    "\treturn full_name.title()"
   ]
  },
  {
   "cell_type": "code",
   "execution_count": 51,
   "metadata": {},
   "outputs": [
    {
     "data": {
      "text/plain": [
       "'Mohamed Elsayed Ismail'"
      ]
     },
     "execution_count": 51,
     "metadata": {},
     "output_type": "execute_result"
    }
   ],
   "source": [
    "get_formatted_name('mohamed', 'Ismail', 'Elsayed')"
   ]
  },
  {
   "cell_type": "code",
   "execution_count": 53,
   "metadata": {},
   "outputs": [
    {
     "data": {
      "text/plain": [
       "'Mohamed Ismail'"
      ]
     },
     "execution_count": 53,
     "metadata": {},
     "output_type": "execute_result"
    }
   ],
   "source": [
    "get_formatted_name('mohamed', 'Ismail') # No middle name"
   ]
  },
  {
   "cell_type": "markdown",
   "metadata": {},
   "source": [
    "**Returning a Dictionary**\n",
    "\n",
    "A function can return any kind of value you need it to, including more complicated data structures like lists and dictionaries. For example, the following function takes in parts of a name, phone Number and returns a dictionary representing a person:"
   ]
  },
  {
   "cell_type": "code",
   "execution_count": 57,
   "metadata": {},
   "outputs": [],
   "source": [
    "def contact_info(first_name, last_name, PhoneNumber=None):\n",
    "\t\"\"\"Return a dictionary of contact information.\"\"\"\n",
    "\tcontact = {'first': first_name, 'last': last_name, 'PhoneNumber': PhoneNumber}\n",
    "\tif PhoneNumber:\n",
    "\t\tcontact['PhoneNumber'] = PhoneNumber\n",
    "\telse:\n",
    "\t\tcontact['PhoneNumber'] = 'No Phone Number'\n",
    "\treturn contact"
   ]
  },
  {
   "cell_type": "code",
   "execution_count": 55,
   "metadata": {},
   "outputs": [
    {
     "data": {
      "text/plain": [
       "{'first': 'mohamed', 'last': 'Ismail', 'PhoneNumber': '01000000000'}"
      ]
     },
     "execution_count": 55,
     "metadata": {},
     "output_type": "execute_result"
    }
   ],
   "source": [
    "contact_info('mohamed', 'Ismail', '01000000000')"
   ]
  },
  {
   "cell_type": "code",
   "execution_count": 58,
   "metadata": {},
   "outputs": [
    {
     "data": {
      "text/plain": [
       "{'first': 'Mariam', 'last': 'Mohamed', 'PhoneNumber': 'No Phone Number'}"
      ]
     },
     "execution_count": 58,
     "metadata": {},
     "output_type": "execute_result"
    }
   ],
   "source": [
    "contact_info('Mariam', 'Mohamed')"
   ]
  },
  {
   "cell_type": "markdown",
   "metadata": {},
   "source": [
    "**Try It Yourself**\n",
    "\n",
    "6. City Names: Write a function called city_country() that takes in the name of a city and its country. The function should return a string formatted like this:\n",
    "\n",
    "\"Santiago, Chile\"\n",
    "\n",
    "Call your function with at least three city-country pairs, and print the value that’s returned.\n",
    "\n",
    "7. Album: Write a function called make_album() that builds a dictionary describing a music album. The function should take in an artist name and an album title, and it should return a dictionary containing these two pieces of information. Use the function to make three dictionaries representing different \n",
    "albums. Print each return value to show that the dictionaries are storing the album information correctly.\n",
    "Add an optional parameter to make_album() that allows you to store the number of tracks on an album. If the calling line includes a value for the number of tracks, add that value to the album’s dictionary. Make at least one new function call that includes the number of tracks on an album.\n",
    "\n",
    "8. User Albums: Start with your program from Exercise 7. Write a while loop that allows users to enter an album’s artist and title. Once you have that information, call make_album() with the user’s input and print the dictionary that’s created. Be sure to include a quit value in the while loop"
   ]
  },
  {
   "cell_type": "code",
   "execution_count": 59,
   "metadata": {},
   "outputs": [],
   "source": [
    "# do code here"
   ]
  },
  {
   "cell_type": "markdown",
   "metadata": {},
   "source": [
    "**Passing a List**\n",
    "\n",
    "You’ll often find it useful to pass a list to a function, whether it’s a list of names, numbers, or more complex objects, such as dictionaries. When you pass a list to a function, the function gets direct access to the contents of the list. Let’s use functions to make working with lists more efficient.\n",
    "Say we have a list of users and want to print a greeting to each. The following example sends a list of names to a function called greet_users(), which greets each person in the list individually:"
   ]
  },
  {
   "cell_type": "code",
   "execution_count": 62,
   "metadata": {},
   "outputs": [],
   "source": [
    "def build_person(user_Name):\n",
    "\t\"\"\"Return a dictionary of information about a person.\"\"\"\n",
    "\tfor name in user_Name:\n",
    "\t\tMessage = f\"Hello, {name.title()}!\"\n",
    "\treturn Message"
   ]
  },
  {
   "cell_type": "code",
   "execution_count": 63,
   "metadata": {},
   "outputs": [
    {
     "data": {
      "text/plain": [
       "'Hello, Ismail!'"
      ]
     },
     "execution_count": 63,
     "metadata": {},
     "output_type": "execute_result"
    }
   ],
   "source": [
    "user_Name = ['mohamed', 'ismail']\n",
    "build_person(user_Name)"
   ]
  },
  {
   "cell_type": "markdown",
   "metadata": {},
   "source": [
    "**Try It Yourself**\n",
    "\n",
    "9. Magicians: Make a list of magician’s names. Pass the list to a function called show_magicians(), which prints the name of each magician in the list.\n",
    "10. Great Magicians: Start with a copy of your program from Exercise 9.\n",
    "Write a function called make_great() that modifies the list of magicians by adding the phrase the Great to each magician’s name. Call show_magicians() to see that the list has actually been modified.\n",
    "11. Unchanged Magicians: Start with your work from Exercise 10. Call the function make_great() with a copy of the list of magicians’ names. Because the original list will be unchanged, return the new list and store it in a separate list.\n",
    "Call show_magicians() with each list to show that you have one list of the original names and one list with the Great added to each magician’s name"
   ]
  },
  {
   "cell_type": "code",
   "execution_count": 64,
   "metadata": {},
   "outputs": [],
   "source": [
    "# do code here"
   ]
  },
  {
   "cell_type": "markdown",
   "metadata": {},
   "source": [
    "**Passing an Arbitrary Number of Arguments**\n",
    "\n",
    "Sometimes you won’t know ahead of time how many arguments a function needs to accept. Fortunately, Python allows a function to collect an arbitrary number of arguments from the calling statement. \n",
    "For example, consider a function that builds a pizza. It needs to accept a number of toppings, but you can’t know ahead of time how many toppings a person will want. The function in the following example has one parameter, *toppings, but this parameter collects as many arguments as the calling \n",
    "line provides:"
   ]
  },
  {
   "cell_type": "code",
   "execution_count": 65,
   "metadata": {},
   "outputs": [],
   "source": [
    "def make_pizza(*toppings):\n",
    "\t\"\"\"Print the list of toppings that have been requested.\"\"\"\n",
    "\tprint(toppings)"
   ]
  },
  {
   "cell_type": "code",
   "execution_count": 66,
   "metadata": {},
   "outputs": [
    {
     "name": "stdout",
     "output_type": "stream",
     "text": [
      "('pepperoni',)\n"
     ]
    }
   ],
   "source": [
    "make_pizza('pepperoni')"
   ]
  },
  {
   "cell_type": "code",
   "execution_count": 68,
   "metadata": {},
   "outputs": [
    {
     "name": "stdout",
     "output_type": "stream",
     "text": [
      "('mushrooms', 'green peppers', 'extra cheese')\n"
     ]
    }
   ],
   "source": [
    "make_pizza('mushrooms', 'green peppers', 'extra cheese')"
   ]
  },
  {
   "cell_type": "code",
   "execution_count": 71,
   "metadata": {},
   "outputs": [],
   "source": [
    "def make_pizza(*toppings):\n",
    "\t\"\"\"Print the list of toppings that have been requested.\"\"\"\n",
    "\tprint(\"\\nMaking a pizza with the following toppings:\")\n",
    "\tfor topping in toppings:\n",
    "\t\tprint(f\"- {topping}\")"
   ]
  },
  {
   "cell_type": "code",
   "execution_count": 72,
   "metadata": {},
   "outputs": [
    {
     "name": "stdout",
     "output_type": "stream",
     "text": [
      "\n",
      "Making a pizza with the following toppings:\n",
      "- mushrooms\n",
      "- green peppers\n",
      "- extra cheese\n"
     ]
    }
   ],
   "source": [
    "make_pizza('mushrooms', 'green peppers', 'extra cheese')"
   ]
  },
  {
   "cell_type": "markdown",
   "metadata": {},
   "source": [
    "**Mixing Positional and Arbitrary Arguments**\n",
    "\n",
    "If you want a function to accept several different kinds of arguments, the parameter that accepts an arbitrary number of arguments must be placed last in the function definition. Python matches positional and keyword \n",
    "arguments first and then collects any remaining arguments in the final parameter.\n",
    "For example, if the function needs to take in a size for the pizza, that parameter must come before the parameter *toppings:"
   ]
  },
  {
   "cell_type": "code",
   "execution_count": 73,
   "metadata": {},
   "outputs": [],
   "source": [
    "def make_pizza(size, *toppings):\n",
    "\t\"\"\"Print the list of toppings that have been requested.\"\"\"\n",
    "\tprint(f\"\\nMaking a {size} inch pizza with the following toppings:\")\n",
    "\tfor topping in toppings:\n",
    "\t\tprint(f\"- {topping}\")"
   ]
  },
  {
   "cell_type": "code",
   "execution_count": 74,
   "metadata": {},
   "outputs": [
    {
     "name": "stdout",
     "output_type": "stream",
     "text": [
      "\n",
      "Making a 16 inch pizza with the following toppings:\n",
      "- mushrooms\n",
      "- green peppers\n",
      "- extra cheese\n"
     ]
    }
   ],
   "source": [
    "make_pizza(16,'mushrooms', 'green peppers', 'extra cheese')"
   ]
  },
  {
   "cell_type": "markdown",
   "metadata": {},
   "source": [
    "**Using Arbitrary Keyword Arguments**\n",
    "\n",
    "Sometimes you’ll want to accept an arbitrary number of arguments, but you won’t know ahead of time what kind of information will be passed to the function. In this case, you can write functions that accept as many key-value pairs as the calling statement provides. One example involves building user profiles: you know you’ll get information about a user, but you’re not sure what kind of information you’ll receive. The function build_profile() in the following example always takes in a first and last name, but it accepts an arbitrary number of keyword arguments as well:"
   ]
  },
  {
   "cell_type": "code",
   "execution_count": 75,
   "metadata": {},
   "outputs": [],
   "source": [
    "def build_profile(first, last, **user_info):\n",
    "\t\"\"\"Build a dictionary containing everything we know about a user.\"\"\"\n",
    "\tprofile = {}\n",
    "\tprofile['first_name'] = first\n",
    "\tprofile['last_name'] = last\n",
    "\tfor key, value in user_info.items():\n",
    "\t\tprofile[key] = value\n",
    "\treturn profile"
   ]
  },
  {
   "cell_type": "code",
   "execution_count": 77,
   "metadata": {},
   "outputs": [
    {
     "name": "stdout",
     "output_type": "stream",
     "text": [
      "first_name: albert\n",
      "last_name: einstein\n",
      "location: princeton\n",
      "field: physics\n"
     ]
    }
   ],
   "source": [
    "user_profile = build_profile('albert', 'einstein',location='princeton',field='physics')\n",
    "\n",
    "for key, value in user_profile.items():\n",
    "\tprint(f'{key}: {value}')"
   ]
  },
  {
   "cell_type": "markdown",
   "metadata": {},
   "source": [
    "**Try It Yourself**\n",
    "\n",
    "12. Sandwiches: Write a function that accepts a list of items a person wants on a sandwich. The function should have one parameter that collects as many items as the function call provides, and it should print a summary of the sandwich that is being ordered. Call the function three times, using a different number of arguments each time.\n",
    "13. User Profile: Start with a copy of user_profile. Build a profile of yourself by calling build_profile(), using your first and last names and three other key-value pairs that describe you.\n",
    "14. Cars: Write a function that stores information about a car in a dictionary. The function should always receive a manufacturer and a model name. It should then accept an arbitrary number of keyword arguments. Call the function with the required information and two other name-value pairs, such as a color or an optional feature. Your function should work for a call like this one:\n",
    "car = make_car('subaru', 'outback', color='blue', tow_package=True)\n",
    "Print the dictionary that’s returned to make sure all the information was stored correctly"
   ]
  },
  {
   "cell_type": "code",
   "execution_count": 78,
   "metadata": {},
   "outputs": [],
   "source": [
    "# do code here"
   ]
  },
  {
   "cell_type": "markdown",
   "metadata": {},
   "source": [
    "**Storing Your Functions in Modules**\n",
    "\n",
    "One advantage of functions is the way they separate blocks of code from your main program. By using descriptive names for your functions, your main program will be much easier to follow. You can go a step further by storing your functions in a separate file called a module and then importing\n",
    "that module into your main program. An import statement tells Python to make the code in a module available in the currently running program file.\n",
    "Storing your functions in a separate file allows you to hide the details of your program’s code and focus on its higher-level logic. It also allows you to reuse functions in many different programs. When you store your functions in separate files, you can share those files with other programmers without \n",
    "having to share your entire program. Knowing how to import functions also allows you to use libraries of functions that other programmers have written.\n",
    "There are several ways to import a module, and I’ll show you each of these briefly"
   ]
  },
  {
   "cell_type": "markdown",
   "metadata": {},
   "source": [
    "**Importing an Entire Module**\n",
    "\n",
    "To start importing functions, we first need to create a module. A module is a file ending in .py that contains the code you want to import into your program. Let’s make a module that contains the function make_pizza(). To \n",
    "make this module, we’ll remove everything from the file pizza.py except the function make_pizza():"
   ]
  },
  {
   "cell_type": "code",
   "execution_count": 79,
   "metadata": {},
   "outputs": [],
   "source": [
    "def order_pizza(size, *toppings):\n",
    "\t\"\"\"Print the list of toppings that have been requested.\"\"\"\n",
    "\tprint(f\"\\nMaking a {size} inch pizza with the following toppings:\")\n",
    "\tfor topping in toppings:\n",
    "\t\tprint(f\"- {topping}\")"
   ]
  },
  {
   "cell_type": "markdown",
   "metadata": {},
   "source": [
    "Now we’ll make a separate file called pizza.py. This file imports the module we just created and then makes two calls to order_pizza():"
   ]
  },
  {
   "cell_type": "code",
   "execution_count": 1,
   "metadata": {},
   "outputs": [],
   "source": [
    "import pizza"
   ]
  },
  {
   "cell_type": "code",
   "execution_count": 2,
   "metadata": {},
   "outputs": [
    {
     "name": "stdout",
     "output_type": "stream",
     "text": [
      "\n",
      "Making a 18 inch pizza with the following toppings:\n",
      "- cheese\n"
     ]
    }
   ],
   "source": [
    "pizza.order_pizza(18, 'cheese')"
   ]
  },
  {
   "cell_type": "markdown",
   "metadata": {},
   "source": [
    "Importing Specific FunctionsYou can also import a specific function from a module. Here’s the general \n",
    "syntax for this approach:\n",
    "\n",
    "```from module_name import function_name```"
   ]
  },
  {
   "cell_type": "code",
   "execution_count": 3,
   "metadata": {},
   "outputs": [],
   "source": [
    "from pizza import order_pizza"
   ]
  },
  {
   "cell_type": "code",
   "execution_count": 4,
   "metadata": {},
   "outputs": [
    {
     "name": "stdout",
     "output_type": "stream",
     "text": [
      "\n",
      "Making a 16 inch pizza with the following toppings:\n",
      "- mushrooms\n",
      "- green peppers\n",
      "- extra cheese\n"
     ]
    }
   ],
   "source": [
    "order_pizza(16,'mushrooms', 'green peppers', 'extra cheese')"
   ]
  },
  {
   "cell_type": "markdown",
   "metadata": {},
   "source": [
    "**Using as to Give a Function an Alias**\n",
    "\n",
    "If the name of a function you’re importing might conflict with an existing name in your program or if the function name is long, you can use a short, unique alias—an alternate name similar to a nickname for the function. You’ll give the function this special nickname when you import the function.\n",
    "Here we give the function order() an alias, op(), by importing make_pizza as op. The as keyword renames a function using the alias you provide:"
   ]
  },
  {
   "cell_type": "markdown",
   "metadata": {},
   "source": [
    "```from module_name import function_name as fn```"
   ]
  },
  {
   "cell_type": "code",
   "execution_count": 5,
   "metadata": {},
   "outputs": [],
   "source": [
    "from pizza import order_pizza as op"
   ]
  },
  {
   "cell_type": "code",
   "execution_count": 6,
   "metadata": {},
   "outputs": [
    {
     "name": "stdout",
     "output_type": "stream",
     "text": [
      "\n",
      "Making a 16 inch pizza with the following toppings:\n",
      "- mushrooms\n",
      "- green peppers\n",
      "- extra cheese\n"
     ]
    }
   ],
   "source": [
    "op(16,'mushrooms', 'green peppers', 'extra cheese')"
   ]
  },
  {
   "cell_type": "markdown",
   "metadata": {},
   "source": [
    "```import module_name as mn```"
   ]
  },
  {
   "cell_type": "code",
   "execution_count": 7,
   "metadata": {},
   "outputs": [],
   "source": [
    "import pizza as p"
   ]
  },
  {
   "cell_type": "code",
   "execution_count": 8,
   "metadata": {},
   "outputs": [
    {
     "name": "stdout",
     "output_type": "stream",
     "text": [
      "\n",
      "Making a 16 inch pizza with the following toppings:\n",
      "- mushrooms\n",
      "- green peppers\n",
      "- extra cheese\n"
     ]
    }
   ],
   "source": [
    "p.order_pizza(16,'mushrooms', 'green peppers', 'extra cheese')"
   ]
  },
  {
   "cell_type": "markdown",
   "metadata": {},
   "source": [
    "**Importing All Functions in a Module**\n",
    "\n",
    "You can tell Python to import every function in a module by using the asterisk (*) operator:"
   ]
  },
  {
   "cell_type": "code",
   "execution_count": 10,
   "metadata": {},
   "outputs": [],
   "source": [
    "from pizza import *"
   ]
  },
  {
   "cell_type": "code",
   "execution_count": 11,
   "metadata": {},
   "outputs": [
    {
     "name": "stdout",
     "output_type": "stream",
     "text": [
      "\n",
      "Making a 16 inch pizza with the following toppings:\n",
      "- mushrooms\n",
      "- green peppers\n",
      "- extra cheese\n"
     ]
    }
   ],
   "source": [
    "order_pizza(16,'mushrooms', 'green peppers', 'extra cheese')"
   ]
  },
  {
   "cell_type": "markdown",
   "metadata": {},
   "source": [
    "**Try It Yourself**\n",
    "\n",
    "15. Printing Models: Put the functions for the example print_models.py in a separate file called printing_functions.py. Write an import statement at the top of print_models.py, and modify the file to use the imported functions.\n",
    "16. Imports: Using a program you wrote that has one function in it, store that function in a separate file. Import the function into your main program file, and call the function using each of these approaches:\n",
    "```pesudo\n",
    "import module_name\n",
    "from module_name import function_name\n",
    "from module_name import function_name as fn\n",
    "import module_name as mn\n",
    "from module_name import *\n",
    "```\n",
    "17. Styling Functions: Choose any three programs you wrote, and make sure they follow the styling guidelines described in this section."
   ]
  },
  {
   "cell_type": "code",
   "execution_count": 12,
   "metadata": {},
   "outputs": [],
   "source": [
    "# do code here"
   ]
  },
  {
   "cell_type": "markdown",
   "metadata": {},
   "source": [
    "**Deep Look int parameter passing in python**\n"
   ]
  },
  {
   "cell_type": "markdown",
   "metadata": {},
   "source": [
    "parameter passing in python by default is by reference. This means that when you pass a variable to a function, Python passes the reference to the object to which the variable refers (the value). If you pass a mutable object into a function, the function gets a reference to that object. If you modify the object, the caller sees the change. If you pass an immutable object to a function, the function cannot change the object."
   ]
  },
  {
   "cell_type": "code",
   "execution_count": 14,
   "metadata": {},
   "outputs": [
    {
     "data": {
      "text/plain": [
       "'0x7ffe801e3ad8'"
      ]
     },
     "execution_count": 14,
     "metadata": {},
     "output_type": "execute_result"
    }
   ],
   "source": [
    "# Example\n",
    "\n",
    "x = 10\n",
    "\n",
    "hex(id(x)) # 0x7ffe801e3ad8"
   ]
  },
  {
   "cell_type": "markdown",
   "metadata": {},
   "source": [
    "![Parameter Passing](images/8.png)"
   ]
  },
  {
   "cell_type": "code",
   "execution_count": 18,
   "metadata": {},
   "outputs": [],
   "source": [
    "def square(number):\n",
    "    print('id(number):', hex(id(number)))\n",
    "    return number ** 2"
   ]
  },
  {
   "cell_type": "code",
   "execution_count": 19,
   "metadata": {},
   "outputs": [
    {
     "name": "stdout",
     "output_type": "stream",
     "text": [
      "id(number): 0x7ffe801e3ad8\n"
     ]
    },
    {
     "data": {
      "text/plain": [
       "100"
      ]
     },
     "execution_count": 19,
     "metadata": {},
     "output_type": "execute_result"
    }
   ],
   "source": [
    "square(x)"
   ]
  },
  {
   "cell_type": "markdown",
   "metadata": {},
   "source": [
    "return the same location in memory for x 0x7ffe801e3ad8"
   ]
  },
  {
   "cell_type": "code",
   "execution_count": 23,
   "metadata": {},
   "outputs": [
    {
     "data": {
      "text/plain": [
       "10"
      ]
     },
     "execution_count": 23,
     "metadata": {},
     "output_type": "execute_result"
    }
   ],
   "source": [
    "x"
   ]
  },
  {
   "cell_type": "code",
   "execution_count": 20,
   "metadata": {},
   "outputs": [
    {
     "name": "stdout",
     "output_type": "stream",
     "text": [
      "id(number): 0x7ffe801e3ad8\n"
     ]
    },
    {
     "data": {
      "text/plain": [
       "100"
      ]
     },
     "execution_count": 20,
     "metadata": {},
     "output_type": "execute_result"
    }
   ],
   "source": [
    "square(10)"
   ]
  },
  {
   "cell_type": "markdown",
   "metadata": {},
   "source": [
    "return the same location in memory for x 0x7ffe801e3ad8"
   ]
  },
  {
   "cell_type": "code",
   "execution_count": 21,
   "metadata": {},
   "outputs": [],
   "source": [
    "def cube(number):\n",
    "    print('id(number) before modifying number:', hex(id(number)))\n",
    "    number **= 3\n",
    "    print('id(number) after modifying number:', hex(id(number)))\n",
    "    return number"
   ]
  },
  {
   "cell_type": "markdown",
   "metadata": {},
   "source": [
    "![Parameter Passing](images/9.png)"
   ]
  },
  {
   "cell_type": "code",
   "execution_count": 22,
   "metadata": {},
   "outputs": [
    {
     "name": "stdout",
     "output_type": "stream",
     "text": [
      "id(number) before modifying number: 0x7ffe801e3ad8\n",
      "id(number) after modifying number: 0x2327faa78d0\n"
     ]
    },
    {
     "data": {
      "text/plain": [
       "1000"
      ]
     },
     "execution_count": 22,
     "metadata": {},
     "output_type": "execute_result"
    }
   ],
   "source": [
    "cube(x)"
   ]
  },
  {
   "cell_type": "markdown",
   "metadata": {},
   "source": [
    "**map() - Built-in Function**\n",
    "\n",
    "function returns a list of the results after applying the given function to each item of a given iterable (list, tuple etc.)"
   ]
  },
  {
   "cell_type": "code",
   "execution_count": 26,
   "metadata": {},
   "outputs": [
    {
     "name": "stdout",
     "output_type": "stream",
     "text": [
      "[1, 8, 27, 64, 125]\n"
     ]
    }
   ],
   "source": [
    "my_list = [1, 2, 3, 4, 5]\n",
    "newresult = []\n",
    "for item in my_list:\n",
    "    newresult.append(item ** 3)\n",
    "print(newresult)"
   ]
  },
  {
   "cell_type": "code",
   "execution_count": 28,
   "metadata": {},
   "outputs": [
    {
     "name": "stdout",
     "output_type": "stream",
     "text": [
      "[1, 8, 27, 64, 125]\n"
     ]
    }
   ],
   "source": [
    "# By using map()\n",
    "\n",
    "my_list = [1, 2, 3, 4, 5]\n",
    "\n",
    "def cube(number):\n",
    "\treturn number ** 3\n",
    "\n",
    "newresult = list(map(cube, my_list))\n",
    "\n",
    "print(newresult)"
   ]
  },
  {
   "cell_type": "markdown",
   "metadata": {},
   "source": [
    "## Anonymous Functions"
   ]
  },
  {
   "cell_type": "markdown",
   "metadata": {},
   "source": [
    "Anonymous functions are also called lambda functions. They are used for creating small, one-time and anonymous function objects in Python.\n",
    "\n",
    "**Syntax**\n",
    "\n",
    "```python\n",
    "lambda arguments: expression\n",
    "```\n",
    "\n",
    "**Use of lambda() with filter()**\n",
    "\n",
    "The filter() function in Python takes in a function and a list as arguments. This offers an elegant way to filter out all the elements of a sequence “sequence”, for which the function returns True.\n",
    "\n",
    "**Use of lambda() with map()**\n",
    "\n",
    "The map() function in Python takes in a function and a list as argument. The function is called with a lambda function and a list and a new list is returned which contains all the lambda modified items returned by that function for each item.\n",
    "\n",
    "**Use of lambda() with reduce()**\n",
    "\n",
    "The reduce() function in Python takes in a function and a list as argument. The function is called with a lambda function and a list and a new reduced result is returned. This performs a repetitive operation over the pairs of the list.\n",
    "\n"
   ]
  },
  {
   "cell_type": "code",
   "execution_count": 30,
   "metadata": {},
   "outputs": [
    {
     "name": "stdout",
     "output_type": "stream",
     "text": [
      "[1, 8, 27, 64, 125]\n"
     ]
    }
   ],
   "source": [
    "# using with map()\n",
    "newresult = list(map(lambda number: number ** 3, my_list))\n",
    "\n",
    "print(newresult)"
   ]
  },
  {
   "cell_type": "code",
   "execution_count": 32,
   "metadata": {},
   "outputs": [
    {
     "name": "stdout",
     "output_type": "stream",
     "text": [
      "This is the outer function\n",
      "This is the inner function\n"
     ]
    }
   ],
   "source": [
    "# Function in Function\n",
    "\n",
    "def outer_function():\n",
    "\tprint('This is the outer function')\n",
    "\tdef inner_function():\n",
    "\t\tprint('This is the inner function')\n",
    "\tinner_function()\n",
    "\n",
    "outer_function()\n"
   ]
  },
  {
   "cell_type": "code",
   "execution_count": 35,
   "metadata": {},
   "outputs": [
    {
     "name": "stdout",
     "output_type": "stream",
     "text": [
      "<class 'function'>\n",
      "10\n"
     ]
    }
   ],
   "source": [
    "def Double(x):\n",
    "\treturn lambda y: x * y\n",
    "\n",
    "result = Double(5) # return lambda y: 5 * y\n",
    "print(type(result)) # first fuction return lambda function\n",
    "print(result(2)) # 5 * 2 = 10"
   ]
  },
  {
   "cell_type": "code",
   "execution_count": 36,
   "metadata": {},
   "outputs": [
    {
     "name": "stdout",
     "output_type": "stream",
     "text": [
      "10\n"
     ]
    }
   ],
   "source": [
    "# Another form to call \n",
    "\n",
    "print(Double(5)(2)) # 5 * 2 = 10"
   ]
  },
  {
   "cell_type": "code",
   "execution_count": 37,
   "metadata": {},
   "outputs": [
    {
     "name": "stdout",
     "output_type": "stream",
     "text": [
      "[2, 4, 6, 8, 10]\n"
     ]
    }
   ],
   "source": [
    "# lambda function with filter()\n",
    "\n",
    "my_list = [1, 2, 3, 4, 5, 6, 7, 8, 9, 10]\n",
    "\n",
    "newresult = list(filter(lambda number: number % 2 == 0, my_list)) # filter even numbers\n",
    "\n",
    "print(newresult)"
   ]
  },
  {
   "cell_type": "code",
   "execution_count": 38,
   "metadata": {},
   "outputs": [
    {
     "name": "stdout",
     "output_type": "stream",
     "text": [
      "55\n"
     ]
    }
   ],
   "source": [
    "# lambda function with reduce()\n",
    "\n",
    "from functools import reduce\n",
    "\n",
    "my_list = [1, 2, 3, 4, 5, 6, 7, 8, 9, 10]\n",
    "\n",
    "newresult = reduce(lambda x, y: x + y, my_list) # 1 + 2 + 3 + 4 + 5 + 6 + 7 + 8 + 9 + 10 = 55\n",
    "\n",
    "print(newresult)"
   ]
  },
  {
   "cell_type": "markdown",
   "metadata": {},
   "source": [
    "## Global Vs. Local Variables"
   ]
  },
  {
   "cell_type": "markdown",
   "metadata": {},
   "source": [
    "* Global variables are the variables that are declared outside of the function and can be accessed inside or outside of the function. \n",
    "\n",
    "* Local variables are the variables that are declared inside the function and can be accessed only inside the function."
   ]
  },
  {
   "cell_type": "code",
   "execution_count": 2,
   "metadata": {},
   "outputs": [
    {
     "name": "stdout",
     "output_type": "stream",
     "text": [
      "Value inside function: 10\n",
      "Value outside function: 20\n"
     ]
    }
   ],
   "source": [
    "# Global and Local Variables\n",
    "\n",
    "x = 20 # Global variable\n",
    "\n",
    "def my_function():\n",
    "\tx = 10 # Local variable\n",
    "\tprint('Value inside function:', x)\n",
    "my_function()\n",
    "\n",
    "print('Value outside function:', x)\n"
   ]
  },
  {
   "cell_type": "code",
   "execution_count": 3,
   "metadata": {},
   "outputs": [
    {
     "data": {
      "text/plain": [
       "3.5"
      ]
     },
     "execution_count": 3,
     "metadata": {},
     "output_type": "execute_result"
    }
   ],
   "source": [
    "# Average function\n",
    "\n",
    "def avg(*args):\n",
    "\t\"\"\"Calculate the average of a sequence of numbers.\"\"\"\n",
    "\treturn sum(args) / len(args)\n",
    "\n",
    "avg(2, 3, 4, 5)"
   ]
  },
  {
   "cell_type": "code",
   "execution_count": 4,
   "metadata": {},
   "outputs": [
    {
     "data": {
      "text/plain": [
       "3.5"
      ]
     },
     "execution_count": 4,
     "metadata": {},
     "output_type": "execute_result"
    }
   ],
   "source": [
    "from Average import avg # Import the avg function from the Average module\n",
    "\n",
    "avg(2, 3, 4, 5)"
   ]
  },
  {
   "cell_type": "markdown",
   "metadata": {},
   "source": [
    "## Generators"
   ]
  },
  {
   "cell_type": "markdown",
   "metadata": {},
   "source": [
    "Generators are iterators, a kind of iterable you can only iterate over once. Generators do not store all the values in memory, they generate the values on the fly:\n",
    "\n",
    "**Generator Function**\n",
    "\n",
    "Simple generators can be easily created on the fly using generator expressions. It makes building generators easy.\n",
    "\n",
    "**Generator Expression**\n",
    "\n",
    "The major difference between a list comprehension and a generator expression is that a list comprehension produces the entire list while the generator expression produces one item at a time.\n",
    "\n",
    "**Iterating Through a Generator**\n",
    "\n",
    "We can iterate through the generator using the next() function. The next() function is used to manually iterate through all the items of an iterator. When we reach the end and there is no more data to be returned, it will raise StopIteration.\n",
    "\n",
    "**Generator Object**\n",
    "\n",
    "We can also iterate through the generator using a for loop, which is the most common way to iterate through all the items of an iterator.\n",
    "\n"
   ]
  },
  {
   "cell_type": "code",
   "execution_count": 8,
   "metadata": {},
   "outputs": [
    {
     "name": "stdout",
     "output_type": "stream",
     "text": [
      "A\n",
      "B\n",
      "C\n",
      "A\n",
      "B\n",
      "C\n"
     ]
    }
   ],
   "source": [
    "# Generators\n",
    "\n",
    "def my_generator():\n",
    "\tyield 'A'\n",
    "\tyield 'B'\n",
    "\tyield 'C'\n",
    "\n",
    "for char in my_generator():\n",
    "\tprint(char)\n",
    "\n",
    "# Another way to call generator\n",
    "def my_generator():\n",
    "\tyield 'A'\n",
    "\tyield 'B'\n",
    "\tyield 'C'\n",
    "\n",
    "gen = my_generator()\n",
    "\n",
    "print(next(gen)) # A\n",
    "print(next(gen)) # B\n",
    "print(next(gen)) # C\n",
    "# print(next(gen)) # Error: StopIteration\n"
   ]
  },
  {
   "cell_type": "code",
   "execution_count": 9,
   "metadata": {},
   "outputs": [
    {
     "name": "stdout",
     "output_type": "stream",
     "text": [
      "0 1 1 2 3 5 8 13 21 34 "
     ]
    }
   ],
   "source": [
    "# Fibonacci Series\n",
    "# _ is a throwaway variable name that’s commonly used when you don’t need the variable’s value.\n",
    "def fibonacci(n):\n",
    "\ta, b = 0, 1\n",
    "\tfor _ in range(n): # Generate the first n Fibonacci numbers.\n",
    "\t\tyield a\n",
    "\t\ta, b = b, a + b # Simultaneous assignment of a and b to b and a + b respectively.a = b, b = a + b\n",
    "\n",
    "for number in fibonacci(10): # Generate the first 10 Fibonacci numbers.\n",
    "\tprint(number, end=' ')\n"
   ]
  },
  {
   "cell_type": "markdown",
   "metadata": {},
   "source": [
    "# Classes"
   ]
  },
  {
   "cell_type": "markdown",
   "metadata": {},
   "source": [
    "Object-oriented programming is one of the most effective approaches to writing software. In object-oriented programming you write classes that represent real-world things and situations, and you create objects based on these classes. When you write a class, you define the general behavior that a whole category of objects can have. \n",
    "\n",
    "When you create individual objects from the class, each object is automatically equipped with the general behavior; you can then give each object whatever unique traits you desire. You’ll be amazed how well real-world situations can be modeled with object-oriented programming.\n",
    "Making an object from a class is called instantiation, and you work with instances of a class. In this chapter you’ll write classes and create instances of those classes. You’ll specify the kind of information that can be stored in instances, and you’ll define actions that can be taken with these instances. \n",
    "\n",
    "You’ll also write classes that extend the functionality of existing classes, so similar classes can share code efficiently. You’ll store your classes in modules and import classes written by other programmers into your own program files.\n",
    "\n",
    "Understanding object-oriented programming will help you see the world as a programmer does. It’ll help you really know your code, not just what’s happening line by line, but also the bigger concepts behind it. \n",
    "Knowing the logic behind classes will train you to think logically so you can write programs that effectively address almost any problem you encounter.\n",
    "\n",
    "Classes also make life easier for you and the other programmers you’ll need to work with as you take on increasingly complex challenges. When you and other programmers write code based on the same kind of logic, \n",
    "you’ll be able to understand each other’s work. Your programs will make sense to many collaborators, allowing everyone to accomplish more.\n"
   ]
  },
  {
   "cell_type": "markdown",
   "metadata": {},
   "source": [
    "## Creating and Using a Class\n",
    "\n",
    "You can model almost anything using classes. Let’s start by writing a simple class, Dog, that represents a dog—not one dog in particular, but any dog. \n",
    "\n",
    "What do we know about most pet dogs? Well, they all have a name and age. \n",
    "We also know that most dogs sit and roll over. \n",
    "\n",
    "Those two pieces of information (name and age) and those two behaviors (sit and roll over) will go in our Dog class because they’re common to most dogs. This class will tell Python how to make an object representing a dog. After our class is written, we’ll use it to make individual instances, each of which represents one specific dog.\n",
    "\n",
    "Creating the Dog Class Each instance created from the Dog class will store a name and an age, and \n",
    "we’ll give each dog the ability to sit() and roll_over():"
   ]
  },
  {
   "cell_type": "code",
   "execution_count": 6,
   "metadata": {},
   "outputs": [],
   "source": [
    "class Dog:\n",
    "\t\"\"\"A Simple attempt to model a dog.\"\"\"\n",
    "\tdef __init__(self, name, age):\n",
    "\t\t\"\"\"Initialize name and age attributes.\"\"\"\n",
    "\t\tself.name = name\n",
    "\t\tself.age = age\n",
    "\tdef sit(self):\n",
    "\t\t\"\"\"Simulate a dog sitting in response to a command.\"\"\"\n",
    "\t\tprint(f\"{self.name} is now sitting.\")\n",
    "\tdef roll_over(self):\n",
    "\t\t\"\"\"Simulate rolling over in response to a command.\"\"\"\n",
    "\t\tprint(f\"{self.name} rolled over!\")"
   ]
  },
  {
   "cell_type": "markdown",
   "metadata": {},
   "source": [
    "There’s a lot to notice here, but don’t worry. You’ll see this structure throughout this chapter and have lots of time to get used to it. At u we define a class called Dog. By convention, capitalized names refer to classes in Python. \n",
    "\n",
    "The parentheses in the class definition are empty because we’re creating this class from scratch. At v we write a docstring describing what this class does."
   ]
  },
  {
   "cell_type": "markdown",
   "metadata": {},
   "source": [
    "## The __init__() Method\n",
    "\n",
    "A function that’s part of a class is a method. Everything you learned about functions applies to methods as well; the only practical difference for now is the way we’ll call methods. \n",
    "\n",
    "The ```__init__()``` method at is a special method Python runs automatically whenever we create a new instance based on the Dog class. \n",
    "\n",
    "This method has two leading underscores and two trailing underscores, a convention that helps prevent Python’s default method names from conflicting with your method names.\n",
    "\n",
    "We define the ```__init__()``` method to have three parameters: self, name, and age. The self parameter is required in the method definition, and it must come first before the other parameters. \n",
    "\n",
    "It must be included in the definition because when Python calls this ```__init__()``` method later (to create an instance of Dog), the method call will automatically pass the self argument.\n",
    "\n",
    "Every method call associated with a class automatically passes self, which is a reference to the instance itself; it gives the individual instance access to the attributes and methods in the class. When we make an instance of Dog, Python will call the ```__init__()``` method from the Dog class. \n",
    "\n",
    "We’ll pass Dog() name and an age as arguments; self is passed automatically, so we don’t \n",
    "need to pass it. \n",
    "\n",
    "Whenever we want to make an instance from the Dog class, we’ll provide values for only the last two parameters, name and age.\n",
    "\n",
    "The two variables defined at each have the prefix self. \n",
    "\n",
    "Any variable prefixed with self is available to every method in the class, and we’ll also be able to access these variables through any instance created from the class. \n",
    "\n",
    "self.name = name takes the value stored in the parameter name and stores it in the variable name, which is then attached to the instance being created. \n",
    "\n",
    "The same process happens with self.age = age. Variables that are accessible through instances like this are called attributes.\n",
    "\n",
    "The Dog class has two other methods defined: sit() and roll_over(). \n",
    "\n",
    "Because these methods don’t need additional information like a name or age, we just define them to have one parameter, self. \n",
    "\n",
    "The instances we create later will have access to these methods. In other words, they’ll be able to sit and roll over. For now, sit() and roll_over() don’t do much. \n",
    "\n",
    "They simply print a message saying the dog is sitting or rolling over. But the concept can be extended to realistic situations: if this class were part of an actual computer game, these methods would contain code to make an animated dog sit and roll over. If this class was written to control a robot, these methods would direct movements that cause a dog robot to sit and roll over."
   ]
  },
  {
   "cell_type": "markdown",
   "metadata": {},
   "source": [
    "**Making an Instance from a Class**\n",
    "\n",
    "Think of a class as a set of instructions for how to make an instance. The class Dog is a set of instructions that tells Python how to make individual instances representing specific dogs.\n",
    "\n",
    "Let’s make an instance representing a specific dog:"
   ]
  },
  {
   "cell_type": "code",
   "execution_count": 7,
   "metadata": {},
   "outputs": [
    {
     "name": "stdout",
     "output_type": "stream",
     "text": [
      "My dog's name is Simba.\n",
      "My dog is 3 years old.\n"
     ]
    }
   ],
   "source": [
    "Dog1 = Dog('Simba', 3) # Create an instance of the Dog class\n",
    "\n",
    "print(f\"My dog's name is {Dog1.name}.\")\n",
    "print(f\"My dog is {Dog1.age} years old.\")"
   ]
  },
  {
   "cell_type": "markdown",
   "metadata": {},
   "source": [
    "**Accessing Attributes**\n",
    "\n",
    "To access the attributes of an instance, you use dot notation. At we access the value of my_dog’s attribute name by writing:"
   ]
  },
  {
   "cell_type": "code",
   "execution_count": 8,
   "metadata": {},
   "outputs": [
    {
     "name": "stdout",
     "output_type": "stream",
     "text": [
      "My dog's name is Sultan.\n",
      "My dog is 3 years old.\n"
     ]
    }
   ],
   "source": [
    "Dog1.name = \"Sultan\" # Modify the name attribute\n",
    "\n",
    "print(f\"My dog's name is {Dog1.name}.\")\n",
    "print(f\"My dog is {Dog1.age} years old.\")"
   ]
  },
  {
   "cell_type": "markdown",
   "metadata": {},
   "source": [
    "**Calling Methods**\n",
    "\n",
    "After we create an instance from the class Dog, we can use dot notation to call any method defined in Dog. Let’s make our dog sit and roll over:"
   ]
  },
  {
   "cell_type": "code",
   "execution_count": 9,
   "metadata": {},
   "outputs": [
    {
     "name": "stdout",
     "output_type": "stream",
     "text": [
      "Sultan is now sitting.\n",
      "Sultan rolled over!\n"
     ]
    }
   ],
   "source": [
    "Dog1.sit() # Call the sit method\n",
    "Dog1.roll_over() # Call the roll_over method"
   ]
  },
  {
   "cell_type": "code",
   "execution_count": 10,
   "metadata": {},
   "outputs": [
    {
     "name": "stdout",
     "output_type": "stream",
     "text": [
      "My dog's name is Simba.\n",
      "My dog is 4 years old.\n",
      "Simba is now sitting.\n",
      "Simba rolled over!\n"
     ]
    }
   ],
   "source": [
    "Dog2 = Dog('Simba', 4) # Create another instance of the Dog class\n",
    "\n",
    "print(f\"My dog's name is {Dog2.name}.\")\n",
    "print(f\"My dog is {Dog2.age} years old.\")\n",
    "\n",
    "Dog2.sit() # Call the sit method\n",
    "Dog2.roll_over() # Call the roll_over method"
   ]
  },
  {
   "cell_type": "markdown",
   "metadata": {},
   "source": [
    "**Try It Yourself**\n",
    "\n",
    "1. Restaurant: Make a class called Restaurant. The ```__init__()``` method for Restaurant should store two attributes: a restaurant_name and a cuisine_type.\n",
    "Make a method called describe_restaurant() that prints these two pieces of information, and a method called open_restaurant() that prints a message indicating that the restaurant is open.\n",
    "Make an instance called restaurant from your class. Print the two attributes individually, and then call both methods.\n",
    "\n",
    "2. Three Restaurants: Start with your class from Exercise 1. Create three different instances from the class, and call describe_restaurant() for each instance.\n",
    "\n",
    "3. Users: Make a class called User. Create two attributes called first_name and last_name, and then create several other attributes that are typically stored in a user profile. Make a method called describe_user() that prints a summary of the user’s information. Make another method called greet_user() that prints \n",
    "a personalized greeting to the user. Create several instances representing different users, and call both methods for each user."
   ]
  },
  {
   "cell_type": "code",
   "execution_count": 11,
   "metadata": {},
   "outputs": [],
   "source": [
    "# do code here"
   ]
  },
  {
   "cell_type": "markdown",
   "metadata": {},
   "source": [
    "**The Car Class**\n",
    "\n",
    "Let’s write a new class representing a car. Our class will store information about the kind of car we’re working with, and it will have a method that summarizes this information:"
   ]
  },
  {
   "cell_type": "code",
   "execution_count": 12,
   "metadata": {},
   "outputs": [],
   "source": [
    "class Car:\n",
    "\t\"\"\"\"A simple attempt to represent a car.\"\"\"\n",
    "\tdef __init__(self, company, model, year):\n",
    "\t\t\"\"\"Initialize attributes to describe a car.\"\"\"\n",
    "\t\tself.company = company\n",
    "\t\tself.model = model\n",
    "\t\tself.year = year\n",
    "\tdef get_descriptive_name(self):\n",
    "\t\t\"\"\"Return a neatly formatted descriptive name.\"\"\"\n",
    "\t\tlong_name = f\"{self.year} {self.company} {self.model}\"\n",
    "\t\treturn long_name.title()"
   ]
  },
  {
   "cell_type": "code",
   "execution_count": 13,
   "metadata": {},
   "outputs": [
    {
     "name": "stdout",
     "output_type": "stream",
     "text": [
      "2019 Audi A4\n",
      "2020 Bmw X5\n"
     ]
    }
   ],
   "source": [
    "car1 = Car('audi', 'a4', 2019)\n",
    "car2 = Car('bmw', 'x5', 2020)\n",
    "\n",
    "print(car1.get_descriptive_name())\n",
    "print(car2.get_descriptive_name())"
   ]
  },
  {
   "cell_type": "code",
   "execution_count": 14,
   "metadata": {},
   "outputs": [],
   "source": [
    "# Add initial value to attribute\n",
    "\n",
    "class Car:\n",
    "\t\"\"\"\"A simple attempt to represent a car.\"\"\"\n",
    "\tdef __init__(self, company, model, year):\n",
    "\t\t\"\"\"Initialize attributes to describe a car.\"\"\"\n",
    "\t\tself.company = company\n",
    "\t\tself.model = model\n",
    "\t\tself.year = year\n",
    "\t\tself.odometer_reading = 0 # Initialize an attribute with a default value\n",
    "\tdef get_descriptive_name(self):\n",
    "\t\t\"\"\"Return a neatly formatted descriptive name.\"\"\"\n",
    "\t\tlong_name = f\"{self.year} {self.company} {self.model}\"\n",
    "\t\treturn long_name.title()\n",
    "\tdef read_odometer(self):\n",
    "\t\t\"\"\"Print a statement showing the car's mileage.\"\"\"\n",
    "\t\tprint(f\"This car has {self.odometer_reading} miles on it.\")"
   ]
  },
  {
   "cell_type": "code",
   "execution_count": 21,
   "metadata": {},
   "outputs": [
    {
     "name": "stdout",
     "output_type": "stream",
     "text": [
      "2019 Audi A4\n",
      "This car has 100 miles on it.\n",
      "2020 Bmw X5\n",
      "This car has 0 miles on it.\n"
     ]
    }
   ],
   "source": [
    "# Modify the value of an attribute directly\n",
    "car1 = Car('audi', 'a4', 2019)\n",
    "car2 = Car('bmw', 'x5', 2020)\n",
    "\n",
    "print(car1.get_descriptive_name())\n",
    "\n",
    "car1.odometer_reading = 100 # Modify the value of an attribute directly\n",
    "car1.read_odometer()\n",
    "\n",
    "print(car2.get_descriptive_name())\n",
    "car2.read_odometer()\n"
   ]
  },
  {
   "cell_type": "code",
   "execution_count": 22,
   "metadata": {},
   "outputs": [],
   "source": [
    "# Modifying an Attribute’s Value Through a Method\n",
    "\n",
    "class Car:\n",
    "\t\"\"\"\"A simple attempt to represent a car.\"\"\"\n",
    "\tdef __init__(self, company, model, year):\n",
    "\t\t\"\"\"Initialize attributes to describe a car.\"\"\"\n",
    "\t\tself.company = company\n",
    "\t\tself.model = model\n",
    "\t\tself.year = year\n",
    "\t\tself.odometer_reading = 0 # Initialize an attribute with a default value\n",
    "\tdef get_descriptive_name(self):\n",
    "\t\t\"\"\"Return a neatly formatted descriptive name.\"\"\"\n",
    "\t\tlong_name = f\"{self.year} {self.company} {self.model}\"\n",
    "\t\treturn long_name.title()\n",
    "\tdef read_odometer(self):\n",
    "\t\t\"\"\"Print a statement showing the car's mileage.\"\"\"\n",
    "\t\tprint(f\"This car has {self.odometer_reading} miles on it.\")\n",
    "\tdef update_odometer(self, mileage):\n",
    "\t\t\"\"\"Set the odometer reading to the given value.\"\"\"\n",
    "\t\tself.odometer_reading = mileage"
   ]
  },
  {
   "cell_type": "code",
   "execution_count": 23,
   "metadata": {},
   "outputs": [
    {
     "name": "stdout",
     "output_type": "stream",
     "text": [
      "2020 Bmw X5\n",
      "This car has 100 miles on it.\n"
     ]
    }
   ],
   "source": [
    "car2 = Car('bmw', 'x5', 2020)\n",
    "\n",
    "print(car2.get_descriptive_name())\n",
    "\n",
    "car2.update_odometer(100) # Modify the value of an attribute through a method\n",
    "\n",
    "car2.read_odometer()"
   ]
  },
  {
   "cell_type": "code",
   "execution_count": 24,
   "metadata": {},
   "outputs": [],
   "source": [
    "# Add some logic\n",
    "\n",
    "class Car:\n",
    "\t\"\"\"\"A simple attempt to represent a car.\"\"\"\n",
    "\tdef __init__(self, company, model, year):\n",
    "\t\t\"\"\"Initialize attributes to describe a car.\"\"\"\n",
    "\t\tself.company = company\n",
    "\t\tself.model = model\n",
    "\t\tself.year = year\n",
    "\t\tself.odometer_reading = 0 # Initialize an attribute with a default value\n",
    "\tdef get_descriptive_name(self):\n",
    "\t\t\"\"\"Return a neatly formatted descriptive name.\"\"\"\n",
    "\t\tlong_name = f\"{self.year} {self.company} {self.model}\"\n",
    "\t\treturn long_name.title()\n",
    "\tdef read_odometer(self):\n",
    "\t\t\"\"\"Print a statement showing the car's mileage.\"\"\"\n",
    "\t\tprint(f\"This car has {self.odometer_reading} miles on it.\")\n",
    "\tdef update_odometer(self, mileage):\n",
    "\t\t\"\"\"\n",
    "\t\tSet the odometer reading to the given value.\n",
    "\t\tReject the change if it attempts to roll the odometer back.\n",
    "\t\t\"\"\"\n",
    "\t\tif mileage >= self.odometer_reading:\n",
    "\t\t\tself.odometer_reading = mileage\n",
    "\t\telse:\n",
    "\t\t\tprint(\"You can't roll back an odometer!\")\n",
    "\tdef increment_odometer(self, miles):\n",
    "\t\t\"\"\"Add the given amount to the odometer reading.\"\"\"\n",
    "\t\tself.odometer_reading += miles"
   ]
  },
  {
   "cell_type": "code",
   "execution_count": 25,
   "metadata": {},
   "outputs": [
    {
     "name": "stdout",
     "output_type": "stream",
     "text": [
      "2019 Audi A4\n",
      "This car has 100 miles on it.\n",
      "This car has 150 miles on it.\n"
     ]
    }
   ],
   "source": [
    "car1 = Car('audi', 'a4', 2019)\n",
    "\n",
    "print(car1.get_descriptive_name())\n",
    "\n",
    "car1.update_odometer(100) # Modify the value of an attribute through a method\n",
    "\n",
    "car1.read_odometer()\n",
    "\n",
    "car1.increment_odometer(50) # Increment the value of an attribute through a method\n",
    "\n",
    "car1.read_odometer()\n"
   ]
  },
  {
   "cell_type": "code",
   "execution_count": 26,
   "metadata": {},
   "outputs": [
    {
     "name": "stdout",
     "output_type": "stream",
     "text": [
      "You can't roll back an odometer!\n"
     ]
    }
   ],
   "source": [
    "# test the update_odometer method logic make sure no one tries to roll back the odometer reading\n",
    "car1.update_odometer(50) # Modify the value of an attribute through a method"
   ]
  },
  {
   "cell_type": "markdown",
   "metadata": {},
   "source": [
    "**Try It Yourself**\n",
    "\n",
    "4. Number Served: Start with your program from Exercise 1.\n",
    "Add an attribute called number_served with a default value of 0. Create an instance called restaurant from this class. Print the number of customers the restaurant has served, and then change this value and print it again.\n",
    "Add a method called set_number_served() that lets you set the number of customers that have been served. Call this method with a new number and print the value again.\n",
    "Add a method called increment_number_served() that lets you increment the number of customers who’ve been served. Call this method with any number you like that could represent how many customers were served in, say, a day of business.\n",
    "\n",
    "5. Login Attempts: Add an attribute called login_attempts to your User class from Exercise 3. Write a method called increment_login_attempts() that increments the value of login_attempts by 1. Write \n",
    "another method called reset_login_attempts() that resets the value of login_attempts to 0.\n",
    "Make an instance of the User class and call increment_login_attempts() several times. Print the value of login_attempts to make sure it was incremented properly, and then call reset_login_attempts(). Print login_attempts again to make sure it was reset to 0.\n"
   ]
  },
  {
   "cell_type": "code",
   "execution_count": 27,
   "metadata": {},
   "outputs": [],
   "source": [
    "# do code here"
   ]
  },
  {
   "cell_type": "markdown",
   "metadata": {},
   "source": [
    "## Inheritance\n",
    "\n",
    "You don’t always have to start from scratch when writing a class. If the class you’re writing is a specialized version of another class you wrote, you can use inheritance. When one class inherits from another, it automatically takes on all the attributes and methods of the first class. The original class is called the parent class, and the new class is the child class. The child class inherits every attribute and method from its parent class but is also free to define new attributes and methods of its own."
   ]
  },
  {
   "cell_type": "markdown",
   "metadata": {},
   "source": [
    "### The __init__() Method for a Child Class\n",
    "\n",
    "The first task Python has when creating an instance from a child class is to assign values to all attributes in the parent class. To do this, the ```__init__()``` method for a child class needs help from its parent class.\n",
    "\n",
    "As an example, let’s model an electric car. An electric car is just a specific kind of car, so we can base our new ElectricCar class on the Car class we wrote earlier. Then we’ll only have to write code for the attributes and behavior specific to electric cars.\n",
    "\n",
    "Let’s start by making a simple version of the ElectricCar class, which \n",
    "does everything the Car class does:\n",
    "\n",
    "The first task Python has when creating an instance from a child class is to assign values to all attributes in the parent class. To do this, the ```__init__()``` method for a child class needs help from its parent class.\n",
    "\n",
    "As an example, let’s model an electric car. An electric car is just a specific kind of car, so we can base our new ElectricCar class on the Car class we wrote earlier. Then we’ll only have to write code for the attributes and behavior specific to electric cars.\n",
    "\n",
    "Let’s start by making a simple version of the ElectricCar class, which \n",
    "does everything the Car class does:"
   ]
  },
  {
   "cell_type": "code",
   "execution_count": 33,
   "metadata": {},
   "outputs": [],
   "source": [
    "class ElectricCar(Car):\n",
    "\t\"\"\"Represent aspects of a car, specific to electric vehicles.\"\"\"\n",
    "\tdef __init__(self, company, model, year):\n",
    "\t\t\"\"\"Initialize attributes of the parent class.\"\"\"\n",
    "\t\tsuper().__init__(company, model, year)"
   ]
  },
  {
   "cell_type": "code",
   "execution_count": 34,
   "metadata": {},
   "outputs": [
    {
     "name": "stdout",
     "output_type": "stream",
     "text": [
      "2020 Tesla Model S\n"
     ]
    }
   ],
   "source": [
    "tesla1 = ElectricCar('tesla', 'model s', 2020)\n",
    "print(tesla1.get_descriptive_name())\n"
   ]
  },
  {
   "cell_type": "markdown",
   "metadata": {},
   "source": [
    "At we start with Car. When you create a child class, the parent class must be part of the current file and must appear before the child class in the file. At we define the child class, ElectricCar. The name of the parent class must be included in parentheses in the definition of the child class. \n",
    "The ```__init__()``` method at takes in the information required to make a Car instance.\n",
    "The super() function at is a special function that helps Python make connections between the parent and child class. \n",
    "This line tells Python to call the ```__init__()``` method from ElectricCar’s parent class, which gives an \n",
    "ElectricCar instance all the attributes of its parent class. The name super comes from a convention of calling the parent class a superclass and the child class a subclass.\n",
    "\n",
    "We test whether inheritance is working properly by trying to create an electric car with the same kind of information we’d provide when making a regular car. At y we make an instance of the ElectricCar class, and store it in my_tesla. This line calls the ```__init__()``` method defined in ElectricCar, \n",
    "which in turn tells Python to call the ```__init__()``` method defined in the parent class Car. We provide the arguments 'tesla', 'model s', and 2020.\n",
    "\n",
    "Aside from ```__init__()```, there are no attributes or methods yet that are particular to an electric car. At this point we’re just making sure the electric car has the appropriate Car behaviors.\n"
   ]
  },
  {
   "cell_type": "code",
   "execution_count": 43,
   "metadata": {},
   "outputs": [],
   "source": [
    "# Defining Attributes and Methods for the Child Class\n",
    "\n",
    "class ElectricCar(Car):\n",
    "\t\"\"\"Represent aspects of a car, specific to electric vehicles.\"\"\"\n",
    "\tdef __init__(self, make, model, year):\n",
    "\t\t\"\"\"\n",
    "\t\tInitialize attributes of the parent class.\n",
    "\t\tThen initialize attributes specific to an electric car.\n",
    "\t\t\"\"\"\n",
    "\t\tsuper().__init__(make, model, year)\n",
    "\t\tself.battery_size = 70\n",
    "\n",
    "\tdef describe_battery(self):\n",
    "\t\t\"\"\"Print a statement describing the battery size.\"\"\"\n",
    "\t\tprint(f\"This car has a {self.battery_size} -kWh battery.\")"
   ]
  },
  {
   "cell_type": "code",
   "execution_count": 45,
   "metadata": {},
   "outputs": [
    {
     "name": "stdout",
     "output_type": "stream",
     "text": [
      "2020 Tesla Model S\n",
      "This car has a 70 -kWh battery.\n"
     ]
    }
   ],
   "source": [
    "my_tesla = ElectricCar('tesla', 'model s', 2020)\n",
    "print(my_tesla.get_descriptive_name())\n",
    "my_tesla.describe_battery()"
   ]
  },
  {
   "cell_type": "markdown",
   "metadata": {},
   "source": [
    "**Overriding Methods from the Parent Class**\n",
    "\n",
    "You can override any method from the parent class that doesn’t fit what you’re trying to model with the child class. To do this, you define a method in the child class with the same name as the method you want to override in the parent class. Python will disregard the parent class method and only pay attention to the method you define in the child class. Say the class Car had a method called fill_gas_tank(). This method is \n",
    "meaningless for an all-electric vehicle, so you might want to override this method. Here’s one way to do that"
   ]
  },
  {
   "cell_type": "code",
   "execution_count": 60,
   "metadata": {},
   "outputs": [],
   "source": [
    "class Car:\n",
    "\t\"\"\"\"A simple attempt to represent a car.\"\"\"\n",
    "\tdef __init__(self, company, model, year):\n",
    "\t\t\"\"\"Initialize attributes to describe a car.\"\"\"\n",
    "\t\tself.company = company\n",
    "\t\tself.model = model\n",
    "\t\tself.year = year\n",
    "\t\tself.odometer_reading = 0 # Initialize an attribute with a default value\n",
    "\t\tself._tank = 50\n",
    "\tdef get_descriptive_name(self):\n",
    "\t\t\"\"\"Return a neatly formatted descriptive name.\"\"\"\n",
    "\t\tlong_name = f\"{self.year} {self.company} {self.model}\"\n",
    "\t\treturn long_name.title()\n",
    "\tdef read_odometer(self):\n",
    "\t\t\"\"\"Print a statement showing the car's mileage.\"\"\"\n",
    "\t\tprint(f\"This car has {self.odometer_reading} miles on it.\")\n",
    "\tdef update_odometer(self, mileage):\n",
    "\t\t\"\"\"\n",
    "\t\tSet the odometer reading to the given value.\n",
    "\t\tReject the change if it attempts to roll the odometer back.\n",
    "\t\t\"\"\"\n",
    "\t\tif mileage >= self.odometer_reading:\n",
    "\t\t\tself.odometer_reading = mileage\n",
    "\t\telse:\n",
    "\t\t\tprint(\"You can't roll back an odometer!\")\n",
    "\tdef increment_odometer(self, miles):\n",
    "\t\t\"\"\"Add the given amount to the odometer reading.\"\"\"\n",
    "\t\tself.odometer_reading += miles\n",
    "\tdef fill_gas_tank(self):\n",
    " \t\t\"\"\"Print a statment of Gas Tank Capacity.\"\"\"\n",
    " \t\tprint(f\"The gas Tank Capactiy of {self.company}, model: {self.model} is {self.tank} Litter\")\n",
    "\t@property\n",
    "\tdef tank(self):\n",
    "\t\t\"\"\"Property to get the tank capacity.\"\"\"\n",
    "\t\treturn self._tank\n",
    "\t\n",
    "\t@tank.setter\n",
    "\tdef tank(self, value):\n",
    "\t\t\"\"\"Setter to deny any update on the tank capacity.\"\"\"\n",
    "\t\tprint(f\"Sorry, you can't update the tank capacity of {self.company}, model: {self.model}\")\n"
   ]
  },
  {
   "cell_type": "code",
   "execution_count": 53,
   "metadata": {},
   "outputs": [
    {
     "name": "stdout",
     "output_type": "stream",
     "text": [
      "2019 Audi A4\n",
      "This car has 100 miles on it.\n",
      "The gas Tank Capactiy of audi, model: A4 is 50 Litter\n"
     ]
    }
   ],
   "source": [
    "car1 = Car('audi', 'A4', 2019)\n",
    "print(car1.get_descriptive_name())\n",
    "car1.update_odometer(100) # Modify the value of an attribute through a method\n",
    "car1.read_odometer()\n",
    "car1.fill_gas_tank()"
   ]
  },
  {
   "cell_type": "code",
   "execution_count": 62,
   "metadata": {},
   "outputs": [
    {
     "name": "stdout",
     "output_type": "stream",
     "text": [
      "The gas Tank Capactiy of Toyota, model: Corolla is 50 Litter\n",
      "Sorry, you can't update the tank capacity of Toyota, model: Corolla\n",
      "The gas Tank Capactiy of Toyota, model: Corolla is 50 Litter\n"
     ]
    }
   ],
   "source": [
    "# Add some logic to deny Update Capicity of the Tank\n",
    "car2 = Car('Toyota', 'Corolla', 2020)\n",
    "car2.fill_gas_tank()\n",
    "car2.tank = 200\n",
    "car2.fill_gas_tank()"
   ]
  },
  {
   "cell_type": "markdown",
   "metadata": {},
   "source": [
    "Don't worry about the ```@property``` and ```@tank.setter``` syntax for now. These are Python decorators, which allow you to manage how a method is accessed. We’ll cover decorators in more detail."
   ]
  },
  {
   "cell_type": "code",
   "execution_count": 68,
   "metadata": {},
   "outputs": [],
   "source": [
    "class ElectricCar(Car):\n",
    "\t\"\"\"Represent aspects of a car, specific to electric vehicles.\"\"\"\n",
    "\tdef __init__(self, company, model, year):\n",
    "\t\t\"\"\"Initialize attributes of the parent class.\"\"\"\n",
    "\t\tsuper().__init__(company, model, year)\n",
    "\t\tself.battery_size = 70\n",
    "\tdef describe_battery(self):\n",
    "\t\t\"\"\"Print a statement describing the battery size.\"\"\"\n",
    "\t\tprint(f\"This car has a {self.battery_size} -kWh battery.\")"
   ]
  },
  {
   "cell_type": "code",
   "execution_count": 71,
   "metadata": {},
   "outputs": [
    {
     "name": "stdout",
     "output_type": "stream",
     "text": [
      "2020 Tesla Model S\n",
      "This car has a 70 -kWh battery.\n",
      "The gas Tank Capactiy of tesla, model: model s is 50 Litter\n"
     ]
    }
   ],
   "source": [
    "Elec_1 = ElectricCar('tesla', 'model s', 2020)\n",
    "print(Elec_1.get_descriptive_name())\n",
    "Elec_1.describe_battery()\n",
    "Elec_1.fill_gas_tank() "
   ]
  },
  {
   "cell_type": "markdown",
   "metadata": {},
   "source": [
    "Call the fill_gas_tank method from the parent class It's doesn't make sense for an electric car to have a gas tank"
   ]
  },
  {
   "cell_type": "code",
   "execution_count": 72,
   "metadata": {},
   "outputs": [],
   "source": [
    "class ElectricCar(Car):\n",
    "\t\"\"\"Represent aspects of a car, specific to electric vehicles.\"\"\"\n",
    "\tdef __init__(self, company, model, year):\n",
    "\t\t\"\"\"Initialize attributes of the parent class.\"\"\"\n",
    "\t\tsuper().__init__(company, model, year)\n",
    "\t\tself.battery_size = 70\n",
    "\tdef describe_battery(self):\n",
    "\t\t\"\"\"Print a statement describing the battery size.\"\"\"\n",
    "\t\tprint(f\"This car has a {self.battery_size} -kWh battery.\")\n",
    "\tdef fill_gas_tank(self):\n",
    "\t\t\"\"\"Electric cars don't have gas tanks.\"\"\"\n",
    "\t\tprint(\"This car doesn't need a gas tank!\")"
   ]
  },
  {
   "cell_type": "code",
   "execution_count": 73,
   "metadata": {},
   "outputs": [
    {
     "name": "stdout",
     "output_type": "stream",
     "text": [
      "2020 Tesla Model S\n",
      "This car has a 70 -kWh battery.\n",
      "This car doesn't need a gas tank!\n"
     ]
    }
   ],
   "source": [
    "Elec_1 = ElectricCar('tesla', 'model s', 2020)\n",
    "print(Elec_1.get_descriptive_name())\n",
    "Elec_1.describe_battery()\n",
    "Elec_1.fill_gas_tank() "
   ]
  },
  {
   "cell_type": "markdown",
   "metadata": {},
   "source": [
    "Now if someone tries to call fill_gas_tank() with an electric car, Python will ignore the method fill_gas_tank() in Car and run this code instead. When you use inheritance, you can make your child classes retain what you need and override anything you don’t need from the parent class."
   ]
  },
  {
   "cell_type": "markdown",
   "metadata": {},
   "source": [
    "**Instances as Attributes**\n",
    "\n",
    "When modeling something from the real world in code, you may find that you’re adding more and more detail to a class. You’ll find that you have a growing list of attributes and methods and that your files are becoming \n",
    "lengthy. In these situations, you might recognize that part of one class can be written as a separate class. You can break your large class into smaller classes that work together.\n",
    "\n",
    "For example, if we continue adding detail to the ElectricCar class, we might notice that we’re adding many attributes and methods specific to the car’s battery. When we see this happening, we can stop and move those \n",
    "attributes and methods to a separate class called Battery. Then we can use a Battery instance as an attribute in the ElectricCar class:"
   ]
  },
  {
   "cell_type": "code",
   "execution_count": 140,
   "metadata": {},
   "outputs": [],
   "source": [
    "class Battery:\n",
    "    \"\"\"A simple attempt to model a battery for an electric car.\"\"\"\n",
    "    def __init__(self, battery_size=75):\n",
    "        \"\"\"Initialize the battery's attributes.\"\"\"\n",
    "        self.battery_size = battery_size\n",
    "\n",
    "    def describe_battery(self):\n",
    "        \"\"\"Print a statement describing the battery size.\"\"\"\n",
    "        print(f\"This car has a {self.battery_size}-kWh battery.\")\n",
    "\n",
    "    def fill_gas_tank(self):\n",
    "        \"\"\"Electric cars don't have gas tanks.\"\"\"\n",
    "        print(\"This car doesn't need a gas tank!\")\n",
    "    def get_range(self):\n",
    "        \"\"\"Print a statement about the range this battery provides.\"\"\"\n",
    "        if self.battery_size == 75:\n",
    "            range = 260\n",
    "        elif self.battery_size == 100:\n",
    "            range = 315\n",
    "        print(f\"This car can go approximately {range} miles on a full charge.\")\n",
    "\n",
    "class ElectricCar(Car):\n",
    "    \"\"\"Represent aspects of a car, specific to electric vehicles.\"\"\"\n",
    "    def __init__(self, company, model, year):\n",
    "        \"\"\"Initialize attributes of the parent class.\"\"\"\n",
    "        super().__init__(company, model, year)\n",
    "        self.battery = Battery()"
   ]
  },
  {
   "cell_type": "code",
   "execution_count": 142,
   "metadata": {},
   "outputs": [
    {
     "name": "stdout",
     "output_type": "stream",
     "text": [
      "2020 Tesla Model S\n",
      "This car has a 75-kWh battery.\n",
      "This car doesn't need a gas tank!\n",
      "This car can go approximately 260 miles on a full charge.\n"
     ]
    }
   ],
   "source": [
    "Elec_1 = ElectricCar('tesla', 'model s', 2020)\n",
    "print(Elec_1.get_descriptive_name())\n",
    "Elec_1.battery.describe_battery()\n",
    "Elec_1.battery.fill_gas_tank()\n",
    "Elec_1.battery.get_range()"
   ]
  },
  {
   "cell_type": "markdown",
   "metadata": {},
   "source": [
    "**Try It Yourself**\n",
    "\n",
    "6. Ice Cream Stand: An ice cream stand is a specific kind of restaurant. Write a class called IceCreamStand that inherits from the Restaurant class you wrote in Exercise 1 or Exercise 4. Either version of \n",
    "the class will work; just pick the one you like better. Add an attribute called flavors that stores a list of ice cream flavors. Write a method that displays these flavors. Create an instance of IceCreamStand, and call this method.\n",
    "\n",
    "7. Admin: An administrator is a special kind of user. Write a class called Admin that inherits from the User class you wrote in Exercise 3 or Exercise 5. Add an attribute, privileges, that stores a list \n",
    "of strings like \"can add post\", \"can delete post\", \"can ban user\", and so on.\n",
    "Write a method called show_privileges() that lists the administrator’s set of privileges. Create an instance of Admin, and call your method.\n",
    "\n",
    "8. Privileges: Write a separate Privileges class. The class should have one attribute, privileges, that stores a list of strings as described in Exercise 7.\n",
    "Move the show_privileges() method to this class. Make a Privileges instance as an attribute in the Admin class. Create a new instance of Admin and use your method to show its privileges.\n",
    "\n",
    "9. Battery Upgrade: Use the final version of electric_car.py from this section. Add a method to the Battery class called upgrade_battery(). This method should check the battery size and set the capacity to 85 if it isn’t already.Make an electric car with a default battery size, call get_range() once, and \n",
    "then call get_range() a second time after upgrading the battery. You should see an increase in the car’s range."
   ]
  },
  {
   "cell_type": "code",
   "execution_count": 143,
   "metadata": {},
   "outputs": [],
   "source": [
    "# do code here"
   ]
  },
  {
   "cell_type": "markdown",
   "metadata": {},
   "source": [
    "## Importing Classes\n",
    "As you add more functionality to your classes, your files can get long, even when you use inheritance properly. In keeping with the overall philosophy of Python, you’ll want to keep your files as uncluttered as possible. To help, Python lets you store classes in modules and then import the classes you \n",
    "need into your main program"
   ]
  },
  {
   "cell_type": "markdown",
   "metadata": {},
   "source": [
    "Let’s create a module containing just the Car class."
   ]
  },
  {
   "cell_type": "code",
   "execution_count": 3,
   "metadata": {},
   "outputs": [
    {
     "name": "stdout",
     "output_type": "stream",
     "text": [
      "2023 Mercedes C200\n",
      "This car has just been bought.\n",
      "The gas tank capacity of Mercedes, model: C200 is 50 liters.\n"
     ]
    }
   ],
   "source": [
    "import Cars as c\n",
    "\n",
    "new_car = c.Car(\"Mercedes\", \"C200\", 2023)\n",
    "print(new_car.get_descriptive_name())\n",
    "(new_car.read_odometer())\n",
    "(new_car.fill_gas_tank())"
   ]
  },
  {
   "cell_type": "code",
   "execution_count": 4,
   "metadata": {},
   "outputs": [
    {
     "name": "stdout",
     "output_type": "stream",
     "text": [
      "2023 Tesla Model S\n",
      "This car has a 75-kWh battery.\n",
      "This car doesn't need a gas tank!\n"
     ]
    }
   ],
   "source": [
    "from Cars import ElectricCar\n",
    "\n",
    "new_electric_car = ElectricCar(\"Tesla\", \"Model S\", 2023)\n",
    "print(new_electric_car.get_descriptive_name())\n",
    "new_electric_car.battery.describe_battery()\n",
    "new_electric_car.battery.fill_gas_tank()"
   ]
  },
  {
   "cell_type": "markdown",
   "metadata": {},
   "source": [
    "## Decorator \n",
    "\n",
    "A decorator is a design pattern in Python that allows a user to add new functionality to an existing object without modifying its structure. Decorators are usually called before the definition of a function you want to decorate."
   ]
  },
  {
   "cell_type": "markdown",
   "metadata": {},
   "source": [
    "**Let's Start With Simple Decorator**"
   ]
  },
  {
   "cell_type": "code",
   "execution_count": 13,
   "metadata": {},
   "outputs": [],
   "source": [
    "def decorator(func):\n",
    "    def wrapper():\n",
    "        print(\"Something is happening before the function is called.\")\n",
    "        func()\n",
    "        print(\"Something is happening after the function is called.\")\n",
    "    return wrapper\n",
    "\n",
    "def say_whee():\n",
    "    print(\"Whee!\")\n",
    "\n",
    "say_whee = decorator(say_whee)\n"
   ]
  },
  {
   "cell_type": "code",
   "execution_count": 14,
   "metadata": {},
   "outputs": [
    {
     "name": "stdout",
     "output_type": "stream",
     "text": [
      "Something is happening before the function is called.\n",
      "Whee!\n",
      "Something is happening after the function is called.\n"
     ]
    }
   ],
   "source": [
    "say_whee()"
   ]
  },
  {
   "cell_type": "code",
   "execution_count": 18,
   "metadata": {},
   "outputs": [],
   "source": [
    "from datetime import datetime\n",
    "\n",
    "def not_during_the_night(func):\n",
    "    def wrapper():\n",
    "        if 7 <= datetime.now().hour < 24:\n",
    "            func()\n",
    "        else:\n",
    "            pass  # Hush, the neighbors are asleep\n",
    "    return wrapper\n",
    "\n",
    "def say_whee():\n",
    "    print(\"Whee!\")\n",
    "\n",
    "say_whee = not_during_the_night(say_whee)"
   ]
  },
  {
   "cell_type": "code",
   "execution_count": 19,
   "metadata": {},
   "outputs": [
    {
     "name": "stdout",
     "output_type": "stream",
     "text": [
      "Whee!\n"
     ]
    }
   ],
   "source": [
    "say_whee()"
   ]
  },
  {
   "cell_type": "code",
   "execution_count": 34,
   "metadata": {},
   "outputs": [
    {
     "name": "stdout",
     "output_type": "stream",
     "text": [
      "Whee!\n"
     ]
    }
   ],
   "source": [
    "@not_during_the_night\n",
    "def say_whee():\n",
    "    print(\"Whee!\")\n",
    "\n",
    "say_whee()"
   ]
  },
  {
   "cell_type": "markdown",
   "metadata": {},
   "source": [
    "**Adding Syntactic Sugar**\n",
    "\n",
    "Look back at the code that you wrote. The way you decorated say_whee() is a little clunky. First of all, you end up typing the name say_whee three times. Additionally, the decoration gets hidden away below the definition of the function.\n",
    "\n",
    "Instead, Python allows you to use decorators in a simpler way with the @ symbol, sometimes called the pie syntax. The following example does the exact same thing as the first decorator example:"
   ]
  },
  {
   "cell_type": "code",
   "execution_count": null,
   "metadata": {},
   "outputs": [],
   "source": [
    "def decorator(func):\n",
    "    def wrapper():\n",
    "        print(\"Something is happening before the function is called.\")\n",
    "        func()\n",
    "        print(\"Something is happening after the function is called.\")\n",
    "    return wrapper\n"
   ]
  },
  {
   "cell_type": "code",
   "execution_count": 20,
   "metadata": {},
   "outputs": [],
   "source": [
    "@decorator\n",
    "def say_whee():\n",
    "    print(\"Whee!\")"
   ]
  },
  {
   "cell_type": "code",
   "execution_count": 21,
   "metadata": {},
   "outputs": [
    {
     "name": "stdout",
     "output_type": "stream",
     "text": [
      "Something is happening before the function is called.\n",
      "Whee!\n",
      "Something is happening after the function is called.\n"
     ]
    }
   ],
   "source": [
    "say_whee()"
   ]
  },
  {
   "cell_type": "markdown",
   "metadata": {},
   "source": [
    "So, @decorator is just a shorter way of saying say_whee = decorator(say_whee). It’s how you apply a decorator to a function."
   ]
  },
  {
   "cell_type": "markdown",
   "metadata": {},
   "source": [
    "**Reusing Decorators**"
   ]
  },
  {
   "cell_type": "code",
   "execution_count": 22,
   "metadata": {},
   "outputs": [],
   "source": [
    "def do_twice(func):\n",
    "    def wrapper_do_twice():\n",
    "        func()\n",
    "        func()\n",
    "    return wrapper_do_twice"
   ]
  },
  {
   "cell_type": "code",
   "execution_count": 23,
   "metadata": {},
   "outputs": [
    {
     "name": "stdout",
     "output_type": "stream",
     "text": [
      "Whee!\n",
      "Whee!\n"
     ]
    }
   ],
   "source": [
    "@do_twice\n",
    "def say_whee():\n",
    "\tprint(\"Whee!\")\n",
    "\n",
    "say_whee()"
   ]
  },
  {
   "cell_type": "markdown",
   "metadata": {},
   "source": [
    "**Decorating Functions With Arguments**"
   ]
  },
  {
   "cell_type": "code",
   "execution_count": 29,
   "metadata": {},
   "outputs": [],
   "source": [
    "def do_twice(func):\n",
    "    def wrapper_do_twice(*args, **kwargs):\n",
    "        func(*args, **kwargs)\n",
    "        func(*args, **kwargs)\n",
    "    return wrapper_do_twice"
   ]
  },
  {
   "cell_type": "markdown",
   "metadata": {},
   "source": [
    "***arge** : This is a tuple which contains all the positional arguments because we have not defined any positional arguments while calling the function in the decorator.\n",
    "\n",
    "****kwargs** : This is a dictionary which contains all keyword arguments because we have not defined any keyword arguments while calling the function in the decorator.\n",
    "\n",
    "position arguments like a, b, c and keyword arguments like d, e, f are not defined in the decorator function but still, we can use them in the function because we have used *args and **kwargs in the decorator function.\n",
    "\n",
    "keyword arguments like d, e, f are not defined in the decorator function but still, we can use them in the function because we have used **kwargs in the decorator function."
   ]
  },
  {
   "cell_type": "code",
   "execution_count": 30,
   "metadata": {},
   "outputs": [
    {
     "name": "stdout",
     "output_type": "stream",
     "text": [
      "Hello World\n",
      "Hello World\n"
     ]
    }
   ],
   "source": [
    "@do_twice\n",
    "def greet(name):\n",
    "\tprint(f\"Hello {name}\")\n",
    "\n",
    "greet(\"World\")"
   ]
  },
  {
   "cell_type": "markdown",
   "metadata": {},
   "source": [
    "**Returning Values From Decorated Functions**"
   ]
  },
  {
   "cell_type": "code",
   "execution_count": 31,
   "metadata": {},
   "outputs": [],
   "source": [
    "@do_twice\n",
    "def return_greeting(name):\n",
    "\tprint(\"Creating greeting\")\n",
    "\treturn f\"Hi {name}\""
   ]
  },
  {
   "cell_type": "code",
   "execution_count": 36,
   "metadata": {},
   "outputs": [
    {
     "name": "stdout",
     "output_type": "stream",
     "text": [
      "Creating greeting\n",
      "Creating greeting\n",
      "None\n"
     ]
    }
   ],
   "source": [
    "print(return_greeting(\"Adam\"))"
   ]
  },
  {
   "cell_type": "markdown",
   "metadata": {},
   "source": [
    "Oops, your decorator ate the return value from the function.\n",
    "\n",
    "Because the do_twice_wrapper() doesn’t explicitly return a value, the call return_greeting(\"Adam\") ends up returning None.\n",
    "\n",
    "To fix this, you need to make sure the wrapper function returns the return value of the decorated function."
   ]
  },
  {
   "cell_type": "code",
   "execution_count": 39,
   "metadata": {},
   "outputs": [],
   "source": [
    "def do_twice(func):\n",
    "    def wrapper_do_twice(*args, **kwargs):\n",
    "        func(*args, **kwargs)\n",
    "        return func(*args, **kwargs)\n",
    "    return wrapper_do_twice"
   ]
  },
  {
   "cell_type": "code",
   "execution_count": 40,
   "metadata": {},
   "outputs": [],
   "source": [
    "@do_twice\n",
    "def return_greeting(name):\n",
    "\tprint(\"Creating greeting\")\n",
    "\treturn f\"Hi {name}\""
   ]
  },
  {
   "cell_type": "code",
   "execution_count": 41,
   "metadata": {},
   "outputs": [
    {
     "name": "stdout",
     "output_type": "stream",
     "text": [
      "Creating greeting\n",
      "Creating greeting\n",
      "Hi Adam\n"
     ]
    }
   ],
   "source": [
    "print(return_greeting(\"Adam\"))"
   ]
  },
  {
   "cell_type": "markdown",
   "metadata": {},
   "source": [
    "**Fancy Decorators**\n",
    "\n",
    "So far, you’ve seen how to create simple decorators. You already have a pretty good understanding of what decorators are and how they work. Feel free to take a break from this tutorial to practice everything that you’ve learned.\n",
    "\n",
    "In the second part of this tutorial, you’ll explore more advanced features, including how to do the following:\n",
    "\n",
    "* Add decorators to classes\n",
    "*  several decorators to one function\n",
    "* Create decorators with arguments\n",
    "* Create decorators that can optionally take arguments\n",
    "* Define stateful decorators\n"
   ]
  },
  {
   "cell_type": "markdown",
   "metadata": {},
   "source": [
    "### Namespaces and Scope in Python"
   ]
  },
  {
   "cell_type": "markdown",
   "metadata": {},
   "source": [
    "namespaces, the structures used to organize the symbolic names assigned to objects in a Python program.\n",
    "\n",
    "An assignment statement creates a symbolic name that you can use to reference an object. The statement x = 'foo' creates a symbolic name x that refers to the string object 'foo'.\n",
    "\n",
    "In a program of any complexity, you’ll create hundreds or thousands of such names, each pointing to a specific object. How does Python keep track of all these names so that they don’t interfere with one another?"
   ]
  },
  {
   "cell_type": "markdown",
   "metadata": {},
   "source": [
    "**Namespaces in Python**\n",
    "\n",
    "A namespace is a collection of currently defined symbolic names along with information about the object that each name references. You can think of a namespace as a dictionary in which the keys are the object names and the values are the objects themselves. Each key-value pair maps a name to its corresponding object.\n",
    "\n",
    "Namespaces are one honking great idea—let’s do more of those!\n",
    "\n",
    "— The Zen of Python, by Tim Peters"
   ]
  },
  {
   "cell_type": "markdown",
   "metadata": {},
   "source": [
    "As Tim Peters suggests, namespaces aren’t just great. They’re honking great, and Python uses them extensively. In a Python program, there are four types of namespaces:\n",
    "\n",
    "* Built-In\n",
    "* Global\n",
    "* Enclosing\n",
    "* Local\n",
    "  \n",
    "These have differing lifetimes. As Python executes a program, it creates namespaces as necessary and deletes them when they’re no longer needed. Typically, many namespaces will exist at any given time."
   ]
  },
  {
   "cell_type": "markdown",
   "metadata": {},
   "source": [
    "**The Built-In Namespace**\n",
    "\n",
    "The built-in namespace contains the names of all of Python’s built-in objects. These are available at all times when Python is running. You can list the objects in the built-in namespace with the following command:"
   ]
  },
  {
   "cell_type": "code",
   "execution_count": 43,
   "metadata": {},
   "outputs": [
    {
     "data": {
      "text/plain": [
       "['ArithmeticError',\n",
       " 'AssertionError',\n",
       " 'AttributeError',\n",
       " 'BaseException',\n",
       " 'BaseExceptionGroup',\n",
       " 'BlockingIOError',\n",
       " 'BrokenPipeError',\n",
       " 'BufferError',\n",
       " 'BytesWarning',\n",
       " 'ChildProcessError',\n",
       " 'ConnectionAbortedError',\n",
       " 'ConnectionError',\n",
       " 'ConnectionRefusedError',\n",
       " 'ConnectionResetError',\n",
       " 'DeprecationWarning',\n",
       " 'EOFError',\n",
       " 'Ellipsis',\n",
       " 'EncodingWarning',\n",
       " 'EnvironmentError',\n",
       " 'Exception',\n",
       " 'ExceptionGroup',\n",
       " 'False',\n",
       " 'FileExistsError',\n",
       " 'FileNotFoundError',\n",
       " 'FloatingPointError',\n",
       " 'FutureWarning',\n",
       " 'GeneratorExit',\n",
       " 'IOError',\n",
       " 'ImportError',\n",
       " 'ImportWarning',\n",
       " 'IndentationError',\n",
       " 'IndexError',\n",
       " 'InterruptedError',\n",
       " 'IsADirectoryError',\n",
       " 'KeyError',\n",
       " 'KeyboardInterrupt',\n",
       " 'LookupError',\n",
       " 'MemoryError',\n",
       " 'ModuleNotFoundError',\n",
       " 'NameError',\n",
       " 'None',\n",
       " 'NotADirectoryError',\n",
       " 'NotImplemented',\n",
       " 'NotImplementedError',\n",
       " 'OSError',\n",
       " 'OverflowError',\n",
       " 'PendingDeprecationWarning',\n",
       " 'PermissionError',\n",
       " 'ProcessLookupError',\n",
       " 'RecursionError',\n",
       " 'ReferenceError',\n",
       " 'ResourceWarning',\n",
       " 'RuntimeError',\n",
       " 'RuntimeWarning',\n",
       " 'StopAsyncIteration',\n",
       " 'StopIteration',\n",
       " 'SyntaxError',\n",
       " 'SyntaxWarning',\n",
       " 'SystemError',\n",
       " 'SystemExit',\n",
       " 'TabError',\n",
       " 'TimeoutError',\n",
       " 'True',\n",
       " 'TypeError',\n",
       " 'UnboundLocalError',\n",
       " 'UnicodeDecodeError',\n",
       " 'UnicodeEncodeError',\n",
       " 'UnicodeError',\n",
       " 'UnicodeTranslateError',\n",
       " 'UnicodeWarning',\n",
       " 'UserWarning',\n",
       " 'ValueError',\n",
       " 'Warning',\n",
       " 'WindowsError',\n",
       " 'ZeroDivisionError',\n",
       " '__IPYTHON__',\n",
       " '__build_class__',\n",
       " '__debug__',\n",
       " '__doc__',\n",
       " '__import__',\n",
       " '__loader__',\n",
       " '__name__',\n",
       " '__package__',\n",
       " '__spec__',\n",
       " 'abs',\n",
       " 'aiter',\n",
       " 'all',\n",
       " 'anext',\n",
       " 'any',\n",
       " 'ascii',\n",
       " 'bin',\n",
       " 'bool',\n",
       " 'breakpoint',\n",
       " 'bytearray',\n",
       " 'bytes',\n",
       " 'callable',\n",
       " 'chr',\n",
       " 'classmethod',\n",
       " 'compile',\n",
       " 'complex',\n",
       " 'copyright',\n",
       " 'credits',\n",
       " 'delattr',\n",
       " 'dict',\n",
       " 'dir',\n",
       " 'display',\n",
       " 'divmod',\n",
       " 'enumerate',\n",
       " 'eval',\n",
       " 'exec',\n",
       " 'execfile',\n",
       " 'filter',\n",
       " 'float',\n",
       " 'format',\n",
       " 'frozenset',\n",
       " 'get_ipython',\n",
       " 'getattr',\n",
       " 'globals',\n",
       " 'hasattr',\n",
       " 'hash',\n",
       " 'help',\n",
       " 'hex',\n",
       " 'id',\n",
       " 'input',\n",
       " 'int',\n",
       " 'isinstance',\n",
       " 'issubclass',\n",
       " 'iter',\n",
       " 'len',\n",
       " 'license',\n",
       " 'list',\n",
       " 'locals',\n",
       " 'map',\n",
       " 'max',\n",
       " 'memoryview',\n",
       " 'min',\n",
       " 'next',\n",
       " 'object',\n",
       " 'oct',\n",
       " 'open',\n",
       " 'ord',\n",
       " 'pow',\n",
       " 'print',\n",
       " 'property',\n",
       " 'range',\n",
       " 'repr',\n",
       " 'reversed',\n",
       " 'round',\n",
       " 'runfile',\n",
       " 'set',\n",
       " 'setattr',\n",
       " 'slice',\n",
       " 'sorted',\n",
       " 'staticmethod',\n",
       " 'str',\n",
       " 'sum',\n",
       " 'super',\n",
       " 'tuple',\n",
       " 'type',\n",
       " 'vars',\n",
       " 'zip']"
      ]
     },
     "execution_count": 43,
     "metadata": {},
     "output_type": "execute_result"
    }
   ],
   "source": [
    "dir(__builtins__)"
   ]
  },
  {
   "cell_type": "markdown",
   "metadata": {},
   "source": [
    "You’ll see some objects here that you may recognize from previous tutorials—for example, the StopIteration exception, built-in functions like max() and len(), and object types like int and str.\n",
    "\n",
    "The Python interpreter creates the built-in namespace when it starts up. This namespace remains in existence until the interpreter terminates."
   ]
  },
  {
   "cell_type": "markdown",
   "metadata": {},
   "source": [
    "**The Global Namespace**\n",
    "\n",
    "The global namespace contains any names defined at the level of the main program. Python creates the global namespace when the main program body starts, and it remains in existence until the interpreter terminates.\n",
    "\n",
    "Strictly speaking, this may not be the only global namespace that exists. The interpreter also creates a global namespace for any module that your program loads with the import statement. For further reading on main functions and modules in Python."
   ]
  },
  {
   "cell_type": "markdown",
   "metadata": {},
   "source": [
    "**The Local and Enclosing Namespaces**\n",
    "\n",
    "As you learned in the previous tutorial on functions, the interpreter creates a new namespace whenever a function executes. That namespace is local to the function and remains in existence until the function terminates.\n",
    "\n",
    "Functions don’t exist independently from one another only at the level of the main program. You can also define one function inside another:"
   ]
  },
  {
   "cell_type": "code",
   "execution_count": 56,
   "metadata": {},
   "outputs": [
    {
     "name": "stdout",
     "output_type": "stream",
     "text": [
      "Start f()\n",
      "Start g()\n",
      "End g()\n",
      "End f()\n"
     ]
    }
   ],
   "source": [
    "def f():\n",
    "\tprint('Start f()')\n",
    "\tdef g():\n",
    "\t\tprint('Start g()')\n",
    "\t\tprint('End g()')\n",
    "\t\treturn \n",
    "\n",
    "\tg()\n",
    "\n",
    "\tprint('End f()')\n",
    "\treturn\n",
    "\n",
    "\n",
    "f()"
   ]
  },
  {
   "cell_type": "markdown",
   "metadata": {},
   "source": [
    "When the main program calls f(), Python creates a new namespace for f(). Similarly, when f() calls g(), g() gets its own separate namespace. The namespace created for g() is the local namespace, and the namespace created for f() is the enclosing namespace.\n",
    "\n",
    "Each of these namespaces remains in existence until its respective function terminates. Python might not immediately reclaim the memory allocated for those namespaces when their functions terminate, but all references to the objects they contain cease to be valid."
   ]
  },
  {
   "cell_type": "markdown",
   "metadata": {},
   "source": [
    "**Variable Scope**\n",
    "\n",
    "The existence of multiple, distinct namespaces means several different instances of a particular name can exist simultaneously while a Python program runs. As long as each instance is in a different namespace, they’re all maintained separately and won’t interfere with one another.\n",
    "\n",
    "But that raises a question: Suppose you refer to the name x in your code, and x exists in several namespaces. How does Python know which one you mean?\n",
    "\n",
    "The answer lies in the concept of scope. The scope of a name is the region of a program in which that name has meaning. The interpreter determines this at runtime based on where the name definition occurs and where in the code the name is referenced."
   ]
  },
  {
   "cell_type": "markdown",
   "metadata": {},
   "source": [
    "To return to the above question, if your code refers to the name x, then Python searches for x in the following namespaces in the order shown:\n",
    "\n",
    "* Local: If you refer to x inside a function, then the interpreter first searches for it in the innermost scope that’s local to that function.\n",
    "* Enclosing: If x isn’t in the local scope but appears in a function that resides inside another function, then the interpreter searches in the enclosing function’s scope.\n",
    "* Global: If neither of the above searches is fruitful, then the interpreter looks in the global scope next.\n",
    "* Built-in: If it can’t find x anywhere else, then the interpreter tries the built-in scope.\n",
    "\n",
    "This is the LEGB rule as it’s commonly called in Python literature (although the term doesn’t actually appear in the Python documentation). The interpreter searches for a name from the inside out, looking in the local, enclosing, global, and finally the built-in scope:"
   ]
  },
  {
   "cell_type": "markdown",
   "metadata": {},
   "source": [
    "![LEGB Rule](images/11.png)"
   ]
  },
  {
   "cell_type": "markdown",
   "metadata": {},
   "source": [
    "If the interpreter doesn’t find the name in any of these locations, then Python raises a NameError exception."
   ]
  },
  {
   "cell_type": "markdown",
   "metadata": {},
   "source": [
    "**Examples**\n",
    "\n",
    "Several examples of the LEGB rule appear below. In each case, the innermost enclosed function g() attempts to display the value of a variable named x to the console. Notice how each example prints a different value for x depending on its scope.\n",
    "\n",
    "**Example 1: Single Definition**\n",
    "\n",
    "In the first example, x is defined in only one location. It’s outside both f() and g(), so it resides in the global scope:"
   ]
  },
  {
   "cell_type": "code",
   "execution_count": 64,
   "metadata": {},
   "outputs": [
    {
     "name": "stdout",
     "output_type": "stream",
     "text": [
      "Global\n"
     ]
    }
   ],
   "source": [
    "x = 'Global'\n",
    "\n",
    "def f():\n",
    "\tdef g():\n",
    "\t\tprint(x)\n",
    "\treturn g()\n",
    "\n",
    "f()"
   ]
  },
  {
   "cell_type": "markdown",
   "metadata": {},
   "source": [
    "**Example 2: Double Definition**\n",
    "\n",
    "In the next example, the definition of x appears in two places, one outside f() and one inside f() but outside g():"
   ]
  },
  {
   "cell_type": "code",
   "execution_count": 59,
   "metadata": {},
   "outputs": [
    {
     "name": "stdout",
     "output_type": "stream",
     "text": [
      "Enclosing\n"
     ]
    }
   ],
   "source": [
    "x = 'Global'\n",
    "\n",
    "def f():\n",
    "\tx = 'Enclosing'\n",
    "\tdef g():\n",
    "\t\tprint(x)\n",
    "\treturn g()\n",
    "\n",
    "f()"
   ]
  },
  {
   "cell_type": "markdown",
   "metadata": {},
   "source": [
    "According to the LEGB rule, the interpreter finds the value from the enclosing scope before looking in the global scope. So the print() statement on line 7 displays 'enclosing' instead of 'global'."
   ]
  },
  {
   "cell_type": "markdown",
   "metadata": {},
   "source": [
    "**Example 3: Triple Definition**\n",
    "\n",
    "Next is a situation in which x is defined here, there, and everywhere. One definition is outside f(), another one is inside f() but outside g(), and a third is inside g():\n"
   ]
  },
  {
   "cell_type": "code",
   "execution_count": 60,
   "metadata": {},
   "outputs": [
    {
     "name": "stdout",
     "output_type": "stream",
     "text": [
      "Local\n"
     ]
    }
   ],
   "source": [
    "x = 'Global'\n",
    "\n",
    "def f():\n",
    "\tx = 'Enclosing'\n",
    "\tdef g():\n",
    "\t\tx = 'Local'\n",
    "\t\tprint(x)\n",
    "\treturn g()\n",
    "\n",
    "f()"
   ]
  },
  {
   "cell_type": "markdown",
   "metadata": {},
   "source": [
    "Here, the LEGB rule dictates that g() sees its own locally defined value of x first. So the print() statement displays 'local'."
   ]
  },
  {
   "cell_type": "markdown",
   "metadata": {},
   "source": [
    "**Example 4: No Definition**\n",
    "\n",
    "Last, we have a case in which g() tries to print the value of x, but x isn’t defined anywhere. That won’t work at all:"
   ]
  },
  {
   "cell_type": "code",
   "execution_count": 65,
   "metadata": {},
   "outputs": [],
   "source": [
    "# def f():\n",
    "# \tdef g():\n",
    "# \t\tprint(x)\n",
    "# \treturn g()\n",
    "\n",
    "# f() \n",
    "# NameError: name 'x' is not defined\n"
   ]
  },
  {
   "cell_type": "markdown",
   "metadata": {},
   "source": [
    "**Python Namespace Dictionaries**\n",
    "\n",
    "Earlier in this NoteBook, when namespaces were first introduced, you were encouraged to think of a namespace as a dictionary in which the keys are the object names and the values are the objects themselves. In fact, for global and local namespaces, that’s precisely what they are! Python really does implement these namespaces as dictionaries.\n",
    "\n",
    "**Note:** The built-in namespace doesn’t behave like a dictionary. Python implements it as a module.\n",
    "\n",
    "Python provides built-in functions called globals() and locals() that allow you to access global and local namespace dictionaries."
   ]
  },
  {
   "cell_type": "markdown",
   "metadata": {},
   "source": [
    "**The globals() function**\n",
    "\n",
    "The built-in function globals() returns a reference to the current global namespace dictionary. You can use it to access the objects in the global namespace. Here’s an example of what it looks like when the main program starts:"
   ]
  },
  {
   "cell_type": "code",
   "execution_count": 66,
   "metadata": {},
   "outputs": [
    {
     "data": {
      "text/plain": [
       "dict"
      ]
     },
     "execution_count": 66,
     "metadata": {},
     "output_type": "execute_result"
    }
   ],
   "source": [
    "type(globals())"
   ]
  },
  {
   "cell_type": "code",
   "execution_count": 67,
   "metadata": {},
   "outputs": [
    {
     "data": {
      "text/plain": [
       "{'__name__': '__main__',\n",
       " '__doc__': 'Automatically created module for IPython interactive environment',\n",
       " '__package__': None,\n",
       " '__loader__': None,\n",
       " '__spec__': None,\n",
       " '__builtin__': <module 'builtins' (built-in)>,\n",
       " '__builtins__': <module 'builtins' (built-in)>,\n",
       " '_ih': ['',\n",
       "  'import Cars as c\\n\\nnew_car = c.Car(\"Mercedes\", \"C200\", 2023)\\nprint(new_car.get_descriptive_name())\\nprint(new_car.read_odometer())\\nprint(new_car.fill_gas_tank())',\n",
       "  'import Cars as c\\n\\nnew_car = c.Car(\"Mercedes\", \"C200\", 2023)\\nPrint(new_car.get_descriptive_name())\\n(new_car.read_odometer())\\n(new_car.fill_gas_tank())',\n",
       "  'import Cars as c\\n\\nnew_car = c.Car(\"Mercedes\", \"C200\", 2023)\\nprint(new_car.get_descriptive_name())\\n(new_car.read_odometer())\\n(new_car.fill_gas_tank())',\n",
       "  'from Cars import ElectricCar\\n\\nnew_electric_car = ElectricCar(\"Tesla\", \"Model S\", 2023)\\nprint(new_electric_car.get_descriptive_name())\\nnew_electric_car.battery.describe_battery()\\nnew_electric_car.battery.fill_gas_tank()',\n",
       "  \"# Generators\\n\\ndef my_generator():\\n\\tyield 'A'\\n\\tyield 'B'\\n\\tyield 'C'\\n\\nfor char in my_generator():\\n\\tprint(char)\\n\\n\\t\",\n",
       "  \"# Generators\\n\\ndef my_generator():\\n\\tyield 'A'\\n\\tyield 'B'\\n\\tyield 'C'\\n\\nfor char in my_generator():\\n\\tprint(char)\\n\\n\\ndef my_generator():\\n\\tyield 'A'\\n\\tyield 'B'\\n\\tyield 'C'\\n\\ngen = my_generator()\\n\\nprint(next(gen)) # A\\nprint(next(gen)) # B\\nprint(next(gen)) # C\\n# print(next(gen)) # StopIteration\",\n",
       "  \"# Generators\\n\\ndef my_generator():\\n\\tyield 'A'\\n\\tyield 'B'\\n\\tyield 'C'\\n\\nfor char in my_generator():\\n\\tprint(char)\\n\\n\\ndef my_generator():\\n\\tyield 'A'\\n\\tyield 'B'\\n\\tyield 'C'\\n\\ngen = my_generator()\\n\\nprint(next(gen)) # A\\nprint(next(gen)) # B\\nprint(next(gen)) # C\\nprint(next(gen)) # StopIteration\",\n",
       "  \"# Generators\\n\\ndef my_generator():\\n\\tyield 'A'\\n\\tyield 'B'\\n\\tyield 'C'\\n\\nfor char in my_generator():\\n\\tprint(char)\\n\\n\\ndef my_generator():\\n\\tyield 'A'\\n\\tyield 'B'\\n\\tyield 'C'\\n\\ngen = my_generator()\\n\\nprint(next(gen)) # A\\nprint(next(gen)) # B\\nprint(next(gen)) # C\\n# print(next(gen)) # Error: StopIteration\",\n",
       "  \"# Fibonacci Series\\n# _ is a throwaway variable name that’s commonly used when you don’t need the variable’s value.\\ndef fibonacci(n):\\n\\ta, b = 0, 1\\n\\tfor _ in range(n):\\n\\t\\tyield a\\n\\t\\ta, b = b, a + b\\n\\nfor number in fibonacci(10):\\n\\tprint(number, end=' ')\",\n",
       "  'def decorator(func):\\n    def wrapper():\\n        print(\"Something is happening before the function is called.\")\\n        func()\\n        print(\"Something is happening after the function is called.\")\\n    return wrapper\\n\\ndef say_whee():\\n    print(\"Whee!\")',\n",
       "  'say_whee = decorator(say_whee)',\n",
       "  'say_whee = decorator(say_whee)',\n",
       "  'def decorator(func):\\n    def wrapper():\\n        print(\"Something is happening before the function is called.\")\\n        func()\\n        print(\"Something is happening after the function is called.\")\\n    return wrapper\\n\\ndef say_whee():\\n    print(\"Whee!\")\\n\\nsay_whee = decorator(say_whee)',\n",
       "  'say_whee()',\n",
       "  'from datetime import datetime\\n\\ndef not_during_the_night(func):\\n    def wrapper():\\n        if 7 <= datetime.now().hour < 22:\\n            func()\\n        else:\\n            pass  # Hush, the neighbors are asleep\\n    return wrapper\\n\\ndef say_whee():\\n    print(\"Whee!\")\\n\\nsay_whee = not_during_the_night(say_whee)',\n",
       "  'say_whee()',\n",
       "  'say_whee()',\n",
       "  'from datetime import datetime\\n\\ndef not_during_the_night(func):\\n    def wrapper():\\n        if 7 <= datetime.now().hour < 24:\\n            func()\\n        else:\\n            pass  # Hush, the neighbors are asleep\\n    return wrapper\\n\\ndef say_whee():\\n    print(\"Whee!\")\\n\\nsay_whee = not_during_the_night(say_whee)',\n",
       "  'say_whee()',\n",
       "  '@decorator\\ndef say_whee():\\n    print(\"Whee!\")',\n",
       "  'say_whee()',\n",
       "  'def do_twice(func):\\n    def wrapper_do_twice():\\n        func()\\n        func()\\n    return wrapper_do_twice',\n",
       "  '@do_twice\\ndef say_whee():\\n\\tprint(\"Whee!\")\\n\\nsay_whee()',\n",
       "  'def parent(num):\\n    def first_child():\\n        return \"Hi, I\\'m Elias\"\\n\\n    def second_child():\\n        return \"Call me Ester\"\\n\\n    if num == 1:\\n        return first_child\\n    else:\\n        return second_child',\n",
       "  'first = parent(1)\\nsecond = parent(2)',\n",
       "  'first()',\n",
       "  'first',\n",
       "  '@do_twice\\ndef greet(name):\\n\\tprint(f\"Hello {name}\")\\n\\ngreet(\"World\")',\n",
       "  'def do_twice(func):\\n    def wrapper_do_twice(*args, **kwargs):\\n        func(*args, **kwargs)\\n        func(*args, **kwargs)\\n    return wrapper_do_twice',\n",
       "  '@do_twice\\ndef greet(name):\\n\\tprint(f\"Hello {name}\")\\n\\ngreet(\"World\")',\n",
       "  '@do_twice\\ndef return_greeting(name):\\n\\tprint(\"Creating greeting\")\\n\\treturn f\"Hi {name}\"',\n",
       "  'hi_adam = return_greeting(\"Adam\")',\n",
       "  'hi_adam = return_greeting(\"Adam\")\\nprint(hi_adam)',\n",
       "  '@not_during_the_night\\ndef say_whee():\\n    print(\"Whee!\")\\n\\nsay_whee()',\n",
       "  'print(return_greeting(\"Adam\"))',\n",
       "  'print(return_greeting(\"Adam\"))',\n",
       "  'def do_twice(func):\\n    def wrapper_do_twice(*args, **kwargs):\\n        func(*args, **kwargs)\\n    \\treturn func(*args, **kwargs)\\n    return wrapper_do_twice',\n",
       "  'def do_twice(func):\\n    def wrapper_do_twice(*args, **kwargs):\\n        func(*args, **kwargs)\\n        return func(*args, **kwargs)\\n    return wrapper_do_twice',\n",
       "  '@do_twice\\ndef return_greeting(name):\\n\\tprint(\"Creating greeting\")\\n\\treturn f\"Hi {name}\"',\n",
       "  'print(return_greeting(\"Adam\"))',\n",
       "  'help(say_whee)',\n",
       "  'dir(__builtins__)',\n",
       "  \"def f():\\n\\tprint('Start f()')\\n\\tdef g():\\n    \\tprint('Start g()')\\n    \\tprint('End g()')\\n\\t\\treturn \\n\\n\\tg()\\n\\n\\tprint('End f()')\\n\\treturn\\n\\n\\nf()\\nStart f()\\nStart g()\\nEnd g()\\nEnd f()\",\n",
       "  \"def f():\\n\\tprint('Start f()')\\n\\tdef g():\\n        print('Start g()')\\n    \\tprint('End g()')\\n\\t\\treturn \\n\\n\\tg()\\n\\n\\tprint('End f()')\\n\\treturn\\n\\n\\nf()\\nStart f()\\nStart g()\\nEnd g()\\nEnd f()\",\n",
       "  \"def f():\\n\\tprint('Start f()')\\n\\tdef g():\\n\\t\\tprint('Start g()')\\n    \\tprint('End g()')\\n\\t\\treturn \\n\\n\\tg()\\n\\n\\tprint('End f()')\\n\\treturn\\n\\n\\nf()\\nStart f()\\nStart g()\\nEnd g()\\nEnd f()\",\n",
       "  \"def f():\\n\\tprint('Start f()')\\n\\tdef g():\\n\\t\\tprint('Start g()')\\n    \\tprint('End g()')\\n\\t\\treturn \\n\\n\\tg()\\n\\n\\tprint('End f()')\\n\\treturn\\n\\n\\nf()\\nStart f()\\nStart g()\\nEnd g()\\nEnd f()\",\n",
       "  \"def f():\\n\\tprint('Start f()')\\n\\tdef g():\\n\\t\\tprint('Start g()')\\n\\t\\tprint('End g()')\\n\\t\\treturn \\n\\n\\tg()\\n\\n\\tprint('End f()')\\n\\treturn\\n\\n\\nf()\\nStart f()\\nStart g()\\nEnd g()\\nEnd f()\",\n",
       "  \"def f():\\n\\tprint('Start f()')\\n\\tdef g():\\n\\t\\tprint('Start g()')\\n\\t\\tprint('End g()')\\n\\t\\treturn \\n\\n\\tg()\\n\\n\\tprint('End f()')\\n\\treturn\\n\\n\\nf()\\nStartf()\\nStartg()\\nEnd g()\\nEnd f()\",\n",
       "  \"def f():\\n\\tprint('Start f()')\\n\\tdef g():\\n\\t\\tprint('Start g()')\\n\\t\\tprint('End g()')\\n\\t\\treturn \\n\\n\\tg()\\n\\n\\tprint('End f()')\\n\\treturn\\n\\n\\nf()\\nStartf()\\nStartg()\\nEndg()\\nEndf()\",\n",
       "  \"def f():\\n\\tprint('Start f()')\\n\\tdef g():\\n\\t\\tprint('Start g()')\\n\\t\\tprint('End g()')\\n\\t\\treturn \\n\\n\\tg()\\n\\n\\tprint('End f()')\\n\\treturn\\n\\n\\nf()\\nStart f()\\nStartg()\\nEndg()\\nEndf()\",\n",
       "  \"def f():\\n\\tprint('Start f()')\\n\\tdef g():\\n\\t\\tprint('Start g()')\\n\\t\\tprint('End g()')\\n\\t\\treturn \\n\\n\\tg()\\n\\n\\tprint('End f()')\\n\\treturn\\n\\n\\nf()\",\n",
       "  \"x = 'Global'\\n\\ndef f():\\n\\tdef g():\\n\\t\\tprint(x)\\nreturn g()\\n\\nf()\",\n",
       "  \"x = 'Global'\\n\\ndef f():\\n\\tdef g():\\n\\t\\tprint(x)\\n\\treturn g()\\n\\nf()\",\n",
       "  \"x = 'Global'\\n\\ndef f():\\n\\tx = 'Enclosing'\\n\\tdef g():\\n\\t\\tprint(x)\\n\\treturn g()\\n\\nf()\",\n",
       "  \"x = 'Global'\\n\\ndef f():\\n\\tx = 'Enclosing'\\n\\tdef g():\\n\\t\\tx = 'Local'\\n\\t\\tprint(x)\\n\\treturn g()\\n\\nf()\",\n",
       "  'def f():\\n\\tdef g():\\n\\t\\tprint(x)\\n\\treturn g()\\n\\nf()',\n",
       "  \"# x = 'Global'\\n\\ndef f():\\n\\tdef g():\\n\\t\\tprint(x)\\n\\treturn g()\\n\\nf()\",\n",
       "  'def f():\\n\\tdef g():\\n\\t\\tprint(x)\\n\\treturn g()\\n\\nf()',\n",
       "  \"x = 'Global'\\n\\ndef f():\\n\\tdef g():\\n\\t\\tprint(x)\\n\\treturn g()\\n\\nf()\",\n",
       "  \"# def f():\\n# \\tdef g():\\n# \\t\\tprint(x)\\n# \\treturn g()\\n\\n# f() \\n# NameError: name 'x' is not defined\",\n",
       "  'type(globals())',\n",
       "  'globals()'],\n",
       " '_oh': {26: \"Hi, I'm Elias\",\n",
       "  27: <function __main__.parent.<locals>.first_child()>,\n",
       "  43: ['ArithmeticError',\n",
       "   'AssertionError',\n",
       "   'AttributeError',\n",
       "   'BaseException',\n",
       "   'BaseExceptionGroup',\n",
       "   'BlockingIOError',\n",
       "   'BrokenPipeError',\n",
       "   'BufferError',\n",
       "   'BytesWarning',\n",
       "   'ChildProcessError',\n",
       "   'ConnectionAbortedError',\n",
       "   'ConnectionError',\n",
       "   'ConnectionRefusedError',\n",
       "   'ConnectionResetError',\n",
       "   'DeprecationWarning',\n",
       "   'EOFError',\n",
       "   'Ellipsis',\n",
       "   'EncodingWarning',\n",
       "   'EnvironmentError',\n",
       "   'Exception',\n",
       "   'ExceptionGroup',\n",
       "   'False',\n",
       "   'FileExistsError',\n",
       "   'FileNotFoundError',\n",
       "   'FloatingPointError',\n",
       "   'FutureWarning',\n",
       "   'GeneratorExit',\n",
       "   'IOError',\n",
       "   'ImportError',\n",
       "   'ImportWarning',\n",
       "   'IndentationError',\n",
       "   'IndexError',\n",
       "   'InterruptedError',\n",
       "   'IsADirectoryError',\n",
       "   'KeyError',\n",
       "   'KeyboardInterrupt',\n",
       "   'LookupError',\n",
       "   'MemoryError',\n",
       "   'ModuleNotFoundError',\n",
       "   'NameError',\n",
       "   'None',\n",
       "   'NotADirectoryError',\n",
       "   'NotImplemented',\n",
       "   'NotImplementedError',\n",
       "   'OSError',\n",
       "   'OverflowError',\n",
       "   'PendingDeprecationWarning',\n",
       "   'PermissionError',\n",
       "   'ProcessLookupError',\n",
       "   'RecursionError',\n",
       "   'ReferenceError',\n",
       "   'ResourceWarning',\n",
       "   'RuntimeError',\n",
       "   'RuntimeWarning',\n",
       "   'StopAsyncIteration',\n",
       "   'StopIteration',\n",
       "   'SyntaxError',\n",
       "   'SyntaxWarning',\n",
       "   'SystemError',\n",
       "   'SystemExit',\n",
       "   'TabError',\n",
       "   'TimeoutError',\n",
       "   'True',\n",
       "   'TypeError',\n",
       "   'UnboundLocalError',\n",
       "   'UnicodeDecodeError',\n",
       "   'UnicodeEncodeError',\n",
       "   'UnicodeError',\n",
       "   'UnicodeTranslateError',\n",
       "   'UnicodeWarning',\n",
       "   'UserWarning',\n",
       "   'ValueError',\n",
       "   'Warning',\n",
       "   'WindowsError',\n",
       "   'ZeroDivisionError',\n",
       "   '__IPYTHON__',\n",
       "   '__build_class__',\n",
       "   '__debug__',\n",
       "   '__doc__',\n",
       "   '__import__',\n",
       "   '__loader__',\n",
       "   '__name__',\n",
       "   '__package__',\n",
       "   '__spec__',\n",
       "   'abs',\n",
       "   'aiter',\n",
       "   'all',\n",
       "   'anext',\n",
       "   'any',\n",
       "   'ascii',\n",
       "   'bin',\n",
       "   'bool',\n",
       "   'breakpoint',\n",
       "   'bytearray',\n",
       "   'bytes',\n",
       "   'callable',\n",
       "   'chr',\n",
       "   'classmethod',\n",
       "   'compile',\n",
       "   'complex',\n",
       "   'copyright',\n",
       "   'credits',\n",
       "   'delattr',\n",
       "   'dict',\n",
       "   'dir',\n",
       "   'display',\n",
       "   'divmod',\n",
       "   'enumerate',\n",
       "   'eval',\n",
       "   'exec',\n",
       "   'execfile',\n",
       "   'filter',\n",
       "   'float',\n",
       "   'format',\n",
       "   'frozenset',\n",
       "   'get_ipython',\n",
       "   'getattr',\n",
       "   'globals',\n",
       "   'hasattr',\n",
       "   'hash',\n",
       "   'help',\n",
       "   'hex',\n",
       "   'id',\n",
       "   'input',\n",
       "   'int',\n",
       "   'isinstance',\n",
       "   'issubclass',\n",
       "   'iter',\n",
       "   'len',\n",
       "   'license',\n",
       "   'list',\n",
       "   'locals',\n",
       "   'map',\n",
       "   'max',\n",
       "   'memoryview',\n",
       "   'min',\n",
       "   'next',\n",
       "   'object',\n",
       "   'oct',\n",
       "   'open',\n",
       "   'ord',\n",
       "   'pow',\n",
       "   'print',\n",
       "   'property',\n",
       "   'range',\n",
       "   'repr',\n",
       "   'reversed',\n",
       "   'round',\n",
       "   'runfile',\n",
       "   'set',\n",
       "   'setattr',\n",
       "   'slice',\n",
       "   'sorted',\n",
       "   'staticmethod',\n",
       "   'str',\n",
       "   'sum',\n",
       "   'super',\n",
       "   'tuple',\n",
       "   'type',\n",
       "   'vars',\n",
       "   'zip'],\n",
       "  66: dict},\n",
       " '_dh': [WindowsPath('d:/Machine Learning Self-Learning/Python-For-Data-Science/pythonbasics')],\n",
       " 'In': ['',\n",
       "  'import Cars as c\\n\\nnew_car = c.Car(\"Mercedes\", \"C200\", 2023)\\nprint(new_car.get_descriptive_name())\\nprint(new_car.read_odometer())\\nprint(new_car.fill_gas_tank())',\n",
       "  'import Cars as c\\n\\nnew_car = c.Car(\"Mercedes\", \"C200\", 2023)\\nPrint(new_car.get_descriptive_name())\\n(new_car.read_odometer())\\n(new_car.fill_gas_tank())',\n",
       "  'import Cars as c\\n\\nnew_car = c.Car(\"Mercedes\", \"C200\", 2023)\\nprint(new_car.get_descriptive_name())\\n(new_car.read_odometer())\\n(new_car.fill_gas_tank())',\n",
       "  'from Cars import ElectricCar\\n\\nnew_electric_car = ElectricCar(\"Tesla\", \"Model S\", 2023)\\nprint(new_electric_car.get_descriptive_name())\\nnew_electric_car.battery.describe_battery()\\nnew_electric_car.battery.fill_gas_tank()',\n",
       "  \"# Generators\\n\\ndef my_generator():\\n\\tyield 'A'\\n\\tyield 'B'\\n\\tyield 'C'\\n\\nfor char in my_generator():\\n\\tprint(char)\\n\\n\\t\",\n",
       "  \"# Generators\\n\\ndef my_generator():\\n\\tyield 'A'\\n\\tyield 'B'\\n\\tyield 'C'\\n\\nfor char in my_generator():\\n\\tprint(char)\\n\\n\\ndef my_generator():\\n\\tyield 'A'\\n\\tyield 'B'\\n\\tyield 'C'\\n\\ngen = my_generator()\\n\\nprint(next(gen)) # A\\nprint(next(gen)) # B\\nprint(next(gen)) # C\\n# print(next(gen)) # StopIteration\",\n",
       "  \"# Generators\\n\\ndef my_generator():\\n\\tyield 'A'\\n\\tyield 'B'\\n\\tyield 'C'\\n\\nfor char in my_generator():\\n\\tprint(char)\\n\\n\\ndef my_generator():\\n\\tyield 'A'\\n\\tyield 'B'\\n\\tyield 'C'\\n\\ngen = my_generator()\\n\\nprint(next(gen)) # A\\nprint(next(gen)) # B\\nprint(next(gen)) # C\\nprint(next(gen)) # StopIteration\",\n",
       "  \"# Generators\\n\\ndef my_generator():\\n\\tyield 'A'\\n\\tyield 'B'\\n\\tyield 'C'\\n\\nfor char in my_generator():\\n\\tprint(char)\\n\\n\\ndef my_generator():\\n\\tyield 'A'\\n\\tyield 'B'\\n\\tyield 'C'\\n\\ngen = my_generator()\\n\\nprint(next(gen)) # A\\nprint(next(gen)) # B\\nprint(next(gen)) # C\\n# print(next(gen)) # Error: StopIteration\",\n",
       "  \"# Fibonacci Series\\n# _ is a throwaway variable name that’s commonly used when you don’t need the variable’s value.\\ndef fibonacci(n):\\n\\ta, b = 0, 1\\n\\tfor _ in range(n):\\n\\t\\tyield a\\n\\t\\ta, b = b, a + b\\n\\nfor number in fibonacci(10):\\n\\tprint(number, end=' ')\",\n",
       "  'def decorator(func):\\n    def wrapper():\\n        print(\"Something is happening before the function is called.\")\\n        func()\\n        print(\"Something is happening after the function is called.\")\\n    return wrapper\\n\\ndef say_whee():\\n    print(\"Whee!\")',\n",
       "  'say_whee = decorator(say_whee)',\n",
       "  'say_whee = decorator(say_whee)',\n",
       "  'def decorator(func):\\n    def wrapper():\\n        print(\"Something is happening before the function is called.\")\\n        func()\\n        print(\"Something is happening after the function is called.\")\\n    return wrapper\\n\\ndef say_whee():\\n    print(\"Whee!\")\\n\\nsay_whee = decorator(say_whee)',\n",
       "  'say_whee()',\n",
       "  'from datetime import datetime\\n\\ndef not_during_the_night(func):\\n    def wrapper():\\n        if 7 <= datetime.now().hour < 22:\\n            func()\\n        else:\\n            pass  # Hush, the neighbors are asleep\\n    return wrapper\\n\\ndef say_whee():\\n    print(\"Whee!\")\\n\\nsay_whee = not_during_the_night(say_whee)',\n",
       "  'say_whee()',\n",
       "  'say_whee()',\n",
       "  'from datetime import datetime\\n\\ndef not_during_the_night(func):\\n    def wrapper():\\n        if 7 <= datetime.now().hour < 24:\\n            func()\\n        else:\\n            pass  # Hush, the neighbors are asleep\\n    return wrapper\\n\\ndef say_whee():\\n    print(\"Whee!\")\\n\\nsay_whee = not_during_the_night(say_whee)',\n",
       "  'say_whee()',\n",
       "  '@decorator\\ndef say_whee():\\n    print(\"Whee!\")',\n",
       "  'say_whee()',\n",
       "  'def do_twice(func):\\n    def wrapper_do_twice():\\n        func()\\n        func()\\n    return wrapper_do_twice',\n",
       "  '@do_twice\\ndef say_whee():\\n\\tprint(\"Whee!\")\\n\\nsay_whee()',\n",
       "  'def parent(num):\\n    def first_child():\\n        return \"Hi, I\\'m Elias\"\\n\\n    def second_child():\\n        return \"Call me Ester\"\\n\\n    if num == 1:\\n        return first_child\\n    else:\\n        return second_child',\n",
       "  'first = parent(1)\\nsecond = parent(2)',\n",
       "  'first()',\n",
       "  'first',\n",
       "  '@do_twice\\ndef greet(name):\\n\\tprint(f\"Hello {name}\")\\n\\ngreet(\"World\")',\n",
       "  'def do_twice(func):\\n    def wrapper_do_twice(*args, **kwargs):\\n        func(*args, **kwargs)\\n        func(*args, **kwargs)\\n    return wrapper_do_twice',\n",
       "  '@do_twice\\ndef greet(name):\\n\\tprint(f\"Hello {name}\")\\n\\ngreet(\"World\")',\n",
       "  '@do_twice\\ndef return_greeting(name):\\n\\tprint(\"Creating greeting\")\\n\\treturn f\"Hi {name}\"',\n",
       "  'hi_adam = return_greeting(\"Adam\")',\n",
       "  'hi_adam = return_greeting(\"Adam\")\\nprint(hi_adam)',\n",
       "  '@not_during_the_night\\ndef say_whee():\\n    print(\"Whee!\")\\n\\nsay_whee()',\n",
       "  'print(return_greeting(\"Adam\"))',\n",
       "  'print(return_greeting(\"Adam\"))',\n",
       "  'def do_twice(func):\\n    def wrapper_do_twice(*args, **kwargs):\\n        func(*args, **kwargs)\\n    \\treturn func(*args, **kwargs)\\n    return wrapper_do_twice',\n",
       "  'def do_twice(func):\\n    def wrapper_do_twice(*args, **kwargs):\\n        func(*args, **kwargs)\\n        return func(*args, **kwargs)\\n    return wrapper_do_twice',\n",
       "  '@do_twice\\ndef return_greeting(name):\\n\\tprint(\"Creating greeting\")\\n\\treturn f\"Hi {name}\"',\n",
       "  'print(return_greeting(\"Adam\"))',\n",
       "  'help(say_whee)',\n",
       "  'dir(__builtins__)',\n",
       "  \"def f():\\n\\tprint('Start f()')\\n\\tdef g():\\n    \\tprint('Start g()')\\n    \\tprint('End g()')\\n\\t\\treturn \\n\\n\\tg()\\n\\n\\tprint('End f()')\\n\\treturn\\n\\n\\nf()\\nStart f()\\nStart g()\\nEnd g()\\nEnd f()\",\n",
       "  \"def f():\\n\\tprint('Start f()')\\n\\tdef g():\\n        print('Start g()')\\n    \\tprint('End g()')\\n\\t\\treturn \\n\\n\\tg()\\n\\n\\tprint('End f()')\\n\\treturn\\n\\n\\nf()\\nStart f()\\nStart g()\\nEnd g()\\nEnd f()\",\n",
       "  \"def f():\\n\\tprint('Start f()')\\n\\tdef g():\\n\\t\\tprint('Start g()')\\n    \\tprint('End g()')\\n\\t\\treturn \\n\\n\\tg()\\n\\n\\tprint('End f()')\\n\\treturn\\n\\n\\nf()\\nStart f()\\nStart g()\\nEnd g()\\nEnd f()\",\n",
       "  \"def f():\\n\\tprint('Start f()')\\n\\tdef g():\\n\\t\\tprint('Start g()')\\n    \\tprint('End g()')\\n\\t\\treturn \\n\\n\\tg()\\n\\n\\tprint('End f()')\\n\\treturn\\n\\n\\nf()\\nStart f()\\nStart g()\\nEnd g()\\nEnd f()\",\n",
       "  \"def f():\\n\\tprint('Start f()')\\n\\tdef g():\\n\\t\\tprint('Start g()')\\n\\t\\tprint('End g()')\\n\\t\\treturn \\n\\n\\tg()\\n\\n\\tprint('End f()')\\n\\treturn\\n\\n\\nf()\\nStart f()\\nStart g()\\nEnd g()\\nEnd f()\",\n",
       "  \"def f():\\n\\tprint('Start f()')\\n\\tdef g():\\n\\t\\tprint('Start g()')\\n\\t\\tprint('End g()')\\n\\t\\treturn \\n\\n\\tg()\\n\\n\\tprint('End f()')\\n\\treturn\\n\\n\\nf()\\nStartf()\\nStartg()\\nEnd g()\\nEnd f()\",\n",
       "  \"def f():\\n\\tprint('Start f()')\\n\\tdef g():\\n\\t\\tprint('Start g()')\\n\\t\\tprint('End g()')\\n\\t\\treturn \\n\\n\\tg()\\n\\n\\tprint('End f()')\\n\\treturn\\n\\n\\nf()\\nStartf()\\nStartg()\\nEndg()\\nEndf()\",\n",
       "  \"def f():\\n\\tprint('Start f()')\\n\\tdef g():\\n\\t\\tprint('Start g()')\\n\\t\\tprint('End g()')\\n\\t\\treturn \\n\\n\\tg()\\n\\n\\tprint('End f()')\\n\\treturn\\n\\n\\nf()\\nStart f()\\nStartg()\\nEndg()\\nEndf()\",\n",
       "  \"def f():\\n\\tprint('Start f()')\\n\\tdef g():\\n\\t\\tprint('Start g()')\\n\\t\\tprint('End g()')\\n\\t\\treturn \\n\\n\\tg()\\n\\n\\tprint('End f()')\\n\\treturn\\n\\n\\nf()\",\n",
       "  \"x = 'Global'\\n\\ndef f():\\n\\tdef g():\\n\\t\\tprint(x)\\nreturn g()\\n\\nf()\",\n",
       "  \"x = 'Global'\\n\\ndef f():\\n\\tdef g():\\n\\t\\tprint(x)\\n\\treturn g()\\n\\nf()\",\n",
       "  \"x = 'Global'\\n\\ndef f():\\n\\tx = 'Enclosing'\\n\\tdef g():\\n\\t\\tprint(x)\\n\\treturn g()\\n\\nf()\",\n",
       "  \"x = 'Global'\\n\\ndef f():\\n\\tx = 'Enclosing'\\n\\tdef g():\\n\\t\\tx = 'Local'\\n\\t\\tprint(x)\\n\\treturn g()\\n\\nf()\",\n",
       "  'def f():\\n\\tdef g():\\n\\t\\tprint(x)\\n\\treturn g()\\n\\nf()',\n",
       "  \"# x = 'Global'\\n\\ndef f():\\n\\tdef g():\\n\\t\\tprint(x)\\n\\treturn g()\\n\\nf()\",\n",
       "  'def f():\\n\\tdef g():\\n\\t\\tprint(x)\\n\\treturn g()\\n\\nf()',\n",
       "  \"x = 'Global'\\n\\ndef f():\\n\\tdef g():\\n\\t\\tprint(x)\\n\\treturn g()\\n\\nf()\",\n",
       "  \"# def f():\\n# \\tdef g():\\n# \\t\\tprint(x)\\n# \\treturn g()\\n\\n# f() \\n# NameError: name 'x' is not defined\",\n",
       "  'type(globals())',\n",
       "  'globals()'],\n",
       " 'Out': {26: \"Hi, I'm Elias\",\n",
       "  27: <function __main__.parent.<locals>.first_child()>,\n",
       "  43: ['ArithmeticError',\n",
       "   'AssertionError',\n",
       "   'AttributeError',\n",
       "   'BaseException',\n",
       "   'BaseExceptionGroup',\n",
       "   'BlockingIOError',\n",
       "   'BrokenPipeError',\n",
       "   'BufferError',\n",
       "   'BytesWarning',\n",
       "   'ChildProcessError',\n",
       "   'ConnectionAbortedError',\n",
       "   'ConnectionError',\n",
       "   'ConnectionRefusedError',\n",
       "   'ConnectionResetError',\n",
       "   'DeprecationWarning',\n",
       "   'EOFError',\n",
       "   'Ellipsis',\n",
       "   'EncodingWarning',\n",
       "   'EnvironmentError',\n",
       "   'Exception',\n",
       "   'ExceptionGroup',\n",
       "   'False',\n",
       "   'FileExistsError',\n",
       "   'FileNotFoundError',\n",
       "   'FloatingPointError',\n",
       "   'FutureWarning',\n",
       "   'GeneratorExit',\n",
       "   'IOError',\n",
       "   'ImportError',\n",
       "   'ImportWarning',\n",
       "   'IndentationError',\n",
       "   'IndexError',\n",
       "   'InterruptedError',\n",
       "   'IsADirectoryError',\n",
       "   'KeyError',\n",
       "   'KeyboardInterrupt',\n",
       "   'LookupError',\n",
       "   'MemoryError',\n",
       "   'ModuleNotFoundError',\n",
       "   'NameError',\n",
       "   'None',\n",
       "   'NotADirectoryError',\n",
       "   'NotImplemented',\n",
       "   'NotImplementedError',\n",
       "   'OSError',\n",
       "   'OverflowError',\n",
       "   'PendingDeprecationWarning',\n",
       "   'PermissionError',\n",
       "   'ProcessLookupError',\n",
       "   'RecursionError',\n",
       "   'ReferenceError',\n",
       "   'ResourceWarning',\n",
       "   'RuntimeError',\n",
       "   'RuntimeWarning',\n",
       "   'StopAsyncIteration',\n",
       "   'StopIteration',\n",
       "   'SyntaxError',\n",
       "   'SyntaxWarning',\n",
       "   'SystemError',\n",
       "   'SystemExit',\n",
       "   'TabError',\n",
       "   'TimeoutError',\n",
       "   'True',\n",
       "   'TypeError',\n",
       "   'UnboundLocalError',\n",
       "   'UnicodeDecodeError',\n",
       "   'UnicodeEncodeError',\n",
       "   'UnicodeError',\n",
       "   'UnicodeTranslateError',\n",
       "   'UnicodeWarning',\n",
       "   'UserWarning',\n",
       "   'ValueError',\n",
       "   'Warning',\n",
       "   'WindowsError',\n",
       "   'ZeroDivisionError',\n",
       "   '__IPYTHON__',\n",
       "   '__build_class__',\n",
       "   '__debug__',\n",
       "   '__doc__',\n",
       "   '__import__',\n",
       "   '__loader__',\n",
       "   '__name__',\n",
       "   '__package__',\n",
       "   '__spec__',\n",
       "   'abs',\n",
       "   'aiter',\n",
       "   'all',\n",
       "   'anext',\n",
       "   'any',\n",
       "   'ascii',\n",
       "   'bin',\n",
       "   'bool',\n",
       "   'breakpoint',\n",
       "   'bytearray',\n",
       "   'bytes',\n",
       "   'callable',\n",
       "   'chr',\n",
       "   'classmethod',\n",
       "   'compile',\n",
       "   'complex',\n",
       "   'copyright',\n",
       "   'credits',\n",
       "   'delattr',\n",
       "   'dict',\n",
       "   'dir',\n",
       "   'display',\n",
       "   'divmod',\n",
       "   'enumerate',\n",
       "   'eval',\n",
       "   'exec',\n",
       "   'execfile',\n",
       "   'filter',\n",
       "   'float',\n",
       "   'format',\n",
       "   'frozenset',\n",
       "   'get_ipython',\n",
       "   'getattr',\n",
       "   'globals',\n",
       "   'hasattr',\n",
       "   'hash',\n",
       "   'help',\n",
       "   'hex',\n",
       "   'id',\n",
       "   'input',\n",
       "   'int',\n",
       "   'isinstance',\n",
       "   'issubclass',\n",
       "   'iter',\n",
       "   'len',\n",
       "   'license',\n",
       "   'list',\n",
       "   'locals',\n",
       "   'map',\n",
       "   'max',\n",
       "   'memoryview',\n",
       "   'min',\n",
       "   'next',\n",
       "   'object',\n",
       "   'oct',\n",
       "   'open',\n",
       "   'ord',\n",
       "   'pow',\n",
       "   'print',\n",
       "   'property',\n",
       "   'range',\n",
       "   'repr',\n",
       "   'reversed',\n",
       "   'round',\n",
       "   'runfile',\n",
       "   'set',\n",
       "   'setattr',\n",
       "   'slice',\n",
       "   'sorted',\n",
       "   'staticmethod',\n",
       "   'str',\n",
       "   'sum',\n",
       "   'super',\n",
       "   'tuple',\n",
       "   'type',\n",
       "   'vars',\n",
       "   'zip'],\n",
       "  66: dict},\n",
       " 'get_ipython': <bound method InteractiveShell.get_ipython of <ipykernel.zmqshell.ZMQInteractiveShell object at 0x00000266459A4FE0>>,\n",
       " 'exit': <IPython.core.autocall.ZMQExitAutocall at 0x26646bf1cd0>,\n",
       " 'quit': <IPython.core.autocall.ZMQExitAutocall at 0x26646bf1cd0>,\n",
       " 'open': <function _io.open(file, mode='r', buffering=-1, encoding=None, errors=None, newline=None, closefd=True, opener=None)>,\n",
       " '_': dict,\n",
       " '__': ['ArithmeticError',\n",
       "  'AssertionError',\n",
       "  'AttributeError',\n",
       "  'BaseException',\n",
       "  'BaseExceptionGroup',\n",
       "  'BlockingIOError',\n",
       "  'BrokenPipeError',\n",
       "  'BufferError',\n",
       "  'BytesWarning',\n",
       "  'ChildProcessError',\n",
       "  'ConnectionAbortedError',\n",
       "  'ConnectionError',\n",
       "  'ConnectionRefusedError',\n",
       "  'ConnectionResetError',\n",
       "  'DeprecationWarning',\n",
       "  'EOFError',\n",
       "  'Ellipsis',\n",
       "  'EncodingWarning',\n",
       "  'EnvironmentError',\n",
       "  'Exception',\n",
       "  'ExceptionGroup',\n",
       "  'False',\n",
       "  'FileExistsError',\n",
       "  'FileNotFoundError',\n",
       "  'FloatingPointError',\n",
       "  'FutureWarning',\n",
       "  'GeneratorExit',\n",
       "  'IOError',\n",
       "  'ImportError',\n",
       "  'ImportWarning',\n",
       "  'IndentationError',\n",
       "  'IndexError',\n",
       "  'InterruptedError',\n",
       "  'IsADirectoryError',\n",
       "  'KeyError',\n",
       "  'KeyboardInterrupt',\n",
       "  'LookupError',\n",
       "  'MemoryError',\n",
       "  'ModuleNotFoundError',\n",
       "  'NameError',\n",
       "  'None',\n",
       "  'NotADirectoryError',\n",
       "  'NotImplemented',\n",
       "  'NotImplementedError',\n",
       "  'OSError',\n",
       "  'OverflowError',\n",
       "  'PendingDeprecationWarning',\n",
       "  'PermissionError',\n",
       "  'ProcessLookupError',\n",
       "  'RecursionError',\n",
       "  'ReferenceError',\n",
       "  'ResourceWarning',\n",
       "  'RuntimeError',\n",
       "  'RuntimeWarning',\n",
       "  'StopAsyncIteration',\n",
       "  'StopIteration',\n",
       "  'SyntaxError',\n",
       "  'SyntaxWarning',\n",
       "  'SystemError',\n",
       "  'SystemExit',\n",
       "  'TabError',\n",
       "  'TimeoutError',\n",
       "  'True',\n",
       "  'TypeError',\n",
       "  'UnboundLocalError',\n",
       "  'UnicodeDecodeError',\n",
       "  'UnicodeEncodeError',\n",
       "  'UnicodeError',\n",
       "  'UnicodeTranslateError',\n",
       "  'UnicodeWarning',\n",
       "  'UserWarning',\n",
       "  'ValueError',\n",
       "  'Warning',\n",
       "  'WindowsError',\n",
       "  'ZeroDivisionError',\n",
       "  '__IPYTHON__',\n",
       "  '__build_class__',\n",
       "  '__debug__',\n",
       "  '__doc__',\n",
       "  '__import__',\n",
       "  '__loader__',\n",
       "  '__name__',\n",
       "  '__package__',\n",
       "  '__spec__',\n",
       "  'abs',\n",
       "  'aiter',\n",
       "  'all',\n",
       "  'anext',\n",
       "  'any',\n",
       "  'ascii',\n",
       "  'bin',\n",
       "  'bool',\n",
       "  'breakpoint',\n",
       "  'bytearray',\n",
       "  'bytes',\n",
       "  'callable',\n",
       "  'chr',\n",
       "  'classmethod',\n",
       "  'compile',\n",
       "  'complex',\n",
       "  'copyright',\n",
       "  'credits',\n",
       "  'delattr',\n",
       "  'dict',\n",
       "  'dir',\n",
       "  'display',\n",
       "  'divmod',\n",
       "  'enumerate',\n",
       "  'eval',\n",
       "  'exec',\n",
       "  'execfile',\n",
       "  'filter',\n",
       "  'float',\n",
       "  'format',\n",
       "  'frozenset',\n",
       "  'get_ipython',\n",
       "  'getattr',\n",
       "  'globals',\n",
       "  'hasattr',\n",
       "  'hash',\n",
       "  'help',\n",
       "  'hex',\n",
       "  'id',\n",
       "  'input',\n",
       "  'int',\n",
       "  'isinstance',\n",
       "  'issubclass',\n",
       "  'iter',\n",
       "  'len',\n",
       "  'license',\n",
       "  'list',\n",
       "  'locals',\n",
       "  'map',\n",
       "  'max',\n",
       "  'memoryview',\n",
       "  'min',\n",
       "  'next',\n",
       "  'object',\n",
       "  'oct',\n",
       "  'open',\n",
       "  'ord',\n",
       "  'pow',\n",
       "  'print',\n",
       "  'property',\n",
       "  'range',\n",
       "  'repr',\n",
       "  'reversed',\n",
       "  'round',\n",
       "  'runfile',\n",
       "  'set',\n",
       "  'setattr',\n",
       "  'slice',\n",
       "  'sorted',\n",
       "  'staticmethod',\n",
       "  'str',\n",
       "  'sum',\n",
       "  'super',\n",
       "  'tuple',\n",
       "  'type',\n",
       "  'vars',\n",
       "  'zip'],\n",
       " '___': <function __main__.parent.<locals>.first_child()>,\n",
       " '__vsc_ipynb_file__': 'd:\\\\Machine Learning Self-Learning\\\\Python-For-Data-Science\\\\pythonbasics\\\\PythonNoteBook.ipynb',\n",
       " '_i': 'type(globals())',\n",
       " '_ii': \"# def f():\\n# \\tdef g():\\n# \\t\\tprint(x)\\n# \\treturn g()\\n\\n# f() \\n# NameError: name 'x' is not defined\",\n",
       " '_iii': \"x = 'Global'\\n\\ndef f():\\n\\tdef g():\\n\\t\\tprint(x)\\n\\treturn g()\\n\\nf()\",\n",
       " '_i1': 'import Cars as c\\n\\nnew_car = c.Car(\"Mercedes\", \"C200\", 2023)\\nprint(new_car.get_descriptive_name())\\nprint(new_car.read_odometer())\\nprint(new_car.fill_gas_tank())',\n",
       " 'c': <module 'Cars' from 'd:\\\\Machine Learning Self-Learning\\\\Python-For-Data-Science\\\\pythonbasics\\\\Cars.py'>,\n",
       " 'new_car': <Cars.Car at 0x26646d5d670>,\n",
       " '_i2': 'import Cars as c\\n\\nnew_car = c.Car(\"Mercedes\", \"C200\", 2023)\\nPrint(new_car.get_descriptive_name())\\n(new_car.read_odometer())\\n(new_car.fill_gas_tank())',\n",
       " '_i3': 'import Cars as c\\n\\nnew_car = c.Car(\"Mercedes\", \"C200\", 2023)\\nprint(new_car.get_descriptive_name())\\n(new_car.read_odometer())\\n(new_car.fill_gas_tank())',\n",
       " '_i4': 'from Cars import ElectricCar\\n\\nnew_electric_car = ElectricCar(\"Tesla\", \"Model S\", 2023)\\nprint(new_electric_car.get_descriptive_name())\\nnew_electric_car.battery.describe_battery()\\nnew_electric_car.battery.fill_gas_tank()',\n",
       " 'ElectricCar': Cars.ElectricCar,\n",
       " 'new_electric_car': <Cars.ElectricCar at 0x26646d8ebd0>,\n",
       " '_i5': \"# Generators\\n\\ndef my_generator():\\n\\tyield 'A'\\n\\tyield 'B'\\n\\tyield 'C'\\n\\nfor char in my_generator():\\n\\tprint(char)\\n\\n\\t\",\n",
       " 'my_generator': <function __main__.my_generator()>,\n",
       " 'char': 'C',\n",
       " '_i6': \"# Generators\\n\\ndef my_generator():\\n\\tyield 'A'\\n\\tyield 'B'\\n\\tyield 'C'\\n\\nfor char in my_generator():\\n\\tprint(char)\\n\\n\\ndef my_generator():\\n\\tyield 'A'\\n\\tyield 'B'\\n\\tyield 'C'\\n\\ngen = my_generator()\\n\\nprint(next(gen)) # A\\nprint(next(gen)) # B\\nprint(next(gen)) # C\\n# print(next(gen)) # StopIteration\",\n",
       " 'gen': <generator object my_generator at 0x0000026646EDA610>,\n",
       " '_i7': \"# Generators\\n\\ndef my_generator():\\n\\tyield 'A'\\n\\tyield 'B'\\n\\tyield 'C'\\n\\nfor char in my_generator():\\n\\tprint(char)\\n\\n\\ndef my_generator():\\n\\tyield 'A'\\n\\tyield 'B'\\n\\tyield 'C'\\n\\ngen = my_generator()\\n\\nprint(next(gen)) # A\\nprint(next(gen)) # B\\nprint(next(gen)) # C\\nprint(next(gen)) # StopIteration\",\n",
       " '_i8': \"# Generators\\n\\ndef my_generator():\\n\\tyield 'A'\\n\\tyield 'B'\\n\\tyield 'C'\\n\\nfor char in my_generator():\\n\\tprint(char)\\n\\n\\ndef my_generator():\\n\\tyield 'A'\\n\\tyield 'B'\\n\\tyield 'C'\\n\\ngen = my_generator()\\n\\nprint(next(gen)) # A\\nprint(next(gen)) # B\\nprint(next(gen)) # C\\n# print(next(gen)) # Error: StopIteration\",\n",
       " '_i9': \"# Fibonacci Series\\n# _ is a throwaway variable name that’s commonly used when you don’t need the variable’s value.\\ndef fibonacci(n):\\n\\ta, b = 0, 1\\n\\tfor _ in range(n):\\n\\t\\tyield a\\n\\t\\ta, b = b, a + b\\n\\nfor number in fibonacci(10):\\n\\tprint(number, end=' ')\",\n",
       " 'fibonacci': <function __main__.fibonacci(n)>,\n",
       " 'number': 34,\n",
       " '_i10': 'def decorator(func):\\n    def wrapper():\\n        print(\"Something is happening before the function is called.\")\\n        func()\\n        print(\"Something is happening after the function is called.\")\\n    return wrapper\\n\\ndef say_whee():\\n    print(\"Whee!\")',\n",
       " 'decorator': <function __main__.decorator(func)>,\n",
       " 'say_whee': <function __main__.not_during_the_night.<locals>.wrapper()>,\n",
       " '_i11': 'say_whee = decorator(say_whee)',\n",
       " '_i12': 'say_whee = decorator(say_whee)',\n",
       " '_i13': 'def decorator(func):\\n    def wrapper():\\n        print(\"Something is happening before the function is called.\")\\n        func()\\n        print(\"Something is happening after the function is called.\")\\n    return wrapper\\n\\ndef say_whee():\\n    print(\"Whee!\")\\n\\nsay_whee = decorator(say_whee)',\n",
       " '_i14': 'say_whee()',\n",
       " '_i15': 'from datetime import datetime\\n\\ndef not_during_the_night(func):\\n    def wrapper():\\n        if 7 <= datetime.now().hour < 22:\\n            func()\\n        else:\\n            pass  # Hush, the neighbors are asleep\\n    return wrapper\\n\\ndef say_whee():\\n    print(\"Whee!\")\\n\\nsay_whee = not_during_the_night(say_whee)',\n",
       " 'datetime': datetime.datetime,\n",
       " 'not_during_the_night': <function __main__.not_during_the_night(func)>,\n",
       " '_i16': 'say_whee()',\n",
       " '_i17': 'say_whee()',\n",
       " '_i18': 'from datetime import datetime\\n\\ndef not_during_the_night(func):\\n    def wrapper():\\n        if 7 <= datetime.now().hour < 24:\\n            func()\\n        else:\\n            pass  # Hush, the neighbors are asleep\\n    return wrapper\\n\\ndef say_whee():\\n    print(\"Whee!\")\\n\\nsay_whee = not_during_the_night(say_whee)',\n",
       " '_i19': 'say_whee()',\n",
       " '_i20': '@decorator\\ndef say_whee():\\n    print(\"Whee!\")',\n",
       " '_i21': 'say_whee()',\n",
       " '_i22': 'def do_twice(func):\\n    def wrapper_do_twice():\\n        func()\\n        func()\\n    return wrapper_do_twice',\n",
       " 'do_twice': <function __main__.do_twice(func)>,\n",
       " '_i23': '@do_twice\\ndef say_whee():\\n\\tprint(\"Whee!\")\\n\\nsay_whee()',\n",
       " '_i24': 'def parent(num):\\n    def first_child():\\n        return \"Hi, I\\'m Elias\"\\n\\n    def second_child():\\n        return \"Call me Ester\"\\n\\n    if num == 1:\\n        return first_child\\n    else:\\n        return second_child',\n",
       " 'parent': <function __main__.parent(num)>,\n",
       " '_i25': 'first = parent(1)\\nsecond = parent(2)',\n",
       " 'first': <function __main__.parent.<locals>.first_child()>,\n",
       " 'second': <function __main__.parent.<locals>.second_child()>,\n",
       " '_i26': 'first()',\n",
       " '_26': \"Hi, I'm Elias\",\n",
       " '_i27': 'first',\n",
       " '_27': <function __main__.parent.<locals>.first_child()>,\n",
       " '_i28': '@do_twice\\ndef greet(name):\\n\\tprint(f\"Hello {name}\")\\n\\ngreet(\"World\")',\n",
       " 'greet': <function __main__.do_twice.<locals>.wrapper_do_twice(*args, **kwargs)>,\n",
       " '_i29': 'def do_twice(func):\\n    def wrapper_do_twice(*args, **kwargs):\\n        func(*args, **kwargs)\\n        func(*args, **kwargs)\\n    return wrapper_do_twice',\n",
       " '_i30': '@do_twice\\ndef greet(name):\\n\\tprint(f\"Hello {name}\")\\n\\ngreet(\"World\")',\n",
       " '_i31': '@do_twice\\ndef return_greeting(name):\\n\\tprint(\"Creating greeting\")\\n\\treturn f\"Hi {name}\"',\n",
       " 'return_greeting': <function __main__.do_twice.<locals>.wrapper_do_twice(*args, **kwargs)>,\n",
       " '_i32': 'hi_adam = return_greeting(\"Adam\")',\n",
       " 'hi_adam': None,\n",
       " '_i33': 'hi_adam = return_greeting(\"Adam\")\\nprint(hi_adam)',\n",
       " '_i34': '@not_during_the_night\\ndef say_whee():\\n    print(\"Whee!\")\\n\\nsay_whee()',\n",
       " '_i35': 'print(return_greeting(\"Adam\"))',\n",
       " '_i36': 'print(return_greeting(\"Adam\"))',\n",
       " '_i37': 'def do_twice(func):\\n    def wrapper_do_twice(*args, **kwargs):\\n        func(*args, **kwargs)\\n    \\treturn func(*args, **kwargs)\\n    return wrapper_do_twice',\n",
       " '_i39': 'def do_twice(func):\\n    def wrapper_do_twice(*args, **kwargs):\\n        func(*args, **kwargs)\\n        return func(*args, **kwargs)\\n    return wrapper_do_twice',\n",
       " '_i40': '@do_twice\\ndef return_greeting(name):\\n\\tprint(\"Creating greeting\")\\n\\treturn f\"Hi {name}\"',\n",
       " '_i41': 'print(return_greeting(\"Adam\"))',\n",
       " '_i42': 'help(say_whee)',\n",
       " '_i43': 'dir(__builtins__)',\n",
       " '_43': ['ArithmeticError',\n",
       "  'AssertionError',\n",
       "  'AttributeError',\n",
       "  'BaseException',\n",
       "  'BaseExceptionGroup',\n",
       "  'BlockingIOError',\n",
       "  'BrokenPipeError',\n",
       "  'BufferError',\n",
       "  'BytesWarning',\n",
       "  'ChildProcessError',\n",
       "  'ConnectionAbortedError',\n",
       "  'ConnectionError',\n",
       "  'ConnectionRefusedError',\n",
       "  'ConnectionResetError',\n",
       "  'DeprecationWarning',\n",
       "  'EOFError',\n",
       "  'Ellipsis',\n",
       "  'EncodingWarning',\n",
       "  'EnvironmentError',\n",
       "  'Exception',\n",
       "  'ExceptionGroup',\n",
       "  'False',\n",
       "  'FileExistsError',\n",
       "  'FileNotFoundError',\n",
       "  'FloatingPointError',\n",
       "  'FutureWarning',\n",
       "  'GeneratorExit',\n",
       "  'IOError',\n",
       "  'ImportError',\n",
       "  'ImportWarning',\n",
       "  'IndentationError',\n",
       "  'IndexError',\n",
       "  'InterruptedError',\n",
       "  'IsADirectoryError',\n",
       "  'KeyError',\n",
       "  'KeyboardInterrupt',\n",
       "  'LookupError',\n",
       "  'MemoryError',\n",
       "  'ModuleNotFoundError',\n",
       "  'NameError',\n",
       "  'None',\n",
       "  'NotADirectoryError',\n",
       "  'NotImplemented',\n",
       "  'NotImplementedError',\n",
       "  'OSError',\n",
       "  'OverflowError',\n",
       "  'PendingDeprecationWarning',\n",
       "  'PermissionError',\n",
       "  'ProcessLookupError',\n",
       "  'RecursionError',\n",
       "  'ReferenceError',\n",
       "  'ResourceWarning',\n",
       "  'RuntimeError',\n",
       "  'RuntimeWarning',\n",
       "  'StopAsyncIteration',\n",
       "  'StopIteration',\n",
       "  'SyntaxError',\n",
       "  'SyntaxWarning',\n",
       "  'SystemError',\n",
       "  'SystemExit',\n",
       "  'TabError',\n",
       "  'TimeoutError',\n",
       "  'True',\n",
       "  'TypeError',\n",
       "  'UnboundLocalError',\n",
       "  'UnicodeDecodeError',\n",
       "  'UnicodeEncodeError',\n",
       "  'UnicodeError',\n",
       "  'UnicodeTranslateError',\n",
       "  'UnicodeWarning',\n",
       "  'UserWarning',\n",
       "  'ValueError',\n",
       "  'Warning',\n",
       "  'WindowsError',\n",
       "  'ZeroDivisionError',\n",
       "  '__IPYTHON__',\n",
       "  '__build_class__',\n",
       "  '__debug__',\n",
       "  '__doc__',\n",
       "  '__import__',\n",
       "  '__loader__',\n",
       "  '__name__',\n",
       "  '__package__',\n",
       "  '__spec__',\n",
       "  'abs',\n",
       "  'aiter',\n",
       "  'all',\n",
       "  'anext',\n",
       "  'any',\n",
       "  'ascii',\n",
       "  'bin',\n",
       "  'bool',\n",
       "  'breakpoint',\n",
       "  'bytearray',\n",
       "  'bytes',\n",
       "  'callable',\n",
       "  'chr',\n",
       "  'classmethod',\n",
       "  'compile',\n",
       "  'complex',\n",
       "  'copyright',\n",
       "  'credits',\n",
       "  'delattr',\n",
       "  'dict',\n",
       "  'dir',\n",
       "  'display',\n",
       "  'divmod',\n",
       "  'enumerate',\n",
       "  'eval',\n",
       "  'exec',\n",
       "  'execfile',\n",
       "  'filter',\n",
       "  'float',\n",
       "  'format',\n",
       "  'frozenset',\n",
       "  'get_ipython',\n",
       "  'getattr',\n",
       "  'globals',\n",
       "  'hasattr',\n",
       "  'hash',\n",
       "  'help',\n",
       "  'hex',\n",
       "  'id',\n",
       "  'input',\n",
       "  'int',\n",
       "  'isinstance',\n",
       "  'issubclass',\n",
       "  'iter',\n",
       "  'len',\n",
       "  'license',\n",
       "  'list',\n",
       "  'locals',\n",
       "  'map',\n",
       "  'max',\n",
       "  'memoryview',\n",
       "  'min',\n",
       "  'next',\n",
       "  'object',\n",
       "  'oct',\n",
       "  'open',\n",
       "  'ord',\n",
       "  'pow',\n",
       "  'print',\n",
       "  'property',\n",
       "  'range',\n",
       "  'repr',\n",
       "  'reversed',\n",
       "  'round',\n",
       "  'runfile',\n",
       "  'set',\n",
       "  'setattr',\n",
       "  'slice',\n",
       "  'sorted',\n",
       "  'staticmethod',\n",
       "  'str',\n",
       "  'sum',\n",
       "  'super',\n",
       "  'tuple',\n",
       "  'type',\n",
       "  'vars',\n",
       "  'zip'],\n",
       " '_i44': \"def f():\\n\\tprint('Start f()')\\n\\tdef g():\\n    \\tprint('Start g()')\\n    \\tprint('End g()')\\n\\t\\treturn \\n\\n\\tg()\\n\\n\\tprint('End f()')\\n\\treturn\\n\\n\\nf()\\nStart f()\\nStart g()\\nEnd g()\\nEnd f()\",\n",
       " '_i46': \"def f():\\n\\tprint('Start f()')\\n\\tdef g():\\n        print('Start g()')\\n    \\tprint('End g()')\\n\\t\\treturn \\n\\n\\tg()\\n\\n\\tprint('End f()')\\n\\treturn\\n\\n\\nf()\\nStart f()\\nStart g()\\nEnd g()\\nEnd f()\",\n",
       " '_i48': \"def f():\\n\\tprint('Start f()')\\n\\tdef g():\\n\\t\\tprint('Start g()')\\n    \\tprint('End g()')\\n\\t\\treturn \\n\\n\\tg()\\n\\n\\tprint('End f()')\\n\\treturn\\n\\n\\nf()\\nStart f()\\nStart g()\\nEnd g()\\nEnd f()\",\n",
       " '_i50': \"def f():\\n\\tprint('Start f()')\\n\\tdef g():\\n\\t\\tprint('Start g()')\\n    \\tprint('End g()')\\n\\t\\treturn \\n\\n\\tg()\\n\\n\\tprint('End f()')\\n\\treturn\\n\\n\\nf()\\nStart f()\\nStart g()\\nEnd g()\\nEnd f()\",\n",
       " '_i52': \"def f():\\n\\tprint('Start f()')\\n\\tdef g():\\n\\t\\tprint('Start g()')\\n\\t\\tprint('End g()')\\n\\t\\treturn \\n\\n\\tg()\\n\\n\\tprint('End f()')\\n\\treturn\\n\\n\\nf()\\nStart f()\\nStart g()\\nEnd g()\\nEnd f()\",\n",
       " '_i53': \"def f():\\n\\tprint('Start f()')\\n\\tdef g():\\n\\t\\tprint('Start g()')\\n\\t\\tprint('End g()')\\n\\t\\treturn \\n\\n\\tg()\\n\\n\\tprint('End f()')\\n\\treturn\\n\\n\\nf()\\nStartf()\\nStartg()\\nEnd g()\\nEnd f()\",\n",
       " '_i54': \"def f():\\n\\tprint('Start f()')\\n\\tdef g():\\n\\t\\tprint('Start g()')\\n\\t\\tprint('End g()')\\n\\t\\treturn \\n\\n\\tg()\\n\\n\\tprint('End f()')\\n\\treturn\\n\\n\\nf()\\nStartf()\\nStartg()\\nEndg()\\nEndf()\",\n",
       " 'f': <function __main__.f()>,\n",
       " '_i55': \"def f():\\n\\tprint('Start f()')\\n\\tdef g():\\n\\t\\tprint('Start g()')\\n\\t\\tprint('End g()')\\n\\t\\treturn \\n\\n\\tg()\\n\\n\\tprint('End f()')\\n\\treturn\\n\\n\\nf()\\nStart f()\\nStartg()\\nEndg()\\nEndf()\",\n",
       " '_i56': \"def f():\\n\\tprint('Start f()')\\n\\tdef g():\\n\\t\\tprint('Start g()')\\n\\t\\tprint('End g()')\\n\\t\\treturn \\n\\n\\tg()\\n\\n\\tprint('End f()')\\n\\treturn\\n\\n\\nf()\",\n",
       " '_i57': \"x = 'Global'\\n\\ndef f():\\n\\tdef g():\\n\\t\\tprint(x)\\nreturn g()\\n\\nf()\",\n",
       " 'x': 'Global',\n",
       " '_i58': \"x = 'Global'\\n\\ndef f():\\n\\tdef g():\\n\\t\\tprint(x)\\n\\treturn g()\\n\\nf()\",\n",
       " '_i59': \"x = 'Global'\\n\\ndef f():\\n\\tx = 'Enclosing'\\n\\tdef g():\\n\\t\\tprint(x)\\n\\treturn g()\\n\\nf()\",\n",
       " '_i60': \"x = 'Global'\\n\\ndef f():\\n\\tx = 'Enclosing'\\n\\tdef g():\\n\\t\\tx = 'Local'\\n\\t\\tprint(x)\\n\\treturn g()\\n\\nf()\",\n",
       " '_i61': 'def f():\\n\\tdef g():\\n\\t\\tprint(x)\\n\\treturn g()\\n\\nf()',\n",
       " '_i62': \"# x = 'Global'\\n\\ndef f():\\n\\tdef g():\\n\\t\\tprint(x)\\n\\treturn g()\\n\\nf()\",\n",
       " '_i63': 'def f():\\n\\tdef g():\\n\\t\\tprint(x)\\n\\treturn g()\\n\\nf()',\n",
       " '_i64': \"x = 'Global'\\n\\ndef f():\\n\\tdef g():\\n\\t\\tprint(x)\\n\\treturn g()\\n\\nf()\",\n",
       " '_i65': \"# def f():\\n# \\tdef g():\\n# \\t\\tprint(x)\\n# \\treturn g()\\n\\n# f() \\n# NameError: name 'x' is not defined\",\n",
       " '_i66': 'type(globals())',\n",
       " '_66': dict,\n",
       " '_i67': 'globals()'}"
      ]
     },
     "execution_count": 67,
     "metadata": {},
     "output_type": "execute_result"
    }
   ],
   "source": [
    "globals()"
   ]
  },
  {
   "cell_type": "markdown",
   "metadata": {},
   "source": [
    "our Python version and operating system, it may look a little different in your environment. But it should be similar.\n",
    "\n",
    "Now watch what happens when you define a variable in the global scope:"
   ]
  },
  {
   "cell_type": "code",
   "execution_count": 71,
   "metadata": {},
   "outputs": [],
   "source": [
    "gg = 'foo'"
   ]
  },
  {
   "cell_type": "markdown",
   "metadata": {},
   "source": [
    "After the assignment statement x = 'foo', a new item appears in the global namespace dictionary. The dictionary key is the object’s name, x, and the dictionary value is the object’s value, 'foo'.\n",
    "\n",
    "You would typically access this object in the usual way, by referring to its symbolic name, x. But you can also access it indirectly through the global namespace dictionary:"
   ]
  },
  {
   "cell_type": "code",
   "execution_count": 72,
   "metadata": {},
   "outputs": [
    {
     "data": {
      "text/plain": [
       "'foo'"
      ]
     },
     "execution_count": 72,
     "metadata": {},
     "output_type": "execute_result"
    }
   ],
   "source": [
    "globals()['gg']"
   ]
  },
  {
   "cell_type": "code",
   "execution_count": 77,
   "metadata": {},
   "outputs": [
    {
     "data": {
      "text/plain": [
       "True"
      ]
     },
     "execution_count": 77,
     "metadata": {},
     "output_type": "execute_result"
    }
   ],
   "source": [
    "gg is globals()['x']"
   ]
  },
  {
   "cell_type": "markdown",
   "metadata": {},
   "source": [
    "**The locals() function**\n",
    "\n",
    "Python also provides a corresponding built-in function called locals(). It’s similar to globals() but accesses objects in the local namespace instead:"
   ]
  },
  {
   "cell_type": "code",
   "execution_count": 78,
   "metadata": {},
   "outputs": [
    {
     "name": "stdout",
     "output_type": "stream",
     "text": [
      "{'x': 10, 'y': 5, 's': 'foo'}\n"
     ]
    }
   ],
   "source": [
    "def f(x, y):\n",
    "\ts = \"foo\"\n",
    "\tprint(locals())\n",
    "\n",
    "f(10, 5)"
   ]
  },
  {
   "cell_type": "markdown",
   "metadata": {},
   "source": [
    "When called within f(), locals() returns a dictionary representing the function’s local namespace. Notice that, in addition to the locally defined variable s, the local namespace includes the function parameters x and y since these are local to f() as well.\n",
    "\n",
    "If you call locals() outside a function in the main program, then it behaves the same as globals()."
   ]
  },
  {
   "cell_type": "markdown",
   "metadata": {},
   "source": [
    "**Deep Dive: A Subtle Difference Between globals() and locals()**\n",
    "\n",
    "There’s one small difference between globals() and locals() that’s useful to know about.\n",
    "\n",
    "globals() returns an actual reference to the dictionary that contains the global namespace. That means if you call globals(), save the return value, and subsequently define additional variables, then those new variables will show up in the dictionary that the saved return value points to:"
   ]
  },
  {
   "cell_type": "code",
   "execution_count": 82,
   "metadata": {},
   "outputs": [
    {
     "data": {
      "text/plain": [
       "{'__name__': '__main__',\n",
       " '__doc__': 'Automatically created module for IPython interactive environment',\n",
       " '__package__': None,\n",
       " '__loader__': None,\n",
       " '__spec__': None,\n",
       " '__builtin__': <module 'builtins' (built-in)>,\n",
       " '__builtins__': <module 'builtins' (built-in)>,\n",
       " '_ih': ['',\n",
       "  'import Cars as c\\n\\nnew_car = c.Car(\"Mercedes\", \"C200\", 2023)\\nprint(new_car.get_descriptive_name())\\nprint(new_car.read_odometer())\\nprint(new_car.fill_gas_tank())',\n",
       "  'import Cars as c\\n\\nnew_car = c.Car(\"Mercedes\", \"C200\", 2023)\\nPrint(new_car.get_descriptive_name())\\n(new_car.read_odometer())\\n(new_car.fill_gas_tank())',\n",
       "  'import Cars as c\\n\\nnew_car = c.Car(\"Mercedes\", \"C200\", 2023)\\nprint(new_car.get_descriptive_name())\\n(new_car.read_odometer())\\n(new_car.fill_gas_tank())',\n",
       "  'from Cars import ElectricCar\\n\\nnew_electric_car = ElectricCar(\"Tesla\", \"Model S\", 2023)\\nprint(new_electric_car.get_descriptive_name())\\nnew_electric_car.battery.describe_battery()\\nnew_electric_car.battery.fill_gas_tank()',\n",
       "  \"# Generators\\n\\ndef my_generator():\\n\\tyield 'A'\\n\\tyield 'B'\\n\\tyield 'C'\\n\\nfor char in my_generator():\\n\\tprint(char)\\n\\n\\t\",\n",
       "  \"# Generators\\n\\ndef my_generator():\\n\\tyield 'A'\\n\\tyield 'B'\\n\\tyield 'C'\\n\\nfor char in my_generator():\\n\\tprint(char)\\n\\n\\ndef my_generator():\\n\\tyield 'A'\\n\\tyield 'B'\\n\\tyield 'C'\\n\\ngen = my_generator()\\n\\nprint(next(gen)) # A\\nprint(next(gen)) # B\\nprint(next(gen)) # C\\n# print(next(gen)) # StopIteration\",\n",
       "  \"# Generators\\n\\ndef my_generator():\\n\\tyield 'A'\\n\\tyield 'B'\\n\\tyield 'C'\\n\\nfor char in my_generator():\\n\\tprint(char)\\n\\n\\ndef my_generator():\\n\\tyield 'A'\\n\\tyield 'B'\\n\\tyield 'C'\\n\\ngen = my_generator()\\n\\nprint(next(gen)) # A\\nprint(next(gen)) # B\\nprint(next(gen)) # C\\nprint(next(gen)) # StopIteration\",\n",
       "  \"# Generators\\n\\ndef my_generator():\\n\\tyield 'A'\\n\\tyield 'B'\\n\\tyield 'C'\\n\\nfor char in my_generator():\\n\\tprint(char)\\n\\n\\ndef my_generator():\\n\\tyield 'A'\\n\\tyield 'B'\\n\\tyield 'C'\\n\\ngen = my_generator()\\n\\nprint(next(gen)) # A\\nprint(next(gen)) # B\\nprint(next(gen)) # C\\n# print(next(gen)) # Error: StopIteration\",\n",
       "  \"# Fibonacci Series\\n# _ is a throwaway variable name that’s commonly used when you don’t need the variable’s value.\\ndef fibonacci(n):\\n\\ta, b = 0, 1\\n\\tfor _ in range(n):\\n\\t\\tyield a\\n\\t\\ta, b = b, a + b\\n\\nfor number in fibonacci(10):\\n\\tprint(number, end=' ')\",\n",
       "  'def decorator(func):\\n    def wrapper():\\n        print(\"Something is happening before the function is called.\")\\n        func()\\n        print(\"Something is happening after the function is called.\")\\n    return wrapper\\n\\ndef say_whee():\\n    print(\"Whee!\")',\n",
       "  'say_whee = decorator(say_whee)',\n",
       "  'say_whee = decorator(say_whee)',\n",
       "  'def decorator(func):\\n    def wrapper():\\n        print(\"Something is happening before the function is called.\")\\n        func()\\n        print(\"Something is happening after the function is called.\")\\n    return wrapper\\n\\ndef say_whee():\\n    print(\"Whee!\")\\n\\nsay_whee = decorator(say_whee)',\n",
       "  'say_whee()',\n",
       "  'from datetime import datetime\\n\\ndef not_during_the_night(func):\\n    def wrapper():\\n        if 7 <= datetime.now().hour < 22:\\n            func()\\n        else:\\n            pass  # Hush, the neighbors are asleep\\n    return wrapper\\n\\ndef say_whee():\\n    print(\"Whee!\")\\n\\nsay_whee = not_during_the_night(say_whee)',\n",
       "  'say_whee()',\n",
       "  'say_whee()',\n",
       "  'from datetime import datetime\\n\\ndef not_during_the_night(func):\\n    def wrapper():\\n        if 7 <= datetime.now().hour < 24:\\n            func()\\n        else:\\n            pass  # Hush, the neighbors are asleep\\n    return wrapper\\n\\ndef say_whee():\\n    print(\"Whee!\")\\n\\nsay_whee = not_during_the_night(say_whee)',\n",
       "  'say_whee()',\n",
       "  '@decorator\\ndef say_whee():\\n    print(\"Whee!\")',\n",
       "  'say_whee()',\n",
       "  'def do_twice(func):\\n    def wrapper_do_twice():\\n        func()\\n        func()\\n    return wrapper_do_twice',\n",
       "  '@do_twice\\ndef say_whee():\\n\\tprint(\"Whee!\")\\n\\nsay_whee()',\n",
       "  'def parent(num):\\n    def first_child():\\n        return \"Hi, I\\'m Elias\"\\n\\n    def second_child():\\n        return \"Call me Ester\"\\n\\n    if num == 1:\\n        return first_child\\n    else:\\n        return second_child',\n",
       "  'first = parent(1)\\nsecond = parent(2)',\n",
       "  'first()',\n",
       "  'first',\n",
       "  '@do_twice\\ndef greet(name):\\n\\tprint(f\"Hello {name}\")\\n\\ngreet(\"World\")',\n",
       "  'def do_twice(func):\\n    def wrapper_do_twice(*args, **kwargs):\\n        func(*args, **kwargs)\\n        func(*args, **kwargs)\\n    return wrapper_do_twice',\n",
       "  '@do_twice\\ndef greet(name):\\n\\tprint(f\"Hello {name}\")\\n\\ngreet(\"World\")',\n",
       "  '@do_twice\\ndef return_greeting(name):\\n\\tprint(\"Creating greeting\")\\n\\treturn f\"Hi {name}\"',\n",
       "  'hi_adam = return_greeting(\"Adam\")',\n",
       "  'hi_adam = return_greeting(\"Adam\")\\nprint(hi_adam)',\n",
       "  '@not_during_the_night\\ndef say_whee():\\n    print(\"Whee!\")\\n\\nsay_whee()',\n",
       "  'print(return_greeting(\"Adam\"))',\n",
       "  'print(return_greeting(\"Adam\"))',\n",
       "  'def do_twice(func):\\n    def wrapper_do_twice(*args, **kwargs):\\n        func(*args, **kwargs)\\n    \\treturn func(*args, **kwargs)\\n    return wrapper_do_twice',\n",
       "  'def do_twice(func):\\n    def wrapper_do_twice(*args, **kwargs):\\n        func(*args, **kwargs)\\n        return func(*args, **kwargs)\\n    return wrapper_do_twice',\n",
       "  '@do_twice\\ndef return_greeting(name):\\n\\tprint(\"Creating greeting\")\\n\\treturn f\"Hi {name}\"',\n",
       "  'print(return_greeting(\"Adam\"))',\n",
       "  'help(say_whee)',\n",
       "  'dir(__builtins__)',\n",
       "  \"def f():\\n\\tprint('Start f()')\\n\\tdef g():\\n    \\tprint('Start g()')\\n    \\tprint('End g()')\\n\\t\\treturn \\n\\n\\tg()\\n\\n\\tprint('End f()')\\n\\treturn\\n\\n\\nf()\\nStart f()\\nStart g()\\nEnd g()\\nEnd f()\",\n",
       "  \"def f():\\n\\tprint('Start f()')\\n\\tdef g():\\n        print('Start g()')\\n    \\tprint('End g()')\\n\\t\\treturn \\n\\n\\tg()\\n\\n\\tprint('End f()')\\n\\treturn\\n\\n\\nf()\\nStart f()\\nStart g()\\nEnd g()\\nEnd f()\",\n",
       "  \"def f():\\n\\tprint('Start f()')\\n\\tdef g():\\n\\t\\tprint('Start g()')\\n    \\tprint('End g()')\\n\\t\\treturn \\n\\n\\tg()\\n\\n\\tprint('End f()')\\n\\treturn\\n\\n\\nf()\\nStart f()\\nStart g()\\nEnd g()\\nEnd f()\",\n",
       "  \"def f():\\n\\tprint('Start f()')\\n\\tdef g():\\n\\t\\tprint('Start g()')\\n    \\tprint('End g()')\\n\\t\\treturn \\n\\n\\tg()\\n\\n\\tprint('End f()')\\n\\treturn\\n\\n\\nf()\\nStart f()\\nStart g()\\nEnd g()\\nEnd f()\",\n",
       "  \"def f():\\n\\tprint('Start f()')\\n\\tdef g():\\n\\t\\tprint('Start g()')\\n\\t\\tprint('End g()')\\n\\t\\treturn \\n\\n\\tg()\\n\\n\\tprint('End f()')\\n\\treturn\\n\\n\\nf()\\nStart f()\\nStart g()\\nEnd g()\\nEnd f()\",\n",
       "  \"def f():\\n\\tprint('Start f()')\\n\\tdef g():\\n\\t\\tprint('Start g()')\\n\\t\\tprint('End g()')\\n\\t\\treturn \\n\\n\\tg()\\n\\n\\tprint('End f()')\\n\\treturn\\n\\n\\nf()\\nStartf()\\nStartg()\\nEnd g()\\nEnd f()\",\n",
       "  \"def f():\\n\\tprint('Start f()')\\n\\tdef g():\\n\\t\\tprint('Start g()')\\n\\t\\tprint('End g()')\\n\\t\\treturn \\n\\n\\tg()\\n\\n\\tprint('End f()')\\n\\treturn\\n\\n\\nf()\\nStartf()\\nStartg()\\nEndg()\\nEndf()\",\n",
       "  \"def f():\\n\\tprint('Start f()')\\n\\tdef g():\\n\\t\\tprint('Start g()')\\n\\t\\tprint('End g()')\\n\\t\\treturn \\n\\n\\tg()\\n\\n\\tprint('End f()')\\n\\treturn\\n\\n\\nf()\\nStart f()\\nStartg()\\nEndg()\\nEndf()\",\n",
       "  \"def f():\\n\\tprint('Start f()')\\n\\tdef g():\\n\\t\\tprint('Start g()')\\n\\t\\tprint('End g()')\\n\\t\\treturn \\n\\n\\tg()\\n\\n\\tprint('End f()')\\n\\treturn\\n\\n\\nf()\",\n",
       "  \"x = 'Global'\\n\\ndef f():\\n\\tdef g():\\n\\t\\tprint(x)\\nreturn g()\\n\\nf()\",\n",
       "  \"x = 'Global'\\n\\ndef f():\\n\\tdef g():\\n\\t\\tprint(x)\\n\\treturn g()\\n\\nf()\",\n",
       "  \"x = 'Global'\\n\\ndef f():\\n\\tx = 'Enclosing'\\n\\tdef g():\\n\\t\\tprint(x)\\n\\treturn g()\\n\\nf()\",\n",
       "  \"x = 'Global'\\n\\ndef f():\\n\\tx = 'Enclosing'\\n\\tdef g():\\n\\t\\tx = 'Local'\\n\\t\\tprint(x)\\n\\treturn g()\\n\\nf()\",\n",
       "  'def f():\\n\\tdef g():\\n\\t\\tprint(x)\\n\\treturn g()\\n\\nf()',\n",
       "  \"# x = 'Global'\\n\\ndef f():\\n\\tdef g():\\n\\t\\tprint(x)\\n\\treturn g()\\n\\nf()\",\n",
       "  'def f():\\n\\tdef g():\\n\\t\\tprint(x)\\n\\treturn g()\\n\\nf()',\n",
       "  \"x = 'Global'\\n\\ndef f():\\n\\tdef g():\\n\\t\\tprint(x)\\n\\treturn g()\\n\\nf()\",\n",
       "  \"# def f():\\n# \\tdef g():\\n# \\t\\tprint(x)\\n# \\treturn g()\\n\\n# f() \\n# NameError: name 'x' is not defined\",\n",
       "  'type(globals())',\n",
       "  'globals()',\n",
       "  \"x = 'foo'\",\n",
       "  \"globals()['x']\",\n",
       "  'x is globals()',\n",
       "  \"gg = 'foo'\",\n",
       "  \"globals()['gg']\",\n",
       "  'gg is globals()',\n",
       "  \"str is globals()['str']\",\n",
       "  'str is globals()',\n",
       "  'len is globals()',\n",
       "  \"gg is globals()['x']\",\n",
       "  'def f(x, y):\\n\\ts = \"foo\"\\n\\tprint(locals())\\n\\nf(10, 5)',\n",
       "  \"g = globals()\\nx = 10, y = 5\\ng['x']\",\n",
       "  \"g = globals()\\nx = 10\\ny = 5\\ng['x']\",\n",
       "  \"g = globals()\\nx = 10\\ny = 5\\nprint(g['x'])\",\n",
       "  'g = globals()\\nx = 10\\ny = 5\\ng'],\n",
       " '_oh': {26: \"Hi, I'm Elias\",\n",
       "  27: <function __main__.parent.<locals>.first_child()>,\n",
       "  43: ['ArithmeticError',\n",
       "   'AssertionError',\n",
       "   'AttributeError',\n",
       "   'BaseException',\n",
       "   'BaseExceptionGroup',\n",
       "   'BlockingIOError',\n",
       "   'BrokenPipeError',\n",
       "   'BufferError',\n",
       "   'BytesWarning',\n",
       "   'ChildProcessError',\n",
       "   'ConnectionAbortedError',\n",
       "   'ConnectionError',\n",
       "   'ConnectionRefusedError',\n",
       "   'ConnectionResetError',\n",
       "   'DeprecationWarning',\n",
       "   'EOFError',\n",
       "   'Ellipsis',\n",
       "   'EncodingWarning',\n",
       "   'EnvironmentError',\n",
       "   'Exception',\n",
       "   'ExceptionGroup',\n",
       "   'False',\n",
       "   'FileExistsError',\n",
       "   'FileNotFoundError',\n",
       "   'FloatingPointError',\n",
       "   'FutureWarning',\n",
       "   'GeneratorExit',\n",
       "   'IOError',\n",
       "   'ImportError',\n",
       "   'ImportWarning',\n",
       "   'IndentationError',\n",
       "   'IndexError',\n",
       "   'InterruptedError',\n",
       "   'IsADirectoryError',\n",
       "   'KeyError',\n",
       "   'KeyboardInterrupt',\n",
       "   'LookupError',\n",
       "   'MemoryError',\n",
       "   'ModuleNotFoundError',\n",
       "   'NameError',\n",
       "   'None',\n",
       "   'NotADirectoryError',\n",
       "   'NotImplemented',\n",
       "   'NotImplementedError',\n",
       "   'OSError',\n",
       "   'OverflowError',\n",
       "   'PendingDeprecationWarning',\n",
       "   'PermissionError',\n",
       "   'ProcessLookupError',\n",
       "   'RecursionError',\n",
       "   'ReferenceError',\n",
       "   'ResourceWarning',\n",
       "   'RuntimeError',\n",
       "   'RuntimeWarning',\n",
       "   'StopAsyncIteration',\n",
       "   'StopIteration',\n",
       "   'SyntaxError',\n",
       "   'SyntaxWarning',\n",
       "   'SystemError',\n",
       "   'SystemExit',\n",
       "   'TabError',\n",
       "   'TimeoutError',\n",
       "   'True',\n",
       "   'TypeError',\n",
       "   'UnboundLocalError',\n",
       "   'UnicodeDecodeError',\n",
       "   'UnicodeEncodeError',\n",
       "   'UnicodeError',\n",
       "   'UnicodeTranslateError',\n",
       "   'UnicodeWarning',\n",
       "   'UserWarning',\n",
       "   'ValueError',\n",
       "   'Warning',\n",
       "   'WindowsError',\n",
       "   'ZeroDivisionError',\n",
       "   '__IPYTHON__',\n",
       "   '__build_class__',\n",
       "   '__debug__',\n",
       "   '__doc__',\n",
       "   '__import__',\n",
       "   '__loader__',\n",
       "   '__name__',\n",
       "   '__package__',\n",
       "   '__spec__',\n",
       "   'abs',\n",
       "   'aiter',\n",
       "   'all',\n",
       "   'anext',\n",
       "   'any',\n",
       "   'ascii',\n",
       "   'bin',\n",
       "   'bool',\n",
       "   'breakpoint',\n",
       "   'bytearray',\n",
       "   'bytes',\n",
       "   'callable',\n",
       "   'chr',\n",
       "   'classmethod',\n",
       "   'compile',\n",
       "   'complex',\n",
       "   'copyright',\n",
       "   'credits',\n",
       "   'delattr',\n",
       "   'dict',\n",
       "   'dir',\n",
       "   'display',\n",
       "   'divmod',\n",
       "   'enumerate',\n",
       "   'eval',\n",
       "   'exec',\n",
       "   'execfile',\n",
       "   'filter',\n",
       "   'float',\n",
       "   'format',\n",
       "   'frozenset',\n",
       "   'get_ipython',\n",
       "   'getattr',\n",
       "   'globals',\n",
       "   'hasattr',\n",
       "   'hash',\n",
       "   'help',\n",
       "   'hex',\n",
       "   'id',\n",
       "   'input',\n",
       "   'int',\n",
       "   'isinstance',\n",
       "   'issubclass',\n",
       "   'iter',\n",
       "   'len',\n",
       "   'license',\n",
       "   'list',\n",
       "   'locals',\n",
       "   'map',\n",
       "   'max',\n",
       "   'memoryview',\n",
       "   'min',\n",
       "   'next',\n",
       "   'object',\n",
       "   'oct',\n",
       "   'open',\n",
       "   'ord',\n",
       "   'pow',\n",
       "   'print',\n",
       "   'property',\n",
       "   'range',\n",
       "   'repr',\n",
       "   'reversed',\n",
       "   'round',\n",
       "   'runfile',\n",
       "   'set',\n",
       "   'setattr',\n",
       "   'slice',\n",
       "   'sorted',\n",
       "   'staticmethod',\n",
       "   'str',\n",
       "   'sum',\n",
       "   'super',\n",
       "   'tuple',\n",
       "   'type',\n",
       "   'vars',\n",
       "   'zip'],\n",
       "  66: dict,\n",
       "  67: {...},\n",
       "  69: 'foo',\n",
       "  70: False,\n",
       "  72: 'foo',\n",
       "  73: False,\n",
       "  75: False,\n",
       "  76: False,\n",
       "  77: True,\n",
       "  80: 10},\n",
       " '_dh': [WindowsPath('d:/Machine Learning Self-Learning/Python-For-Data-Science/pythonbasics')],\n",
       " 'In': ['',\n",
       "  'import Cars as c\\n\\nnew_car = c.Car(\"Mercedes\", \"C200\", 2023)\\nprint(new_car.get_descriptive_name())\\nprint(new_car.read_odometer())\\nprint(new_car.fill_gas_tank())',\n",
       "  'import Cars as c\\n\\nnew_car = c.Car(\"Mercedes\", \"C200\", 2023)\\nPrint(new_car.get_descriptive_name())\\n(new_car.read_odometer())\\n(new_car.fill_gas_tank())',\n",
       "  'import Cars as c\\n\\nnew_car = c.Car(\"Mercedes\", \"C200\", 2023)\\nprint(new_car.get_descriptive_name())\\n(new_car.read_odometer())\\n(new_car.fill_gas_tank())',\n",
       "  'from Cars import ElectricCar\\n\\nnew_electric_car = ElectricCar(\"Tesla\", \"Model S\", 2023)\\nprint(new_electric_car.get_descriptive_name())\\nnew_electric_car.battery.describe_battery()\\nnew_electric_car.battery.fill_gas_tank()',\n",
       "  \"# Generators\\n\\ndef my_generator():\\n\\tyield 'A'\\n\\tyield 'B'\\n\\tyield 'C'\\n\\nfor char in my_generator():\\n\\tprint(char)\\n\\n\\t\",\n",
       "  \"# Generators\\n\\ndef my_generator():\\n\\tyield 'A'\\n\\tyield 'B'\\n\\tyield 'C'\\n\\nfor char in my_generator():\\n\\tprint(char)\\n\\n\\ndef my_generator():\\n\\tyield 'A'\\n\\tyield 'B'\\n\\tyield 'C'\\n\\ngen = my_generator()\\n\\nprint(next(gen)) # A\\nprint(next(gen)) # B\\nprint(next(gen)) # C\\n# print(next(gen)) # StopIteration\",\n",
       "  \"# Generators\\n\\ndef my_generator():\\n\\tyield 'A'\\n\\tyield 'B'\\n\\tyield 'C'\\n\\nfor char in my_generator():\\n\\tprint(char)\\n\\n\\ndef my_generator():\\n\\tyield 'A'\\n\\tyield 'B'\\n\\tyield 'C'\\n\\ngen = my_generator()\\n\\nprint(next(gen)) # A\\nprint(next(gen)) # B\\nprint(next(gen)) # C\\nprint(next(gen)) # StopIteration\",\n",
       "  \"# Generators\\n\\ndef my_generator():\\n\\tyield 'A'\\n\\tyield 'B'\\n\\tyield 'C'\\n\\nfor char in my_generator():\\n\\tprint(char)\\n\\n\\ndef my_generator():\\n\\tyield 'A'\\n\\tyield 'B'\\n\\tyield 'C'\\n\\ngen = my_generator()\\n\\nprint(next(gen)) # A\\nprint(next(gen)) # B\\nprint(next(gen)) # C\\n# print(next(gen)) # Error: StopIteration\",\n",
       "  \"# Fibonacci Series\\n# _ is a throwaway variable name that’s commonly used when you don’t need the variable’s value.\\ndef fibonacci(n):\\n\\ta, b = 0, 1\\n\\tfor _ in range(n):\\n\\t\\tyield a\\n\\t\\ta, b = b, a + b\\n\\nfor number in fibonacci(10):\\n\\tprint(number, end=' ')\",\n",
       "  'def decorator(func):\\n    def wrapper():\\n        print(\"Something is happening before the function is called.\")\\n        func()\\n        print(\"Something is happening after the function is called.\")\\n    return wrapper\\n\\ndef say_whee():\\n    print(\"Whee!\")',\n",
       "  'say_whee = decorator(say_whee)',\n",
       "  'say_whee = decorator(say_whee)',\n",
       "  'def decorator(func):\\n    def wrapper():\\n        print(\"Something is happening before the function is called.\")\\n        func()\\n        print(\"Something is happening after the function is called.\")\\n    return wrapper\\n\\ndef say_whee():\\n    print(\"Whee!\")\\n\\nsay_whee = decorator(say_whee)',\n",
       "  'say_whee()',\n",
       "  'from datetime import datetime\\n\\ndef not_during_the_night(func):\\n    def wrapper():\\n        if 7 <= datetime.now().hour < 22:\\n            func()\\n        else:\\n            pass  # Hush, the neighbors are asleep\\n    return wrapper\\n\\ndef say_whee():\\n    print(\"Whee!\")\\n\\nsay_whee = not_during_the_night(say_whee)',\n",
       "  'say_whee()',\n",
       "  'say_whee()',\n",
       "  'from datetime import datetime\\n\\ndef not_during_the_night(func):\\n    def wrapper():\\n        if 7 <= datetime.now().hour < 24:\\n            func()\\n        else:\\n            pass  # Hush, the neighbors are asleep\\n    return wrapper\\n\\ndef say_whee():\\n    print(\"Whee!\")\\n\\nsay_whee = not_during_the_night(say_whee)',\n",
       "  'say_whee()',\n",
       "  '@decorator\\ndef say_whee():\\n    print(\"Whee!\")',\n",
       "  'say_whee()',\n",
       "  'def do_twice(func):\\n    def wrapper_do_twice():\\n        func()\\n        func()\\n    return wrapper_do_twice',\n",
       "  '@do_twice\\ndef say_whee():\\n\\tprint(\"Whee!\")\\n\\nsay_whee()',\n",
       "  'def parent(num):\\n    def first_child():\\n        return \"Hi, I\\'m Elias\"\\n\\n    def second_child():\\n        return \"Call me Ester\"\\n\\n    if num == 1:\\n        return first_child\\n    else:\\n        return second_child',\n",
       "  'first = parent(1)\\nsecond = parent(2)',\n",
       "  'first()',\n",
       "  'first',\n",
       "  '@do_twice\\ndef greet(name):\\n\\tprint(f\"Hello {name}\")\\n\\ngreet(\"World\")',\n",
       "  'def do_twice(func):\\n    def wrapper_do_twice(*args, **kwargs):\\n        func(*args, **kwargs)\\n        func(*args, **kwargs)\\n    return wrapper_do_twice',\n",
       "  '@do_twice\\ndef greet(name):\\n\\tprint(f\"Hello {name}\")\\n\\ngreet(\"World\")',\n",
       "  '@do_twice\\ndef return_greeting(name):\\n\\tprint(\"Creating greeting\")\\n\\treturn f\"Hi {name}\"',\n",
       "  'hi_adam = return_greeting(\"Adam\")',\n",
       "  'hi_adam = return_greeting(\"Adam\")\\nprint(hi_adam)',\n",
       "  '@not_during_the_night\\ndef say_whee():\\n    print(\"Whee!\")\\n\\nsay_whee()',\n",
       "  'print(return_greeting(\"Adam\"))',\n",
       "  'print(return_greeting(\"Adam\"))',\n",
       "  'def do_twice(func):\\n    def wrapper_do_twice(*args, **kwargs):\\n        func(*args, **kwargs)\\n    \\treturn func(*args, **kwargs)\\n    return wrapper_do_twice',\n",
       "  'def do_twice(func):\\n    def wrapper_do_twice(*args, **kwargs):\\n        func(*args, **kwargs)\\n        return func(*args, **kwargs)\\n    return wrapper_do_twice',\n",
       "  '@do_twice\\ndef return_greeting(name):\\n\\tprint(\"Creating greeting\")\\n\\treturn f\"Hi {name}\"',\n",
       "  'print(return_greeting(\"Adam\"))',\n",
       "  'help(say_whee)',\n",
       "  'dir(__builtins__)',\n",
       "  \"def f():\\n\\tprint('Start f()')\\n\\tdef g():\\n    \\tprint('Start g()')\\n    \\tprint('End g()')\\n\\t\\treturn \\n\\n\\tg()\\n\\n\\tprint('End f()')\\n\\treturn\\n\\n\\nf()\\nStart f()\\nStart g()\\nEnd g()\\nEnd f()\",\n",
       "  \"def f():\\n\\tprint('Start f()')\\n\\tdef g():\\n        print('Start g()')\\n    \\tprint('End g()')\\n\\t\\treturn \\n\\n\\tg()\\n\\n\\tprint('End f()')\\n\\treturn\\n\\n\\nf()\\nStart f()\\nStart g()\\nEnd g()\\nEnd f()\",\n",
       "  \"def f():\\n\\tprint('Start f()')\\n\\tdef g():\\n\\t\\tprint('Start g()')\\n    \\tprint('End g()')\\n\\t\\treturn \\n\\n\\tg()\\n\\n\\tprint('End f()')\\n\\treturn\\n\\n\\nf()\\nStart f()\\nStart g()\\nEnd g()\\nEnd f()\",\n",
       "  \"def f():\\n\\tprint('Start f()')\\n\\tdef g():\\n\\t\\tprint('Start g()')\\n    \\tprint('End g()')\\n\\t\\treturn \\n\\n\\tg()\\n\\n\\tprint('End f()')\\n\\treturn\\n\\n\\nf()\\nStart f()\\nStart g()\\nEnd g()\\nEnd f()\",\n",
       "  \"def f():\\n\\tprint('Start f()')\\n\\tdef g():\\n\\t\\tprint('Start g()')\\n\\t\\tprint('End g()')\\n\\t\\treturn \\n\\n\\tg()\\n\\n\\tprint('End f()')\\n\\treturn\\n\\n\\nf()\\nStart f()\\nStart g()\\nEnd g()\\nEnd f()\",\n",
       "  \"def f():\\n\\tprint('Start f()')\\n\\tdef g():\\n\\t\\tprint('Start g()')\\n\\t\\tprint('End g()')\\n\\t\\treturn \\n\\n\\tg()\\n\\n\\tprint('End f()')\\n\\treturn\\n\\n\\nf()\\nStartf()\\nStartg()\\nEnd g()\\nEnd f()\",\n",
       "  \"def f():\\n\\tprint('Start f()')\\n\\tdef g():\\n\\t\\tprint('Start g()')\\n\\t\\tprint('End g()')\\n\\t\\treturn \\n\\n\\tg()\\n\\n\\tprint('End f()')\\n\\treturn\\n\\n\\nf()\\nStartf()\\nStartg()\\nEndg()\\nEndf()\",\n",
       "  \"def f():\\n\\tprint('Start f()')\\n\\tdef g():\\n\\t\\tprint('Start g()')\\n\\t\\tprint('End g()')\\n\\t\\treturn \\n\\n\\tg()\\n\\n\\tprint('End f()')\\n\\treturn\\n\\n\\nf()\\nStart f()\\nStartg()\\nEndg()\\nEndf()\",\n",
       "  \"def f():\\n\\tprint('Start f()')\\n\\tdef g():\\n\\t\\tprint('Start g()')\\n\\t\\tprint('End g()')\\n\\t\\treturn \\n\\n\\tg()\\n\\n\\tprint('End f()')\\n\\treturn\\n\\n\\nf()\",\n",
       "  \"x = 'Global'\\n\\ndef f():\\n\\tdef g():\\n\\t\\tprint(x)\\nreturn g()\\n\\nf()\",\n",
       "  \"x = 'Global'\\n\\ndef f():\\n\\tdef g():\\n\\t\\tprint(x)\\n\\treturn g()\\n\\nf()\",\n",
       "  \"x = 'Global'\\n\\ndef f():\\n\\tx = 'Enclosing'\\n\\tdef g():\\n\\t\\tprint(x)\\n\\treturn g()\\n\\nf()\",\n",
       "  \"x = 'Global'\\n\\ndef f():\\n\\tx = 'Enclosing'\\n\\tdef g():\\n\\t\\tx = 'Local'\\n\\t\\tprint(x)\\n\\treturn g()\\n\\nf()\",\n",
       "  'def f():\\n\\tdef g():\\n\\t\\tprint(x)\\n\\treturn g()\\n\\nf()',\n",
       "  \"# x = 'Global'\\n\\ndef f():\\n\\tdef g():\\n\\t\\tprint(x)\\n\\treturn g()\\n\\nf()\",\n",
       "  'def f():\\n\\tdef g():\\n\\t\\tprint(x)\\n\\treturn g()\\n\\nf()',\n",
       "  \"x = 'Global'\\n\\ndef f():\\n\\tdef g():\\n\\t\\tprint(x)\\n\\treturn g()\\n\\nf()\",\n",
       "  \"# def f():\\n# \\tdef g():\\n# \\t\\tprint(x)\\n# \\treturn g()\\n\\n# f() \\n# NameError: name 'x' is not defined\",\n",
       "  'type(globals())',\n",
       "  'globals()',\n",
       "  \"x = 'foo'\",\n",
       "  \"globals()['x']\",\n",
       "  'x is globals()',\n",
       "  \"gg = 'foo'\",\n",
       "  \"globals()['gg']\",\n",
       "  'gg is globals()',\n",
       "  \"str is globals()['str']\",\n",
       "  'str is globals()',\n",
       "  'len is globals()',\n",
       "  \"gg is globals()['x']\",\n",
       "  'def f(x, y):\\n\\ts = \"foo\"\\n\\tprint(locals())\\n\\nf(10, 5)',\n",
       "  \"g = globals()\\nx = 10, y = 5\\ng['x']\",\n",
       "  \"g = globals()\\nx = 10\\ny = 5\\ng['x']\",\n",
       "  \"g = globals()\\nx = 10\\ny = 5\\nprint(g['x'])\",\n",
       "  'g = globals()\\nx = 10\\ny = 5\\ng'],\n",
       " 'Out': {26: \"Hi, I'm Elias\",\n",
       "  27: <function __main__.parent.<locals>.first_child()>,\n",
       "  43: ['ArithmeticError',\n",
       "   'AssertionError',\n",
       "   'AttributeError',\n",
       "   'BaseException',\n",
       "   'BaseExceptionGroup',\n",
       "   'BlockingIOError',\n",
       "   'BrokenPipeError',\n",
       "   'BufferError',\n",
       "   'BytesWarning',\n",
       "   'ChildProcessError',\n",
       "   'ConnectionAbortedError',\n",
       "   'ConnectionError',\n",
       "   'ConnectionRefusedError',\n",
       "   'ConnectionResetError',\n",
       "   'DeprecationWarning',\n",
       "   'EOFError',\n",
       "   'Ellipsis',\n",
       "   'EncodingWarning',\n",
       "   'EnvironmentError',\n",
       "   'Exception',\n",
       "   'ExceptionGroup',\n",
       "   'False',\n",
       "   'FileExistsError',\n",
       "   'FileNotFoundError',\n",
       "   'FloatingPointError',\n",
       "   'FutureWarning',\n",
       "   'GeneratorExit',\n",
       "   'IOError',\n",
       "   'ImportError',\n",
       "   'ImportWarning',\n",
       "   'IndentationError',\n",
       "   'IndexError',\n",
       "   'InterruptedError',\n",
       "   'IsADirectoryError',\n",
       "   'KeyError',\n",
       "   'KeyboardInterrupt',\n",
       "   'LookupError',\n",
       "   'MemoryError',\n",
       "   'ModuleNotFoundError',\n",
       "   'NameError',\n",
       "   'None',\n",
       "   'NotADirectoryError',\n",
       "   'NotImplemented',\n",
       "   'NotImplementedError',\n",
       "   'OSError',\n",
       "   'OverflowError',\n",
       "   'PendingDeprecationWarning',\n",
       "   'PermissionError',\n",
       "   'ProcessLookupError',\n",
       "   'RecursionError',\n",
       "   'ReferenceError',\n",
       "   'ResourceWarning',\n",
       "   'RuntimeError',\n",
       "   'RuntimeWarning',\n",
       "   'StopAsyncIteration',\n",
       "   'StopIteration',\n",
       "   'SyntaxError',\n",
       "   'SyntaxWarning',\n",
       "   'SystemError',\n",
       "   'SystemExit',\n",
       "   'TabError',\n",
       "   'TimeoutError',\n",
       "   'True',\n",
       "   'TypeError',\n",
       "   'UnboundLocalError',\n",
       "   'UnicodeDecodeError',\n",
       "   'UnicodeEncodeError',\n",
       "   'UnicodeError',\n",
       "   'UnicodeTranslateError',\n",
       "   'UnicodeWarning',\n",
       "   'UserWarning',\n",
       "   'ValueError',\n",
       "   'Warning',\n",
       "   'WindowsError',\n",
       "   'ZeroDivisionError',\n",
       "   '__IPYTHON__',\n",
       "   '__build_class__',\n",
       "   '__debug__',\n",
       "   '__doc__',\n",
       "   '__import__',\n",
       "   '__loader__',\n",
       "   '__name__',\n",
       "   '__package__',\n",
       "   '__spec__',\n",
       "   'abs',\n",
       "   'aiter',\n",
       "   'all',\n",
       "   'anext',\n",
       "   'any',\n",
       "   'ascii',\n",
       "   'bin',\n",
       "   'bool',\n",
       "   'breakpoint',\n",
       "   'bytearray',\n",
       "   'bytes',\n",
       "   'callable',\n",
       "   'chr',\n",
       "   'classmethod',\n",
       "   'compile',\n",
       "   'complex',\n",
       "   'copyright',\n",
       "   'credits',\n",
       "   'delattr',\n",
       "   'dict',\n",
       "   'dir',\n",
       "   'display',\n",
       "   'divmod',\n",
       "   'enumerate',\n",
       "   'eval',\n",
       "   'exec',\n",
       "   'execfile',\n",
       "   'filter',\n",
       "   'float',\n",
       "   'format',\n",
       "   'frozenset',\n",
       "   'get_ipython',\n",
       "   'getattr',\n",
       "   'globals',\n",
       "   'hasattr',\n",
       "   'hash',\n",
       "   'help',\n",
       "   'hex',\n",
       "   'id',\n",
       "   'input',\n",
       "   'int',\n",
       "   'isinstance',\n",
       "   'issubclass',\n",
       "   'iter',\n",
       "   'len',\n",
       "   'license',\n",
       "   'list',\n",
       "   'locals',\n",
       "   'map',\n",
       "   'max',\n",
       "   'memoryview',\n",
       "   'min',\n",
       "   'next',\n",
       "   'object',\n",
       "   'oct',\n",
       "   'open',\n",
       "   'ord',\n",
       "   'pow',\n",
       "   'print',\n",
       "   'property',\n",
       "   'range',\n",
       "   'repr',\n",
       "   'reversed',\n",
       "   'round',\n",
       "   'runfile',\n",
       "   'set',\n",
       "   'setattr',\n",
       "   'slice',\n",
       "   'sorted',\n",
       "   'staticmethod',\n",
       "   'str',\n",
       "   'sum',\n",
       "   'super',\n",
       "   'tuple',\n",
       "   'type',\n",
       "   'vars',\n",
       "   'zip'],\n",
       "  66: dict,\n",
       "  67: {...},\n",
       "  69: 'foo',\n",
       "  70: False,\n",
       "  72: 'foo',\n",
       "  73: False,\n",
       "  75: False,\n",
       "  76: False,\n",
       "  77: True,\n",
       "  80: 10},\n",
       " 'get_ipython': <bound method InteractiveShell.get_ipython of <ipykernel.zmqshell.ZMQInteractiveShell object at 0x00000266459A4FE0>>,\n",
       " 'exit': <IPython.core.autocall.ZMQExitAutocall at 0x26646bf1cd0>,\n",
       " 'quit': <IPython.core.autocall.ZMQExitAutocall at 0x26646bf1cd0>,\n",
       " 'open': <function _io.open(file, mode='r', buffering=-1, encoding=None, errors=None, newline=None, closefd=True, opener=None)>,\n",
       " '_': 10,\n",
       " '__': True,\n",
       " '___': False,\n",
       " '__vsc_ipynb_file__': 'd:\\\\Machine Learning Self-Learning\\\\Python-For-Data-Science\\\\pythonbasics\\\\PythonNoteBook.ipynb',\n",
       " '_i': \"g = globals()\\nx = 10\\ny = 5\\nprint(g['x'])\",\n",
       " '_ii': \"g = globals()\\nx = 10\\ny = 5\\ng['x']\",\n",
       " '_iii': \"g = globals()\\nx = 10, y = 5\\ng['x']\",\n",
       " '_i1': 'import Cars as c\\n\\nnew_car = c.Car(\"Mercedes\", \"C200\", 2023)\\nprint(new_car.get_descriptive_name())\\nprint(new_car.read_odometer())\\nprint(new_car.fill_gas_tank())',\n",
       " 'c': <module 'Cars' from 'd:\\\\Machine Learning Self-Learning\\\\Python-For-Data-Science\\\\pythonbasics\\\\Cars.py'>,\n",
       " 'new_car': <Cars.Car at 0x26646d5d670>,\n",
       " '_i2': 'import Cars as c\\n\\nnew_car = c.Car(\"Mercedes\", \"C200\", 2023)\\nPrint(new_car.get_descriptive_name())\\n(new_car.read_odometer())\\n(new_car.fill_gas_tank())',\n",
       " '_i3': 'import Cars as c\\n\\nnew_car = c.Car(\"Mercedes\", \"C200\", 2023)\\nprint(new_car.get_descriptive_name())\\n(new_car.read_odometer())\\n(new_car.fill_gas_tank())',\n",
       " '_i4': 'from Cars import ElectricCar\\n\\nnew_electric_car = ElectricCar(\"Tesla\", \"Model S\", 2023)\\nprint(new_electric_car.get_descriptive_name())\\nnew_electric_car.battery.describe_battery()\\nnew_electric_car.battery.fill_gas_tank()',\n",
       " 'ElectricCar': Cars.ElectricCar,\n",
       " 'new_electric_car': <Cars.ElectricCar at 0x26646d8ebd0>,\n",
       " '_i5': \"# Generators\\n\\ndef my_generator():\\n\\tyield 'A'\\n\\tyield 'B'\\n\\tyield 'C'\\n\\nfor char in my_generator():\\n\\tprint(char)\\n\\n\\t\",\n",
       " 'my_generator': <function __main__.my_generator()>,\n",
       " 'char': 'C',\n",
       " '_i6': \"# Generators\\n\\ndef my_generator():\\n\\tyield 'A'\\n\\tyield 'B'\\n\\tyield 'C'\\n\\nfor char in my_generator():\\n\\tprint(char)\\n\\n\\ndef my_generator():\\n\\tyield 'A'\\n\\tyield 'B'\\n\\tyield 'C'\\n\\ngen = my_generator()\\n\\nprint(next(gen)) # A\\nprint(next(gen)) # B\\nprint(next(gen)) # C\\n# print(next(gen)) # StopIteration\",\n",
       " 'gen': <generator object my_generator at 0x0000026646EDA610>,\n",
       " '_i7': \"# Generators\\n\\ndef my_generator():\\n\\tyield 'A'\\n\\tyield 'B'\\n\\tyield 'C'\\n\\nfor char in my_generator():\\n\\tprint(char)\\n\\n\\ndef my_generator():\\n\\tyield 'A'\\n\\tyield 'B'\\n\\tyield 'C'\\n\\ngen = my_generator()\\n\\nprint(next(gen)) # A\\nprint(next(gen)) # B\\nprint(next(gen)) # C\\nprint(next(gen)) # StopIteration\",\n",
       " '_i8': \"# Generators\\n\\ndef my_generator():\\n\\tyield 'A'\\n\\tyield 'B'\\n\\tyield 'C'\\n\\nfor char in my_generator():\\n\\tprint(char)\\n\\n\\ndef my_generator():\\n\\tyield 'A'\\n\\tyield 'B'\\n\\tyield 'C'\\n\\ngen = my_generator()\\n\\nprint(next(gen)) # A\\nprint(next(gen)) # B\\nprint(next(gen)) # C\\n# print(next(gen)) # Error: StopIteration\",\n",
       " '_i9': \"# Fibonacci Series\\n# _ is a throwaway variable name that’s commonly used when you don’t need the variable’s value.\\ndef fibonacci(n):\\n\\ta, b = 0, 1\\n\\tfor _ in range(n):\\n\\t\\tyield a\\n\\t\\ta, b = b, a + b\\n\\nfor number in fibonacci(10):\\n\\tprint(number, end=' ')\",\n",
       " 'fibonacci': <function __main__.fibonacci(n)>,\n",
       " 'number': 34,\n",
       " '_i10': 'def decorator(func):\\n    def wrapper():\\n        print(\"Something is happening before the function is called.\")\\n        func()\\n        print(\"Something is happening after the function is called.\")\\n    return wrapper\\n\\ndef say_whee():\\n    print(\"Whee!\")',\n",
       " 'decorator': <function __main__.decorator(func)>,\n",
       " 'say_whee': <function __main__.not_during_the_night.<locals>.wrapper()>,\n",
       " '_i11': 'say_whee = decorator(say_whee)',\n",
       " '_i12': 'say_whee = decorator(say_whee)',\n",
       " '_i13': 'def decorator(func):\\n    def wrapper():\\n        print(\"Something is happening before the function is called.\")\\n        func()\\n        print(\"Something is happening after the function is called.\")\\n    return wrapper\\n\\ndef say_whee():\\n    print(\"Whee!\")\\n\\nsay_whee = decorator(say_whee)',\n",
       " '_i14': 'say_whee()',\n",
       " '_i15': 'from datetime import datetime\\n\\ndef not_during_the_night(func):\\n    def wrapper():\\n        if 7 <= datetime.now().hour < 22:\\n            func()\\n        else:\\n            pass  # Hush, the neighbors are asleep\\n    return wrapper\\n\\ndef say_whee():\\n    print(\"Whee!\")\\n\\nsay_whee = not_during_the_night(say_whee)',\n",
       " 'datetime': datetime.datetime,\n",
       " 'not_during_the_night': <function __main__.not_during_the_night(func)>,\n",
       " '_i16': 'say_whee()',\n",
       " '_i17': 'say_whee()',\n",
       " '_i18': 'from datetime import datetime\\n\\ndef not_during_the_night(func):\\n    def wrapper():\\n        if 7 <= datetime.now().hour < 24:\\n            func()\\n        else:\\n            pass  # Hush, the neighbors are asleep\\n    return wrapper\\n\\ndef say_whee():\\n    print(\"Whee!\")\\n\\nsay_whee = not_during_the_night(say_whee)',\n",
       " '_i19': 'say_whee()',\n",
       " '_i20': '@decorator\\ndef say_whee():\\n    print(\"Whee!\")',\n",
       " '_i21': 'say_whee()',\n",
       " '_i22': 'def do_twice(func):\\n    def wrapper_do_twice():\\n        func()\\n        func()\\n    return wrapper_do_twice',\n",
       " 'do_twice': <function __main__.do_twice(func)>,\n",
       " '_i23': '@do_twice\\ndef say_whee():\\n\\tprint(\"Whee!\")\\n\\nsay_whee()',\n",
       " '_i24': 'def parent(num):\\n    def first_child():\\n        return \"Hi, I\\'m Elias\"\\n\\n    def second_child():\\n        return \"Call me Ester\"\\n\\n    if num == 1:\\n        return first_child\\n    else:\\n        return second_child',\n",
       " 'parent': <function __main__.parent(num)>,\n",
       " '_i25': 'first = parent(1)\\nsecond = parent(2)',\n",
       " 'first': <function __main__.parent.<locals>.first_child()>,\n",
       " 'second': <function __main__.parent.<locals>.second_child()>,\n",
       " '_i26': 'first()',\n",
       " '_26': \"Hi, I'm Elias\",\n",
       " '_i27': 'first',\n",
       " '_27': <function __main__.parent.<locals>.first_child()>,\n",
       " '_i28': '@do_twice\\ndef greet(name):\\n\\tprint(f\"Hello {name}\")\\n\\ngreet(\"World\")',\n",
       " 'greet': <function __main__.do_twice.<locals>.wrapper_do_twice(*args, **kwargs)>,\n",
       " '_i29': 'def do_twice(func):\\n    def wrapper_do_twice(*args, **kwargs):\\n        func(*args, **kwargs)\\n        func(*args, **kwargs)\\n    return wrapper_do_twice',\n",
       " '_i30': '@do_twice\\ndef greet(name):\\n\\tprint(f\"Hello {name}\")\\n\\ngreet(\"World\")',\n",
       " '_i31': '@do_twice\\ndef return_greeting(name):\\n\\tprint(\"Creating greeting\")\\n\\treturn f\"Hi {name}\"',\n",
       " 'return_greeting': <function __main__.do_twice.<locals>.wrapper_do_twice(*args, **kwargs)>,\n",
       " '_i32': 'hi_adam = return_greeting(\"Adam\")',\n",
       " 'hi_adam': None,\n",
       " '_i33': 'hi_adam = return_greeting(\"Adam\")\\nprint(hi_adam)',\n",
       " '_i34': '@not_during_the_night\\ndef say_whee():\\n    print(\"Whee!\")\\n\\nsay_whee()',\n",
       " '_i35': 'print(return_greeting(\"Adam\"))',\n",
       " '_i36': 'print(return_greeting(\"Adam\"))',\n",
       " '_i37': 'def do_twice(func):\\n    def wrapper_do_twice(*args, **kwargs):\\n        func(*args, **kwargs)\\n    \\treturn func(*args, **kwargs)\\n    return wrapper_do_twice',\n",
       " '_i39': 'def do_twice(func):\\n    def wrapper_do_twice(*args, **kwargs):\\n        func(*args, **kwargs)\\n        return func(*args, **kwargs)\\n    return wrapper_do_twice',\n",
       " '_i40': '@do_twice\\ndef return_greeting(name):\\n\\tprint(\"Creating greeting\")\\n\\treturn f\"Hi {name}\"',\n",
       " '_i41': 'print(return_greeting(\"Adam\"))',\n",
       " '_i42': 'help(say_whee)',\n",
       " '_i43': 'dir(__builtins__)',\n",
       " '_43': ['ArithmeticError',\n",
       "  'AssertionError',\n",
       "  'AttributeError',\n",
       "  'BaseException',\n",
       "  'BaseExceptionGroup',\n",
       "  'BlockingIOError',\n",
       "  'BrokenPipeError',\n",
       "  'BufferError',\n",
       "  'BytesWarning',\n",
       "  'ChildProcessError',\n",
       "  'ConnectionAbortedError',\n",
       "  'ConnectionError',\n",
       "  'ConnectionRefusedError',\n",
       "  'ConnectionResetError',\n",
       "  'DeprecationWarning',\n",
       "  'EOFError',\n",
       "  'Ellipsis',\n",
       "  'EncodingWarning',\n",
       "  'EnvironmentError',\n",
       "  'Exception',\n",
       "  'ExceptionGroup',\n",
       "  'False',\n",
       "  'FileExistsError',\n",
       "  'FileNotFoundError',\n",
       "  'FloatingPointError',\n",
       "  'FutureWarning',\n",
       "  'GeneratorExit',\n",
       "  'IOError',\n",
       "  'ImportError',\n",
       "  'ImportWarning',\n",
       "  'IndentationError',\n",
       "  'IndexError',\n",
       "  'InterruptedError',\n",
       "  'IsADirectoryError',\n",
       "  'KeyError',\n",
       "  'KeyboardInterrupt',\n",
       "  'LookupError',\n",
       "  'MemoryError',\n",
       "  'ModuleNotFoundError',\n",
       "  'NameError',\n",
       "  'None',\n",
       "  'NotADirectoryError',\n",
       "  'NotImplemented',\n",
       "  'NotImplementedError',\n",
       "  'OSError',\n",
       "  'OverflowError',\n",
       "  'PendingDeprecationWarning',\n",
       "  'PermissionError',\n",
       "  'ProcessLookupError',\n",
       "  'RecursionError',\n",
       "  'ReferenceError',\n",
       "  'ResourceWarning',\n",
       "  'RuntimeError',\n",
       "  'RuntimeWarning',\n",
       "  'StopAsyncIteration',\n",
       "  'StopIteration',\n",
       "  'SyntaxError',\n",
       "  'SyntaxWarning',\n",
       "  'SystemError',\n",
       "  'SystemExit',\n",
       "  'TabError',\n",
       "  'TimeoutError',\n",
       "  'True',\n",
       "  'TypeError',\n",
       "  'UnboundLocalError',\n",
       "  'UnicodeDecodeError',\n",
       "  'UnicodeEncodeError',\n",
       "  'UnicodeError',\n",
       "  'UnicodeTranslateError',\n",
       "  'UnicodeWarning',\n",
       "  'UserWarning',\n",
       "  'ValueError',\n",
       "  'Warning',\n",
       "  'WindowsError',\n",
       "  'ZeroDivisionError',\n",
       "  '__IPYTHON__',\n",
       "  '__build_class__',\n",
       "  '__debug__',\n",
       "  '__doc__',\n",
       "  '__import__',\n",
       "  '__loader__',\n",
       "  '__name__',\n",
       "  '__package__',\n",
       "  '__spec__',\n",
       "  'abs',\n",
       "  'aiter',\n",
       "  'all',\n",
       "  'anext',\n",
       "  'any',\n",
       "  'ascii',\n",
       "  'bin',\n",
       "  'bool',\n",
       "  'breakpoint',\n",
       "  'bytearray',\n",
       "  'bytes',\n",
       "  'callable',\n",
       "  'chr',\n",
       "  'classmethod',\n",
       "  'compile',\n",
       "  'complex',\n",
       "  'copyright',\n",
       "  'credits',\n",
       "  'delattr',\n",
       "  'dict',\n",
       "  'dir',\n",
       "  'display',\n",
       "  'divmod',\n",
       "  'enumerate',\n",
       "  'eval',\n",
       "  'exec',\n",
       "  'execfile',\n",
       "  'filter',\n",
       "  'float',\n",
       "  'format',\n",
       "  'frozenset',\n",
       "  'get_ipython',\n",
       "  'getattr',\n",
       "  'globals',\n",
       "  'hasattr',\n",
       "  'hash',\n",
       "  'help',\n",
       "  'hex',\n",
       "  'id',\n",
       "  'input',\n",
       "  'int',\n",
       "  'isinstance',\n",
       "  'issubclass',\n",
       "  'iter',\n",
       "  'len',\n",
       "  'license',\n",
       "  'list',\n",
       "  'locals',\n",
       "  'map',\n",
       "  'max',\n",
       "  'memoryview',\n",
       "  'min',\n",
       "  'next',\n",
       "  'object',\n",
       "  'oct',\n",
       "  'open',\n",
       "  'ord',\n",
       "  'pow',\n",
       "  'print',\n",
       "  'property',\n",
       "  'range',\n",
       "  'repr',\n",
       "  'reversed',\n",
       "  'round',\n",
       "  'runfile',\n",
       "  'set',\n",
       "  'setattr',\n",
       "  'slice',\n",
       "  'sorted',\n",
       "  'staticmethod',\n",
       "  'str',\n",
       "  'sum',\n",
       "  'super',\n",
       "  'tuple',\n",
       "  'type',\n",
       "  'vars',\n",
       "  'zip'],\n",
       " '_i44': \"def f():\\n\\tprint('Start f()')\\n\\tdef g():\\n    \\tprint('Start g()')\\n    \\tprint('End g()')\\n\\t\\treturn \\n\\n\\tg()\\n\\n\\tprint('End f()')\\n\\treturn\\n\\n\\nf()\\nStart f()\\nStart g()\\nEnd g()\\nEnd f()\",\n",
       " '_i46': \"def f():\\n\\tprint('Start f()')\\n\\tdef g():\\n        print('Start g()')\\n    \\tprint('End g()')\\n\\t\\treturn \\n\\n\\tg()\\n\\n\\tprint('End f()')\\n\\treturn\\n\\n\\nf()\\nStart f()\\nStart g()\\nEnd g()\\nEnd f()\",\n",
       " '_i48': \"def f():\\n\\tprint('Start f()')\\n\\tdef g():\\n\\t\\tprint('Start g()')\\n    \\tprint('End g()')\\n\\t\\treturn \\n\\n\\tg()\\n\\n\\tprint('End f()')\\n\\treturn\\n\\n\\nf()\\nStart f()\\nStart g()\\nEnd g()\\nEnd f()\",\n",
       " '_i50': \"def f():\\n\\tprint('Start f()')\\n\\tdef g():\\n\\t\\tprint('Start g()')\\n    \\tprint('End g()')\\n\\t\\treturn \\n\\n\\tg()\\n\\n\\tprint('End f()')\\n\\treturn\\n\\n\\nf()\\nStart f()\\nStart g()\\nEnd g()\\nEnd f()\",\n",
       " '_i52': \"def f():\\n\\tprint('Start f()')\\n\\tdef g():\\n\\t\\tprint('Start g()')\\n\\t\\tprint('End g()')\\n\\t\\treturn \\n\\n\\tg()\\n\\n\\tprint('End f()')\\n\\treturn\\n\\n\\nf()\\nStart f()\\nStart g()\\nEnd g()\\nEnd f()\",\n",
       " '_i53': \"def f():\\n\\tprint('Start f()')\\n\\tdef g():\\n\\t\\tprint('Start g()')\\n\\t\\tprint('End g()')\\n\\t\\treturn \\n\\n\\tg()\\n\\n\\tprint('End f()')\\n\\treturn\\n\\n\\nf()\\nStartf()\\nStartg()\\nEnd g()\\nEnd f()\",\n",
       " '_i54': \"def f():\\n\\tprint('Start f()')\\n\\tdef g():\\n\\t\\tprint('Start g()')\\n\\t\\tprint('End g()')\\n\\t\\treturn \\n\\n\\tg()\\n\\n\\tprint('End f()')\\n\\treturn\\n\\n\\nf()\\nStartf()\\nStartg()\\nEndg()\\nEndf()\",\n",
       " 'f': <function __main__.f(x, y)>,\n",
       " '_i55': \"def f():\\n\\tprint('Start f()')\\n\\tdef g():\\n\\t\\tprint('Start g()')\\n\\t\\tprint('End g()')\\n\\t\\treturn \\n\\n\\tg()\\n\\n\\tprint('End f()')\\n\\treturn\\n\\n\\nf()\\nStart f()\\nStartg()\\nEndg()\\nEndf()\",\n",
       " '_i56': \"def f():\\n\\tprint('Start f()')\\n\\tdef g():\\n\\t\\tprint('Start g()')\\n\\t\\tprint('End g()')\\n\\t\\treturn \\n\\n\\tg()\\n\\n\\tprint('End f()')\\n\\treturn\\n\\n\\nf()\",\n",
       " '_i57': \"x = 'Global'\\n\\ndef f():\\n\\tdef g():\\n\\t\\tprint(x)\\nreturn g()\\n\\nf()\",\n",
       " 'x': 10,\n",
       " '_i58': \"x = 'Global'\\n\\ndef f():\\n\\tdef g():\\n\\t\\tprint(x)\\n\\treturn g()\\n\\nf()\",\n",
       " '_i59': \"x = 'Global'\\n\\ndef f():\\n\\tx = 'Enclosing'\\n\\tdef g():\\n\\t\\tprint(x)\\n\\treturn g()\\n\\nf()\",\n",
       " '_i60': \"x = 'Global'\\n\\ndef f():\\n\\tx = 'Enclosing'\\n\\tdef g():\\n\\t\\tx = 'Local'\\n\\t\\tprint(x)\\n\\treturn g()\\n\\nf()\",\n",
       " '_i61': 'def f():\\n\\tdef g():\\n\\t\\tprint(x)\\n\\treturn g()\\n\\nf()',\n",
       " '_i62': \"# x = 'Global'\\n\\ndef f():\\n\\tdef g():\\n\\t\\tprint(x)\\n\\treturn g()\\n\\nf()\",\n",
       " '_i63': 'def f():\\n\\tdef g():\\n\\t\\tprint(x)\\n\\treturn g()\\n\\nf()',\n",
       " '_i64': \"x = 'Global'\\n\\ndef f():\\n\\tdef g():\\n\\t\\tprint(x)\\n\\treturn g()\\n\\nf()\",\n",
       " '_i65': \"# def f():\\n# \\tdef g():\\n# \\t\\tprint(x)\\n# \\treturn g()\\n\\n# f() \\n# NameError: name 'x' is not defined\",\n",
       " '_i66': 'type(globals())',\n",
       " '_66': dict,\n",
       " '_i67': 'globals()',\n",
       " '_67': {...},\n",
       " '_i68': \"x = 'foo'\",\n",
       " '_i69': \"globals()['x']\",\n",
       " '_69': 'foo',\n",
       " '_i70': 'x is globals()',\n",
       " '_70': False,\n",
       " '_i71': \"gg = 'foo'\",\n",
       " 'gg': 'foo',\n",
       " '_i72': \"globals()['gg']\",\n",
       " '_72': 'foo',\n",
       " '_i73': 'gg is globals()',\n",
       " '_73': False,\n",
       " '_i74': \"str is globals()['str']\",\n",
       " '_i75': 'str is globals()',\n",
       " '_75': False,\n",
       " '_i76': 'len is globals()',\n",
       " '_76': False,\n",
       " '_i77': \"gg is globals()['x']\",\n",
       " '_77': True,\n",
       " '_i78': 'def f(x, y):\\n\\ts = \"foo\"\\n\\tprint(locals())\\n\\nf(10, 5)',\n",
       " '_i79': \"g = globals()\\nx = 10, y = 5\\ng['x']\",\n",
       " '_i80': \"g = globals()\\nx = 10\\ny = 5\\ng['x']\",\n",
       " 'g': {...},\n",
       " 'y': 5,\n",
       " '_80': 10,\n",
       " '_i81': \"g = globals()\\nx = 10\\ny = 5\\nprint(g['x'])\",\n",
       " '_i82': 'g = globals()\\nx = 10\\ny = 5\\ng'}"
      ]
     },
     "execution_count": 82,
     "metadata": {},
     "output_type": "execute_result"
    }
   ],
   "source": [
    "g = globals()\n",
    "x = 10\n",
    "y = 5\n",
    "g"
   ]
  },
  {
   "cell_type": "markdown",
   "metadata": {},
   "source": [
    "locals(), on the other hand, returns a dictionary that is a current copy of the local namespace, not a reference to it. Further additions to the local namespace won’t affect a previous return value from locals() until you call it again. Also, you can’t modify objects in the actual local namespace using the return value from locals():"
   ]
  },
  {
   "cell_type": "code",
   "execution_count": 83,
   "metadata": {},
   "outputs": [],
   "source": [
    "def f():\n",
    "\ts = 'foo'\n",
    "\tloc = locals()\n",
    "\tprint(loc)\n",
    "\t\n",
    "\tx = 20\n",
    "\tprint(loc)\n",
    "\n",
    "\tloc['s'] = 'bar'\n",
    "\tprint(s)"
   ]
  },
  {
   "cell_type": "code",
   "execution_count": 84,
   "metadata": {},
   "outputs": [
    {
     "name": "stdout",
     "output_type": "stream",
     "text": [
      "{'s': 'foo'}\n",
      "{'s': 'foo'}\n",
      "foo\n"
     ]
    }
   ],
   "source": [
    "f()"
   ]
  },
  {
   "cell_type": "markdown",
   "metadata": {},
   "source": [
    "It’s a subtle difference, but it could cause you trouble if you don’t remember it."
   ]
  },
  {
   "cell_type": "markdown",
   "metadata": {},
   "source": [
    "**Modify Variables Out of Scope**\n",
    "\n",
    "Earlier in this series, in the Notebook on user-defined Python functions, you learned that argument passing in Python is a bit like pass-by-value and a bit like pass-by-reference. Sometimes a function can modify its argument in the calling environment by making changes to the corresponding parameter, and sometimes it can’t:\n",
    "\n",
    "* An immutable argument can never be modified by a function.\n",
    "* A mutable argument can’t be redefined wholesale, but it can be modified in place."
   ]
  },
  {
   "cell_type": "markdown",
   "metadata": {},
   "source": [
    "A similar situation exists when a function tries to modify a variable outside its local scope. A function can’t modify an immutable object outside its local scope at all:"
   ]
  },
  {
   "cell_type": "code",
   "execution_count": 85,
   "metadata": {},
   "outputs": [],
   "source": [
    "x = 20\n",
    "\n",
    "def f():\n",
    "\tx = 40\n",
    "\tprint(x)"
   ]
  },
  {
   "cell_type": "code",
   "execution_count": 87,
   "metadata": {},
   "outputs": [
    {
     "name": "stdout",
     "output_type": "stream",
     "text": [
      "40\n",
      "20\n"
     ]
    }
   ],
   "source": [
    "f()\n",
    "print(x)"
   ]
  },
  {
   "cell_type": "markdown",
   "metadata": {},
   "source": [
    "When f() executes the assignment x = 40 , it creates a new local reference to an integer object whose value is 40. At that point, f() loses the reference to the object named x in the global namespace. So the assignment statement doesn’t affect the global object.\n",
    "\n",
    "Note that when f() executes print(x) , it displays 40, the value of its own local x. But after f() terminates, x in the global scope is still 20.\n",
    "\n",
    "A function can modify an object of mutable type that’s outside its local scope if it modifies the object in place:"
   ]
  },
  {
   "cell_type": "code",
   "execution_count": 93,
   "metadata": {},
   "outputs": [
    {
     "name": "stdout",
     "output_type": "stream",
     "text": [
      "['foo', 'quux', 'baz']\n",
      "['foo', 'quux', 'baz']\n"
     ]
    }
   ],
   "source": [
    "my_list = ['foo', 'bar', 'baz']\n",
    "def f():\n",
    "\tmy_list[1] = 'quux'\n",
    "\tprint(my_list)\n",
    "\n",
    "f()\n",
    "print(my_list)"
   ]
  },
  {
   "cell_type": "markdown",
   "metadata": {},
   "source": [
    "In this case, my_list is a list, and lists are mutable. f() can make changes inside my_list even though it’s outside the local scope.\n",
    "\n",
    "But if f() tries to reassign my_list entirely, then it will create a new local object and won’t modify the global my_list:"
   ]
  },
  {
   "cell_type": "code",
   "execution_count": 92,
   "metadata": {},
   "outputs": [
    {
     "name": "stdout",
     "output_type": "stream",
     "text": [
      "['qux', 'quux']\n",
      "['foo', 'bar', 'baz']\n"
     ]
    }
   ],
   "source": [
    "my_list = ['foo', 'bar', 'baz']\n",
    "def f():\n",
    "\tmy_list = ['qux', 'quux']\n",
    "\tprint(my_list)\n",
    "\n",
    "f()\n",
    "\n",
    "print(my_list)"
   ]
  },
  {
   "cell_type": "markdown",
   "metadata": {},
   "source": [
    "This is similar to what happens when f() tries to modify a mutable function argument.\n",
    "\n"
   ]
  },
  {
   "cell_type": "markdown",
   "metadata": {},
   "source": [
    "**The global Declaration**\n",
    "\n",
    "What if you really do need to modify a value in the global scope from within f()? This is possible in Python using the global declaration:"
   ]
  },
  {
   "cell_type": "code",
   "execution_count": 94,
   "metadata": {},
   "outputs": [
    {
     "name": "stdout",
     "output_type": "stream",
     "text": [
      "40\n",
      "40\n"
     ]
    }
   ],
   "source": [
    "x = 20\n",
    "def f():\n",
    "\tglobal x\n",
    "\tx = 40\n",
    "\tprint(x)\n",
    "\n",
    "f()\n",
    "print(x) "
   ]
  },
  {
   "cell_type": "markdown",
   "metadata": {},
   "source": [
    "The global x statement indicates that while f() executes, references to the name x will refer to the x that is in the global namespace. That means the assignment x = 40 doesn’t create a new reference. It assigns a new value to x in the global scope instead:"
   ]
  },
  {
   "cell_type": "markdown",
   "metadata": {},
   "source": [
    "![Global Declaration](images/12.png)"
   ]
  },
  {
   "cell_type": "markdown",
   "metadata": {},
   "source": [
    "As you’ve already seen, globals() returns a reference to the global namespace dictionary. If you wanted to, instead of using a global statement, you could accomplish the same thing using globals():"
   ]
  },
  {
   "cell_type": "code",
   "execution_count": 96,
   "metadata": {},
   "outputs": [
    {
     "name": "stdout",
     "output_type": "stream",
     "text": [
      "40\n",
      "40\n"
     ]
    }
   ],
   "source": [
    "x = 20\n",
    "def f():\n",
    "\tglobals()['x'] = 40\n",
    "\tprint(x)\n",
    "\n",
    "f()\n",
    "print(x)  \t"
   ]
  },
  {
   "cell_type": "markdown",
   "metadata": {},
   "source": [
    "There isn’t much reason to do it this way since the global declaration arguably makes the intent clearer. But it does provide another illustration of how globals() works."
   ]
  },
  {
   "cell_type": "markdown",
   "metadata": {},
   "source": [
    "**The nonlocal Declaration**\n",
    "\n",
    "A similar situation exists with nested function definitions. The global declaration allows a function to access and modify an object in the global scope. What if an enclosed function needs to modify an object in the enclosing scope? Consider this example:"
   ]
  },
  {
   "cell_type": "code",
   "execution_count": 97,
   "metadata": {},
   "outputs": [],
   "source": [
    "def f():\n",
    "\tx = 20\n",
    "\tdef g():\n",
    "\t\tx = 40\n",
    "\tg()\n",
    "\tprint(x)"
   ]
  },
  {
   "cell_type": "code",
   "execution_count": 98,
   "metadata": {},
   "outputs": [
    {
     "name": "stdout",
     "output_type": "stream",
     "text": [
      "20\n"
     ]
    }
   ],
   "source": [
    "f()"
   ]
  },
  {
   "cell_type": "markdown",
   "metadata": {},
   "source": [
    "In this case, the first definition of x is in the enclosing scope, not the global scope. Just as g() can’t directly modify a variable in the global scope, neither can it modify x in the enclosing function’s scope. Following the assignment x = 40, x in the enclosing scope remains 20."
   ]
  },
  {
   "cell_type": "markdown",
   "metadata": {},
   "source": [
    "The global keyword isn’t a solution for this situation:"
   ]
  },
  {
   "cell_type": "code",
   "execution_count": 100,
   "metadata": {},
   "outputs": [],
   "source": [
    "def f():\n",
    "\tx = 20\n",
    "\tdef g():\n",
    "\t\tglobal x \n",
    "\t\tx = 40\n",
    "\tg()\n",
    "\tprint(x)"
   ]
  },
  {
   "cell_type": "code",
   "execution_count": 101,
   "metadata": {},
   "outputs": [
    {
     "name": "stdout",
     "output_type": "stream",
     "text": [
      "20\n"
     ]
    }
   ],
   "source": [
    "f()"
   ]
  },
  {
   "cell_type": "markdown",
   "metadata": {},
   "source": [
    "Since x is in the enclosing function’s scope, not the global scope, the global keyword doesn’t work here. After g() terminates, x in the enclosing scope remains 20.\n",
    "\n",
    "In fact, in this example, the global x statement not only fails to provide access to x in the enclosing scope, but it also creates an object called x in the global scope whose value is 40:"
   ]
  },
  {
   "cell_type": "code",
   "execution_count": 102,
   "metadata": {},
   "outputs": [
    {
     "name": "stdout",
     "output_type": "stream",
     "text": [
      "20\n",
      "40\n"
     ]
    }
   ],
   "source": [
    "def f():\n",
    "\tx = 20\n",
    "\tdef g():\n",
    "\t\tglobal x \n",
    "\t\tx = 40\n",
    "\tg()\n",
    "\tprint(x)\n",
    "\n",
    "f()\n",
    "print(x)"
   ]
  },
  {
   "cell_type": "markdown",
   "metadata": {},
   "source": [
    "To modify x in the enclosing scope from inside g(), you need the analogous keyword nonlocal. Names specified after the nonlocal keyword refer to variables in the nearest enclosing scope:"
   ]
  },
  {
   "cell_type": "code",
   "execution_count": 103,
   "metadata": {},
   "outputs": [
    {
     "name": "stdout",
     "output_type": "stream",
     "text": [
      "40\n",
      "40\n"
     ]
    }
   ],
   "source": [
    "def f():\n",
    "\tx = 20\n",
    "\tdef g():\n",
    "\t\tnonlocal x \n",
    "\t\tx = 40\n",
    "\tg()\n",
    "\tprint(x)\n",
    "\n",
    "f()\n",
    "print(x)"
   ]
  },
  {
   "cell_type": "markdown",
   "metadata": {},
   "source": [
    "After the nonlocal x statement, when g() refers to x, it refers to the x in the nearest enclosing scope, whose definition is in f() on line 2:"
   ]
  },
  {
   "cell_type": "markdown",
   "metadata": {},
   "source": [
    "![Nonlocal Declaration](images/13.png)"
   ]
  },
  {
   "cell_type": "markdown",
   "metadata": {},
   "source": [
    "The print() statement at the end of f() confirms that the call to g() has changed the value of x in the enclosing scope to 40."
   ]
  },
  {
   "cell_type": "markdown",
   "metadata": {},
   "source": [
    "### Decorating Classes\n",
    "\n",
    "There are two different ways that you can use decorators on classes. The first one is very close to what you’ve already done with functions: you can decorate the methods of a class. This was one of the motivations for introducing decorators back in the day.\n",
    "\n",
    "Some commonly used decorators are even built-ins in Python, including @classmethod, @staticmethod, and @property. The @classmethod and @staticmethod decorators are used to define methods inside a class namespace that aren’t connected to a particular instance of that class. The @property decorator is used to customize getters and setters for class attributes."
   ]
  },
  {
   "cell_type": "markdown",
   "metadata": {},
   "source": [
    "**Instance Methods**\n",
    "\n",
    "The first method on MyClass, called method, is a regular instance method. That’s the basic, no-frills method type you’ll use most of the time. You can see the method takes one parameter, self, which points to an instance of MyClass when the method is called (but of course instance methods can accept more than just one parameter).\n",
    "\n",
    "Through the self parameter, instance methods can freely access attributes and other methods on the same object. This gives them a lot of power when it comes to modifying an object’s state.\n",
    "\n",
    "Not only can they modify object state, instance methods can also access the class itself through the self.__class__ attribute. This means instance methods can also modify class state."
   ]
  },
  {
   "cell_type": "markdown",
   "metadata": {},
   "source": [
    "**Class Methods**\n",
    "\n",
    "Let’s compare that to the second method, MyClass.classmethod. I marked this method with a @classmethod decorator to flag it as a class method.\n",
    "\n",
    "Instead of accepting a self parameter, class methods take a cls parameter that points to the class—and not the object instance—when the method is called.\n",
    "\n",
    "Because the class method only has access to this cls argument, it can’t modify object instance state. That would require access to self. However, class methods can still modify class state that applies across all instances of the class."
   ]
  },
  {
   "cell_type": "markdown",
   "metadata": {},
   "source": [
    "**Static Methods**\n",
    "\n",
    "The third method, MyClass.staticmethod was marked with a @staticmethod decorator to flag it as a static method.\n",
    "\n",
    "This type of method takes neither a self nor a cls parameter (but of course it’s free to accept an arbitrary number of other parameters).\n",
    "\n",
    "Therefore a static method can neither modify object state nor class state. Static methods are restricted in what data they can access - and they’re primarily a way to namespace your methods."
   ]
  },
  {
   "cell_type": "code",
   "execution_count": 104,
   "metadata": {},
   "outputs": [],
   "source": [
    "class MyClass:\n",
    "    def method(self):\n",
    "        return 'instance method called', self\n",
    "\n",
    "    @classmethod\n",
    "    def classmethod(cls):\n",
    "        return 'class method called', cls\n",
    "\n",
    "    @staticmethod\n",
    "    def staticmethod():\n",
    "        return 'static method called'"
   ]
  },
  {
   "cell_type": "code",
   "execution_count": 109,
   "metadata": {},
   "outputs": [
    {
     "data": {
      "text/plain": [
       "('instance method called', <__main__.MyClass at 0x26646e98ce0>)"
      ]
     },
     "execution_count": 109,
     "metadata": {},
     "output_type": "execute_result"
    }
   ],
   "source": [
    "obj = MyClass()\n",
    "obj.method()"
   ]
  },
  {
   "cell_type": "markdown",
   "metadata": {},
   "source": [
    "This confirmed that method (the instance method) has access to the object instance (printed as ```<MyClass instance>```) via the self argument.\n",
    "\n",
    "When the method is called, Python replaces the self argument with the instance object, obj. We could ignore the syntactic sugar of the dot-call syntax (obj.method()) and pass the instance object manually to get the same result:\n"
   ]
  },
  {
   "cell_type": "code",
   "execution_count": 106,
   "metadata": {},
   "outputs": [
    {
     "data": {
      "text/plain": [
       "('instance method called', <__main__.MyClass at 0x26646e9b500>)"
      ]
     },
     "execution_count": 106,
     "metadata": {},
     "output_type": "execute_result"
    }
   ],
   "source": [
    "MyClass.method(obj)"
   ]
  },
  {
   "cell_type": "markdown",
   "metadata": {},
   "source": [
    "Can you guess what would happen if you tried to call the method without first creating an instance?\n",
    "\n",
    "By the way, instance methods can also access the class itself through the self.__class__ attribute. This makes instance methods powerful in terms of access restrictions - they can modify state on the object instance and on the class itself.\n",
    "\n",
    "Let’s try out the class method next:\n",
    "\n"
   ]
  },
  {
   "cell_type": "code",
   "execution_count": 107,
   "metadata": {},
   "outputs": [
    {
     "data": {
      "text/plain": [
       "('class method called', __main__.MyClass)"
      ]
     },
     "execution_count": 107,
     "metadata": {},
     "output_type": "execute_result"
    }
   ],
   "source": [
    "obj.classmethod()"
   ]
  },
  {
   "cell_type": "markdown",
   "metadata": {},
   "source": [
    "Calling classmethod() showed us it doesn’t have access to the ```<MyClass instance>``` object, but only to the ```<class MyClass>``` object, representing the class itself (everything in Python is an object, even classes themselves).\n",
    "\n",
    "Notice how Python automatically passes the class as the first argument to the function when we call MyClass.classmethod(). Calling a method in Python through the dot syntax triggers this behavior. The self parameter on instance methods works the same way.\n",
    "\n",
    "Please note that naming these parameters self and cls is just a convention. You could just as easily name them the_object and the_class and get the same result. All that matters is that they’re positioned first in the parameter list for the method."
   ]
  },
  {
   "cell_type": "markdown",
   "metadata": {},
   "source": [
    "**Time to call the static method now:**"
   ]
  },
  {
   "cell_type": "code",
   "execution_count": 110,
   "metadata": {},
   "outputs": [
    {
     "data": {
      "text/plain": [
       "'static method called'"
      ]
     },
     "execution_count": 110,
     "metadata": {},
     "output_type": "execute_result"
    }
   ],
   "source": [
    "obj.staticmethod()"
   ]
  },
  {
   "cell_type": "markdown",
   "metadata": {},
   "source": [
    "Did you see how we called staticmethod() on the object and were able to do so successfully? Some developers are surprised when they learn that it’s possible to call a static method on an object instance.\n",
    "\n",
    "Behind the scenes Python simply enforces the access restrictions by not passing in the self or the cls argument when a static method gets called using the dot syntax.\n",
    "\n",
    "This confirms that static methods can neither access the object instance state nor the class state. They work like regular functions but belong to the class’s (and every instance’s) namespace.\n",
    "\n",
    "Now, let’s take a look at what happens when we attempt to call these methods on the class itself - without creating an object instance beforehand:\n"
   ]
  },
  {
   "cell_type": "code",
   "execution_count": 112,
   "metadata": {},
   "outputs": [
    {
     "data": {
      "text/plain": [
       "('class method called', __main__.MyClass)"
      ]
     },
     "execution_count": 112,
     "metadata": {},
     "output_type": "execute_result"
    }
   ],
   "source": [
    "MyClass.classmethod()"
   ]
  },
  {
   "cell_type": "code",
   "execution_count": 113,
   "metadata": {},
   "outputs": [
    {
     "data": {
      "text/plain": [
       "'static method called'"
      ]
     },
     "execution_count": 113,
     "metadata": {},
     "output_type": "execute_result"
    }
   ],
   "source": [
    "MyClass.staticmethod()"
   ]
  },
  {
   "cell_type": "code",
   "execution_count": 115,
   "metadata": {},
   "outputs": [],
   "source": [
    "# MyClass.method() # TypeError: method() missing 1 required positional argument: 'self'"
   ]
  },
  {
   "cell_type": "markdown",
   "metadata": {},
   "source": [
    "We were able to call classmethod() and staticmethod() just fine, but attempting to call the instance method method() failed with a TypeError.\n",
    "\n",
    "And this is to be expected — this time we didn’t create an object instance and tried calling an instance function directly on the class blueprint itself. This means there is no way for Python to populate the self argument and therefore the call fails.\n",
    "\n",
    "This should make the distinction between these three method types a little more clear. But I’m not going to leave it at that. In the next two sections I’ll go over two slightly more realistic examples for when to use these special method types.\n",
    "\n",
    "I will base my examples around this bare-bones Pizza class:"
   ]
  },
  {
   "cell_type": "code",
   "execution_count": 116,
   "metadata": {},
   "outputs": [],
   "source": [
    "class Pizza:\n",
    "    def __init__(self, ingredients):\n",
    "        self.ingredients = ingredients\n",
    "\t# __repr__ method to return a string representation of the object\n",
    "    def __repr__(self):\n",
    "        return f'Pizza({self.ingredients!r})'"
   ]
  },
  {
   "cell_type": "code",
   "execution_count": 117,
   "metadata": {},
   "outputs": [
    {
     "data": {
      "text/plain": [
       "Pizza(['cheese', 'tomatoes'])"
      ]
     },
     "execution_count": 117,
     "metadata": {},
     "output_type": "execute_result"
    }
   ],
   "source": [
    "Pizza(['cheese', 'tomatoes'])"
   ]
  },
  {
   "cell_type": "markdown",
   "metadata": {},
   "source": [
    "Delicious Pizza Factories With @classmethod\n",
    "If you’ve had any exposure to pizza in the real world you’ll know that there are many delicious variations available:"
   ]
  },
  {
   "cell_type": "code",
   "execution_count": 119,
   "metadata": {},
   "outputs": [
    {
     "data": {
      "text/plain": [
       "Pizza(['mozzarella', 'tomatoes'])"
      ]
     },
     "execution_count": 119,
     "metadata": {},
     "output_type": "execute_result"
    }
   ],
   "source": [
    "Pizza(['mozzarella', 'tomatoes'])"
   ]
  },
  {
   "cell_type": "code",
   "execution_count": 120,
   "metadata": {},
   "outputs": [
    {
     "data": {
      "text/plain": [
       "Pizza(['mozzarella', 'tomatoes', 'ham', 'mushrooms'])"
      ]
     },
     "execution_count": 120,
     "metadata": {},
     "output_type": "execute_result"
    }
   ],
   "source": [
    "Pizza(['mozzarella', 'tomatoes', 'ham', 'mushrooms'])"
   ]
  },
  {
   "cell_type": "code",
   "execution_count": 118,
   "metadata": {},
   "outputs": [
    {
     "data": {
      "text/plain": [
       "Pizza(['mozzarella', 'mozzarella', 'mozzarella', 'mozzarella'])"
      ]
     },
     "execution_count": 118,
     "metadata": {},
     "output_type": "execute_result"
    }
   ],
   "source": [
    "Pizza(['mozzarella'] * 4)"
   ]
  },
  {
   "cell_type": "markdown",
   "metadata": {},
   "source": [
    "The Italians figured out their pizza taxonomy centuries ago, and so these delicious types of pizzas all have their own names. We’d do well to take advantage of that and give the users of our Pizza class a better interface for creating the pizza objects they crave.\n",
    "\n",
    "A nice and clean way to do that is by using class methods as factory functions for the different kinds of pizzas we can create:"
   ]
  },
  {
   "cell_type": "code",
   "execution_count": 121,
   "metadata": {},
   "outputs": [],
   "source": [
    "class Pizza:\n",
    "    def __init__(self, ingredients):\n",
    "        self.ingredients = ingredients\n",
    "\n",
    "    def __repr__(self):\n",
    "        return f'Pizza({self.ingredients!r})'\n",
    "\n",
    "    @classmethod\n",
    "    def margherita(cls):\n",
    "        return cls(['mozzarella', 'tomatoes'])\n",
    "\n",
    "    @classmethod\n",
    "    def prosciutto(cls):\n",
    "        return cls(['mozzarella', 'tomatoes', 'ham'])"
   ]
  },
  {
   "cell_type": "markdown",
   "metadata": {},
   "source": [
    "Note how I’m using the cls argument in the margherita and prosciutto factory methods instead of calling the Pizza constructor directly.\n",
    "\n",
    "This is a trick you can use to follow the Don’t Repeat Yourself (DRY) principle. If we decide to rename this class at some point we won’t have to remember updating the constructor name in all of the classmethod factory functions.\n",
    "\n",
    "Now, what can we do with these factory methods? Let’s try them out:"
   ]
  },
  {
   "cell_type": "code",
   "execution_count": 123,
   "metadata": {},
   "outputs": [
    {
     "data": {
      "text/plain": [
       "Pizza(['mozzarella', 'tomatoes'])"
      ]
     },
     "execution_count": 123,
     "metadata": {},
     "output_type": "execute_result"
    }
   ],
   "source": [
    "Pizza.margherita()"
   ]
  },
  {
   "cell_type": "code",
   "execution_count": 124,
   "metadata": {},
   "outputs": [
    {
     "data": {
      "text/plain": [
       "Pizza(['mozzarella', 'tomatoes', 'ham'])"
      ]
     },
     "execution_count": 124,
     "metadata": {},
     "output_type": "execute_result"
    }
   ],
   "source": [
    "Pizza.prosciutto()"
   ]
  },
  {
   "cell_type": "markdown",
   "metadata": {},
   "source": [
    "As you can see, we can use the factory functions to create new Pizza objects that are configured the way we want them. They all use the same __init__ constructor internally and simply provide a shortcut for remembering all of the various ingredients.\n",
    "\n",
    "Another way to look at this use of class methods is that they allow you to define alternative constructors for your classes.\n",
    "\n",
    "Python only allows one __init__ method per class. Using class methods it’s possible to add as many alternative constructors as necessary. This can make the interface for your classes self-documenting (to a certain degree) and simplify their usage."
   ]
  },
  {
   "cell_type": "markdown",
   "metadata": {},
   "source": [
    "**When To Use Static Methods**\n",
    "\n",
    "It’s a little more difficult to come up with a good example here. But tell you what, I’ll just keep stretching the pizza analogy thinner and thinner… (yum!)\n",
    "\n",
    "Here’s what I came up with:"
   ]
  },
  {
   "cell_type": "code",
   "execution_count": 125,
   "metadata": {},
   "outputs": [],
   "source": [
    "import math\n",
    "\n",
    "class Pizza:\n",
    "    def __init__(self, radius, ingredients):\n",
    "        self.radius = radius\n",
    "        self.ingredients = ingredients\n",
    "\n",
    "    def __repr__(self):\n",
    "        return (f'Pizza({self.radius!r}, '\n",
    "                f'{self.ingredients!r})')\n",
    "\n",
    "    def area(self):\n",
    "        return self.circle_area(self.radius)\n",
    "\n",
    "    @staticmethod\n",
    "    def circle_area(r):\n",
    "        return r ** 2 * math.pi"
   ]
  },
  {
   "cell_type": "markdown",
   "metadata": {},
   "source": [
    "Now what did I change here? First, I modified the constructor and ```__repr__ ```to accept an extra radius argument.\n",
    "\n",
    "I also added an area() instance method that calculates and returns the pizza’s area (this would also be a good candidate for an @property — but hey, this is just a toy example).\n",
    "\n",
    "Instead of calculating the area directly within area(), using the well-known circle area formula, I factored that out to a separate circle_area() static method.\n",
    "\n",
    "Let’s try it out!"
   ]
  },
  {
   "cell_type": "code",
   "execution_count": 127,
   "metadata": {},
   "outputs": [
    {
     "data": {
      "text/plain": [
       "Pizza(4, ['mozzarella', 'tomatoes'])"
      ]
     },
     "execution_count": 127,
     "metadata": {},
     "output_type": "execute_result"
    }
   ],
   "source": [
    "p = Pizza(4, ['mozzarella', 'tomatoes'])\n",
    "p"
   ]
  },
  {
   "cell_type": "code",
   "execution_count": 128,
   "metadata": {},
   "outputs": [
    {
     "data": {
      "text/plain": [
       "50.26548245743669"
      ]
     },
     "execution_count": 128,
     "metadata": {},
     "output_type": "execute_result"
    }
   ],
   "source": [
    "p.area()"
   ]
  },
  {
   "cell_type": "code",
   "execution_count": 129,
   "metadata": {},
   "outputs": [
    {
     "data": {
      "text/plain": [
       "50.26548245743669"
      ]
     },
     "execution_count": 129,
     "metadata": {},
     "output_type": "execute_result"
    }
   ],
   "source": [
    "Pizza.circle_area(4)"
   ]
  },
  {
   "cell_type": "markdown",
   "metadata": {},
   "source": [
    "Sure, this is a bit of a simplistic example, but it’ll do alright helping explain some of the benefits that static methods provide.\n",
    "\n",
    "As we’ve learned, static methods can’t access class or instance state because they don’t take a cls or self argument. That’s a big limitation — but it’s also a great signal to show that a particular method is independent from everything else around it.\n",
    "\n",
    "In the above example, it’s clear that circle_area() can’t modify the class or the class instance in any way."
   ]
  },
  {
   "cell_type": "markdown",
   "metadata": {},
   "source": [
    "**@property decorator**\n",
    "\n",
    "The @property decorator in Python is a way to use methods as attributes. This allows you to control access to an attribute in a class by defining getter, setter, and deleter methods. Using @property, you can define a method that can be accessed like an attribute, making the code more readable and maintainable.\n",
    "\n",
    "**Understanding @property**\n",
    "* Getter: This is the method that is called when you access the attribute.\n",
    "* Setter: This is the method that is called when you set the attribute.\n",
    "* Deleter: This is the method that is called when you delete the attribute.\n"
   ]
  },
  {
   "cell_type": "code",
   "execution_count": 145,
   "metadata": {},
   "outputs": [],
   "source": [
    "class Person:\n",
    "    def __init__(self, first_name, last_name):\n",
    "        self._first_name = first_name\n",
    "        self._last_name = last_name\n",
    "\n",
    "    @property\n",
    "    def full_name(self):\n",
    "        \"\"\"Getter for full_name.\"\"\"\n",
    "        return f\"{self._first_name} {self._last_name}\"\n",
    "\n",
    "    @full_name.setter\n",
    "    def full_name(self, name):\n",
    "        \"\"\"Setter for full_name.\"\"\"\n",
    "        first_name, last_name = name.split()\n",
    "        self._first_name = first_name\n",
    "        self._last_name = last_name\n",
    "\n",
    "    @full_name.deleter\n",
    "    def full_name(self):\n",
    "        \"\"\"Deleter for full_name.\"\"\"\n",
    "        self._first_name = None\n",
    "        self._last_name = None\n"
   ]
  },
  {
   "cell_type": "code",
   "execution_count": 146,
   "metadata": {},
   "outputs": [
    {
     "name": "stdout",
     "output_type": "stream",
     "text": [
      "John Doe\n"
     ]
    }
   ],
   "source": [
    "person = Person('John', 'Doe')\n",
    "print(person.full_name)  # Access the full_name property (calls the getter)"
   ]
  },
  {
   "cell_type": "code",
   "execution_count": 147,
   "metadata": {},
   "outputs": [
    {
     "name": "stdout",
     "output_type": "stream",
     "text": [
      "Jane Smith\n"
     ]
    }
   ],
   "source": [
    "person.full_name = 'Jane Smith'  # Set the full_name property (calls the setter)\n",
    "print(person.full_name)  # Access the updated full_name property"
   ]
  },
  {
   "cell_type": "code",
   "execution_count": 148,
   "metadata": {},
   "outputs": [
    {
     "name": "stdout",
     "output_type": "stream",
     "text": [
      "None None\n"
     ]
    }
   ],
   "source": [
    "del person.full_name  # Delete the full_name property (calls the deleter)\n",
    "print(person.full_name)  # Access the full_name property after deletion"
   ]
  },
  {
   "cell_type": "markdown",
   "metadata": {},
   "source": [
    "**Explanation**\n",
    "\n",
    "* Getter: The full_name method is decorated with @property, making it a getter. When you access person.full_name, it calls this method and returns the full name.\n",
    "* Setter: The full_name method is also decorated with @full_name.setter, making it a setter. When you set person.full_name, it splits the name and updates the _first_name and _last_name attributes.\n",
    "* Deleter: The full_name method is decorated with @full_name.deleter, making it a deleter. When you delete person.full_name, it sets _first_name and _last_name to None."
   ]
  },
  {
   "cell_type": "markdown",
   "metadata": {},
   "source": [
    "Also you can use @property to create read-only properties. This is useful when you want to allow access to an attribute but prevent it from being modified.\n",
    "and Controlled Access, You can use the setter to add validation."
   ]
  },
  {
   "cell_type": "markdown",
   "metadata": {},
   "source": [
    "## Public, Protected, and Private Attributes in Python\n",
    "\n",
    "In Python, there are no strict rules for defining public, protected, and private attributes. However, there are conventions that are widely followed by Python developers to indicate the intended use of an attribute.\n",
    "\n",
    "Public attributes: Attributes that are accessible from outside the class are called public attributes. By default, all attributes in a class are public. You can access public attributes directly from an object instance.\n",
    "\n",
    "Protected attributes: Attributes that are accessible only within the class and its subclasses are called protected attributes. In Python, protected attributes are defined by prefixing the attribute name with a single underscore (_). However, this is just a convention, and the attribute can still be accessed from outside the class.\n",
    "\n",
    "Private attributes: Attributes that are accessible only within the class are called private attributes. In Python, private attributes are defined by prefixing the attribute name with two underscores (__). This causes the Python interpreter to rewrite the attribute name to include the class name, preventing accidental access from outside the class.\n",
    "\n"
   ]
  },
  {
   "cell_type": "markdown",
   "metadata": {},
   "source": [
    "**Public Attributes**\n",
    "\n",
    "Public attributes are accessible from anywhere, both inside and outside of the class. They are defined without any leading underscores."
   ]
  },
  {
   "cell_type": "code",
   "execution_count": 149,
   "metadata": {},
   "outputs": [],
   "source": [
    "class PublicExample:\n",
    "    def __init__(self):\n",
    "        self.public_attribute = \"I am public\""
   ]
  },
  {
   "cell_type": "code",
   "execution_count": 150,
   "metadata": {},
   "outputs": [
    {
     "name": "stdout",
     "output_type": "stream",
     "text": [
      "I am public\n",
      "New value\n"
     ]
    }
   ],
   "source": [
    "obj = PublicExample()\n",
    "print(obj.public_attribute)  # Accessing public attribute\n",
    "obj.public_attribute = \"New value\"  # Modifying public attribute\n",
    "print(obj.public_attribute)  # Accessing modified public attribute"
   ]
  },
  {
   "cell_type": "markdown",
   "metadata": {},
   "source": [
    "**Protected Attributes**\n",
    "\n",
    "Protected attributes are intended to be accessible only within the class and its subclasses. They are defined with a single leading underscore (_). This is just a convention and does not enforce access restrictions."
   ]
  },
  {
   "cell_type": "code",
   "execution_count": 151,
   "metadata": {},
   "outputs": [],
   "source": [
    "class ProtectedExample:\n",
    "    def __init__(self):\n",
    "        self._protected_attribute = \"I am protected\""
   ]
  },
  {
   "cell_type": "code",
   "execution_count": 155,
   "metadata": {},
   "outputs": [],
   "source": [
    "# obj = ProtectedExample()\n",
    "# print(obj.protected_attribute) \n",
    "# AttributeError: 'ProtectedExample' object has no attribute 'protected_attribute'"
   ]
  },
  {
   "cell_type": "code",
   "execution_count": 159,
   "metadata": {},
   "outputs": [
    {
     "name": "stdout",
     "output_type": "stream",
     "text": [
      "I am protected\n"
     ]
    }
   ],
   "source": [
    "# Accessing protected attribute (possible but discouraged)\n",
    "obj = ProtectedExample()\n",
    "print(obj._protected_attribute)\n",
    "obj.protected_attribute = \"New value\"  # Modifying protected attribute Not change the original attribute value"
   ]
  },
  {
   "cell_type": "code",
   "execution_count": 160,
   "metadata": {},
   "outputs": [
    {
     "name": "stdout",
     "output_type": "stream",
     "text": [
      "I am protected\n",
      "New value\n"
     ]
    }
   ],
   "source": [
    "# to access the modified protected attribute value you should use _ before the attribute name\n",
    "obj = ProtectedExample()\n",
    "print(obj._protected_attribute)\n",
    "obj._protected_attribute = \"New value\"  # Modifying protected attribute\n",
    "print(obj._protected_attribute) # Accessing modified protected attribute"
   ]
  },
  {
   "cell_type": "markdown",
   "metadata": {},
   "source": [
    "**Private Attributes**\n",
    "\n",
    "Private attributes are intended to be accessible only within the class itself. They are defined with a double leading underscore (__). This triggers name mangling, where the attribute name is changed internally to include the class name, making it harder to accidentally access or modify from outside the class."
   ]
  },
  {
   "cell_type": "code",
   "execution_count": 170,
   "metadata": {},
   "outputs": [],
   "source": [
    "class PrivateExample:\n",
    "    def __init__(self):\n",
    "        self.__private_attribute = \"I am private\"\n",
    "\n",
    "    def get_private_attribute(self):\n",
    "        return self.__private_attribute\n",
    "\n",
    "    def set_private_attribute(self, value):\n",
    "        self.__private_attribute = value"
   ]
  },
  {
   "cell_type": "code",
   "execution_count": 171,
   "metadata": {},
   "outputs": [],
   "source": [
    "obj = PrivateExample()\n",
    "# print(obj.__private_attribute)  # This would raise an AttributeError 'PrivateExample' object has no attribute '__private_attribute'"
   ]
  },
  {
   "cell_type": "code",
   "execution_count": 172,
   "metadata": {},
   "outputs": [
    {
     "name": "stdout",
     "output_type": "stream",
     "text": [
      "I am private\n",
      "New value\n"
     ]
    }
   ],
   "source": [
    "# Accessing private attribute via getter method\n",
    "print(obj.get_private_attribute())\n",
    "# Modifying private attribute via setter method\n",
    "obj.set_private_attribute(\"New value\")\n",
    "print(obj.get_private_attribute())"
   ]
  },
  {
   "cell_type": "code",
   "execution_count": 173,
   "metadata": {},
   "outputs": [
    {
     "name": "stdout",
     "output_type": "stream",
     "text": [
      "New value\n"
     ]
    }
   ],
   "source": [
    "# Accessing the private attribute using name mangling (not recommended)\n",
    "print(obj._PrivateExample__private_attribute)  # This works but should be avoided"
   ]
  },
  {
   "cell_type": "markdown",
   "metadata": {},
   "source": [
    "<img src=\"![alt text](pythonbasics/images/1.jpg)\" alt=\"Guido\" width=\"600\" height=\"400\">"
   ]
  }
 ],
 "metadata": {
  "kernelspec": {
   "display_name": "Python 3",
   "language": "python",
   "name": "python3"
  },
  "language_info": {
   "codemirror_mode": {
    "name": "ipython",
    "version": 3
   },
   "file_extension": ".py",
   "mimetype": "text/x-python",
   "name": "python",
   "nbconvert_exporter": "python",
   "pygments_lexer": "ipython3",
   "version": "3.12.4"
  }
 },
 "nbformat": 4,
 "nbformat_minor": 2
}
